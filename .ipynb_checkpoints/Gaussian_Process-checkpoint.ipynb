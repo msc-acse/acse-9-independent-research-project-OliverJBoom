{
 "cells": [
  {
   "cell_type": "markdown",
   "metadata": {
    "colab_type": "text",
    "id": "67j8odKJJQL_"
   },
   "source": [
    "## Loading Packages"
   ]
  },
  {
   "cell_type": "code",
   "execution_count": 1,
   "metadata": {
    "colab": {},
    "colab_type": "code",
    "id": "qd88JeQfrEzc"
   },
   "outputs": [],
   "source": [
    "from fbprophet import Prophet\n",
    "import numpy as np\n",
    "import os\n",
    "import pandas as pd\n",
    "import matplotlib.pyplot as plt\n",
    "from sklearn.model_selection import train_test_split\n",
    "from sklearn.decomposition import PCA\n",
    "from utils import *\n",
    "import warnings\n",
    "\n",
    "# plt.style.use('dark_background')\n",
    "warnings.filterwarnings(\"ignore\")"
   ]
  },
  {
   "cell_type": "markdown",
   "metadata": {},
   "source": [
    "## Loading Data"
   ]
  },
  {
   "cell_type": "code",
   "execution_count": 2,
   "metadata": {},
   "outputs": [],
   "source": [
    "def universe_select(path, commodity_name):\n",
    "    \"\"\"Selects the instruments believed to be of\n",
    "    interest for the commodity selected\n",
    "    Returns: A dictionary of dataframes which are\n",
    "    intruments of interest\"\"\"\n",
    "    universe_dict = {}\n",
    "    \n",
    "    if commodity_name == \"Al\": \n",
    "        aluminium_list = [\"al_shfe\", \"al_lme\", \"al_comex_p\", \"al_comex_s\", \"al_lme_s\", \"yuan\",\n",
    "                 \"bdi\", \"ted\", \"vix\", \"skew\", \"gsci\"]\n",
    "        \n",
    "        for instrument in aluminium_list:\n",
    "            df = pd.read_csv(path + instrument + \".csv\", index_col='date', parse_dates=['date'], dayfirst=True).sort_index(ascending=True)\n",
    "            universe_dict[instrument] = df\n",
    "            \n",
    "    elif commodity_name == \"Cu\":\n",
    "        copper_list = [\"cu_shfe\", \"cu_lme\", \"cu_comex_p\", \"cu_comex_s\", \"peso\", \"sol\",\n",
    "                 \"bdi\", \"ted\", \"vix\", \"skew\", \"gsci\"]\n",
    "        \n",
    "        for instrument in copper_list:\n",
    "            df = pd.read_csv(path + instrument + \".csv\", index_col='date', parse_dates=['date'], dayfirst=True).sort_index(ascending=True)\n",
    "            universe_dict[instrument] = df\n",
    "    \n",
    "    else: print(\"Select an appropriate commodity\")\n",
    "    return universe_dict\n"
   ]
  },
  {
   "cell_type": "code",
   "execution_count": 3,
   "metadata": {},
   "outputs": [],
   "source": [
    "path = \"Data/\"\n",
    "universe_dict = universe_select(path, \"Cu\")"
   ]
  },
  {
   "cell_type": "markdown",
   "metadata": {
    "colab_type": "text",
    "id": "4k8FIHASpHfv"
   },
   "source": [
    "## Preprocessing"
   ]
  },
  {
   "cell_type": "code",
   "execution_count": 4,
   "metadata": {
    "colab": {},
    "colab_type": "code",
    "id": "ki2dJCGNkOVE",
    "scrolled": false
   },
   "outputs": [
    {
     "name": "stdout",
     "output_type": "stream",
     "text": [
      "Included Instrument:\n",
      "cu_shfe\n",
      "cu_lme\n",
      "cu_comex_p\n",
      "cu_comex_s\n",
      "peso\n",
      "sol\n",
      "bdi\n",
      "ted\n",
      "vix\n",
      "skew\n",
      "gsci\n"
     ]
    }
   ],
   "source": [
    "# Renaming the columns to price\n",
    "universe_dict = price_rename(universe_dict)\n",
    "# Cleaning the dataset of any erroneous datapoints\n",
    "universe_dict = clean_dict_gen(universe_dict)\n",
    "# Making sure that all the points in the window have consistent lenght\n",
    "universe_dict = truncate_window_length(universe_dict)\n",
    "# Generate the full training dataset\n",
    "df_full = generate_dataset(universe_dict, lg_returns_only=True)"
   ]
  },
  {
   "cell_type": "code",
   "execution_count": 5,
   "metadata": {
    "scrolled": true
   },
   "outputs": [],
   "source": [
    "# Visualise the plots\n",
    "# visualise_universe(universe_dict)\n",
    "df = universe_dict[\"cu_lme\"]"
   ]
  },
  {
   "cell_type": "code",
   "execution_count": 6,
   "metadata": {},
   "outputs": [
    {
     "data": {
      "text/html": [
       "<div>\n",
       "<style scoped>\n",
       "    .dataframe tbody tr th:only-of-type {\n",
       "        vertical-align: middle;\n",
       "    }\n",
       "\n",
       "    .dataframe tbody tr th {\n",
       "        vertical-align: top;\n",
       "    }\n",
       "\n",
       "    .dataframe thead th {\n",
       "        text-align: right;\n",
       "    }\n",
       "</style>\n",
       "<table border=\"1\" class=\"dataframe\">\n",
       "  <thead>\n",
       "    <tr style=\"text-align: right;\">\n",
       "      <th></th>\n",
       "      <th>lg_return_cu_shfe</th>\n",
       "      <th>lg_return_cu_lme</th>\n",
       "      <th>lg_return_cu_comex_p</th>\n",
       "      <th>lg_return_cu_comex_s</th>\n",
       "      <th>lg_return_peso</th>\n",
       "      <th>lg_return_sol</th>\n",
       "      <th>lg_return_bdi</th>\n",
       "      <th>lg_return_ted</th>\n",
       "      <th>lg_return_vix</th>\n",
       "      <th>lg_return_skew</th>\n",
       "      <th>lg_return_gsci</th>\n",
       "    </tr>\n",
       "    <tr>\n",
       "      <th>date</th>\n",
       "      <th></th>\n",
       "      <th></th>\n",
       "      <th></th>\n",
       "      <th></th>\n",
       "      <th></th>\n",
       "      <th></th>\n",
       "      <th></th>\n",
       "      <th></th>\n",
       "      <th></th>\n",
       "      <th></th>\n",
       "      <th></th>\n",
       "    </tr>\n",
       "  </thead>\n",
       "  <tbody>\n",
       "    <tr>\n",
       "      <th>2006-08-29</th>\n",
       "      <td>0.000000</td>\n",
       "      <td>0.000000</td>\n",
       "      <td>0.000000</td>\n",
       "      <td>0.000000</td>\n",
       "      <td>0.000000</td>\n",
       "      <td>0.000000</td>\n",
       "      <td>0.000000</td>\n",
       "      <td>0.000000</td>\n",
       "      <td>0.000000</td>\n",
       "      <td>0.000000</td>\n",
       "      <td>0.000000</td>\n",
       "    </tr>\n",
       "    <tr>\n",
       "      <th>2006-08-30</th>\n",
       "      <td>-0.007511</td>\n",
       "      <td>0.007395</td>\n",
       "      <td>-0.017089</td>\n",
       "      <td>0.000000</td>\n",
       "      <td>0.000930</td>\n",
       "      <td>-0.003395</td>\n",
       "      <td>0.011929</td>\n",
       "      <td>-0.006315</td>\n",
       "      <td>-0.004898</td>\n",
       "      <td>-0.008014</td>\n",
       "      <td>-0.001257</td>\n",
       "    </tr>\n",
       "    <tr>\n",
       "      <th>2006-08-31</th>\n",
       "      <td>-0.000296</td>\n",
       "      <td>0.033459</td>\n",
       "      <td>0.030438</td>\n",
       "      <td>-0.005077</td>\n",
       "      <td>0.004636</td>\n",
       "      <td>0.002470</td>\n",
       "      <td>0.013609</td>\n",
       "      <td>0.000000</td>\n",
       "      <td>0.007338</td>\n",
       "      <td>-0.018494</td>\n",
       "      <td>0.003446</td>\n",
       "    </tr>\n",
       "    <tr>\n",
       "      <th>2006-09-01</th>\n",
       "      <td>0.036442</td>\n",
       "      <td>-0.014616</td>\n",
       "      <td>0.001728</td>\n",
       "      <td>-0.048758</td>\n",
       "      <td>-0.005194</td>\n",
       "      <td>0.000000</td>\n",
       "      <td>0.007252</td>\n",
       "      <td>-0.009948</td>\n",
       "      <td>-0.028844</td>\n",
       "      <td>0.011057</td>\n",
       "      <td>-0.014828</td>\n",
       "    </tr>\n",
       "    <tr>\n",
       "      <th>2006-09-04</th>\n",
       "      <td>0.015561</td>\n",
       "      <td>0.008117</td>\n",
       "      <td>0.000000</td>\n",
       "      <td>0.000000</td>\n",
       "      <td>-0.003167</td>\n",
       "      <td>0.000000</td>\n",
       "      <td>0.001805</td>\n",
       "      <td>0.000000</td>\n",
       "      <td>0.000000</td>\n",
       "      <td>0.000000</td>\n",
       "      <td>0.000000</td>\n",
       "    </tr>\n",
       "  </tbody>\n",
       "</table>\n",
       "</div>"
      ],
      "text/plain": [
       "            lg_return_cu_shfe  lg_return_cu_lme  lg_return_cu_comex_p  \\\n",
       "date                                                                    \n",
       "2006-08-29           0.000000          0.000000              0.000000   \n",
       "2006-08-30          -0.007511          0.007395             -0.017089   \n",
       "2006-08-31          -0.000296          0.033459              0.030438   \n",
       "2006-09-01           0.036442         -0.014616              0.001728   \n",
       "2006-09-04           0.015561          0.008117              0.000000   \n",
       "\n",
       "            lg_return_cu_comex_s  lg_return_peso  lg_return_sol  \\\n",
       "date                                                              \n",
       "2006-08-29              0.000000        0.000000       0.000000   \n",
       "2006-08-30              0.000000        0.000930      -0.003395   \n",
       "2006-08-31             -0.005077        0.004636       0.002470   \n",
       "2006-09-01             -0.048758       -0.005194       0.000000   \n",
       "2006-09-04              0.000000       -0.003167       0.000000   \n",
       "\n",
       "            lg_return_bdi  lg_return_ted  lg_return_vix  lg_return_skew  \\\n",
       "date                                                                      \n",
       "2006-08-29       0.000000       0.000000       0.000000        0.000000   \n",
       "2006-08-30       0.011929      -0.006315      -0.004898       -0.008014   \n",
       "2006-08-31       0.013609       0.000000       0.007338       -0.018494   \n",
       "2006-09-01       0.007252      -0.009948      -0.028844        0.011057   \n",
       "2006-09-04       0.001805       0.000000       0.000000        0.000000   \n",
       "\n",
       "            lg_return_gsci  \n",
       "date                        \n",
       "2006-08-29        0.000000  \n",
       "2006-08-30       -0.001257  \n",
       "2006-08-31        0.003446  \n",
       "2006-09-01       -0.014828  \n",
       "2006-09-04        0.000000  "
      ]
     },
     "execution_count": 6,
     "metadata": {},
     "output_type": "execute_result"
    }
   ],
   "source": [
    "df_full.head()"
   ]
  }
 ],
 "metadata": {
  "colab": {
   "collapsed_sections": [],
   "name": "Chai_Base.ipynb",
   "provenance": [],
   "version": "0.3.2"
  },
  "kernelspec": {
   "display_name": "Python 3",
   "language": "python",
   "name": "python3"
  },
  "language_info": {
   "codemirror_mode": {
    "name": "ipython",
    "version": 3
   },
   "file_extension": ".py",
   "mimetype": "text/x-python",
   "name": "python",
   "nbconvert_exporter": "python",
   "pygments_lexer": "ipython3",
   "version": "3.7.3"
  }
 },
 "nbformat": 4,
 "nbformat_minor": 1
}
