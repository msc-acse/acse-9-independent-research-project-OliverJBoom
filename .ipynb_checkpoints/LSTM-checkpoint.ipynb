{
 "cells": [
  {
   "cell_type": "markdown",
   "metadata": {
    "colab_type": "text",
    "id": "67j8odKJJQL_"
   },
   "source": [
    "## Loading Packages"
   ]
  },
  {
   "cell_type": "code",
   "execution_count": 581,
   "metadata": {
    "colab": {},
    "colab_type": "code",
    "id": "qd88JeQfrEzc"
   },
   "outputs": [],
   "source": [
    "import numpy as np\n",
    "import os\n",
    "import pandas as pd\n",
    "import matplotlib.pyplot as plt\n",
    "from sklearn.model_selection import train_test_split\n",
    "from sklearn.decomposition import PCA\n",
    "from preprocessing import *\n",
    "from utils import *\n",
    "import warnings\n",
    "\n",
    "# plt.style.use('dark_background')\n",
    "warnings.filterwarnings(\"ignore\")"
   ]
  },
  {
   "cell_type": "markdown",
   "metadata": {},
   "source": [
    "## Loading Data"
   ]
  },
  {
   "cell_type": "code",
   "execution_count": 649,
   "metadata": {},
   "outputs": [],
   "source": [
    "path = \"Data/\"\n",
    "universe_dict = universe_select(path, \"Cu\")"
   ]
  },
  {
   "cell_type": "markdown",
   "metadata": {
    "colab_type": "text",
    "id": "4k8FIHASpHfv"
   },
   "source": [
    "## Preprocessing"
   ]
  },
  {
   "cell_type": "code",
   "execution_count": 650,
   "metadata": {
    "colab": {},
    "colab_type": "code",
    "id": "ki2dJCGNkOVE",
    "scrolled": true
   },
   "outputs": [
    {
     "name": "stdout",
     "output_type": "stream",
     "text": [
      "Included Instrument:\n",
      "cu_shfe\n",
      "cu_lme\n",
      "cu_comex_p\n",
      "cu_comex_s\n",
      "peso\n",
      "sol\n",
      "bdi\n",
      "ted\n",
      "vix\n",
      "skew\n",
      "gsci\n"
     ]
    }
   ],
   "source": [
    "# Renaming the columns to price\n",
    "universe_dict = price_rename(universe_dict)\n",
    "# Cleaning the dataset of any erroneous datapoints\n",
    "universe_dict = clean_dict_gen(universe_dict)\n",
    "# Making sure that all the points in the window have consistent lenght\n",
    "universe_dict = truncate_window_length(universe_dict)"
   ]
  },
  {
   "cell_type": "code",
   "execution_count": 651,
   "metadata": {},
   "outputs": [],
   "source": [
    "def generate_target(df_full, target_col=\"price_cu_lme\", lag=5):\n",
    "    \"\"\"Generate the target variable\"\"\"\n",
    "    df_target = df_full[[target_col]].apply(log_returns, lag=lag)\n",
    "    df_target = df_target.shift(-lag)\n",
    "    df_target.rename(columns={\"price_cu_lme\":target_col.replace(\"price_\", str(lag) + \"_day_forecast_\")}, inplace=True)\n",
    "    return df_target\n",
    "\n",
    "\n",
    "def generate_lg_return(df_full, lag=1):\n",
    "    \"\"\"Returns a dictionary containing dataframes\n",
    "    with the additional log returns column\"\"\"\n",
    "    for col in df_full.columns:\n",
    "        # Selecting out the dataframe of interest\n",
    "        df = df_full[[col]]\n",
    "        if lag==1: \n",
    "            df_full[col.replace('price_', \"\")] = log_returns(df[col], lag=lag)\n",
    "            df_full.dropna(inplace=True)\n",
    "        else:\n",
    "            if (\"price\" in col) == True:\n",
    "                df_full[col.replace('price', str(lag) + \"_day_lg_return\")] = log_returns(df[col], lag=lag)\n",
    "                df_full.dropna(inplace=True)\n",
    "\n",
    "    return df_full\n",
    "\n",
    "\n",
    "def generate_dataset(universe_dict, target_col=\"price_cu_lme\", lag=5, lg_returns_only=True):\n",
    "    \"\"\"Generates the full dataset\"\"\"\n",
    "    # Renames the columns with the name of the instrument series\n",
    "    universe_dict = column_rename(universe_dict)\n",
    "    universe = [] \n",
    "    for df_name in universe_dict: universe.append(universe_dict[df_name])\n",
    "    df_full = pd.concat(universe, axis = 1)\n",
    "    # Must do log returns calculations after this forwards fill\n",
    "    df_full.ffill(inplace=True)\n",
    "    # Calculating the log returns\n",
    "    df_full = generate_lg_return(df_full)\n",
    "    \n",
    "    # Fill in nan to allow inverse calculations\n",
    "    df_full[\"target\"] = np.nan\n",
    "    # As target is forecast backdated the first row values should have\n",
    "    # value and the last should have nulls\n",
    "    df_full[\"target\"][:-lag] = generate_target(df_full, target_col=\"price_cu_lme\", lag=5)[:-lag].values.ravel()\n",
    "    if lg_returns_only: df_full = df_full[df_full.columns.drop(list(df_full.filter(regex='price')))]\n",
    "    return df_full"
   ]
  },
  {
   "cell_type": "code",
   "execution_count": 652,
   "metadata": {},
   "outputs": [],
   "source": [
    "# df_full = generate_dataset(universe_dict)\n",
    "df_full = generate_dataset(universe_dict, lg_returns_only=False)"
   ]
  },
  {
   "cell_type": "markdown",
   "metadata": {},
   "source": [
    "The target column represents the log returns at one forecast length out in the future for the instrument of interest (aluminium or copper prices on the London Metals Exchange). \n",
    "\n",
    "To normalise the independent variables, the 1 day log returns between closing prices have been used."
   ]
  },
  {
   "cell_type": "code",
   "execution_count": 653,
   "metadata": {
    "code_folding": [],
    "scrolled": true
   },
   "outputs": [],
   "source": [
    "# Visualise the plots\n",
    "# visualise_universe(universe_dict)\n",
    "df = df_full[[\"target\"]]"
   ]
  },
  {
   "cell_type": "code",
   "execution_count": 654,
   "metadata": {
    "scrolled": true
   },
   "outputs": [
    {
     "data": {
      "text/html": [
       "<div>\n",
       "<style scoped>\n",
       "    .dataframe tbody tr th:only-of-type {\n",
       "        vertical-align: middle;\n",
       "    }\n",
       "\n",
       "    .dataframe tbody tr th {\n",
       "        vertical-align: top;\n",
       "    }\n",
       "\n",
       "    .dataframe thead th {\n",
       "        text-align: right;\n",
       "    }\n",
       "</style>\n",
       "<table border=\"1\" class=\"dataframe\">\n",
       "  <thead>\n",
       "    <tr style=\"text-align: right;\">\n",
       "      <th></th>\n",
       "      <th>price_cu_shfe</th>\n",
       "      <th>price_cu_lme</th>\n",
       "      <th>price_cu_comex_p</th>\n",
       "      <th>price_cu_comex_s</th>\n",
       "      <th>price_peso</th>\n",
       "      <th>price_sol</th>\n",
       "      <th>price_bdi</th>\n",
       "      <th>price_ted</th>\n",
       "      <th>price_vix</th>\n",
       "      <th>price_skew</th>\n",
       "      <th>...</th>\n",
       "      <th>cu_comex_p</th>\n",
       "      <th>cu_comex_s</th>\n",
       "      <th>peso</th>\n",
       "      <th>sol</th>\n",
       "      <th>bdi</th>\n",
       "      <th>ted</th>\n",
       "      <th>vix</th>\n",
       "      <th>skew</th>\n",
       "      <th>gsci</th>\n",
       "      <th>target</th>\n",
       "    </tr>\n",
       "    <tr>\n",
       "      <th>date</th>\n",
       "      <th></th>\n",
       "      <th></th>\n",
       "      <th></th>\n",
       "      <th></th>\n",
       "      <th></th>\n",
       "      <th></th>\n",
       "      <th></th>\n",
       "      <th></th>\n",
       "      <th></th>\n",
       "      <th></th>\n",
       "      <th></th>\n",
       "      <th></th>\n",
       "      <th></th>\n",
       "      <th></th>\n",
       "      <th></th>\n",
       "      <th></th>\n",
       "      <th></th>\n",
       "      <th></th>\n",
       "      <th></th>\n",
       "      <th></th>\n",
       "      <th></th>\n",
       "    </tr>\n",
       "  </thead>\n",
       "  <tbody>\n",
       "    <tr>\n",
       "      <th>2006-09-13</th>\n",
       "      <td>69540.0</td>\n",
       "      <td>7484.5</td>\n",
       "      <td>3.3925</td>\n",
       "      <td>15748.0</td>\n",
       "      <td>537.35</td>\n",
       "      <td>3.2530</td>\n",
       "      <td>4129.0</td>\n",
       "      <td>4.901</td>\n",
       "      <td>11.18</td>\n",
       "      <td>120.44</td>\n",
       "      <td>...</td>\n",
       "      <td>0.000590</td>\n",
       "      <td>0.055554</td>\n",
       "      <td>-0.000558</td>\n",
       "      <td>0.000307</td>\n",
       "      <td>0.029244</td>\n",
       "      <td>-0.004276</td>\n",
       "      <td>-0.064091</td>\n",
       "      <td>-0.048458</td>\n",
       "      <td>0.002624</td>\n",
       "      <td>-0.001404</td>\n",
       "    </tr>\n",
       "    <tr>\n",
       "      <th>2006-09-14</th>\n",
       "      <td>71350.0</td>\n",
       "      <td>7439.0</td>\n",
       "      <td>3.3820</td>\n",
       "      <td>14180.0</td>\n",
       "      <td>537.73</td>\n",
       "      <td>3.2475</td>\n",
       "      <td>4207.0</td>\n",
       "      <td>4.926</td>\n",
       "      <td>11.55</td>\n",
       "      <td>119.47</td>\n",
       "      <td>...</td>\n",
       "      <td>-0.003100</td>\n",
       "      <td>-0.104881</td>\n",
       "      <td>0.000707</td>\n",
       "      <td>-0.001692</td>\n",
       "      <td>0.018715</td>\n",
       "      <td>0.005088</td>\n",
       "      <td>0.032559</td>\n",
       "      <td>-0.008086</td>\n",
       "      <td>-0.010694</td>\n",
       "      <td>0.021675</td>\n",
       "    </tr>\n",
       "    <tr>\n",
       "      <th>2006-09-15</th>\n",
       "      <td>69400.0</td>\n",
       "      <td>7281.0</td>\n",
       "      <td>3.3165</td>\n",
       "      <td>14775.0</td>\n",
       "      <td>537.10</td>\n",
       "      <td>3.2480</td>\n",
       "      <td>4258.0</td>\n",
       "      <td>4.939</td>\n",
       "      <td>11.76</td>\n",
       "      <td>135.25</td>\n",
       "      <td>...</td>\n",
       "      <td>-0.019557</td>\n",
       "      <td>0.041104</td>\n",
       "      <td>-0.001172</td>\n",
       "      <td>0.000154</td>\n",
       "      <td>0.012050</td>\n",
       "      <td>0.002636</td>\n",
       "      <td>0.018019</td>\n",
       "      <td>0.124060</td>\n",
       "      <td>-0.004952</td>\n",
       "      <td>0.043012</td>\n",
       "    </tr>\n",
       "    <tr>\n",
       "      <th>2006-09-18</th>\n",
       "      <td>69830.0</td>\n",
       "      <td>7459.0</td>\n",
       "      <td>3.4180</td>\n",
       "      <td>15263.0</td>\n",
       "      <td>537.10</td>\n",
       "      <td>3.2450</td>\n",
       "      <td>4279.0</td>\n",
       "      <td>4.949</td>\n",
       "      <td>11.78</td>\n",
       "      <td>127.35</td>\n",
       "      <td>...</td>\n",
       "      <td>0.030146</td>\n",
       "      <td>0.032495</td>\n",
       "      <td>0.000000</td>\n",
       "      <td>-0.000924</td>\n",
       "      <td>0.004920</td>\n",
       "      <td>0.002023</td>\n",
       "      <td>0.001699</td>\n",
       "      <td>-0.060186</td>\n",
       "      <td>0.007824</td>\n",
       "      <td>0.013450</td>\n",
       "    </tr>\n",
       "    <tr>\n",
       "      <th>2006-09-19</th>\n",
       "      <td>71470.0</td>\n",
       "      <td>7516.0</td>\n",
       "      <td>3.3755</td>\n",
       "      <td>17523.0</td>\n",
       "      <td>537.10</td>\n",
       "      <td>3.2450</td>\n",
       "      <td>4275.0</td>\n",
       "      <td>4.948</td>\n",
       "      <td>11.98</td>\n",
       "      <td>125.03</td>\n",
       "      <td>...</td>\n",
       "      <td>-0.012512</td>\n",
       "      <td>0.138083</td>\n",
       "      <td>0.000000</td>\n",
       "      <td>0.000000</td>\n",
       "      <td>-0.000935</td>\n",
       "      <td>-0.000202</td>\n",
       "      <td>0.016835</td>\n",
       "      <td>-0.018385</td>\n",
       "      <td>-0.019642</td>\n",
       "      <td>0.025225</td>\n",
       "    </tr>\n",
       "  </tbody>\n",
       "</table>\n",
       "<p>5 rows × 23 columns</p>\n",
       "</div>"
      ],
      "text/plain": [
       "            price_cu_shfe  price_cu_lme  price_cu_comex_p  price_cu_comex_s  \\\n",
       "date                                                                          \n",
       "2006-09-13        69540.0        7484.5            3.3925           15748.0   \n",
       "2006-09-14        71350.0        7439.0            3.3820           14180.0   \n",
       "2006-09-15        69400.0        7281.0            3.3165           14775.0   \n",
       "2006-09-18        69830.0        7459.0            3.4180           15263.0   \n",
       "2006-09-19        71470.0        7516.0            3.3755           17523.0   \n",
       "\n",
       "            price_peso  price_sol  price_bdi  price_ted  price_vix  \\\n",
       "date                                                                 \n",
       "2006-09-13      537.35     3.2530     4129.0      4.901      11.18   \n",
       "2006-09-14      537.73     3.2475     4207.0      4.926      11.55   \n",
       "2006-09-15      537.10     3.2480     4258.0      4.939      11.76   \n",
       "2006-09-18      537.10     3.2450     4279.0      4.949      11.78   \n",
       "2006-09-19      537.10     3.2450     4275.0      4.948      11.98   \n",
       "\n",
       "            price_skew  ...  cu_comex_p  cu_comex_s      peso       sol  \\\n",
       "date                    ...                                               \n",
       "2006-09-13      120.44  ...    0.000590    0.055554 -0.000558  0.000307   \n",
       "2006-09-14      119.47  ...   -0.003100   -0.104881  0.000707 -0.001692   \n",
       "2006-09-15      135.25  ...   -0.019557    0.041104 -0.001172  0.000154   \n",
       "2006-09-18      127.35  ...    0.030146    0.032495  0.000000 -0.000924   \n",
       "2006-09-19      125.03  ...   -0.012512    0.138083  0.000000  0.000000   \n",
       "\n",
       "                 bdi       ted       vix      skew      gsci    target  \n",
       "date                                                                    \n",
       "2006-09-13  0.029244 -0.004276 -0.064091 -0.048458  0.002624 -0.001404  \n",
       "2006-09-14  0.018715  0.005088  0.032559 -0.008086 -0.010694  0.021675  \n",
       "2006-09-15  0.012050  0.002636  0.018019  0.124060 -0.004952  0.043012  \n",
       "2006-09-18  0.004920  0.002023  0.001699 -0.060186  0.007824  0.013450  \n",
       "2006-09-19 -0.000935 -0.000202  0.016835 -0.018385 -0.019642  0.025225  \n",
       "\n",
       "[5 rows x 23 columns]"
      ]
     },
     "execution_count": 654,
     "metadata": {},
     "output_type": "execute_result"
    }
   ],
   "source": [
    "df_full.head(5)\n",
    "# df_full.tail(5)"
   ]
  },
  {
   "cell_type": "code",
   "execution_count": 659,
   "metadata": {},
   "outputs": [],
   "source": [
    "df = df_full[[\"target\"]]\n",
    "# Taking t-1 to be the value for t\n",
    "df[\"persistance\"] = df.shift(1)\n",
    "df.dropna(inplace=True)\n",
    "# Calculating metrics for these columns\n",
    "MSE, MAE, MDE = evaluate(df, \"target\", \"persistance\")"
   ]
  },
  {
   "cell_type": "code",
   "execution_count": 660,
   "metadata": {},
   "outputs": [
    {
     "name": "stdout",
     "output_type": "stream",
     "text": [
      "              target  persistance\n",
      "date                             \n",
      "2006-09-14  0.021675    -0.001404\n",
      "2006-09-15  0.043012     0.021675\n",
      "2006-09-18  0.013450     0.043012\n",
      "2006-09-19  0.025225     0.013450\n",
      "2006-09-20  0.024843     0.025225\n",
      "              target  persistance\n",
      "date                             \n",
      "2019-06-24 -0.000589     0.004104\n",
      "2019-06-25 -0.026401    -0.000589\n",
      "2019-06-26 -0.010480    -0.026401\n",
      "2019-06-27 -0.011358    -0.010480\n",
      "2019-06-28 -0.015457    -0.011358\n"
     ]
    }
   ],
   "source": [
    "print(df[:5])\n",
    "print(df[-5:])"
   ]
  },
  {
   "cell_type": "code",
   "execution_count": 661,
   "metadata": {
    "scrolled": true
   },
   "outputs": [
    {
     "data": {
      "text/html": [
       "<div>\n",
       "<style scoped>\n",
       "    .dataframe tbody tr th:only-of-type {\n",
       "        vertical-align: middle;\n",
       "    }\n",
       "\n",
       "    .dataframe tbody tr th {\n",
       "        vertical-align: top;\n",
       "    }\n",
       "\n",
       "    .dataframe thead th {\n",
       "        text-align: right;\n",
       "    }\n",
       "</style>\n",
       "<table border=\"1\" class=\"dataframe\">\n",
       "  <thead>\n",
       "    <tr style=\"text-align: right;\">\n",
       "      <th></th>\n",
       "      <th>MSE</th>\n",
       "      <th>MAE</th>\n",
       "      <th>MDE</th>\n",
       "    </tr>\n",
       "    <tr>\n",
       "      <th>Name</th>\n",
       "      <th></th>\n",
       "      <th></th>\n",
       "      <th></th>\n",
       "    </tr>\n",
       "  </thead>\n",
       "  <tbody>\n",
       "    <tr>\n",
       "      <th>persistance</th>\n",
       "      <td>0.000582</td>\n",
       "      <td>0.017105</td>\n",
       "      <td>0.465585</td>\n",
       "    </tr>\n",
       "  </tbody>\n",
       "</table>\n",
       "</div>"
      ],
      "text/plain": [
       "                  MSE       MAE       MDE\n",
       "Name                                     \n",
       "persistance  0.000582  0.017105  0.465585"
      ]
     },
     "execution_count": 661,
     "metadata": {},
     "output_type": "execute_result"
    }
   ],
   "source": [
    "# Placing in results dataframe\n",
    "results = pd.DataFrame(columns={\"MSE\", \"MAE\", \"MDE\"})\n",
    "results.index.name = 'Name'\n",
    "results.head()\n",
    "results.loc[\"persistance\"] = [MSE, MAE, MDE] \n",
    "results.head()"
   ]
  }
 ],
 "metadata": {
  "colab": {
   "collapsed_sections": [],
   "name": "Chai_Base.ipynb",
   "provenance": [],
   "version": "0.3.2"
  },
  "kernelspec": {
   "display_name": "Python 3",
   "language": "python",
   "name": "python3"
  },
  "language_info": {
   "codemirror_mode": {
    "name": "ipython",
    "version": 3
   },
   "file_extension": ".py",
   "mimetype": "text/x-python",
   "name": "python",
   "nbconvert_exporter": "python",
   "pygments_lexer": "ipython3",
   "version": "3.7.3"
  }
 },
 "nbformat": 4,
 "nbformat_minor": 1
}
