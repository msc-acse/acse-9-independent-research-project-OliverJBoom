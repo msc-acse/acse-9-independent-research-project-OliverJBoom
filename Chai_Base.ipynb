{
  "nbformat": 4,
  "nbformat_minor": 0,
  "metadata": {
    "colab": {
      "name": "Chai_Base.ipynb",
      "version": "0.3.2",
      "provenance": [],
      "collapsed_sections": [],
      "include_colab_link": true
    },
    "kernelspec": {
      "name": "python3",
      "display_name": "Python 3"
    }
  },
  "cells": [
    {
      "cell_type": "markdown",
      "metadata": {
        "id": "view-in-github",
        "colab_type": "text"
      },
      "source": [
        "<a href=\"https://colab.research.google.com/github/msc-acse/acse-9-independent-research-project-OliverJBoom/blob/master/Chai_Base.ipynb\" target=\"_parent\"><img src=\"https://colab.research.google.com/assets/colab-badge.svg\" alt=\"Open In Colab\"/></a>"
      ]
    },
    {
      "cell_type": "markdown",
      "metadata": {
        "id": "UoQwCUvlJEV-",
        "colab_type": "text"
      },
      "source": [
        "## Linking to Github"
      ]
    },
    {
      "cell_type": "code",
      "metadata": {
        "id": "NTqLeUfqHP6b",
        "colab_type": "code",
        "colab": {
          "base_uri": "https://localhost:8080/",
          "height": 136
        },
        "outputId": "fea468e5-cdf1-4653-dcc3-773f79a4e45a"
      },
      "source": [
        "from getpass import getpass\n",
        "import os\n",
        "\n",
        "user = \"OliverJBoom\"\n",
        "password = getpass('github password')\n",
        "os.environ['GITHUB_AUTH'] = user + ':' + password\n",
        "\n",
        "!rm -rf Chai_Base\n",
        "!git clone https://$GITHUB_AUTH@github.com/msc-acse/acse-9-independent-research-project-OliverJBoom.git Chai_Base"
      ],
      "execution_count": 1,
      "outputs": [
        {
          "output_type": "stream",
          "text": [
            "github password··········\n",
            "Cloning into 'Chai_Base'...\n",
            "remote: Enumerating objects: 17, done.\u001b[K\n",
            "remote: Counting objects: 100% (17/17), done.\u001b[K\n",
            "remote: Compressing objects: 100% (12/12), done.\u001b[K\n",
            "remote: Total 17 (delta 3), reused 12 (delta 2), pack-reused 0\u001b[K\n",
            "Unpacking objects: 100% (17/17), done.\n"
          ],
          "name": "stdout"
        }
      ]
    },
    {
      "cell_type": "markdown",
      "metadata": {
        "id": "XKJiIZXUJLqw",
        "colab_type": "text"
      },
      "source": [
        "## Linking to Google Drive"
      ]
    },
    {
      "cell_type": "code",
      "metadata": {
        "id": "hAtL1eUQnKTM",
        "colab_type": "code",
        "outputId": "b2c41a68-e18b-44f0-d4a6-ca76715096cc",
        "colab": {
          "base_uri": "https://localhost:8080/",
          "height": 122
        }
      },
      "source": [
        "from google.colab import drive\n",
        "drive.mount(\"/content/gdrive/\")\n",
        "path = \"/content/gdrive/My Drive/Chai/Data\""
      ],
      "execution_count": 2,
      "outputs": [
        {
          "output_type": "stream",
          "text": [
            "Go to this URL in a browser: https://accounts.google.com/o/oauth2/auth?client_id=947318989803-6bn6qk8qdgf4n4g3pfee6491hc0brc4i.apps.googleusercontent.com&redirect_uri=urn%3Aietf%3Awg%3Aoauth%3A2.0%3Aoob&scope=email%20https%3A%2F%2Fwww.googleapis.com%2Fauth%2Fdocs.test%20https%3A%2F%2Fwww.googleapis.com%2Fauth%2Fdrive%20https%3A%2F%2Fwww.googleapis.com%2Fauth%2Fdrive.photos.readonly%20https%3A%2F%2Fwww.googleapis.com%2Fauth%2Fpeopleapi.readonly&response_type=code\n",
            "\n",
            "Enter your authorization code:\n",
            "··········\n",
            "Mounted at /content/gdrive/\n"
          ],
          "name": "stdout"
        }
      ]
    },
    {
      "cell_type": "markdown",
      "metadata": {
        "id": "67j8odKJJQL_",
        "colab_type": "text"
      },
      "source": [
        "## Loading Packages"
      ]
    },
    {
      "cell_type": "code",
      "metadata": {
        "id": "qd88JeQfrEzc",
        "colab_type": "code",
        "colab": {}
      },
      "source": [
        "import numpy as np\n",
        "import pandas as pd\n",
        "import matplotlib.pyplot as plt\n",
        "from sklearn.model_selection import train_test_split\n",
        "from statsmodels.tsa.arima_model import ARIMA\n",
        "from statsmodels.graphics.tsaplots import plot_acf, plot_pacf\n",
        "from statsmodels.tsa.stattools import adfuller"
      ],
      "execution_count": 0,
      "outputs": []
    },
    {
      "cell_type": "markdown",
      "metadata": {
        "id": "bmQo7bszJT7F",
        "colab_type": "text"
      },
      "source": [
        "## Loading Data"
      ]
    },
    {
      "cell_type": "code",
      "metadata": {
        "id": "kP_Lko5woTfp",
        "colab_type": "code",
        "colab": {}
      },
      "source": [
        "cu_lme =  pd.read_csv(\"/content/gdrive/My Drive/Chai/Data/CuLME.csv\", index_col='date', parse_dates=['date'], dayfirst=True).sort_index(ascending=True)\n",
        "cu_shfe =  pd.read_csv(\"/content/gdrive/My Drive/Chai/Data/CuSHFE.csv\", index_col='date', parse_dates=['date'], dayfirst=True).sort_index(ascending=True)\n",
        "cu_com_s =  pd.read_csv(\"/content/gdrive/My Drive/Chai/Data/CuCOMS.csv\", index_col='date', parse_dates=['date'], dayfirst=True).sort_index(ascending=True)\n",
        "cu_com_p =  pd.read_csv(\"/content/gdrive/My Drive/Chai/Data/CuCOMP.csv\", index_col='date', parse_dates=['date'], dayfirst=True).sort_index(ascending=True)\n",
        "\n",
        "universe = [cu_lme, cu_shfe, cu_com_s, cu_com_p] \n",
        "\n",
        "# Useful when you want to know which dataframe is being acted on\n",
        "universe_dict = {\"lme\":cu_lme, \"shfe\":cu_shfe, \"com s\":cu_com_s, \"com p\":cu_com_p}"
      ],
      "execution_count": 0,
      "outputs": []
    },
    {
      "cell_type": "code",
      "metadata": {
        "id": "BYBhMxv-5nEV",
        "colab_type": "code",
        "colab": {}
      },
      "source": [
        "def price_rename(universe_dict):\n",
        "  \"\"\"Renaming the column of the dataframe values to price\"\"\"\n",
        "  for df_name in universe_dict:\n",
        "    df = universe_dict[df_name]\n",
        "    df = df.rename(columns={'value':\"price\"})\n",
        "    universe_dict[df_name] = df\n",
        "  return universe_dict\n",
        "\n",
        "universe_dict = price_rename(universe_dict)"
      ],
      "execution_count": 0,
      "outputs": []
    },
    {
      "cell_type": "markdown",
      "metadata": {
        "id": "vuEKYKlBQ_hq",
        "colab_type": "text"
      },
      "source": [
        "## Initial EDA"
      ]
    },
    {
      "cell_type": "code",
      "metadata": {
        "id": "2p2YNslKSJ10",
        "colab_type": "code",
        "colab": {}
      },
      "source": [
        "df = universe_dict[\"lme\"]  "
      ],
      "execution_count": 0,
      "outputs": []
    },
    {
      "cell_type": "code",
      "metadata": {
        "id": "qIncbWl0rXUJ",
        "colab_type": "code",
        "colab": {}
      },
      "source": [
        "def visualise_plots(universe_dict, frequency=\"MS\"):\n",
        "  \"\"\"Plotting the line graph for all of the \n",
        "  instruments being inspected\"\"\"\n",
        "  for df_name in universe_dict:\n",
        "    df = universe_dict[df_name]\n",
        "    plt.plot(df.index, df.price)\n",
        "    plt.xlabel(\"Date\")\n",
        "    plt.ylabel(\"Price\")\n",
        "    plt.title(df_name)\n",
        "    plt.grid()\n",
        "    plt.show()\n",
        "    \n",
        "# visualise_plots(universe_dict)"
      ],
      "execution_count": 0,
      "outputs": []
    },
    {
      "cell_type": "code",
      "metadata": {
        "id": "BvFni4IBNZLm",
        "colab_type": "code",
        "colab": {}
      },
      "source": [
        "# df.head()\n",
        "# visualise_plots(universe_dict)\n",
        "# df.info()\n",
        "# plt.hist((df.price), bins=20)\n",
        "# plt.show()"
      ],
      "execution_count": 0,
      "outputs": []
    },
    {
      "cell_type": "code",
      "metadata": {
        "id": "oLrjCJXJsaDX",
        "colab_type": "code",
        "colab": {
          "base_uri": "https://localhost:8080/",
          "height": 34
        },
        "outputId": "2a759460-0c0d-4318-cade-6d52b4619708"
      },
      "source": [
        "def clean_outliers(df, n_std = 3):\n",
        "  \"\"\"Removes any outliers that are further than 3\n",
        "  standard deviations from the mean\"\"\"\n",
        "  upper = df.price.mean() + n_std * (df.price.std())\n",
        "  lower = df.price.mean() - n_std * (df.price.std())\n",
        "  \n",
        "  orig_len = len(df)\n",
        "  \n",
        "  clean_df = df.price[(df.price < upper) & (df.price > lower)]\n",
        "  \n",
        "  if orig_len != len(clean_df):\n",
        "    print(\"Number of rows removed:\", orig_len - len(clean_df))\n",
        "    \n",
        "  return clean_df\n",
        "\n",
        "\n",
        "\n",
        "def clean_dict_gen(universe_dict):\n",
        "  \"\"\"Returns a dictionary of cleaned dataframes\"\"\"\n",
        "  cleaned_dict = {}\n",
        "  \n",
        "  for df in universe_dict:\n",
        "    #print(df)\n",
        "    cleaned_dict[df] = clean_outliers(universe_dict[df], n_std=3)\n",
        "  \n",
        "  return cleaned_dict\n",
        "\n",
        "cleaned_dict = clean_dict_gen(universe_dict)\n",
        "\n",
        "\n",
        "\n",
        "def quantile_generator(df, n_buckets):\n",
        "  \"\"\"Adds a column that contains the quantile \n",
        "  ranking of a dataframe\"\"\"\n",
        "  \n",
        "  df['quantile_rank']=pd.qcut(df.price, n_buckets, labels=False)\n",
        "  \n",
        "  return df"
      ],
      "execution_count": 9,
      "outputs": [
        {
          "output_type": "stream",
          "text": [
            "Number of rows removed: 28\n"
          ],
          "name": "stdout"
        }
      ]
    },
    {
      "cell_type": "code",
      "metadata": {
        "id": "QbBb-4eKae9l",
        "colab_type": "code",
        "colab": {}
      },
      "source": [
        "# Exponentially weighted moving averages\n",
        "# df['ema10'] = pd.Series.ewm(df.price, span=10).mean()\n",
        "# Deciles\n",
        "\n",
        "# Percentage Change"
      ],
      "execution_count": 0,
      "outputs": []
    },
    {
      "cell_type": "code",
      "metadata": {
        "id": "_U6wM4TmbjNT",
        "colab_type": "code",
        "colab": {}
      },
      "source": [
        "df[\"deciles\"] = pd.qcut(df.price, 10, labels=False)\n",
        "df[\"pct_delta\"] = df.price.pct_change()\n",
        "df = df.fillna(0)\n",
        "df.head()\n",
        "df[\"deciles_pct_delta\"] = pd.qcut(df.pct_delta, 10, labels=False)\n",
        "df[\"lg_return\"] = np.log(df.price) - np.log(df.price.shift(1))\n",
        "pd.ewma(df.price, span=1)\n"
      ],
      "execution_count": 0,
      "outputs": []
    },
    {
      "cell_type": "code",
      "metadata": {
        "id": "nnV4dWuKeSOG",
        "colab_type": "code",
        "colab": {
          "base_uri": "https://localhost:8080/",
          "height": 235
        },
        "outputId": "a7acce87-2eef-4811-8e36-57c48e95f2cf"
      },
      "source": [
        "df.head()"
      ],
      "execution_count": 38,
      "outputs": [
        {
          "output_type": "execute_result",
          "data": {
            "text/html": [
              "<div>\n",
              "<style scoped>\n",
              "    .dataframe tbody tr th:only-of-type {\n",
              "        vertical-align: middle;\n",
              "    }\n",
              "\n",
              "    .dataframe tbody tr th {\n",
              "        vertical-align: top;\n",
              "    }\n",
              "\n",
              "    .dataframe thead th {\n",
              "        text-align: right;\n",
              "    }\n",
              "</style>\n",
              "<table border=\"1\" class=\"dataframe\">\n",
              "  <thead>\n",
              "    <tr style=\"text-align: right;\">\n",
              "      <th></th>\n",
              "      <th>price</th>\n",
              "      <th>deciles</th>\n",
              "      <th>pct_change</th>\n",
              "      <th>lg_return</th>\n",
              "      <th>pct_delta</th>\n",
              "      <th>deciles_pct_delta</th>\n",
              "    </tr>\n",
              "    <tr>\n",
              "      <th>date</th>\n",
              "      <th></th>\n",
              "      <th></th>\n",
              "      <th></th>\n",
              "      <th></th>\n",
              "      <th></th>\n",
              "      <th></th>\n",
              "    </tr>\n",
              "  </thead>\n",
              "  <tbody>\n",
              "    <tr>\n",
              "      <th>2006-08-29</th>\n",
              "      <td>7410.0</td>\n",
              "      <td>6</td>\n",
              "      <td>0.000000</td>\n",
              "      <td>NaN</td>\n",
              "      <td>0.000000</td>\n",
              "      <td>4</td>\n",
              "    </tr>\n",
              "    <tr>\n",
              "      <th>2006-08-30</th>\n",
              "      <td>7465.0</td>\n",
              "      <td>7</td>\n",
              "      <td>0.007422</td>\n",
              "      <td>0.007395</td>\n",
              "      <td>0.007422</td>\n",
              "      <td>7</td>\n",
              "    </tr>\n",
              "    <tr>\n",
              "      <th>2006-08-31</th>\n",
              "      <td>7719.0</td>\n",
              "      <td>7</td>\n",
              "      <td>0.034025</td>\n",
              "      <td>0.033459</td>\n",
              "      <td>0.034025</td>\n",
              "      <td>9</td>\n",
              "    </tr>\n",
              "    <tr>\n",
              "      <th>2006-09-01</th>\n",
              "      <td>7607.0</td>\n",
              "      <td>7</td>\n",
              "      <td>-0.014510</td>\n",
              "      <td>-0.014616</td>\n",
              "      <td>-0.014510</td>\n",
              "      <td>1</td>\n",
              "    </tr>\n",
              "    <tr>\n",
              "      <th>2006-09-04</th>\n",
              "      <td>7669.0</td>\n",
              "      <td>7</td>\n",
              "      <td>0.008150</td>\n",
              "      <td>0.008117</td>\n",
              "      <td>0.008150</td>\n",
              "      <td>7</td>\n",
              "    </tr>\n",
              "  </tbody>\n",
              "</table>\n",
              "</div>"
            ],
            "text/plain": [
              "             price  deciles  ...  pct_delta  deciles_pct_delta\n",
              "date                         ...                              \n",
              "2006-08-29  7410.0        6  ...   0.000000                  4\n",
              "2006-08-30  7465.0        7  ...   0.007422                  7\n",
              "2006-08-31  7719.0        7  ...   0.034025                  9\n",
              "2006-09-01  7607.0        7  ...  -0.014510                  1\n",
              "2006-09-04  7669.0        7  ...   0.008150                  7\n",
              "\n",
              "[5 rows x 6 columns]"
            ]
          },
          "metadata": {
            "tags": []
          },
          "execution_count": 38
        }
      ]
    },
    {
      "cell_type": "code",
      "metadata": {
        "id": "0IGkHCep3R9x",
        "colab_type": "code",
        "colab": {}
      },
      "source": [
        "d = {'price': [2, 4, 6, 10, 14, 20, 28]}\n",
        "# d = {'price': [1, 2, 3, 4, 5, 6, 7]}\n",
        "df = pd.DataFrame(data=d)\n",
        "df.head(10)\n",
        "df[\"MA\"] = df.price.rolling(window=2).mean()"
      ],
      "execution_count": 0,
      "outputs": []
    },
    {
      "cell_type": "code",
      "metadata": {
        "id": "skfi3270a1OV",
        "colab_type": "code",
        "colab": {
          "base_uri": "https://localhost:8080/",
          "height": 456
        },
        "outputId": "90d6c8f8-d3a9-4926-a264-9081c44bc933"
      },
      "source": [
        "half_life_arr = [2, 3, 4]\n",
        "\n",
        "for half_life in half_life_arr:\n",
        "  df[\"ema\" + str(half_life)] = df.price.ewm(span=half_life).mean()\n",
        "\n",
        "plt.plot(df.index, df.price)\n",
        "plt.plot(df.index, df.ema2)\n",
        "plt.plot(df.index, df.ema3)\n",
        "plt.plot(df.index, df.ema4)\n",
        "plt.legend()\n",
        "df.head()"
      ],
      "execution_count": 92,
      "outputs": [
        {
          "output_type": "execute_result",
          "data": {
            "text/html": [
              "<div>\n",
              "<style scoped>\n",
              "    .dataframe tbody tr th:only-of-type {\n",
              "        vertical-align: middle;\n",
              "    }\n",
              "\n",
              "    .dataframe tbody tr th {\n",
              "        vertical-align: top;\n",
              "    }\n",
              "\n",
              "    .dataframe thead th {\n",
              "        text-align: right;\n",
              "    }\n",
              "</style>\n",
              "<table border=\"1\" class=\"dataframe\">\n",
              "  <thead>\n",
              "    <tr style=\"text-align: right;\">\n",
              "      <th></th>\n",
              "      <th>price</th>\n",
              "      <th>MA</th>\n",
              "      <th>ema1</th>\n",
              "      <th>ema2</th>\n",
              "      <th>ema3</th>\n",
              "      <th>ema4</th>\n",
              "    </tr>\n",
              "  </thead>\n",
              "  <tbody>\n",
              "    <tr>\n",
              "      <th>0</th>\n",
              "      <td>2</td>\n",
              "      <td>NaN</td>\n",
              "      <td>2.0</td>\n",
              "      <td>2.000000</td>\n",
              "      <td>2.000000</td>\n",
              "      <td>2.000000</td>\n",
              "    </tr>\n",
              "    <tr>\n",
              "      <th>1</th>\n",
              "      <td>4</td>\n",
              "      <td>3.0</td>\n",
              "      <td>4.0</td>\n",
              "      <td>3.500000</td>\n",
              "      <td>3.333333</td>\n",
              "      <td>3.250000</td>\n",
              "    </tr>\n",
              "    <tr>\n",
              "      <th>2</th>\n",
              "      <td>6</td>\n",
              "      <td>5.0</td>\n",
              "      <td>6.0</td>\n",
              "      <td>5.230769</td>\n",
              "      <td>4.857143</td>\n",
              "      <td>4.653061</td>\n",
              "    </tr>\n",
              "    <tr>\n",
              "      <th>3</th>\n",
              "      <td>10</td>\n",
              "      <td>8.0</td>\n",
              "      <td>10.0</td>\n",
              "      <td>8.450000</td>\n",
              "      <td>7.600000</td>\n",
              "      <td>7.110294</td>\n",
              "    </tr>\n",
              "    <tr>\n",
              "      <th>4</th>\n",
              "      <td>14</td>\n",
              "      <td>12.0</td>\n",
              "      <td>14.0</td>\n",
              "      <td>12.165289</td>\n",
              "      <td>10.903226</td>\n",
              "      <td>10.098543</td>\n",
              "    </tr>\n",
              "  </tbody>\n",
              "</table>\n",
              "</div>"
            ],
            "text/plain": [
              "   price    MA  ema1       ema2       ema3       ema4\n",
              "0      2   NaN   2.0   2.000000   2.000000   2.000000\n",
              "1      4   3.0   4.0   3.500000   3.333333   3.250000\n",
              "2      6   5.0   6.0   5.230769   4.857143   4.653061\n",
              "3     10   8.0  10.0   8.450000   7.600000   7.110294\n",
              "4     14  12.0  14.0  12.165289  10.903226  10.098543"
            ]
          },
          "metadata": {
            "tags": []
          },
          "execution_count": 92
        },
        {
          "output_type": "display_data",
          "data": {
            "image/png": "[encoded data removed]",
            "text/plain": [
              "<Figure size 432x288 with 1 Axes>"
            ]
          },
          "metadata": {
            "tags": []
          }
        }
      ]
    },
    {
      "cell_type": "code",
      "metadata": {
        "id": "OT8Hcffx39BU",
        "colab_type": "code",
        "colab": {}
      },
      "source": [
        "# As the std is from a sample the degrees of freedom should be 1 \n",
        "df[\"rolling_vol\"] = df.price.rolling(window=2).std(ddof=1)"
      ],
      "execution_count": 0,
      "outputs": []
    },
    {
      "cell_type": "code",
      "metadata": {
        "id": "1JzPExKMaq9-",
        "colab_type": "code",
        "colab": {
          "base_uri": "https://localhost:8080/",
          "height": 204
        },
        "outputId": "a7f3e766-05b0-4f88-8b57-195f4e5092ee"
      },
      "source": [
        "df.head()"
      ],
      "execution_count": 96,
      "outputs": [
        {
          "output_type": "execute_result",
          "data": {
            "text/html": [
              "<div>\n",
              "<style scoped>\n",
              "    .dataframe tbody tr th:only-of-type {\n",
              "        vertical-align: middle;\n",
              "    }\n",
              "\n",
              "    .dataframe tbody tr th {\n",
              "        vertical-align: top;\n",
              "    }\n",
              "\n",
              "    .dataframe thead th {\n",
              "        text-align: right;\n",
              "    }\n",
              "</style>\n",
              "<table border=\"1\" class=\"dataframe\">\n",
              "  <thead>\n",
              "    <tr style=\"text-align: right;\">\n",
              "      <th></th>\n",
              "      <th>price</th>\n",
              "      <th>MA</th>\n",
              "      <th>ema1</th>\n",
              "      <th>ema2</th>\n",
              "      <th>ema3</th>\n",
              "      <th>ema4</th>\n",
              "      <th>rolling_vol</th>\n",
              "    </tr>\n",
              "  </thead>\n",
              "  <tbody>\n",
              "    <tr>\n",
              "      <th>0</th>\n",
              "      <td>2</td>\n",
              "      <td>NaN</td>\n",
              "      <td>2.0</td>\n",
              "      <td>2.000000</td>\n",
              "      <td>2.000000</td>\n",
              "      <td>2.000000</td>\n",
              "      <td>NaN</td>\n",
              "    </tr>\n",
              "    <tr>\n",
              "      <th>1</th>\n",
              "      <td>4</td>\n",
              "      <td>3.0</td>\n",
              "      <td>4.0</td>\n",
              "      <td>3.500000</td>\n",
              "      <td>3.333333</td>\n",
              "      <td>3.250000</td>\n",
              "      <td>1.414214</td>\n",
              "    </tr>\n",
              "    <tr>\n",
              "      <th>2</th>\n",
              "      <td>6</td>\n",
              "      <td>5.0</td>\n",
              "      <td>6.0</td>\n",
              "      <td>5.230769</td>\n",
              "      <td>4.857143</td>\n",
              "      <td>4.653061</td>\n",
              "      <td>1.414214</td>\n",
              "    </tr>\n",
              "    <tr>\n",
              "      <th>3</th>\n",
              "      <td>10</td>\n",
              "      <td>8.0</td>\n",
              "      <td>10.0</td>\n",
              "      <td>8.450000</td>\n",
              "      <td>7.600000</td>\n",
              "      <td>7.110294</td>\n",
              "      <td>2.828427</td>\n",
              "    </tr>\n",
              "    <tr>\n",
              "      <th>4</th>\n",
              "      <td>14</td>\n",
              "      <td>12.0</td>\n",
              "      <td>14.0</td>\n",
              "      <td>12.165289</td>\n",
              "      <td>10.903226</td>\n",
              "      <td>10.098543</td>\n",
              "      <td>2.828427</td>\n",
              "    </tr>\n",
              "  </tbody>\n",
              "</table>\n",
              "</div>"
            ],
            "text/plain": [
              "   price    MA  ema1       ema2       ema3       ema4  rolling_vol\n",
              "0      2   NaN   2.0   2.000000   2.000000   2.000000          NaN\n",
              "1      4   3.0   4.0   3.500000   3.333333   3.250000     1.414214\n",
              "2      6   5.0   6.0   5.230769   4.857143   4.653061     1.414214\n",
              "3     10   8.0  10.0   8.450000   7.600000   7.110294     2.828427\n",
              "4     14  12.0  14.0  12.165289  10.903226  10.098543     2.828427"
            ]
          },
          "metadata": {
            "tags": []
          },
          "execution_count": 96
        }
      ]
    },
    {
      "cell_type": "code",
      "metadata": {
        "id": "EX6bQXD-gkTw",
        "colab_type": "code",
        "colab": {}
      },
      "source": [
        ""
      ],
      "execution_count": 0,
      "outputs": []
    }
  ]
}