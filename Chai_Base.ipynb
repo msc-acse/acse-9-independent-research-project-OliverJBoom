{
  "nbformat": 4,
  "nbformat_minor": 0,
  "metadata": {
    "colab": {
      "name": "Chai_Base.ipynb",
      "version": "0.3.2",
      "provenance": [],
      "collapsed_sections": [],
      "include_colab_link": true
    },
    "kernelspec": {
      "name": "python3",
      "display_name": "Python 3"
    }
  },
  "cells": [
    {
      "cell_type": "markdown",
      "metadata": {
        "id": "view-in-github",
        "colab_type": "text"
      },
      "source": [
        "<a href=\"https://colab.research.google.com/github/msc-acse/acse-9-independent-research-project-OliverJBoom/blob/master/Chai_Base.ipynb\" target=\"_parent\"><img src=\"https://colab.research.google.com/assets/colab-badge.svg\" alt=\"Open In Colab\"/></a>"
      ]
    },
    {
      "cell_type": "markdown",
      "metadata": {
        "id": "UoQwCUvlJEV-",
        "colab_type": "text"
      },
      "source": [
        "## Linking to Github"
      ]
    },
    {
      "cell_type": "code",
      "metadata": {
        "id": "NTqLeUfqHP6b",
        "colab_type": "code",
        "outputId": "fea468e5-cdf1-4653-dcc3-773f79a4e45a",
        "colab": {
          "base_uri": "https://localhost:8080/",
          "height": 136
        }
      },
      "source": [
        "from getpass import getpass\n",
        "import os\n",
        "\n",
        "user = \"OliverJBoom\"\n",
        "password = getpass('github password')\n",
        "os.environ['GITHUB_AUTH'] = user + ':' + password\n",
        "\n",
        "!rm -rf Chai_Base\n",
        "!git clone https://$GITHUB_AUTH@github.com/msc-acse/acse-9-independent-research-project-OliverJBoom.git Chai_Base"
      ],
      "execution_count": 0,
      "outputs": [
        {
          "output_type": "stream",
          "text": [
            "github password··········\n",
            "Cloning into 'Chai_Base'...\n",
            "remote: Enumerating objects: 17, done.\u001b[K\n",
            "remote: Counting objects: 100% (17/17), done.\u001b[K\n",
            "remote: Compressing objects: 100% (12/12), done.\u001b[K\n",
            "remote: Total 17 (delta 3), reused 12 (delta 2), pack-reused 0\u001b[K\n",
            "Unpacking objects: 100% (17/17), done.\n"
          ],
          "name": "stdout"
        }
      ]
    },
    {
      "cell_type": "markdown",
      "metadata": {
        "id": "XKJiIZXUJLqw",
        "colab_type": "text"
      },
      "source": [
        "## Linking to Google Drive"
      ]
    },
    {
      "cell_type": "code",
      "metadata": {
        "id": "hAtL1eUQnKTM",
        "colab_type": "code",
        "outputId": "3c1a5ff1-9c39-49f8-cae7-0ee00c566cd4",
        "colab": {
          "base_uri": "https://localhost:8080/",
          "height": 122
        }
      },
      "source": [
        "from google.colab import drive\n",
        "drive.mount(\"/content/gdrive/\")\n",
        "path = \"/content/gdrive/My Drive/Chai/Data\""
      ],
      "execution_count": 0,
      "outputs": [
        {
          "output_type": "stream",
          "text": [
            "Go to this URL in a browser: https://accounts.google.com/o/oauth2/auth?client_id=947318989803-6bn6qk8qdgf4n4g3pfee6491hc0brc4i.apps.googleusercontent.com&redirect_uri=urn%3Aietf%3Awg%3Aoauth%3A2.0%3Aoob&scope=email%20https%3A%2F%2Fwww.googleapis.com%2Fauth%2Fdocs.test%20https%3A%2F%2Fwww.googleapis.com%2Fauth%2Fdrive%20https%3A%2F%2Fwww.googleapis.com%2Fauth%2Fdrive.photos.readonly%20https%3A%2F%2Fwww.googleapis.com%2Fauth%2Fpeopleapi.readonly&response_type=code\n",
            "\n",
            "Enter your authorization code:\n",
            "··········\n",
            "Mounted at /content/gdrive/\n"
          ],
          "name": "stdout"
        }
      ]
    },
    {
      "cell_type": "markdown",
      "metadata": {
        "id": "67j8odKJJQL_",
        "colab_type": "text"
      },
      "source": [
        "## Loading Packages"
      ]
    },
    {
      "cell_type": "code",
      "metadata": {
        "id": "qd88JeQfrEzc",
        "colab_type": "code",
        "colab": {}
      },
      "source": [
        "import numpy as np\n",
        "import pandas as pd\n",
        "import matplotlib.pyplot as plt\n",
        "from sklearn.model_selection import train_test_split\n",
        "from sklearn.decomposition import PCA\n",
        "from statsmodels.tsa.arima_model import ARIMA\n",
        "from statsmodels.graphics.tsaplots import plot_acf, plot_pacf\n",
        "from statsmodels.tsa.stattools import adfuller\n",
        "import warnings\n",
        "warnings.filterwarnings(\"ignore\")"
      ],
      "execution_count": 0,
      "outputs": []
    },
    {
      "cell_type": "markdown",
      "metadata": {
        "id": "bmQo7bszJT7F",
        "colab_type": "text"
      },
      "source": [
        "## Loading Data"
      ]
    },
    {
      "cell_type": "code",
      "metadata": {
        "id": "kP_Lko5woTfp",
        "colab_type": "code",
        "colab": {}
      },
      "source": [
        "cu_lme =  pd.read_csv(\"/content/gdrive/My Drive/Chai/Data/CuLME.csv\", index_col='date', parse_dates=['date'], dayfirst=True).sort_index(ascending=True)\n",
        "cu_shfe =  pd.read_csv(\"/content/gdrive/My Drive/Chai/Data/CuSHFE.csv\", index_col='date', parse_dates=['date'], dayfirst=True).sort_index(ascending=True)\n",
        "cu_com_s =  pd.read_csv(\"/content/gdrive/My Drive/Chai/Data/CuCOMS.csv\", index_col='date', parse_dates=['date'], dayfirst=True).sort_index(ascending=True)\n",
        "cu_com_p =  pd.read_csv(\"/content/gdrive/My Drive/Chai/Data/CuCOMP.csv\", index_col='date', parse_dates=['date'], dayfirst=True).sort_index(ascending=True)\n",
        "\n",
        "universe_dict = {\"lme\":cu_lme, \"shfe\":cu_shfe, \"com_s\":cu_com_s, \"com_p\":cu_com_p}"
      ],
      "execution_count": 0,
      "outputs": []
    },
    {
      "cell_type": "markdown",
      "metadata": {
        "id": "4k8FIHASpHfv",
        "colab_type": "text"
      },
      "source": [
        "## Preprocessing"
      ]
    },
    {
      "cell_type": "code",
      "metadata": {
        "id": "BYBhMxv-5nEV",
        "colab_type": "code",
        "outputId": "aa51baf1-be12-43d6-9224-b71e4466c8bd",
        "colab": {
          "base_uri": "https://localhost:8080/",
          "height": 102
        }
      },
      "source": [
        "def price_rename(universe_dict):\n",
        "  \"\"\"Renaming the column of the dataframe values to price\"\"\"\n",
        "  for df_name in universe_dict:\n",
        "    df = universe_dict[df_name]\n",
        "    df.sort_index(inplace=True)\n",
        "    df = df.rename(columns={'value':\"price\"})\n",
        "    universe_dict[df_name] = df\n",
        "  return universe_dict\n",
        "\n",
        "\n",
        "def clean_data(df, n_std = 20):\n",
        "  \"\"\"Removes any outliers that are further than a chosen\n",
        "  number of standard deviations from the mean\"\"\"\n",
        "  upper = df.price.mean() + n_std * (df.price.std())\n",
        "  lower = df.price.mean() - n_std * (df.price.std())\n",
        "  df.loc[((df.price > upper) | (df.price < lower)), 'price'] = None\n",
        "  df.ffill(inplace=True)\n",
        "  if df.price.isnull().sum() > 0: print(\"Rows removed:\", df.price.isnull().sum())\n",
        "  return df\n",
        "\n",
        "\n",
        "def clean_dict_gen(universe_dict):\n",
        "  \"\"\"Returns a dictionary of cleaned dataframes\"\"\"\n",
        "  cleaned_dict = {}\n",
        "  print(\"Included Instrument:\")\n",
        "  for df_name in universe_dict:\n",
        "    print(df_name)\n",
        "    cleaned_dict[df_name] = clean_data(universe_dict[df_name])\n",
        "    \n",
        "  return cleaned_dict\n",
        "\n",
        "\n",
        "universe_dict = clean_dict_gen(price_rename(universe_dict))"
      ],
      "execution_count": 439,
      "outputs": [
        {
          "output_type": "stream",
          "text": [
            "Included Instrument:\n",
            "lme\n",
            "shfe\n",
            "com_s\n",
            "com_p\n"
          ],
          "name": "stdout"
        }
      ]
    },
    {
      "cell_type": "code",
      "metadata": {
        "id": "qIncbWl0rXUJ",
        "colab_type": "code",
        "colab": {
          "base_uri": "https://localhost:8080/",
          "height": 1000
        },
        "outputId": "cc18370f-4a11-4722-b99a-2cb44d014c89"
      },
      "source": [
        "def visualise_plots(universe_dict, frequency=\"MS\"):\n",
        "  \"\"\"Plotting the line graph for all of the \n",
        "  instruments being inspected\"\"\"\n",
        "  for df_name in universe_dict:\n",
        "    df = universe_dict[df_name]\n",
        "    plt.plot(df.index, df.price)\n",
        "    plt.xlabel(\"Date\")\n",
        "    plt.ylabel(\"Price\")\n",
        "    plt.title(df_name)\n",
        "    plt.grid()\n",
        "    plt.show()\n",
        "    \n",
        "visualise_plots(universe_dict)\n",
        "# df.info()\n",
        "# plt.hist((df.price), bins=20)\n",
        "# plt.show()"
      ],
      "execution_count": 440,
      "outputs": [
        {
          "output_type": "display_data",
          "data": {
            "image/png": "[encoded data removed]",
            "text/plain": [
              "<Figure size 432x288 with 1 Axes>"
            ]
          },
          "metadata": {
            "tags": []
          }
        },
        {
          "output_type": "display_data",
          "data": {
            "image/png": "[encoded data removed]",
            "text/plain": [
              "<Figure size 432x288 with 1 Axes>"
            ]
          },
          "metadata": {
            "tags": []
          }
        },
        {
          "output_type": "display_data",
          "data": {
            "image/png": "[encoded data removed]",
            "text/plain": [
              "<Figure size 432x288 with 1 Axes>"
            ]
          },
          "metadata": {
            "tags": []
          }
        },
        {
          "output_type": "display_data",
          "data": {
            "image/png": "[encoded data removed]",
            "text/plain": [
              "<Figure size 432x288 with 1 Axes>"
            ]
          },
          "metadata": {
            "tags": []
          }
        }
      ]
    },
    {
      "cell_type": "code",
      "metadata": {
        "id": "EX6bQXD-gkTw",
        "colab_type": "code",
        "colab": {}
      },
      "source": [
        "def feature_spawn(df):\n",
        "  \"\"\"Spawsn features for each instrument\n",
        "  Returns df with the following columns\n",
        "  Price\n",
        "  Log Returns\n",
        "  EWMA 1 day\n",
        "  EWMA 1 week\n",
        "  EWMA 1 month\n",
        "  EWMA 1 quarter\n",
        "  EWMA 6 months\n",
        "  EWMA 1 year\n",
        "  Rolling vol 1 week\n",
        "  Rolling vol 1 month\n",
        "  Rolling vol 1 quarter\n",
        "  \"\"\"\n",
        "  df[\"lg_return\"] = np.log(df.price) - np.log(df.price.shift(1))\n",
        "  #df[\"deciles_lg_return\"] = pd.qcut(df.lg_return, 10, labels=False)\n",
        "  df.lg_return.fillna(0, inplace=True)\n",
        "  \n",
        "  hlf_dict = {\"week\":5, \"month\":22, \"quarter\":66, \"half_year\":130, \"year\":261}\n",
        "\n",
        "  for half_life in hlf_dict:\n",
        "    df[\"ema_\" + half_life] = df.price.ewm(span=hlf_dict[half_life]).mean()\n",
        "    \n",
        "  for i, half_life in enumerate(hlf_dict):\n",
        "    if i < 3:\n",
        "      df[\"roll_vol_\" + half_life] = df.price.rolling(window=hlf_dict[half_life]).std(ddof=0)\n",
        "  \n",
        "  df.dropna(inplace=True)\n",
        "  return df"
      ],
      "execution_count": 0,
      "outputs": []
    },
    {
      "cell_type": "code",
      "metadata": {
        "id": "ki2dJCGNkOVE",
        "colab_type": "code",
        "colab": {}
      },
      "source": [
        "def feature_view(df):\n",
        "  \"\"\"Visualises the features for an instrument\"\"\"\n",
        "  fig, axarr = plt.subplots(len(df.columns), 1, figsize=(10, 4 * len(df.columns)))\n",
        "\n",
        "  for ax, df_name in zip(axarr.flatten(), df.columns):\n",
        "      ax.set_title(df_name)\n",
        "      ax.plot(df.index, df[df_name])\n",
        "      ax.grid()\n",
        "      ax.legend()\n",
        "      \n",
        "  plt.show()\n",
        "  \n",
        "# feature_view(df)"
      ],
      "execution_count": 0,
      "outputs": []
    },
    {
      "cell_type": "code",
      "metadata": {
        "id": "KpLFV2GXwU_f",
        "colab_type": "code",
        "colab": {}
      },
      "source": [
        "def consistent_training_window_length(universe_dict):\n",
        "  \"\"\"Chopping the length of all of the dataframes to ensure\n",
        "  that they are all between the same dates\n",
        "  Returns: A dictionary of the dataframes with equal lengths\n",
        "  between equal dates\"\"\"\n",
        "  start_date_arr = []\n",
        "  end_date_arr = []\n",
        "  \n",
        "  for df_name in universe_dict:\n",
        "    # Finding the latest of the start dates\n",
        "    start_date_arr.append(universe_dict[df_name].index[0])\n",
        "    # Finding the earliest of the end dates\n",
        "    end_date_arr.append(universe_dict[df_name].index[-1])\n",
        "    \n",
        "  for i, df_name in enumerate(universe_dict): \n",
        "    # Filters the dataframe between these dates\n",
        "    universe_dict[df_name] = df.loc[((df.index <= min(end_date_arr)) & (df.index >= max(start_date_arr)))]\n",
        "    # Ensures that the length of each dataframe is consistent\n",
        "    if i > 0: assert(len(universe_dict[list(universe_dict.keys())[0]].index) == len(universe_dict[df_name].index))\n",
        "  \n",
        "  return universe_dict\n",
        "\n",
        "\n",
        "def feature_generator(universe_dict):\n",
        "  \"\"\"Spawns features for every df in the training set\"\"\"\n",
        "  for df_name in universe_dict: universe_dict[df_name] = feature_spawn(universe_dict[df_name])\n",
        "  return universe_dict\n",
        "\n",
        "\n",
        "def training_dataset_gen(universe_dict):\n",
        "  \"\"\"\"\"\"\n",
        "  df = universe_dict[list(universe_dict.keys())[0]]\n",
        "  for i, df_name in enumerate(universe_dict): \n",
        "    if i > 0: df = pd.merge(df, universe_dict[df_name], left_index=True, right_index=True)\n",
        "  return df\n",
        "\n",
        "\n",
        "def column_rename(universe_dict):\n",
        "  \"\"\"Adding the name of the dataframe onto each column so \n",
        "  that the column can be identified post merge and pca\"\"\"\n",
        "  for df_name in universe_dict: universe_dict[df_name].columns = universe_dict[df_name].columns + \"_\" + df_name\n",
        "  return universe_dict\n",
        "\n",
        "\n",
        "universe_dict = consistent_training_window_length(universe_dict)\n",
        "universe_dict = feature_generator(universe_dict)\n",
        "universe_dict = column_rename(universe_dict)\n",
        "df_train = training_dataset_gen(universe_dict)"
      ],
      "execution_count": 0,
      "outputs": []
    },
    {
      "cell_type": "markdown",
      "metadata": {
        "id": "QkbQMnrNsrkd",
        "colab_type": "text"
      },
      "source": [
        "## PCA"
      ]
    },
    {
      "cell_type": "code",
      "metadata": {
        "id": "wZinko9QvVAb",
        "colab_type": "code",
        "outputId": "fd39dedc-7637-4f0f-8c20-5cd55e841eec",
        "colab": {
          "base_uri": "https://localhost:8080/",
          "height": 34
        }
      },
      "source": [
        "def dimension_selector(df, thresh=0.99):\n",
        "  \"\"\"Returns the number of dimensions that reaches the \n",
        "  threshold level of desired variance\"\"\"\n",
        "  for n_dim in range(1, 11):\n",
        "    pca = PCA(n_components=n_dim)\n",
        "    pca.fit(df)\n",
        "    if sum(pca.explained_variance_ratio_) > thresh: \n",
        "      print(\"Number of dimensions:\", n_dim)\n",
        "      return n_dim\n",
        "  print(\"No level of dimensionality reaches threshold variance level\")\n",
        "  return None\n",
        "\n",
        "    \n",
        "def dimension_reduce(df, n_dim):\n",
        "  \"\"\"\"\"\"\n",
        "  pca = PCA(n_components=n_dim)\n",
        "  pca.fit(df)\n",
        "  df_reduced = pca.transform(df) \n",
        "  print(\"Explained Variance:\", pca.explained_variance_ratio_, \n",
        "     \"\\nExplained Variance Sum:\", sum(pca.explained_variance_ratio_))\n",
        "  return df_reduced\n",
        "\n",
        "\n",
        "def inverse_pca(df_reduced, df, n_dim):\n",
        "  \"\"\"\"\"\"\n",
        "  pca = PCA(n_components=n_dim)\n",
        "  pca.fit(df)\n",
        "  df_inverse = pd.DataFrame(pca.inverse_transform(pca_reduced), index=df.index, columns=df.columns)\n",
        "  return \n",
        "n_dim = dimension_selector(df)"
      ],
      "execution_count": 409,
      "outputs": [
        {
          "output_type": "stream",
          "text": [
            "Number of dimensions: 3\n"
          ],
          "name": "stdout"
        }
      ]
    },
    {
      "cell_type": "code",
      "metadata": {
        "id": "UcIj5gTTsvZb",
        "colab_type": "code",
        "outputId": "ddad51e9-f68d-4105-d633-278d00cc2a4b",
        "colab": {
          "base_uri": "https://localhost:8080/",
          "height": 51
        }
      },
      "source": [
        "# Creating PCA object\n",
        "pca = PCA(n_components=n_dim)\n",
        "# Fitting and transforming PCA data\n",
        "pca.fit(df)\n",
        "pca_reduced = pca.transform(df) \n",
        "\n",
        "print(\"Explained Variance:\", pca.explained_variance_ratio_, \n",
        "     \"\\nExplained Variance Sum:\", sum(pca.explained_variance_ratio_))\n",
        "\n",
        "# df_pca = pd.DataFrame(pca_reduced, index=df.index) \n",
        "# df_inverse = pd.DataFrame(pca.inverse_transform(pca_reduced), index=df.index, columns=df.columns)"
      ],
      "execution_count": 360,
      "outputs": [
        {
          "output_type": "stream",
          "text": [
            "Explained Variance: [0.93443161 0.05385666 0.00543059] \n",
            "Explained Variance Sum: 0.9937188687776084\n"
          ],
          "name": "stdout"
        }
      ]
    },
    {
      "cell_type": "code",
      "metadata": {
        "id": "-e-PvPWick_-",
        "colab_type": "code",
        "colab": {
          "base_uri": "https://localhost:8080/",
          "height": 51
        },
        "outputId": "6f202b4a-6e82-466b-fbe1-2dd05cddba34"
      },
      "source": [
        "# Creating PCA object\n",
        "pca = PCA(n_components=n_dim)\n",
        "# Fitting and transforming PCA data\n",
        "pca.fit(df_train)\n",
        "pca_reduced = pca.transform(df_train) \n",
        "print(\"Explained Variance:\", pca.explained_variance_ratio_, \n",
        "     \"\\nExplained Variance Sum:\", sum(pca.explained_variance_ratio_))\n",
        "\n",
        "df_pca = pd.DataFrame(pca_reduced, index=df_train.index) \n",
        "df_inverse = pd.DataFrame(pca.inverse_transform(pca_reduced), index=df_train.index, columns=df_train.columns)"
      ],
      "execution_count": 461,
      "outputs": [
        {
          "output_type": "stream",
          "text": [
            "Explained Variance: [0.95582572 0.03727906 0.00359951] \n",
            "Explained Variance Sum: 0.9967042867859301\n"
          ],
          "name": "stdout"
        }
      ]
    },
    {
      "cell_type": "code",
      "metadata": {
        "id": "PgcmtlL8zNTu",
        "colab_type": "code",
        "colab": {
          "base_uri": "https://localhost:8080/",
          "height": 235
        },
        "outputId": "280fe183-7d45-44ed-eb4e-a2e7b113ad63"
      },
      "source": [
        "df_pca.head()"
      ],
      "execution_count": 463,
      "outputs": [
        {
          "output_type": "execute_result",
          "data": {
            "text/html": [
              "<div>\n",
              "<style scoped>\n",
              "    .dataframe tbody tr th:only-of-type {\n",
              "        vertical-align: middle;\n",
              "    }\n",
              "\n",
              "    .dataframe tbody tr th {\n",
              "        vertical-align: top;\n",
              "    }\n",
              "\n",
              "    .dataframe thead th {\n",
              "        text-align: right;\n",
              "    }\n",
              "</style>\n",
              "<table border=\"1\" class=\"dataframe\">\n",
              "  <thead>\n",
              "    <tr style=\"text-align: right;\">\n",
              "      <th></th>\n",
              "      <th>0</th>\n",
              "      <th>1</th>\n",
              "      <th>2</th>\n",
              "    </tr>\n",
              "    <tr>\n",
              "      <th>date</th>\n",
              "      <th></th>\n",
              "      <th></th>\n",
              "      <th></th>\n",
              "    </tr>\n",
              "  </thead>\n",
              "  <tbody>\n",
              "    <tr>\n",
              "      <th>2009-01-02</th>\n",
              "      <td>15620.276956</td>\n",
              "      <td>1163.954442</td>\n",
              "      <td>970.301777</td>\n",
              "    </tr>\n",
              "    <tr>\n",
              "      <th>2009-01-05</th>\n",
              "      <td>15664.324138</td>\n",
              "      <td>1144.787741</td>\n",
              "      <td>948.052409</td>\n",
              "    </tr>\n",
              "    <tr>\n",
              "      <th>2009-01-06</th>\n",
              "      <td>15425.504624</td>\n",
              "      <td>875.879435</td>\n",
              "      <td>707.464978</td>\n",
              "    </tr>\n",
              "    <tr>\n",
              "      <th>2009-01-07</th>\n",
              "      <td>15439.288077</td>\n",
              "      <td>852.161532</td>\n",
              "      <td>684.972110</td>\n",
              "    </tr>\n",
              "    <tr>\n",
              "      <th>2009-01-08</th>\n",
              "      <td>15607.712664</td>\n",
              "      <td>959.963079</td>\n",
              "      <td>774.881853</td>\n",
              "    </tr>\n",
              "  </tbody>\n",
              "</table>\n",
              "</div>"
            ],
            "text/plain": [
              "                       0            1           2\n",
              "date                                             \n",
              "2009-01-02  15620.276956  1163.954442  970.301777\n",
              "2009-01-05  15664.324138  1144.787741  948.052409\n",
              "2009-01-06  15425.504624   875.879435  707.464978\n",
              "2009-01-07  15439.288077   852.161532  684.972110\n",
              "2009-01-08  15607.712664   959.963079  774.881853"
            ]
          },
          "metadata": {
            "tags": []
          },
          "execution_count": 463
        }
      ]
    },
    {
      "cell_type": "code",
      "metadata": {
        "id": "cCeVyf0dz8_R",
        "colab_type": "code",
        "colab": {}
      },
      "source": [
        ""
      ],
      "execution_count": 0,
      "outputs": []
    }
  ]
}