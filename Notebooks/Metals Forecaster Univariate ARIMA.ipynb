{
 "cells": [
  {
   "cell_type": "markdown",
   "metadata": {
    "colab_type": "text",
    "id": "67j8odKJJQL_"
   },
   "source": [
    "## Loading Packages"
   ]
  },
  {
   "cell_type": "code",
   "execution_count": 3,
   "metadata": {
    "colab": {
     "base_uri": "https://localhost:8080/",
     "height": 88
    },
    "colab_type": "code",
    "id": "qd88JeQfrEzc",
    "outputId": "df4b243a-5f47-4f7b-f0d1-5064ad8234d4",
    "scrolled": true
   },
   "outputs": [
    {
     "data": {
      "text/plain": [
       "True"
      ]
     },
     "execution_count": 3,
     "metadata": {},
     "output_type": "execute_result"
    }
   ],
   "source": [
    "from ForesightPy import *\n",
    "from pmdarima import auto_arima\n",
    "from statsmodels.tsa.arima_model import ARIMA\n",
    "\n",
    "set_seed(42)"
   ]
  },
  {
   "cell_type": "markdown",
   "metadata": {
    "colab_type": "text",
    "id": "Um9Dkbc5mblC"
   },
   "source": [
    "## Loading Data"
   ]
  },
  {
   "cell_type": "code",
   "execution_count": 5,
   "metadata": {
    "colab": {},
    "colab_type": "code",
    "id": "weVUDM7lmblD"
   },
   "outputs": [],
   "source": [
    "# Custom dataset if desired\n",
    "# custom_list=[\"cu_lme\", \"al_lme\"]\n",
    "\n",
    "path = \"../Data/\"\n",
    "universe_dict = universe_select(path, \"Cu\", custom_list=None)\n",
    "use_lg_returns = False\n",
    "use_PCA = True\n",
    "autoregressive = True"
   ]
  },
  {
   "cell_type": "markdown",
   "metadata": {
    "colab_type": "text",
    "id": "4k8FIHASpHfv"
   },
   "source": [
    "## Preprocessing"
   ]
  },
  {
   "cell_type": "code",
   "execution_count": 113,
   "metadata": {
    "colab": {
     "base_uri": "https://localhost:8080/",
     "height": 221
    },
    "colab_type": "code",
    "id": "ki2dJCGNkOVE",
    "outputId": "907d8b3c-8f3b-48a4-9d22-db62966df967",
    "scrolled": false
   },
   "outputs": [
    {
     "name": "stdout",
     "output_type": "stream",
     "text": [
      "Included Instrument:\n",
      "cu_shfe\n",
      "cu_lme\n",
      "cu_comex_p\n",
      "cu_comex_s\n",
      "peso\n",
      "sol\n",
      "bdi\n",
      "ted\n",
      "vix\n",
      "skew\n",
      "gsci\n"
     ]
    }
   ],
   "source": [
    "# Renaming the columns to price\n",
    "universe_dict = price_rename(universe_dict)\n",
    "\n",
    "# Cleaning the dataset of any erroneous datapoints\n",
    "universe_dict = clean_dict_gen(universe_dict)\n",
    "\n",
    "# Making sure that all the points in the window have consistent length\n",
    "universe_dict = truncate_window_length(universe_dict)\n",
    "\n",
    "# Generating the dataset\n",
    "if use_lg_returns:\n",
    "    # Lg Returns Only\n",
    "    df_full = generate_dataset(universe_dict, lg_only=True, price_only=False)\n",
    "    target_col = \"cu_lme\"\n",
    "\n",
    "else:\n",
    "    # Price Only\n",
    "    df_full = generate_dataset(universe_dict, lg_only=False, price_only=True)\n",
    "    target_col = \"price_cu_lme\"\n",
    "    \n",
    "if autoregressive:\n",
    "    df_full = df_full[[target_col]]"
   ]
  },
  {
   "cell_type": "markdown",
   "metadata": {},
   "source": [
    "### Visualise the dataset"
   ]
  },
  {
   "cell_type": "code",
   "execution_count": 114,
   "metadata": {
    "colab": {
     "base_uri": "https://localhost:8080/",
     "height": 820
    },
    "colab_type": "code",
    "id": "7J6bOnusmblO",
    "outputId": "41c5d64d-e00c-4389-eb93-b40c62949c86",
    "scrolled": true
   },
   "outputs": [
    {
     "data": {
      "text/html": [
       "<div>\n",
       "<style scoped>\n",
       "    .dataframe tbody tr th:only-of-type {\n",
       "        vertical-align: middle;\n",
       "    }\n",
       "\n",
       "    .dataframe tbody tr th {\n",
       "        vertical-align: top;\n",
       "    }\n",
       "\n",
       "    .dataframe thead th {\n",
       "        text-align: right;\n",
       "    }\n",
       "</style>\n",
       "<table border=\"1\" class=\"dataframe\">\n",
       "  <thead>\n",
       "    <tr style=\"text-align: right;\">\n",
       "      <th></th>\n",
       "      <th>price_cu_lme</th>\n",
       "    </tr>\n",
       "    <tr>\n",
       "      <th>date</th>\n",
       "      <th></th>\n",
       "    </tr>\n",
       "  </thead>\n",
       "  <tbody>\n",
       "    <tr>\n",
       "      <th>2006-09-13</th>\n",
       "      <td>7484.5</td>\n",
       "    </tr>\n",
       "    <tr>\n",
       "      <th>2006-09-14</th>\n",
       "      <td>7439.0</td>\n",
       "    </tr>\n",
       "    <tr>\n",
       "      <th>2006-09-15</th>\n",
       "      <td>7281.0</td>\n",
       "    </tr>\n",
       "    <tr>\n",
       "      <th>2006-09-18</th>\n",
       "      <td>7459.0</td>\n",
       "    </tr>\n",
       "    <tr>\n",
       "      <th>2006-09-19</th>\n",
       "      <td>7516.0</td>\n",
       "    </tr>\n",
       "  </tbody>\n",
       "</table>\n",
       "</div>"
      ],
      "text/plain": [
       "            price_cu_lme\n",
       "date                    \n",
       "2006-09-13        7484.5\n",
       "2006-09-14        7439.0\n",
       "2006-09-15        7281.0\n",
       "2006-09-18        7459.0\n",
       "2006-09-19        7516.0"
      ]
     },
     "execution_count": 114,
     "metadata": {},
     "output_type": "execute_result"
    }
   ],
   "source": [
    "df_full.head(5)\n",
    "# df_full.tail(5)\n",
    "# Visualise the plots if desired\n",
    "# visualise_df(df_full)"
   ]
  },
  {
   "cell_type": "markdown",
   "metadata": {
    "colab_type": "text",
    "id": "x65OxxWrqv4Q"
   },
   "source": [
    "### Normalizing the dataset"
   ]
  },
  {
   "cell_type": "code",
   "execution_count": 115,
   "metadata": {
    "colab": {},
    "colab_type": "code",
    "id": "yak6wTGtXgcA"
   },
   "outputs": [
    {
     "name": "stdout",
     "output_type": "stream",
     "text": [
      "Data X shape (3353,)\n"
     ]
    }
   ],
   "source": [
    "# Forecast length\n",
    "# forecast_length = 5\n",
    "forecast_length = 22\n",
    "# forecast_length = 66\n",
    "# forecast_length = 132\n",
    "\n",
    "# Data scaling\n",
    "scaler_data_X = MinMaxScaler()\n",
    "\n",
    "# Transforming the data\n",
    "data_X = scaler_data_X.fit_transform(df_full)\n",
    "# Making data 1D\n",
    "data_X = data_X[:, 0]\n",
    "\n",
    "print(\"Data X shape\", data_X.shape)"
   ]
  },
  {
   "cell_type": "code",
   "execution_count": 116,
   "metadata": {},
   "outputs": [],
   "source": [
    "def arima_forecaster(history, P, D, Q, forecast_length):\n",
    "    \"\"\"Fits an ARIMA model and makes a predicion one\n",
    "    forecast length into the future\n",
    "    \n",
    "    :param history:      The training data the ARIMA model is fit to\n",
    "    :type  history:      list\n",
    "\n",
    "    :param P:            The autoregressive parameter for an ARIMA model  \n",
    "    :type  P:            int  \n",
    "    \n",
    "    :param D:            The differencing parameter for an ARIMA model  \n",
    "    :type  D:            int\n",
    "    \n",
    "    :param Q:            The moving average parameter for an ARIMA model  \n",
    "    :type  Q:            int\n",
    "\n",
    "    :return:             A predicition one time step into the future\n",
    "    :rtype:              float\n",
    "    \"\"\"\n",
    "    model = ARIMA(history, order=(P, D, Q))\n",
    "    model_fit = model.fit(disp=-1)\n",
    "    prediction = model_fit.forecast(forecast_length)[0]\n",
    "    return prediction"
   ]
  },
  {
   "cell_type": "code",
   "execution_count": 117,
   "metadata": {},
   "outputs": [
    {
     "name": "stdout",
     "output_type": "stream",
     "text": [
      "ARIMA Order: (1, 1, 0)\n"
     ]
    }
   ],
   "source": [
    "# Determining the order of the ARIMA parameters\n",
    "auto = auto_arima(data_X, error_action=\"ignore\")\n",
    "P, D, Q = auto.order\n",
    "print(\"ARIMA Order:\", auto.order)"
   ]
  },
  {
   "cell_type": "code",
   "execution_count": 118,
   "metadata": {
    "scrolled": true
   },
   "outputs": [
    {
     "name": "stdout",
     "output_type": "stream",
     "text": [
      "Percentage Trained: 0.0\n",
      "Percentage Trained: 7.451564828614009\n",
      "Percentage Trained: 14.903129657228018\n",
      "Percentage Trained: 22.35469448584203\n",
      "Percentage Trained: 29.806259314456035\n",
      "Percentage Trained: 37.257824143070046\n",
      "Percentage Trained: 44.70938897168406\n",
      "Percentage Trained: 52.16095380029806\n",
      "Percentage Trained: 59.61251862891207\n",
      "Percentage Trained: 67.06408345752608\n",
      "Percentage Trained: 74.51564828614009\n",
      "Percentage Trained: 81.9672131147541\n",
      "Percentage Trained: 89.41877794336811\n",
      "Percentage Trained: 96.87034277198211\n"
     ]
    }
   ],
   "source": [
    "# Training and test dataset\n",
    "Train = data_X[0:int(len(data_X) * 0.6)]\n",
    "Test = data_X[int(len(data_X) * 0.6):len(data_X)]\n",
    "\n",
    "# The rolling window that will grow \n",
    "history = [x for x in Train]\n",
    "# Array to store predictions\n",
    "predictions = list()\n",
    "\n",
    "# Rolling Window Predictions\n",
    "for i in range(len(Test)-forecast_length+1):\n",
    "    # Making the predictions\n",
    "    pred = arima_forecaster(history, P, D, Q, forecast_length=forecast_length)[forecast_length-1]\n",
    "    predictions.append(pred)\n",
    "    # Keeping constant window size\n",
    "    history.append(Test[i])\n",
    "    del(history[0])\n",
    "        \n",
    "    if i%100==0: \n",
    "        print(\"Percentage Trained:\", 100*i/len(Test))"
   ]
  },
  {
   "cell_type": "code",
   "execution_count": 121,
   "metadata": {},
   "outputs": [],
   "source": [
    "# Matching the observed and predicted array sizes\n",
    "observed = Test[forecast_length - 1:]"
   ]
  },
  {
   "cell_type": "code",
   "execution_count": 122,
   "metadata": {},
   "outputs": [],
   "source": [
    "# Rescaling the results\n",
    "predictions = np.array(predictions).reshape(len(predictions), 1)\n",
    "observed  = np.array(observed).reshape(len(observed), 1)\n",
    "\n",
    "observed_scaled = scaler_data_X.inverse_transform(observed)\n",
    "predictions_scaled = scaler_data_X.inverse_transform(predictions)"
   ]
  },
  {
   "cell_type": "markdown",
   "metadata": {},
   "source": [
    "### Plotting Results"
   ]
  },
  {
   "cell_type": "code",
   "execution_count": 123,
   "metadata": {
    "scrolled": true
   },
   "outputs": [
    {
     "data": {
      "image/png": "[encoded data removed]",
      "text/plain": [
       "<Figure size 432x288 with 1 Axes>"
      ]
     },
     "metadata": {
      "needs_background": "light"
     },
     "output_type": "display_data"
    }
   ],
   "source": [
    "plt.plot(observed_scaled, label='observed')\n",
    "plt.plot(predictions_scaled, label='predictions')\n",
    "plt.legend()\n",
    "plt.grid()\n",
    "plt.show()"
   ]
  },
  {
   "cell_type": "markdown",
   "metadata": {
    "colab_type": "text",
    "id": "qmzBKO27mbm1"
   },
   "source": [
    "# Results"
   ]
  },
  {
   "cell_type": "code",
   "execution_count": 124,
   "metadata": {
    "scrolled": true
   },
   "outputs": [
    {
     "name": "stdout",
     "output_type": "stream",
     "text": [
      "Price Metrics:  97652.09555955138 245.06747144651402 0.4643939393939394\n"
     ]
    }
   ],
   "source": [
    "mse, mae, mda = evaluate(predictions_scaled, observed_scaled, log_ret=False)\n",
    "print(\"Price Metrics: \", \n",
    "      mse, mae, mda)"
   ]
  }
 ],
 "metadata": {
  "accelerator": "GPU",
  "colab": {
   "collapsed_sections": [],
   "name": "LSTM.ipynb",
   "provenance": [],
   "version": "0.3.2"
  },
  "kernelspec": {
   "display_name": "Python 3",
   "language": "python",
   "name": "python3"
  },
  "language_info": {
   "codemirror_mode": {
    "name": "ipython",
    "version": 3
   },
   "file_extension": ".py",
   "mimetype": "text/x-python",
   "name": "python",
   "nbconvert_exporter": "python",
   "pygments_lexer": "ipython3",
   "version": "3.7.3"
  }
 },
 "nbformat": 4,
 "nbformat_minor": 2
}
