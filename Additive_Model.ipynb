{
 "cells": [
  {
   "cell_type": "markdown",
   "metadata": {
    "colab_type": "text",
    "id": "67j8odKJJQL_"
   },
   "source": [
    "## Loading Packages"
   ]
  },
  {
   "cell_type": "code",
   "execution_count": 1,
   "metadata": {
    "colab": {},
    "colab_type": "code",
    "id": "qd88JeQfrEzc"
   },
   "outputs": [],
   "source": [
    "from fbprophet import Prophet\n",
    "import matplotlib.pyplot as plt\n",
    "import numpy as np\n",
    "import os\n",
    "import pandas as pd\n",
    "from preprocessing import *\n",
    "from sklearn.decomposition import PCA\n",
    "from sklearn.metrics import mean_squared_error, mean_absolute_error\n",
    "from utils import *\n",
    "import warnings\n",
    "\n",
    "# plt.style.use('dark_background')\n",
    "warnings.filterwarnings(\"ignore\")"
   ]
  },
  {
   "cell_type": "markdown",
   "metadata": {},
   "source": [
    "## Loading Data"
   ]
  },
  {
   "cell_type": "code",
   "execution_count": 2,
   "metadata": {},
   "outputs": [],
   "source": [
    "path = \"Data/\"\n",
    "universe_dict = universe_select(path, \"Cu\")"
   ]
  },
  {
   "cell_type": "markdown",
   "metadata": {
    "colab_type": "text",
    "id": "4k8FIHASpHfv"
   },
   "source": [
    "## Preprocessing"
   ]
  },
  {
   "cell_type": "code",
   "execution_count": 3,
   "metadata": {
    "colab": {},
    "colab_type": "code",
    "id": "ki2dJCGNkOVE",
    "scrolled": false
   },
   "outputs": [
    {
     "name": "stdout",
     "output_type": "stream",
     "text": [
      "Included Instrument:\n",
      "cu_shfe\n",
      "cu_lme\n",
      "cu_comex_p\n",
      "cu_comex_s\n",
      "peso\n",
      "sol\n",
      "bdi\n",
      "ted\n",
      "vix\n",
      "skew\n",
      "gsci\n"
     ]
    }
   ],
   "source": [
    "# Renaming the columns to price\n",
    "universe_dict = price_rename(universe_dict)\n",
    "# Cleaning the dataset of any erroneous datapoints\n",
    "universe_dict = clean_dict_gen(universe_dict)\n",
    "# Making sure that all the points in the window have consistent lenght\n",
    "universe_dict = truncate_window_length(universe_dict)\n",
    "# Generate the full training dataset\n",
    "df_full = generate_dataset(universe_dict, lag=5)\n",
    "# Adding 1 day log returns as the normalized input variable\n",
    "df_full = generate_lg_return(df_full, lag=1, target=False)\n",
    "# drop_prices(df_full)"
   ]
  },
  {
   "cell_type": "code",
   "execution_count": 4,
   "metadata": {
    "scrolled": true
   },
   "outputs": [
    {
     "data": {
      "text/html": [
       "<div>\n",
       "<style scoped>\n",
       "    .dataframe tbody tr th:only-of-type {\n",
       "        vertical-align: middle;\n",
       "    }\n",
       "\n",
       "    .dataframe tbody tr th {\n",
       "        vertical-align: top;\n",
       "    }\n",
       "\n",
       "    .dataframe thead th {\n",
       "        text-align: right;\n",
       "    }\n",
       "</style>\n",
       "<table border=\"1\" class=\"dataframe\">\n",
       "  <thead>\n",
       "    <tr style=\"text-align: right;\">\n",
       "      <th></th>\n",
       "      <th>price_cu_shfe</th>\n",
       "      <th>price_cu_lme</th>\n",
       "      <th>price_cu_comex_p</th>\n",
       "      <th>price_cu_comex_s</th>\n",
       "      <th>price_peso</th>\n",
       "      <th>price_sol</th>\n",
       "      <th>price_bdi</th>\n",
       "      <th>price_ted</th>\n",
       "      <th>price_vix</th>\n",
       "      <th>price_skew</th>\n",
       "      <th>...</th>\n",
       "      <th>target_cu_lme</th>\n",
       "      <th>target_cu_comex_p</th>\n",
       "      <th>target_cu_comex_s</th>\n",
       "      <th>target_peso</th>\n",
       "      <th>target_sol</th>\n",
       "      <th>target_bdi</th>\n",
       "      <th>target_ted</th>\n",
       "      <th>target_vix</th>\n",
       "      <th>target_skew</th>\n",
       "      <th>target_gsci</th>\n",
       "    </tr>\n",
       "    <tr>\n",
       "      <th>date</th>\n",
       "      <th></th>\n",
       "      <th></th>\n",
       "      <th></th>\n",
       "      <th></th>\n",
       "      <th></th>\n",
       "      <th></th>\n",
       "      <th></th>\n",
       "      <th></th>\n",
       "      <th></th>\n",
       "      <th></th>\n",
       "      <th></th>\n",
       "      <th></th>\n",
       "      <th></th>\n",
       "      <th></th>\n",
       "      <th></th>\n",
       "      <th></th>\n",
       "      <th></th>\n",
       "      <th></th>\n",
       "      <th></th>\n",
       "      <th></th>\n",
       "      <th></th>\n",
       "    </tr>\n",
       "  </thead>\n",
       "  <tbody>\n",
       "    <tr>\n",
       "      <th>2006-08-29</th>\n",
       "      <td>68160.0</td>\n",
       "      <td>7410.0</td>\n",
       "      <td>3.423</td>\n",
       "      <td>12440.0</td>\n",
       "      <td>537.5</td>\n",
       "      <td>3.246</td>\n",
       "      <td>3750.0</td>\n",
       "      <td>5.083</td>\n",
       "      <td>12.28</td>\n",
       "      <td>126.53</td>\n",
       "      <td>...</td>\n",
       "      <td>0.069838</td>\n",
       "      <td>0.064484</td>\n",
       "      <td>-0.074925</td>\n",
       "      <td>0.001487</td>\n",
       "      <td>-0.000925</td>\n",
       "      <td>0.034595</td>\n",
       "      <td>-0.018466</td>\n",
       "      <td>0.028103</td>\n",
       "      <td>-0.017701</td>\n",
       "      <td>-0.016719</td>\n",
       "    </tr>\n",
       "    <tr>\n",
       "      <th>2006-08-30</th>\n",
       "      <td>67650.0</td>\n",
       "      <td>7465.0</td>\n",
       "      <td>3.365</td>\n",
       "      <td>12440.0</td>\n",
       "      <td>538.0</td>\n",
       "      <td>3.235</td>\n",
       "      <td>3795.0</td>\n",
       "      <td>5.051</td>\n",
       "      <td>12.22</td>\n",
       "      <td>125.52</td>\n",
       "      <td>...</td>\n",
       "      <td>0.077432</td>\n",
       "      <td>0.095445</td>\n",
       "      <td>-0.040772</td>\n",
       "      <td>0.002784</td>\n",
       "      <td>0.002470</td>\n",
       "      <td>0.021377</td>\n",
       "      <td>-0.016569</td>\n",
       "      <td>0.117237</td>\n",
       "      <td>-0.019549</td>\n",
       "      <td>-0.023995</td>\n",
       "    </tr>\n",
       "    <tr>\n",
       "      <th>2006-08-31</th>\n",
       "      <td>67630.0</td>\n",
       "      <td>7719.0</td>\n",
       "      <td>3.469</td>\n",
       "      <td>12377.0</td>\n",
       "      <td>540.5</td>\n",
       "      <td>3.243</td>\n",
       "      <td>3847.0</td>\n",
       "      <td>5.051</td>\n",
       "      <td>12.31</td>\n",
       "      <td>123.22</td>\n",
       "      <td>...</td>\n",
       "      <td>0.040371</td>\n",
       "      <td>0.055098</td>\n",
       "      <td>-0.023627</td>\n",
       "      <td>-0.002779</td>\n",
       "      <td>0.000617</td>\n",
       "      <td>0.010601</td>\n",
       "      <td>-0.016770</td>\n",
       "      <td>0.120037</td>\n",
       "      <td>-0.012741</td>\n",
       "      <td>-0.034150</td>\n",
       "    </tr>\n",
       "    <tr>\n",
       "      <th>2006-09-01</th>\n",
       "      <td>70140.0</td>\n",
       "      <td>7607.0</td>\n",
       "      <td>3.475</td>\n",
       "      <td>11788.0</td>\n",
       "      <td>537.7</td>\n",
       "      <td>3.243</td>\n",
       "      <td>3875.0</td>\n",
       "      <td>5.001</td>\n",
       "      <td>11.96</td>\n",
       "      <td>124.59</td>\n",
       "      <td>...</td>\n",
       "      <td>0.029277</td>\n",
       "      <td>0.029210</td>\n",
       "      <td>0.014318</td>\n",
       "      <td>0.000558</td>\n",
       "      <td>0.000925</td>\n",
       "      <td>0.010014</td>\n",
       "      <td>-0.011261</td>\n",
       "      <td>0.095614</td>\n",
       "      <td>-0.002009</td>\n",
       "      <td>-0.027833</td>\n",
       "    </tr>\n",
       "    <tr>\n",
       "      <th>2006-09-04</th>\n",
       "      <td>71240.0</td>\n",
       "      <td>7669.0</td>\n",
       "      <td>3.475</td>\n",
       "      <td>11788.0</td>\n",
       "      <td>536.0</td>\n",
       "      <td>3.243</td>\n",
       "      <td>3882.0</td>\n",
       "      <td>5.001</td>\n",
       "      <td>11.96</td>\n",
       "      <td>124.59</td>\n",
       "      <td>...</td>\n",
       "      <td>-0.025488</td>\n",
       "      <td>-0.011869</td>\n",
       "      <td>0.122935</td>\n",
       "      <td>0.006138</td>\n",
       "      <td>0.001848</td>\n",
       "      <td>0.016859</td>\n",
       "      <td>-0.011665</td>\n",
       "      <td>0.082612</td>\n",
       "      <td>0.011174</td>\n",
       "      <td>-0.038619</td>\n",
       "    </tr>\n",
       "  </tbody>\n",
       "</table>\n",
       "<p>5 rows × 22 columns</p>\n",
       "</div>"
      ],
      "text/plain": [
       "            price_cu_shfe  price_cu_lme  price_cu_comex_p  price_cu_comex_s  \\\n",
       "date                                                                          \n",
       "2006-08-29        68160.0        7410.0             3.423           12440.0   \n",
       "2006-08-30        67650.0        7465.0             3.365           12440.0   \n",
       "2006-08-31        67630.0        7719.0             3.469           12377.0   \n",
       "2006-09-01        70140.0        7607.0             3.475           11788.0   \n",
       "2006-09-04        71240.0        7669.0             3.475           11788.0   \n",
       "\n",
       "            price_peso  price_sol  price_bdi  price_ted  price_vix  \\\n",
       "date                                                                 \n",
       "2006-08-29       537.5      3.246     3750.0      5.083      12.28   \n",
       "2006-08-30       538.0      3.235     3795.0      5.051      12.22   \n",
       "2006-08-31       540.5      3.243     3847.0      5.051      12.31   \n",
       "2006-09-01       537.7      3.243     3875.0      5.001      11.96   \n",
       "2006-09-04       536.0      3.243     3882.0      5.001      11.96   \n",
       "\n",
       "            price_skew  ...  target_cu_lme  target_cu_comex_p  \\\n",
       "date                    ...                                     \n",
       "2006-08-29      126.53  ...       0.069838           0.064484   \n",
       "2006-08-30      125.52  ...       0.077432           0.095445   \n",
       "2006-08-31      123.22  ...       0.040371           0.055098   \n",
       "2006-09-01      124.59  ...       0.029277           0.029210   \n",
       "2006-09-04      124.59  ...      -0.025488          -0.011869   \n",
       "\n",
       "            target_cu_comex_s  target_peso  target_sol  target_bdi  \\\n",
       "date                                                                 \n",
       "2006-08-29          -0.074925     0.001487   -0.000925    0.034595   \n",
       "2006-08-30          -0.040772     0.002784    0.002470    0.021377   \n",
       "2006-08-31          -0.023627    -0.002779    0.000617    0.010601   \n",
       "2006-09-01           0.014318     0.000558    0.000925    0.010014   \n",
       "2006-09-04           0.122935     0.006138    0.001848    0.016859   \n",
       "\n",
       "            target_ted  target_vix  target_skew  target_gsci  \n",
       "date                                                          \n",
       "2006-08-29   -0.018466    0.028103    -0.017701    -0.016719  \n",
       "2006-08-30   -0.016569    0.117237    -0.019549    -0.023995  \n",
       "2006-08-31   -0.016770    0.120037    -0.012741    -0.034150  \n",
       "2006-09-01   -0.011261    0.095614    -0.002009    -0.027833  \n",
       "2006-09-04   -0.011665    0.082612     0.011174    -0.038619  \n",
       "\n",
       "[5 rows x 22 columns]"
      ]
     },
     "execution_count": 4,
     "metadata": {},
     "output_type": "execute_result"
    }
   ],
   "source": [
    "# Visualise the plots\n",
    "# visualise_universe(universe_dict)\n",
    "\n",
    "# Choosing whether to focus on price of log returns\n",
    "df = df_full[[\"price_cu_lme\"]]\n",
    "df_full.head()\n",
    "# df.head()\n",
    "# df_full[[\"target_cu_lme\"]].head()"
   ]
  },
  {
   "cell_type": "markdown",
   "metadata": {},
   "source": [
    "## Additive Model"
   ]
  },
  {
   "cell_type": "code",
   "execution_count": 6,
   "metadata": {},
   "outputs": [],
   "source": [
    "def create_prophet_dataset(df):\n",
    "    \"\"\"Creates a dataframe that has data in the \n",
    "    format that works with facebooks additive \n",
    "    modelling software: fbprophet\"\"\"\n",
    "    d = {\"ds\":df.index, \"y\":df}\n",
    "    df = pd.DataFrame(data=d)\n",
    "    df.reset_index(inplace=True)\n",
    "    df = df.drop('date', 1)\n",
    "    return df\n",
    "\n",
    "\n",
    "# Estimated runtime = 200 mins\n",
    "def prophet_prediction(df, window_start=0, window_length=264):\n",
    "    \"\"\"Returns a dataframe of out of sample predictions\n",
    "    trained on a growing percentage of available training data\n",
    "    \"\"\"\n",
    "    # The prediction offset in business days\n",
    "    week_diff = 5\n",
    "    month_diff = 22\n",
    "    quarter_diff = 66\n",
    "    \n",
    "    # Creating the dataframe for predictions\n",
    "    df_preds = df.copy()\n",
    "    # Making df columns for the predicted values\n",
    "    df_preds[\"y_pred_week\"] = np.nan\n",
    "    df_preds[\"y_pred_month\"] = np.nan\n",
    "    df_preds[\"y_pred_quarter\"] = np.nan\n",
    "    \n",
    "    it = 0\n",
    "    window_end = window_start + window_length\n",
    "    \n",
    "    while it <= len(df.index) - window_length: \n",
    "        \n",
    "        print(\"Percentage Complete:\", 100 * it/(len(df.index) - window_length))\n",
    "        \n",
    "        # Create training window\n",
    "        window_start = it\n",
    "        window_end = window_start + window_length\n",
    "        df_train = df.iloc[window_start:window_end].copy()\n",
    "\n",
    "        # Fitting the model\n",
    "        model = Prophet(daily_seasonality=True)\n",
    "        # Fit the data to the dataset\n",
    "        model.fit(df_train)\n",
    "        \n",
    "        # Make predictions\n",
    "        # Starting at the beginning of the test dataset there should be\n",
    "        week_pred_date = df[df.index == [df_train.index[-1] + week_diff]]\n",
    "        month_pred_date = df[df.index == [df_train.index[-1] + month_diff]]\n",
    "        quarter_pred_date = df[df.index == [df_train.index[-1] + quarter_diff]]\n",
    "\n",
    "        week_pred = model.predict(week_pred_date)[[\"ds\", \"yhat\"]]\n",
    "        month_pred = model.predict(month_pred_date)[[\"ds\", \"yhat\"]]\n",
    "        quarter_pred_date = model.predict(quarter_pred_date)[[\"ds\", \"yhat\"]]\n",
    "\n",
    "        # Finding the location in df_test with the date that \n",
    "        # we want to fill and setting the predicted value equal to the prediction\n",
    "        df_preds.loc[df_preds['ds'] == week_pred.iloc[0][\"ds\"], 'y_pred_week'] = week_pred[\"yhat\"].values[0]\n",
    "        df_preds.loc[df_preds['ds'] == month_pred.iloc[0][\"ds\"], 'y_pred_month'] = month_pred[\"yhat\"].values[0]\n",
    "        df_preds.loc[df_preds['ds'] == quarter_pred_date.iloc[0][\"ds\"], 'y_pred_quarter'] = quarter_pred_date[\"yhat\"].values[0]\n",
    "        it+=1\n",
    "        \n",
    "    # Renaming the columns\n",
    "    df_preds.rename(columns={'y':\"y_true\"}, inplace=True)\n",
    "    return df_preds"
   ]
  },
  {
   "cell_type": "code",
   "execution_count": 7,
   "metadata": {},
   "outputs": [],
   "source": [
    "df = create_prophet_dataset(df_full[\"1day_lg_return_cu_lme\"])"
   ]
  },
  {
   "cell_type": "markdown",
   "metadata": {},
   "source": [
    "## Demonstration of how one training cycle works\n",
    "This was done on price instead of log returns because it is more easily visualised"
   ]
  },
  {
   "cell_type": "code",
   "execution_count": 8,
   "metadata": {},
   "outputs": [],
   "source": [
    "# Create the dataframe in a format that works with prophet\n",
    "df = create_prophet_dataset(df_full[\"1day_lg_return_cu_lme\"])\n",
    "window_length = 264\n",
    "df_train = df.iloc[:window_length].copy()\n",
    "df_test = df.iloc[window_length:(window_length + 66)].copy()\n",
    "\n",
    "model = Prophet(daily_seasonality=True, weekly_seasonality=True, yearly_seasonality=True)\n",
    "model.fit(df_train)\n",
    "forecast = model.predict(df_test.reset_index()[[\"ds\"]])[[\"ds\", \"yhat\"]]\n",
    "df_test = pd.merge(df_test, forecast, on=\"ds\")"
   ]
  },
  {
   "cell_type": "code",
   "execution_count": 9,
   "metadata": {
    "scrolled": false
   },
   "outputs": [
    {
     "data": {
      "image/png": "[encoded data removed]",
      "text/plain": [
       "<Figure size 432x288 with 1 Axes>"
      ]
     },
     "metadata": {
      "needs_background": "light"
     },
     "output_type": "display_data"
    }
   ],
   "source": [
    "plt.plot(df_train[\"ds\"], df_train[\"y\"])\n",
    "plt.plot(df_test[\"ds\"], df_test[\"y\"], label=\"Original\")\n",
    "plt.plot(df_test[\"ds\"], df_test[\"yhat\"], label=\"Predicted\")\n",
    "plt.legend()\n",
    "plt.show()"
   ]
  },
  {
   "cell_type": "code",
   "execution_count": 14,
   "metadata": {},
   "outputs": [],
   "source": [
    "df = df_test.merge(df_full[[\"price_cu_lme\"]], left_on='ds', right_on=df_full[[\"price_cu_lme\"]].index)\n",
    "df[\"inverse_price\"] = np.nan\n",
    "# Shift of 1 is to line up the log returns price with the right day\n",
    "df[\"inverse_price\"] = inverse_log_returns(df[[\"price_cu_lme\"]], df[[\"yhat\"]], lag=1, shift=1)\n",
    "# df_full[\"inverse_price\"][5:] = inverse_log_returns(df[[\"price_cu_lme\"]], df[[\"yhat\"]])\n",
    "# len(inverse_log_returns(df[[\"price_cu_lme\"]], df[[\"yhat\"]]))"
   ]
  },
  {
   "cell_type": "code",
   "execution_count": 15,
   "metadata": {},
   "outputs": [
    {
     "data": {
      "text/html": [
       "<div>\n",
       "<style scoped>\n",
       "    .dataframe tbody tr th:only-of-type {\n",
       "        vertical-align: middle;\n",
       "    }\n",
       "\n",
       "    .dataframe tbody tr th {\n",
       "        vertical-align: top;\n",
       "    }\n",
       "\n",
       "    .dataframe thead th {\n",
       "        text-align: right;\n",
       "    }\n",
       "</style>\n",
       "<table border=\"1\" class=\"dataframe\">\n",
       "  <thead>\n",
       "    <tr style=\"text-align: right;\">\n",
       "      <th></th>\n",
       "      <th>ds</th>\n",
       "      <th>y</th>\n",
       "      <th>yhat</th>\n",
       "      <th>price_cu_lme</th>\n",
       "      <th>inverse_price</th>\n",
       "    </tr>\n",
       "  </thead>\n",
       "  <tbody>\n",
       "    <tr>\n",
       "      <th>0</th>\n",
       "      <td>2007-09-18</td>\n",
       "      <td>0.009477</td>\n",
       "      <td>0.006451</td>\n",
       "      <td>7633.0</td>\n",
       "      <td>NaN</td>\n",
       "    </tr>\n",
       "    <tr>\n",
       "      <th>1</th>\n",
       "      <td>2007-09-19</td>\n",
       "      <td>0.038550</td>\n",
       "      <td>0.001030</td>\n",
       "      <td>7933.0</td>\n",
       "      <td>7640.862841</td>\n",
       "    </tr>\n",
       "    <tr>\n",
       "      <th>2</th>\n",
       "      <td>2007-09-20</td>\n",
       "      <td>-0.000126</td>\n",
       "      <td>0.007067</td>\n",
       "      <td>7932.0</td>\n",
       "      <td>7989.263048</td>\n",
       "    </tr>\n",
       "    <tr>\n",
       "      <th>3</th>\n",
       "      <td>2007-09-21</td>\n",
       "      <td>-0.000378</td>\n",
       "      <td>0.005406</td>\n",
       "      <td>7929.0</td>\n",
       "      <td>7975.000155</td>\n",
       "    </tr>\n",
       "    <tr>\n",
       "      <th>4</th>\n",
       "      <td>2007-09-24</td>\n",
       "      <td>0.020349</td>\n",
       "      <td>0.008088</td>\n",
       "      <td>8092.0</td>\n",
       "      <td>7993.388439</td>\n",
       "    </tr>\n",
       "  </tbody>\n",
       "</table>\n",
       "</div>"
      ],
      "text/plain": [
       "          ds         y      yhat  price_cu_lme  inverse_price\n",
       "0 2007-09-18  0.009477  0.006451        7633.0            NaN\n",
       "1 2007-09-19  0.038550  0.001030        7933.0    7640.862841\n",
       "2 2007-09-20 -0.000126  0.007067        7932.0    7989.263048\n",
       "3 2007-09-21 -0.000378  0.005406        7929.0    7975.000155\n",
       "4 2007-09-24  0.020349  0.008088        8092.0    7993.388439"
      ]
     },
     "execution_count": 15,
     "metadata": {},
     "output_type": "execute_result"
    }
   ],
   "source": [
    "df.head()"
   ]
  },
  {
   "cell_type": "code",
   "execution_count": 18,
   "metadata": {
    "scrolled": false
   },
   "outputs": [
    {
     "data": {
      "image/png": "[encoded data removed]",
      "text/plain": [
       "<Figure size 432x288 with 1 Axes>"
      ]
     },
     "metadata": {
      "needs_background": "light"
     },
     "output_type": "display_data"
    }
   ],
   "source": [
    "plt.plot(df_test[\"ds\"], df[\"price_cu_lme\"], label=\"Original\")\n",
    "plt.plot(df_test[\"ds\"], df[\"inverse_price\"], label=\"Predicted\")\n",
    "plt.legend()\n",
    "plt.show()"
   ]
  },
  {
   "cell_type": "markdown",
   "metadata": {},
   "source": [
    "#### As can be seen. The model is initially quite accurate with the inaccuracy increasing over time\n",
    "As the predictions are made at 1 week, 1 month and 1 quarter it is hoped that the inaccuracy won't grow continuously "
   ]
  },
  {
   "cell_type": "code",
   "execution_count": 201,
   "metadata": {
    "scrolled": true
   },
   "outputs": [],
   "source": [
    "# model.plot_components(forecast)"
   ]
  },
  {
   "cell_type": "markdown",
   "metadata": {},
   "source": [
    "## Additive Model Rolling Window"
   ]
  },
  {
   "cell_type": "markdown",
   "metadata": {},
   "source": [
    "Selected a window size of 264 which is equivilent to one year in business days"
   ]
  },
  {
   "cell_type": "code",
   "execution_count": null,
   "metadata": {},
   "outputs": [],
   "source": [
    "df_preds = prophet_prediction(df, window_start=0, window_length=264)"
   ]
  }
 ],
 "metadata": {
  "colab": {
   "collapsed_sections": [],
   "name": "Chai_Base.ipynb",
   "provenance": [],
   "version": "0.3.2"
  },
  "kernelspec": {
   "display_name": "Python 3",
   "language": "python",
   "name": "python3"
  },
  "language_info": {
   "codemirror_mode": {
    "name": "ipython",
    "version": 3
   },
   "file_extension": ".py",
   "mimetype": "text/x-python",
   "name": "python",
   "nbconvert_exporter": "python",
   "pygments_lexer": "ipython3",
   "version": "3.7.3"
  }
 },
 "nbformat": 4,
 "nbformat_minor": 1
}
