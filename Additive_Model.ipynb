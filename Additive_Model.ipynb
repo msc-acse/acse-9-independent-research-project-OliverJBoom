{
 "cells": [
  {
   "cell_type": "markdown",
   "metadata": {
    "colab_type": "text",
    "id": "67j8odKJJQL_"
   },
   "source": [
    "## Loading Packages"
   ]
  },
  {
   "cell_type": "code",
   "execution_count": 11,
   "metadata": {
    "colab": {},
    "colab_type": "code",
    "id": "qd88JeQfrEzc"
   },
   "outputs": [],
   "source": [
    "from fbprophet import Prophet\n",
    "import numpy as np\n",
    "import os\n",
    "import pandas as pd\n",
    "import matplotlib.pyplot as plt\n",
    "from sklearn.decomposition import PCA\n",
    "from sklearn.metrics import mean_squared_error, mean_absolute_error\n",
    "from utils import *\n",
    "import warnings\n",
    "\n",
    "# plt.style.use('dark_background')\n",
    "warnings.filterwarnings(\"ignore\")"
   ]
  },
  {
   "cell_type": "markdown",
   "metadata": {},
   "source": [
    "## Loading Data"
   ]
  },
  {
   "cell_type": "code",
   "execution_count": 12,
   "metadata": {},
   "outputs": [],
   "source": [
    "def universe_select(path, commodity_name):\n",
    "    \"\"\"Selects the instruments believed to be of\n",
    "    interest for the commodity selected\n",
    "    Returns: A dictionary of dataframes which are\n",
    "    intruments of interest\"\"\"\n",
    "    universe_dict = {}\n",
    "    \n",
    "    if commodity_name == \"Al\": \n",
    "        aluminium_list = [\"al_shfe\", \"al_lme\", \"al_comex_p\", \"al_comex_s\", \"al_lme_s\", \"yuan\",\n",
    "                 \"bdi\", \"ted\", \"vix\", \"skew\", \"gsci\"]\n",
    "        \n",
    "        for instrument in aluminium_list:\n",
    "            df = pd.read_csv(path + instrument + \".csv\", index_col='date', parse_dates=['date'], dayfirst=True).sort_index(ascending=True)\n",
    "            universe_dict[instrument] = df\n",
    "            \n",
    "    elif commodity_name == \"Cu\":\n",
    "        copper_list = [\"cu_shfe\", \"cu_lme\", \"cu_comex_p\", \"cu_comex_s\", \"peso\", \"sol\",\n",
    "                 \"bdi\", \"ted\", \"vix\", \"skew\", \"gsci\"]\n",
    "        \n",
    "        for instrument in copper_list:\n",
    "            df = pd.read_csv(path + instrument + \".csv\", index_col='date', parse_dates=['date'], dayfirst=True).sort_index(ascending=True)\n",
    "            universe_dict[instrument] = df\n",
    "    \n",
    "    else: print(\"Select an appropriate commodity\")\n",
    "    return universe_dict\n"
   ]
  },
  {
   "cell_type": "code",
   "execution_count": 13,
   "metadata": {},
   "outputs": [],
   "source": [
    "path = \"Data/\"\n",
    "universe_dict = universe_select(path, \"Cu\")"
   ]
  },
  {
   "cell_type": "markdown",
   "metadata": {
    "colab_type": "text",
    "id": "4k8FIHASpHfv"
   },
   "source": [
    "## Preprocessing"
   ]
  },
  {
   "cell_type": "code",
   "execution_count": 14,
   "metadata": {
    "colab": {},
    "colab_type": "code",
    "id": "ki2dJCGNkOVE",
    "scrolled": false
   },
   "outputs": [
    {
     "name": "stdout",
     "output_type": "stream",
     "text": [
      "Included Instrument:\n",
      "cu_shfe\n",
      "cu_lme\n",
      "cu_comex_p\n",
      "cu_comex_s\n",
      "peso\n",
      "sol\n",
      "bdi\n",
      "ted\n",
      "vix\n",
      "skew\n",
      "gsci\n"
     ]
    }
   ],
   "source": [
    "# Renaming the columns to price\n",
    "universe_dict = price_rename(universe_dict)\n",
    "# Cleaning the dataset of any erroneous datapoints\n",
    "universe_dict = clean_dict_gen(universe_dict)\n",
    "# Making sure that all the points in the window have consistent lenght\n",
    "universe_dict = truncate_window_length(universe_dict)\n",
    "# Generate the full training dataset\n",
    "df_full = generate_dataset(universe_dict, lg_returns_only=False)"
   ]
  },
  {
   "cell_type": "code",
   "execution_count": 17,
   "metadata": {
    "scrolled": true
   },
   "outputs": [
    {
     "data": {
      "text/html": [
       "<div>\n",
       "<style scoped>\n",
       "    .dataframe tbody tr th:only-of-type {\n",
       "        vertical-align: middle;\n",
       "    }\n",
       "\n",
       "    .dataframe tbody tr th {\n",
       "        vertical-align: top;\n",
       "    }\n",
       "\n",
       "    .dataframe thead th {\n",
       "        text-align: right;\n",
       "    }\n",
       "</style>\n",
       "<table border=\"1\" class=\"dataframe\">\n",
       "  <thead>\n",
       "    <tr style=\"text-align: right;\">\n",
       "      <th></th>\n",
       "      <th>price_cu_shfe</th>\n",
       "    </tr>\n",
       "    <tr>\n",
       "      <th>date</th>\n",
       "      <th></th>\n",
       "    </tr>\n",
       "  </thead>\n",
       "  <tbody>\n",
       "    <tr>\n",
       "      <th>2006-08-29</th>\n",
       "      <td>68160.0</td>\n",
       "    </tr>\n",
       "    <tr>\n",
       "      <th>2006-08-30</th>\n",
       "      <td>67650.0</td>\n",
       "    </tr>\n",
       "    <tr>\n",
       "      <th>2006-08-31</th>\n",
       "      <td>67630.0</td>\n",
       "    </tr>\n",
       "    <tr>\n",
       "      <th>2006-09-01</th>\n",
       "      <td>70140.0</td>\n",
       "    </tr>\n",
       "    <tr>\n",
       "      <th>2006-09-04</th>\n",
       "      <td>71240.0</td>\n",
       "    </tr>\n",
       "  </tbody>\n",
       "</table>\n",
       "</div>"
      ],
      "text/plain": [
       "            price_cu_shfe\n",
       "date                     \n",
       "2006-08-29        68160.0\n",
       "2006-08-30        67650.0\n",
       "2006-08-31        67630.0\n",
       "2006-09-01        70140.0\n",
       "2006-09-04        71240.0"
      ]
     },
     "execution_count": 17,
     "metadata": {},
     "output_type": "execute_result"
    }
   ],
   "source": [
    "# Visualise the plots\n",
    "# visualise_universe(universe_dict)\n",
    "\n",
    "# Choosing whether to focus on price of log returns\n",
    "df = df_full[[\"price_cu_shfe\"]]\n",
    "# df = df_full[\"lg_return_cu_lme\"]\n",
    "df.head()"
   ]
  },
  {
   "cell_type": "markdown",
   "metadata": {},
   "source": [
    "## Additive Model"
   ]
  },
  {
   "cell_type": "code",
   "execution_count": null,
   "metadata": {},
   "outputs": [],
   "source": [
    "def create_prophet_dataset(df):\n",
    "    \"\"\"Creates a dataframe that has data in the \n",
    "    format that works with facebooks additive \n",
    "    modelling software: fbprophet\"\"\"\n",
    "    d = {\"ds\":df.index, \"y\":df}\n",
    "    df = pd.DataFrame(data=d)\n",
    "    df.reset_index(inplace=True)\n",
    "    df = df.drop('date', 1)\n",
    "    return df\n",
    "\n",
    "\n",
    "def prophet_prediction(df, train_percentage=0.75):\n",
    "    \"\"\"Returns a dataframe of out of sample predictions\n",
    "    trained on a growing percentage of available training data\n",
    "    \"\"\"\n",
    "    # The prediction offset in business days\n",
    "    week_diff = 5\n",
    "    month_diff = 22\n",
    "    quarter_diff = 66\n",
    "\n",
    "    # The split index is the training percentage but adjusted so \n",
    "    # the first prediction date lands on the first date of the test set\n",
    "    split_index_train = int(train_percentage * len(df)) - quarter_diff\n",
    "    split_index_test = int(train_percentage * len(df))\n",
    "\n",
    "    # The date that the test database will begin on\n",
    "    split_date_test = df[\"ds\"].iloc[split_index_test]\n",
    "    \n",
    "    # Creating the test set - This will remain constant\n",
    "    # even though the training dataset will grow\n",
    "    # The window size will not be constant \n",
    "    df_test = df.loc[df[\"ds\"] >= split_date_test].copy()\n",
    "    # Making df columns for the predicted values\n",
    "    df_test[\"y_pred_week\"] = None\n",
    "    df_test[\"y_pred_month\"] = None\n",
    "    df_test[\"y_pred_quarter\"] = None\n",
    "    \n",
    "    for offset in range(1): #len(df_test.index)\n",
    "        print(\"Percentage Complete:\", 100* offset/len(df_test.index))\n",
    "        # Gradually increasing training dataset\n",
    "        split_date_train = df[\"ds\"].iloc[split_index_train + offset]\n",
    "        # Creating the training set\n",
    "        df_train = df.loc[df[\"ds\"] <= split_date_train].copy()\n",
    "\n",
    "        # Fitting the model\n",
    "        model = Prophet(daily_seasonality=True)\n",
    "        # Fit the data to the dataset\n",
    "        model.fit(df_train)\n",
    "        \n",
    "        # Make predictions\n",
    "        # Starting at the beginning of the test dataset there should be\n",
    "        # week prediction, month, prediction and quarter prediction\n",
    "        week_pred_date = df[df.index == [df_train.index[-1] + week_diff]]\n",
    "        month_pred_date = df[df.index == [df_train.index[-1] + month_diff]]\n",
    "        quarter_pred_date = df[df.index == [df_train.index[-1] + quarter_diff]]\n",
    "\n",
    "        week_pred = model.predict(week_pred_date)[[\"ds\", \"yhat\"]]\n",
    "        month_pred = model.predict(month_pred_date)[[\"ds\", \"yhat\"]]\n",
    "        quarter_pred_date = model.predict(quarter_pred_date)[[\"ds\", \"yhat\"]]\n",
    "        # Finding the location in df_test with the date that \n",
    "        # we want to fill and setting the predicted value equal to the prediction\n",
    "        df_test.loc[df_test['ds'] == week_pred.iloc[0][\"ds\"], 'y_pred_week'] = week_pred[\"yhat\"].values[0]\n",
    "        df_test.loc[df_test['ds'] == month_pred.iloc[0][\"ds\"], 'y_pred_month'] = month_pred[\"yhat\"].values[0]\n",
    "        df_test.loc[df_test['ds'] == quarter_pred_date.iloc[0][\"ds\"], 'y_pred_quarter'] = quarter_pred_date[\"yhat\"].values[0]\n",
    "        \n",
    "    # Renaming the columns\n",
    "    df_test.rename(columns={'y':\"y_true\"}, inplace=True)\n",
    "    return df_test"
   ]
  },
  {
   "cell_type": "code",
   "execution_count": null,
   "metadata": {},
   "outputs": [],
   "source": [
    "df = create_prophet_dataset(df_full[\"price_cu_lme\"])"
   ]
  },
  {
   "cell_type": "markdown",
   "metadata": {},
   "source": [
    "## Demonstration of how one training cycle works\n",
    "This was done on price instead of log returns because it is more easily visualised"
   ]
  },
  {
   "cell_type": "code",
   "execution_count": 47,
   "metadata": {
    "scrolled": true
   },
   "outputs": [],
   "source": [
    "# Create the dataframe in a format that works with prophet\n",
    "df = create_prophet_dataset(df_full[\"price_cu_lme\"])\n",
    "model = Prophet(daily_seasonality=True)\n",
    "# The percentage of the data used for training\n",
    "train_percentage = 0.6\n",
    "# Convert string to timestamp\n",
    "split_date = df[\"ds\"].iloc[int(train_percentage * len(df))]\n",
    "# Creating the training set\n",
    "df_train = df.loc[df[\"ds\"] <= split_date].copy()\n",
    "# Creating the test set\n",
    "df_test = df.loc[df[\"ds\"] > split_date].copy()"
   ]
  },
  {
   "cell_type": "code",
   "execution_count": 48,
   "metadata": {},
   "outputs": [],
   "source": [
    "model.fit(df_train)\n",
    "# Join the forecast on ds\n",
    "forecast = model.predict(df_test.reset_index()[[\"ds\"]])[[\"ds\", \"yhat\"]]"
   ]
  },
  {
   "cell_type": "code",
   "execution_count": 49,
   "metadata": {},
   "outputs": [],
   "source": [
    "df_test = pd.merge(df_test, forecast, on=\"ds\")"
   ]
  },
  {
   "cell_type": "code",
   "execution_count": 50,
   "metadata": {
    "scrolled": true
   },
   "outputs": [
    {
     "data": {
      "image/png": "[encoded data removed]",
      "text/plain": [
       "<Figure size 432x288 with 1 Axes>"
      ]
     },
     "metadata": {
      "needs_background": "light"
     },
     "output_type": "display_data"
    }
   ],
   "source": [
    "plt.plot(df_train[\"ds\"], df_train[\"y\"])\n",
    "plt.plot(df_test[\"ds\"], df_test[\"y\"], label=\"Original\")\n",
    "plt.plot(df_test[\"ds\"], df_test[\"yhat\"], label=\"Predicted\")\n",
    "plt.legend()\n",
    "plt.show()"
   ]
  },
  {
   "cell_type": "markdown",
   "metadata": {},
   "source": [
    "#### As can be seen. The model is initially quite accurate with the inaccuracy increasing over time\n",
    "As the predictions are made at 1 week, 1 month and 1 quarter it is hoped that the inaccuracy won't grow continuously "
   ]
  },
  {
   "cell_type": "code",
   "execution_count": 201,
   "metadata": {
    "scrolled": true
   },
   "outputs": [],
   "source": [
    "# model.plot_components(forecast)"
   ]
  },
  {
   "cell_type": "markdown",
   "metadata": {},
   "source": [
    "## Inverse Lg Returns Inverse Example"
   ]
  },
  {
   "cell_type": "code",
   "execution_count": 7,
   "metadata": {},
   "outputs": [],
   "source": [
    "lg_returns = df_full[\"lg_return_cu_shfe\"]\n",
    "starting_val = df[[\"price_cu_shfe\"]].iloc[0].values[0]\n",
    "\n",
    "inv_prices = inverse_log_returns(lg_returns, starting_val)"
   ]
  },
  {
   "cell_type": "code",
   "execution_count": 10,
   "metadata": {},
   "outputs": [
    {
     "data": {
      "image/png": "[encoded data removed]",
      "text/plain": [
       "<Figure size 432x288 with 1 Axes>"
      ]
     },
     "metadata": {
      "needs_background": "light"
     },
     "output_type": "display_data"
    }
   ],
   "source": [
    "plt.plot(df.index[1:], inv_prices[1:], label=\"Inverse\")\n",
    "plt.plot(df.index[1:], df[\"price_cu_shfe\"][1:], label=\"Original\")\n",
    "plt.legend()\n",
    "plt.grid()\n",
    "plt.show()"
   ]
  }
 ],
 "metadata": {
  "colab": {
   "collapsed_sections": [],
   "name": "Chai_Base.ipynb",
   "provenance": [],
   "version": "0.3.2"
  },
  "kernelspec": {
   "display_name": "Python 3",
   "language": "python",
   "name": "python3"
  },
  "language_info": {
   "codemirror_mode": {
    "name": "ipython",
    "version": 3
   },
   "file_extension": ".py",
   "mimetype": "text/x-python",
   "name": "python",
   "nbconvert_exporter": "python",
   "pygments_lexer": "ipython3",
   "version": "3.7.3"
  }
 },
 "nbformat": 4,
 "nbformat_minor": 1
}
