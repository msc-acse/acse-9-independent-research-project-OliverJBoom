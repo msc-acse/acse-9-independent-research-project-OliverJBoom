{
 "cells": [
  {
   "cell_type": "markdown",
   "metadata": {
    "colab_type": "text",
    "id": "67j8odKJJQL_"
   },
   "source": [
    "## Loading Packages"
   ]
  },
  {
   "cell_type": "code",
   "execution_count": 25,
   "metadata": {
    "colab": {},
    "colab_type": "code",
    "id": "qd88JeQfrEzc"
   },
   "outputs": [],
   "source": [
    "from fbprophet import Prophet\n",
    "import numpy as np\n",
    "import os\n",
    "from pmdarima.arima import auto_arima, ARIMA\n",
    "import pandas as pd\n",
    "import matplotlib.pyplot as plt\n",
    "from sklearn.model_selection import train_test_split\n",
    "# from sklearn.decomposition import PCA\n",
    "# from statsmodels.tsa.arima_model import ARIMA\n",
    "# from statsmodels.graphics.tsaplots import plot_acf, plot_pacf\n",
    "from statsmodels.tsa.stattools import adfuller\n",
    "from utils import *\n",
    "import warnings\n",
    "\n",
    "# plt.style.use('dark_background')\n",
    "warnings.filterwarnings(\"ignore\")"
   ]
  },
  {
   "cell_type": "markdown",
   "metadata": {},
   "source": [
    "## Loading Data"
   ]
  },
  {
   "cell_type": "code",
   "execution_count": 26,
   "metadata": {},
   "outputs": [],
   "source": [
    "def universe_select(path, commodity_name):\n",
    "    \"\"\"Selects the instruments believed to be of\n",
    "    interest for the commodity selected\n",
    "    Returns: A dictionary of dataframes which are\n",
    "    intruments of interest\"\"\"\n",
    "    universe_dict = {}\n",
    "    \n",
    "    if commodity_name == \"Al\": \n",
    "        aluminium_list = [\"al_shfe\", \"al_lme\", \"al_comex_p\", \"al_comex_s\", \"al_lme_s\", \"yuan\",\n",
    "                 \"bdi\", \"ted\", \"vix\", \"skew\", \"gsci\"]\n",
    "        \n",
    "        for instrument in aluminium_list:\n",
    "            df = pd.read_csv(path + instrument + \".csv\", index_col='date', parse_dates=['date'], dayfirst=True).sort_index(ascending=True)\n",
    "            universe_dict[instrument] = df\n",
    "            \n",
    "    elif commodity_name == \"Cu\":\n",
    "        copper_list = [\"cu_shfe\", \"cu_lme\", \"cu_comex_p\", \"cu_comex_s\", \"peso\", \"sol\",\n",
    "                 \"bdi\", \"ted\", \"vix\", \"skew\", \"gsci\"]\n",
    "        \n",
    "        for instrument in copper_list:\n",
    "            df = pd.read_csv(path + instrument + \".csv\", index_col='date', parse_dates=['date'], dayfirst=True).sort_index(ascending=True)\n",
    "            universe_dict[instrument] = df\n",
    "    \n",
    "    else: print(\"Select an appropriate commodity\")\n",
    "    return universe_dict\n"
   ]
  },
  {
   "cell_type": "code",
   "execution_count": 27,
   "metadata": {},
   "outputs": [],
   "source": [
    "path = \"Data/\"\n",
    "universe_dict = universe_select(path, \"Cu\")"
   ]
  },
  {
   "cell_type": "markdown",
   "metadata": {
    "colab_type": "text",
    "id": "4k8FIHASpHfv"
   },
   "source": [
    "## Preprocessing"
   ]
  },
  {
   "cell_type": "code",
   "execution_count": 28,
   "metadata": {
    "colab": {},
    "colab_type": "code",
    "id": "ki2dJCGNkOVE",
    "scrolled": false
   },
   "outputs": [
    {
     "name": "stdout",
     "output_type": "stream",
     "text": [
      "Included Instrument:\n",
      "cu_shfe\n",
      "cu_lme\n",
      "cu_comex_p\n",
      "cu_comex_s\n",
      "peso\n",
      "sol\n",
      "bdi\n",
      "ted\n",
      "vix\n",
      "skew\n",
      "gsci\n"
     ]
    }
   ],
   "source": [
    "# Renaming the columns to price\n",
    "universe_dict = price_rename(universe_dict)\n",
    "# Cleaning the dataset of any erroneous datapoints\n",
    "universe_dict = clean_dict_gen(universe_dict)\n",
    "# Making sure that all the points in the window have consistent lenght\n",
    "universe_dict = truncate_window_length(universe_dict)\n",
    "# Generate the full training dataset\n",
    "df_full = generate_dataset(universe_dict, lg_returns_only=False)"
   ]
  },
  {
   "cell_type": "code",
   "execution_count": 29,
   "metadata": {
    "scrolled": true
   },
   "outputs": [],
   "source": [
    "# Visualise the plots\n",
    "# visualise_universe(universe_dict)\n",
    "# df_full.head()\n",
    "df = df_full[[\"price_cu_shfe\"]]\n",
    "# df = df_full[[\"lg_return_cu_shfe\"]]\n",
    "# plt.plot(df.index, df)"
   ]
  },
  {
   "cell_type": "code",
   "execution_count": 7,
   "metadata": {},
   "outputs": [
    {
     "data": {
      "text/html": [
       "<div>\n",
       "<style scoped>\n",
       "    .dataframe tbody tr th:only-of-type {\n",
       "        vertical-align: middle;\n",
       "    }\n",
       "\n",
       "    .dataframe tbody tr th {\n",
       "        vertical-align: top;\n",
       "    }\n",
       "\n",
       "    .dataframe thead th {\n",
       "        text-align: right;\n",
       "    }\n",
       "</style>\n",
       "<table border=\"1\" class=\"dataframe\">\n",
       "  <thead>\n",
       "    <tr style=\"text-align: right;\">\n",
       "      <th></th>\n",
       "      <th>price_cu_shfe</th>\n",
       "    </tr>\n",
       "    <tr>\n",
       "      <th>date</th>\n",
       "      <th></th>\n",
       "    </tr>\n",
       "  </thead>\n",
       "  <tbody>\n",
       "    <tr>\n",
       "      <th>2006-08-29</th>\n",
       "      <td>68160.0</td>\n",
       "    </tr>\n",
       "    <tr>\n",
       "      <th>2006-08-30</th>\n",
       "      <td>67650.0</td>\n",
       "    </tr>\n",
       "    <tr>\n",
       "      <th>2006-08-31</th>\n",
       "      <td>67630.0</td>\n",
       "    </tr>\n",
       "    <tr>\n",
       "      <th>2006-09-01</th>\n",
       "      <td>70140.0</td>\n",
       "    </tr>\n",
       "    <tr>\n",
       "      <th>2006-09-04</th>\n",
       "      <td>71240.0</td>\n",
       "    </tr>\n",
       "  </tbody>\n",
       "</table>\n",
       "</div>"
      ],
      "text/plain": [
       "            price_cu_shfe\n",
       "date                     \n",
       "2006-08-29        68160.0\n",
       "2006-08-30        67650.0\n",
       "2006-08-31        67630.0\n",
       "2006-09-01        70140.0\n",
       "2006-09-04        71240.0"
      ]
     },
     "execution_count": 7,
     "metadata": {},
     "output_type": "execute_result"
    }
   ],
   "source": [
    "df.head()"
   ]
  },
  {
   "cell_type": "code",
   "execution_count": 9,
   "metadata": {},
   "outputs": [
    {
     "name": "stdout",
     "output_type": "stream",
     "text": [
      "p-value: 0.085\n",
      "P value is greater than threshold: Differencing required\n"
     ]
    }
   ],
   "source": [
    "test_statistic = adfuller(df.price_cu_shfe)\n",
    "print('p-value: %.3f' % test_statistic[1])\n",
    "if  test_statistic[1] > 0.05: print(\"P value is greater than threshold: Differencing required\")"
   ]
  },
  {
   "cell_type": "code",
   "execution_count": 10,
   "metadata": {},
   "outputs": [],
   "source": [
    "def stationarity_check(df, sig_val=0.05):\n",
    "  \"\"\"Check of stationarity using the augmented dickey fuller test\n",
    "  and find the differening ordered required for stationarity\"\"\"\n",
    "  adf_val = adfuller(df.dropna())\n",
    "  stationarity = False\n",
    "  d_val = 0\n",
    "\n",
    "  while stationarity == False:\n",
    "    \n",
    "    if adf_val[1] > sig_val:\n",
    "      print('Series is Non-Stationary \\t(p-value: %.3f)' % adf_val[1])\n",
    "      stationarity_check(df.diff(), sig_val)\n",
    "      d_val += 1\n",
    "      break\n",
    "      \n",
    "    else:\n",
    "      print('Series is Stationary \\t\\t(p-value: %.3f)' % adf_val[1])\n",
    "      stationarity = True\n",
    "  \n",
    "  return d_val\n",
    "\n",
    "# print(\"If p-value is less than, sig val: 0.05 then series is stationary\")\n",
    "# d_val = stationarity_check(df.lg_return_cu_shfe)"
   ]
  },
  {
   "cell_type": "code",
   "execution_count": 169,
   "metadata": {},
   "outputs": [],
   "source": [
    "# fig, axes = plt.subplots(3, 1, figsize=(16, 12))\n",
    "\n",
    "# axes[0].plot(df_terms.values)\n",
    "# plot_acf(df_terms, lags=20, ax=axes[1])\n",
    "# plot_pacf(df_terms, lags=20, ax=axes[2])\n",
    "\n",
    "# axes[0].set_title(\"Price with %i differencing\" %d_val) \n",
    "# axes[1].set_title(\"Autocorrelation\")\n",
    "# axes[2].set_title(\"Partial Correlation\")\n",
    "# plt.show()"
   ]
  },
  {
   "cell_type": "code",
   "execution_count": 17,
   "metadata": {},
   "outputs": [],
   "source": [
    "# The percentage of the data used for training\n",
    "train_percentage = 0.8\n",
    "# Convert string to timestamp\n",
    "split_date = df.index[int(train_percentage * len(df))]\n",
    "# Creating the training set\n",
    "df_train = df.loc[df.index <= split_date].copy()\n",
    "# Creating the test set\n",
    "df_test = df.loc[df.index > split_date].copy()"
   ]
  },
  {
   "cell_type": "code",
   "execution_count": 242,
   "metadata": {
    "scrolled": true
   },
   "outputs": [
    {
     "name": "stdout",
     "output_type": "stream",
     "text": [
      "Fit ARIMA: order=(2, 1, 2) seasonal_order=(0, 0, 0, 1); AIC=42752.440, BIC=42787.808, Fit time=3.453 seconds\n",
      "Fit ARIMA: order=(0, 1, 0) seasonal_order=(0, 0, 0, 1); AIC=42765.559, BIC=42777.349, Fit time=0.088 seconds\n",
      "Fit ARIMA: order=(1, 1, 0) seasonal_order=(0, 0, 0, 1); AIC=42757.713, BIC=42775.397, Fit time=0.255 seconds\n",
      "Fit ARIMA: order=(0, 1, 1) seasonal_order=(0, 0, 0, 1); AIC=42758.276, BIC=42775.960, Fit time=0.246 seconds\n",
      "Fit ARIMA: order=(1, 1, 2) seasonal_order=(0, 0, 0, 1); AIC=42752.289, BIC=42781.762, Fit time=0.841 seconds\n",
      "Fit ARIMA: order=(1, 1, 1) seasonal_order=(0, 0, 0, 1); AIC=42748.597, BIC=42772.176, Fit time=1.179 seconds\n",
      "Fit ARIMA: order=(2, 1, 1) seasonal_order=(0, 0, 0, 1); AIC=42750.590, BIC=42780.063, Fit time=1.701 seconds\n",
      "Total fit time: 7.771 seconds\n"
     ]
    }
   ],
   "source": [
    "model = auto_arima(df_train.values, trace=True, error_action='ignore', suppress_warnings=True, \n",
    "                   n_jobs=-1, stepwise=True)"
   ]
  },
  {
   "cell_type": "code",
   "execution_count": 238,
   "metadata": {},
   "outputs": [
    {
     "name": "stdout",
     "output_type": "stream",
     "text": [
      "Model selected: (1, 1, 1)\n"
     ]
    }
   ],
   "source": [
    "model.summary()\n",
    "print(\"Model selected:\", model.order)"
   ]
  },
  {
   "cell_type": "code",
   "execution_count": 243,
   "metadata": {},
   "outputs": [],
   "source": [
    "# Forecasting\n",
    "forecast = model.predict(n_periods=len(df_test))\n",
    "df_pred = pd.DataFrame(forecast, index = df_test.index,columns=['Prediction'])"
   ]
  },
  {
   "cell_type": "code",
   "execution_count": 24,
   "metadata": {},
   "outputs": [
    {
     "data": {
      "image/png": "[encoded data removed]",
      "text/plain": [
       "<Figure size 432x288 with 1 Axes>"
      ]
     },
     "metadata": {
      "needs_background": "light"
     },
     "output_type": "display_data"
    }
   ],
   "source": [
    "plt.plot(df_train.index, df_train.values, label=\"Training\")\n",
    "plt.plot(df_test.index, df_test.values, label=\"Original\")\n",
    "plt.plot(df_test.index, forecast, label=\"Predicted\")\n",
    "plt.legend()\n",
    "plt.show()"
   ]
  },
  {
   "cell_type": "code",
   "execution_count": 37,
   "metadata": {},
   "outputs": [
    {
     "name": "stdout",
     "output_type": "stream",
     "text": [
      "            price_cu_shfe\n",
      "date                     \n",
      "2006-08-29            NaN\n",
      "2006-08-30            NaN\n",
      "2006-08-31            NaN\n",
      "2006-09-01            NaN\n",
      "2006-09-04            NaN\n",
      "2006-09-05       0.050075\n",
      "2006-09-06       0.089583\n",
      "2006-09-07       0.101568\n",
      "2006-09-08       0.058021\n",
      "2006-09-11       0.007273\n",
      "            price_cu_shfe\n",
      "date                     \n",
      "2006-08-29        68160.0\n",
      "2006-08-30        67650.0\n",
      "2006-08-31        67630.0\n",
      "2006-09-01        70140.0\n",
      "2006-09-04        71240.0\n",
      "2006-09-05        71660.0\n",
      "2006-09-06        73990.0\n",
      "2006-09-07        74860.0\n",
      "2006-09-08        74330.0\n",
      "2006-09-11        71760.0\n",
      "            price_cu_shfe\n",
      "date                     \n",
      "2006-08-29       0.050075\n",
      "2006-08-30       0.089583\n",
      "2006-08-31       0.101568\n",
      "2006-09-01       0.058021\n",
      "2006-09-04       0.007273\n",
      "2006-09-05      -0.031614\n",
      "2006-09-06      -0.062028\n",
      "2006-09-07      -0.048022\n",
      "2006-09-08      -0.068628\n",
      "2006-09-11      -0.027264\n",
      "            price_cu_shfe_x  price_cu_shfe_y\n",
      "date                                        \n",
      "2006-08-29          68160.0         0.050075\n",
      "2006-08-30          67650.0         0.089583\n",
      "2006-08-31          67630.0         0.101568\n",
      "2006-09-01          70140.0         0.058021\n",
      "2006-09-04          71240.0         0.007273\n",
      "2006-09-05          71660.0        -0.031614\n",
      "2006-09-06          73990.0        -0.062028\n",
      "2006-09-07          74860.0        -0.048022\n",
      "2006-09-08          74330.0        -0.068628\n",
      "2006-09-11          71760.0        -0.027264\n"
     ]
    }
   ],
   "source": [
    "def log_returns(x, lag=1):\n",
    "    \"\"\"Calculate log returns between adjacent close prices\"\"\"\n",
    "    return np.log(x) - np.log(x.shift(lag))\n",
    "\n",
    "df = df_full[[\"price_cu_shfe\"]]\n",
    "df_returns = df.apply(log_returns, lag=5)\n",
    "y = df_returns.shift(-5)\n",
    "print(df_returns[:10])\n",
    "print(df[:10])\n",
    "print(y[:10])\n",
    "df = df.merge(y, how='right', on=None, left_index=True, right_index=True)\n",
    "print(df[:10])"
   ]
  },
  {
   "cell_type": "code",
   "execution_count": 264,
   "metadata": {
    "scrolled": true
   },
   "outputs": [
    {
     "data": {
      "text/plain": [
       "[<matplotlib.lines.Line2D at 0x1c2902e128>]"
      ]
     },
     "execution_count": 264,
     "metadata": {},
     "output_type": "execute_result"
    },
    {
     "data": {
      "image/png": "[encoded data removed]",
      "text/plain": [
       "<Figure size 432x288 with 1 Axes>"
      ]
     },
     "metadata": {
      "needs_background": "light"
     },
     "output_type": "display_data"
    }
   ],
   "source": [
    "plt.plot(df_returns.index, df_returns)\n",
    "plt.plot(df_full.index, df_full[[\"lg_return_cu_shfe\"]])"
   ]
  },
  {
   "cell_type": "code",
   "execution_count": 22,
   "metadata": {},
   "outputs": [],
   "source": [
    "arima = ARIMA(order=(1, 1, 1))\n",
    "arima.fit(df_train)\n",
    "forecast = arima.predict(len(df_test))"
   ]
  },
  {
   "cell_type": "code",
   "execution_count": null,
   "metadata": {},
   "outputs": [],
   "source": [
    "def prophet_prediction(df, train_percentage=0.75):\n",
    "    \"\"\"Returns a dataframe of out of sample predictions\n",
    "    trained on a growing percentage of available training data\n",
    "    \"\"\"\n",
    "    # The prediction offset in business days\n",
    "    week_diff = 5\n",
    "    month_diff = 22\n",
    "    quarter_diff = 66\n",
    "\n",
    "    # The split index is the training percentage but adjusted so \n",
    "    # the first prediction date lands on the first date of the test set\n",
    "    split_index_train = int(train_percentage * len(df)) - quarter_diff\n",
    "    split_index_test = int(train_percentage * len(df))\n",
    "\n",
    "    # The date that the test database will begin on\n",
    "    split_date_test = df[\"ds\"].iloc[split_index_test]\n",
    "    \n",
    "    # Creating the test set - This will remain constant\n",
    "    # even though the training dataset will grow\n",
    "    # The window size will not be constant \n",
    "    df_test = df.loc[df[\"ds\"] >= split_date_test].copy()\n",
    "    # Making df columns for the predicted values\n",
    "    df_test[\"y_pred_week\"] = None\n",
    "    df_test[\"y_pred_month\"] = None\n",
    "    df_test[\"y_pred_quarter\"] = None\n",
    "    \n",
    "    for offset in range(1): #len(df_test.index)\n",
    "        print(\"Percentage Complete:\", 100* offset/len(df_test.index))\n",
    "        # Gradually increasing training dataset\n",
    "        split_date_train = df[\"ds\"].iloc[split_index_train + offset]\n",
    "        # Creating the training set\n",
    "        df_train = df.loc[df[\"ds\"] <= split_date_train].copy()\n",
    "\n",
    "        # Fitting the model\n",
    "        model = Prophet(daily_seasonality=True)\n",
    "        # Fit the data to the dataset\n",
    "        model.fit(df_train)\n",
    "        \n",
    "        # Make predictions\n",
    "        # Starting at the beginning of the test dataset there should be\n",
    "        # week prediction, month, prediction and quarter prediction\n",
    "        week_pred_date = df[df.index == [df_train.index[-1] + week_diff]]\n",
    "        month_pred_date = df[df.index == [df_train.index[-1] + month_diff]]\n",
    "        quarter_pred_date = df[df.index == [df_train.index[-1] + quarter_diff]]\n",
    "\n",
    "        week_pred = model.predict(week_pred_date)[[\"ds\", \"yhat\"]]\n",
    "        month_pred = model.predict(month_pred_date)[[\"ds\", \"yhat\"]]\n",
    "        quarter_pred_date = model.predict(quarter_pred_date)[[\"ds\", \"yhat\"]]\n",
    "        # Finding the location in df_test with the date that \n",
    "        # we want to fill and setting the predicted value equal to the prediction\n",
    "        df_test.loc[df_test['ds'] == week_pred.iloc[0][\"ds\"], 'y_pred_week'] = week_pred[\"yhat\"].values[0]\n",
    "        df_test.loc[df_test['ds'] == month_pred.iloc[0][\"ds\"], 'y_pred_month'] = month_pred[\"yhat\"].values[0]\n",
    "        df_test.loc[df_test['ds'] == quarter_pred_date.iloc[0][\"ds\"], 'y_pred_quarter'] = quarter_pred_date[\"yhat\"].values[0]\n",
    "        \n",
    "    # Renaming the columns\n",
    "    df_test.rename(columns={'y':\"y_true\"}, inplace=True)\n",
    "    return df_test"
   ]
  }
 ],
 "metadata": {
  "colab": {
   "collapsed_sections": [],
   "name": "Chai_Base.ipynb",
   "provenance": [],
   "version": "0.3.2"
  },
  "kernelspec": {
   "display_name": "Python 3",
   "language": "python",
   "name": "python3"
  },
  "language_info": {
   "codemirror_mode": {
    "name": "ipython",
    "version": 3
   },
   "file_extension": ".py",
   "mimetype": "text/x-python",
   "name": "python",
   "nbconvert_exporter": "python",
   "pygments_lexer": "ipython3",
   "version": "3.7.3"
  }
 },
 "nbformat": 4,
 "nbformat_minor": 1
}
