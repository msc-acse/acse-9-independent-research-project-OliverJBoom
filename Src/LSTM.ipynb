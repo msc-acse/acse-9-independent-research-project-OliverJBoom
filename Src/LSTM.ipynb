{
 "cells": [
  {
   "cell_type": "markdown",
   "metadata": {
    "colab_type": "text",
    "id": "IyHSuKQHmbky"
   },
   "source": [
    "## For Colabs"
   ]
  },
  {
   "cell_type": "code",
   "execution_count": 1,
   "metadata": {
    "colab": {
     "base_uri": "https://localhost:8080/",
     "height": 136
    },
    "colab_type": "code",
    "id": "X8bAIFxumbk2",
    "outputId": "6435e10c-befc-4985-d7f3-a891c8b612f1"
   },
   "outputs": [
    {
     "name": "stdout",
     "output_type": "stream",
     "text": [
      "Cloning into 'acse-9-independent-research-project-OliverJBoom'...\n",
      "remote: Enumerating objects: 32, done.\u001b[K\n",
      "remote: Counting objects: 100% (32/32), done.\u001b[K\n",
      "remote: Compressing objects: 100% (29/29), done.\u001b[K\n",
      "remote: Total 478 (delta 18), reused 8 (delta 3), pack-reused 446\u001b[K\n",
      "Receiving objects: 100% (478/478), 6.45 MiB | 11.73 MiB/s, done.\n",
      "Resolving deltas: 100% (256/256), done.\n"
     ]
    }
   ],
   "source": [
    "from getpass import getpass\n",
    "import os\n",
    "\n",
    "user = \"OliverJBoom\"\n",
    "password = \"Ym100%otsydt\"\n",
    "# password = getpass('github password')\n",
    "os.environ['GITHUB_AUTH'] = user + ':' + password\n",
    "\n",
    "os.chdir(\"/content\")\n",
    "!rm -rf \"/content/acse-9-independent-research-project-OliverJBoom\"\n",
    "!git clone https://$GITHUB_AUTH@github.com/msc-acse/acse-9-independent-research-project-OliverJBoom.git\n",
    "os.chdir(\"acse-9-independent-research-project-OliverJBoom/Src\")"
   ]
  },
  {
   "cell_type": "code",
   "execution_count": 2,
   "metadata": {
    "colab": {
     "base_uri": "https://localhost:8080/",
     "height": 34
    },
    "colab_type": "code",
    "id": "oBx8zc83mbk4",
    "outputId": "f5a70a36-831e-45aa-a3bf-66f6c0e081f1"
   },
   "outputs": [
    {
     "name": "stdout",
     "output_type": "stream",
     "text": [
      "Mounted at /content/gdrive/\n"
     ]
    }
   ],
   "source": [
    "from google.colab import drive\n",
    "drive.mount(\"/content/gdrive/\", force_remount=True)\n",
    "path = \"/content/gdrive/My Drive/Chai/Data\""
   ]
  },
  {
   "cell_type": "markdown",
   "metadata": {
    "colab_type": "text",
    "id": "67j8odKJJQL_"
   },
   "source": [
    "## Loading Packages"
   ]
  },
  {
   "cell_type": "code",
   "execution_count": 1,
   "metadata": {
    "colab": {
     "base_uri": "https://localhost:8080/",
     "height": 88
    },
    "colab_type": "code",
    "id": "qd88JeQfrEzc",
    "outputId": "63ada305-a32d-4415-fb1d-40717f452f13",
    "scrolled": true
   },
   "outputs": [
    {
     "name": "stderr",
     "output_type": "stream",
     "text": [
      "/anaconda3/lib/python3.7/site-packages/torch/nn/_reduction.py:46: UserWarning: size_average and reduce args will be deprecated, please use reduction='sum' instead.\n",
      "  warnings.warn(warning.format(ret))\n"
     ]
    },
    {
     "data": {
      "text/plain": [
       "True"
      ]
     },
     "execution_count": 1,
     "metadata": {},
     "output_type": "execute_result"
    }
   ],
   "source": [
    "from deeplearning import *\n",
    "from models import *\n",
    "import numpy as np\n",
    "import os\n",
    "import pandas as pd\n",
    "import matplotlib.pyplot as plt\n",
    "from scipy.ndimage.interpolation import shift\n",
    "from sklearn.preprocessing import MinMaxScaler\n",
    "from sklearn.model_selection import train_test_split\n",
    "from sklearn.decomposition import PCA\n",
    "import pickle\n",
    "from preprocessing import *\n",
    "from statistics import median\n",
    "import time\n",
    "import torch\n",
    "import torch.nn as nn\n",
    "from torch.utils.data import TensorDataset, DataLoader\n",
    "from utils import *\n",
    "import warnings\n",
    "\n",
    "warnings.filterwarnings(\"ignore\")\n",
    "\n",
    "set_seed(42)"
   ]
  },
  {
   "cell_type": "markdown",
   "metadata": {
    "colab_type": "text",
    "id": "u0N6DJJ0mbk_"
   },
   "source": [
    "### Insuring that training is done on GPU if available"
   ]
  },
  {
   "cell_type": "code",
   "execution_count": 2,
   "metadata": {
    "colab": {
     "base_uri": "https://localhost:8080/",
     "height": 34
    },
    "colab_type": "code",
    "id": "2QpZ1E8emblA",
    "outputId": "82cc3a23-5111-42a0-9284-078e28fd6188"
   },
   "outputs": [
    {
     "name": "stdout",
     "output_type": "stream",
     "text": [
      "No GPU available!\n"
     ]
    }
   ],
   "source": [
    "device = 'cpu'\n",
    "if torch.cuda.device_count() > 0 and torch.cuda.is_available():\n",
    "    print(\"Cuda installed! Running on GPU!\")\n",
    "    device = 'cuda'\n",
    "else:\n",
    "    print(\"No GPU available!\")"
   ]
  },
  {
   "cell_type": "markdown",
   "metadata": {
    "colab_type": "text",
    "id": "Um9Dkbc5mblC"
   },
   "source": [
    "## Loading Data"
   ]
  },
  {
   "cell_type": "code",
   "execution_count": 3,
   "metadata": {
    "colab": {},
    "colab_type": "code",
    "id": "weVUDM7lmblD"
   },
   "outputs": [],
   "source": [
    "path = \"Data/Commodity_Data/\"\n",
    "universe_dict = universe_select(path, \"Cu\")\n",
    "use_lg_returns = False"
   ]
  },
  {
   "cell_type": "markdown",
   "metadata": {
    "colab_type": "text",
    "id": "4k8FIHASpHfv"
   },
   "source": [
    "## Preprocessing"
   ]
  },
  {
   "cell_type": "code",
   "execution_count": 4,
   "metadata": {
    "colab": {
     "base_uri": "https://localhost:8080/",
     "height": 221
    },
    "colab_type": "code",
    "id": "ki2dJCGNkOVE",
    "outputId": "30789f66-baec-4bc2-f3e7-dfdd494efdbd",
    "scrolled": true
   },
   "outputs": [
    {
     "name": "stdout",
     "output_type": "stream",
     "text": [
      "Included Instrument:\n",
      "cu_shfe\n",
      "cu_lme\n",
      "cu_comex_p\n",
      "cu_comex_s\n",
      "peso\n",
      "sol\n",
      "bdi\n",
      "ted\n",
      "vix\n",
      "skew\n",
      "gsci\n"
     ]
    }
   ],
   "source": [
    "# Renaming the columns to price\n",
    "universe_dict = price_rename(universe_dict)\n",
    "\n",
    "# Cleaning the dataset of any erroneous datapoints\n",
    "universe_dict = clean_dict_gen(universe_dict)\n",
    "\n",
    "# Making sure that all the points in the window have consistent length\n",
    "universe_dict = truncate_window_length(universe_dict)\n",
    "\n",
    "# Generating the dataset\n",
    "if use_lg_returns:\n",
    "    # Lg Returns Only\n",
    "    df_full = generate_dataset(universe_dict, lg_returns_only=True, price_only=False)\n",
    "    target_col = \"cu_lme\"\n",
    "\n",
    "# Price Only\n",
    "else:\n",
    "    df_full = generate_dataset(universe_dict, lg_returns_only=False, price_only=True)\n",
    "    target_col = \"price_cu_lme\"\n",
    "\n",
    "# Set to False initially\n",
    "PCA_used = False"
   ]
  },
  {
   "cell_type": "code",
   "execution_count": 5,
   "metadata": {
    "code_folding": [],
    "colab": {},
    "colab_type": "code",
    "id": "b7nd05YFmblM",
    "scrolled": true
   },
   "outputs": [],
   "source": [
    "# Visualise the plots\n",
    "# visualise_universe(universe_dict)"
   ]
  },
  {
   "cell_type": "code",
   "execution_count": 6,
   "metadata": {
    "colab": {
     "base_uri": "https://localhost:8080/",
     "height": 820
    },
    "colab_type": "code",
    "id": "7J6bOnusmblO",
    "outputId": "76f911f2-772b-4fac-fe9c-5eaac671197f",
    "scrolled": true
   },
   "outputs": [
    {
     "data": {
      "text/html": [
       "<div>\n",
       "<style scoped>\n",
       "    .dataframe tbody tr th:only-of-type {\n",
       "        vertical-align: middle;\n",
       "    }\n",
       "\n",
       "    .dataframe tbody tr th {\n",
       "        vertical-align: top;\n",
       "    }\n",
       "\n",
       "    .dataframe thead th {\n",
       "        text-align: right;\n",
       "    }\n",
       "</style>\n",
       "<table border=\"1\" class=\"dataframe\">\n",
       "  <thead>\n",
       "    <tr style=\"text-align: right;\">\n",
       "      <th></th>\n",
       "      <th>price_cu_shfe</th>\n",
       "      <th>price_cu_lme</th>\n",
       "      <th>price_cu_comex_p</th>\n",
       "      <th>price_cu_comex_s</th>\n",
       "      <th>price_peso</th>\n",
       "      <th>price_sol</th>\n",
       "      <th>price_bdi</th>\n",
       "      <th>price_ted</th>\n",
       "      <th>price_vix</th>\n",
       "      <th>price_skew</th>\n",
       "      <th>price_gsci</th>\n",
       "    </tr>\n",
       "    <tr>\n",
       "      <th>date</th>\n",
       "      <th></th>\n",
       "      <th></th>\n",
       "      <th></th>\n",
       "      <th></th>\n",
       "      <th></th>\n",
       "      <th></th>\n",
       "      <th></th>\n",
       "      <th></th>\n",
       "      <th></th>\n",
       "      <th></th>\n",
       "      <th></th>\n",
       "    </tr>\n",
       "  </thead>\n",
       "  <tbody>\n",
       "    <tr>\n",
       "      <th>2006-09-13</th>\n",
       "      <td>69540.0</td>\n",
       "      <td>7484.5</td>\n",
       "      <td>3.3925</td>\n",
       "      <td>15748.0</td>\n",
       "      <td>537.35</td>\n",
       "      <td>3.2530</td>\n",
       "      <td>4129.0</td>\n",
       "      <td>4.901</td>\n",
       "      <td>11.18</td>\n",
       "      <td>120.44</td>\n",
       "      <td>438.38855</td>\n",
       "    </tr>\n",
       "    <tr>\n",
       "      <th>2006-09-14</th>\n",
       "      <td>71350.0</td>\n",
       "      <td>7439.0</td>\n",
       "      <td>3.3820</td>\n",
       "      <td>14180.0</td>\n",
       "      <td>537.73</td>\n",
       "      <td>3.2475</td>\n",
       "      <td>4207.0</td>\n",
       "      <td>4.926</td>\n",
       "      <td>11.55</td>\n",
       "      <td>119.47</td>\n",
       "      <td>433.72522</td>\n",
       "    </tr>\n",
       "    <tr>\n",
       "      <th>2006-09-15</th>\n",
       "      <td>69400.0</td>\n",
       "      <td>7281.0</td>\n",
       "      <td>3.3165</td>\n",
       "      <td>14775.0</td>\n",
       "      <td>537.10</td>\n",
       "      <td>3.2480</td>\n",
       "      <td>4258.0</td>\n",
       "      <td>4.939</td>\n",
       "      <td>11.76</td>\n",
       "      <td>135.25</td>\n",
       "      <td>431.58291</td>\n",
       "    </tr>\n",
       "    <tr>\n",
       "      <th>2006-09-18</th>\n",
       "      <td>69830.0</td>\n",
       "      <td>7459.0</td>\n",
       "      <td>3.4180</td>\n",
       "      <td>15263.0</td>\n",
       "      <td>537.10</td>\n",
       "      <td>3.2450</td>\n",
       "      <td>4279.0</td>\n",
       "      <td>4.949</td>\n",
       "      <td>11.78</td>\n",
       "      <td>127.35</td>\n",
       "      <td>434.97293</td>\n",
       "    </tr>\n",
       "    <tr>\n",
       "      <th>2006-09-19</th>\n",
       "      <td>71470.0</td>\n",
       "      <td>7516.0</td>\n",
       "      <td>3.3755</td>\n",
       "      <td>17523.0</td>\n",
       "      <td>537.10</td>\n",
       "      <td>3.2450</td>\n",
       "      <td>4275.0</td>\n",
       "      <td>4.948</td>\n",
       "      <td>11.98</td>\n",
       "      <td>125.03</td>\n",
       "      <td>426.51240</td>\n",
       "    </tr>\n",
       "    <tr>\n",
       "      <th>2006-09-20</th>\n",
       "      <td>69610.0</td>\n",
       "      <td>7474.0</td>\n",
       "      <td>3.3700</td>\n",
       "      <td>18091.0</td>\n",
       "      <td>537.80</td>\n",
       "      <td>3.2450</td>\n",
       "      <td>4244.0</td>\n",
       "      <td>4.937</td>\n",
       "      <td>11.39</td>\n",
       "      <td>122.71</td>\n",
       "      <td>418.32234</td>\n",
       "    </tr>\n",
       "    <tr>\n",
       "      <th>2006-09-21</th>\n",
       "      <td>70170.0</td>\n",
       "      <td>7602.0</td>\n",
       "      <td>3.4220</td>\n",
       "      <td>19546.0</td>\n",
       "      <td>539.70</td>\n",
       "      <td>3.2480</td>\n",
       "      <td>4200.0</td>\n",
       "      <td>4.921</td>\n",
       "      <td>12.25</td>\n",
       "      <td>119.68</td>\n",
       "      <td>423.56908</td>\n",
       "    </tr>\n",
       "    <tr>\n",
       "      <th>2006-09-22</th>\n",
       "      <td>71170.0</td>\n",
       "      <td>7601.0</td>\n",
       "      <td>3.4395</td>\n",
       "      <td>20627.0</td>\n",
       "      <td>538.50</td>\n",
       "      <td>3.2470</td>\n",
       "      <td>4136.0</td>\n",
       "      <td>4.924</td>\n",
       "      <td>12.59</td>\n",
       "      <td>118.86</td>\n",
       "      <td>418.01647</td>\n",
       "    </tr>\n",
       "    <tr>\n",
       "      <th>2006-09-25</th>\n",
       "      <td>71130.0</td>\n",
       "      <td>7560.0</td>\n",
       "      <td>3.4475</td>\n",
       "      <td>20978.0</td>\n",
       "      <td>539.30</td>\n",
       "      <td>3.2490</td>\n",
       "      <td>4069.0</td>\n",
       "      <td>4.907</td>\n",
       "      <td>12.12</td>\n",
       "      <td>120.75</td>\n",
       "      <td>418.93144</td>\n",
       "    </tr>\n",
       "    <tr>\n",
       "      <th>2006-09-26</th>\n",
       "      <td>70890.0</td>\n",
       "      <td>7708.0</td>\n",
       "      <td>3.4635</td>\n",
       "      <td>21326.0</td>\n",
       "      <td>538.10</td>\n",
       "      <td>3.2490</td>\n",
       "      <td>3979.0</td>\n",
       "      <td>4.875</td>\n",
       "      <td>11.53</td>\n",
       "      <td>121.64</td>\n",
       "      <td>419.19717</td>\n",
       "    </tr>\n",
       "    <tr>\n",
       "      <th>2006-09-27</th>\n",
       "      <td>71020.0</td>\n",
       "      <td>7662.0</td>\n",
       "      <td>3.4755</td>\n",
       "      <td>20855.0</td>\n",
       "      <td>536.70</td>\n",
       "      <td>3.2520</td>\n",
       "      <td>3915.0</td>\n",
       "      <td>4.869</td>\n",
       "      <td>11.58</td>\n",
       "      <td>118.43</td>\n",
       "      <td>426.00390</td>\n",
       "    </tr>\n",
       "    <tr>\n",
       "      <th>2006-09-28</th>\n",
       "      <td>71170.0</td>\n",
       "      <td>7500.0</td>\n",
       "      <td>3.4140</td>\n",
       "      <td>20646.0</td>\n",
       "      <td>536.75</td>\n",
       "      <td>3.2530</td>\n",
       "      <td>3911.0</td>\n",
       "      <td>4.853</td>\n",
       "      <td>11.72</td>\n",
       "      <td>118.21</td>\n",
       "      <td>426.62993</td>\n",
       "    </tr>\n",
       "    <tr>\n",
       "      <th>2006-09-29</th>\n",
       "      <td>71030.0</td>\n",
       "      <td>7568.0</td>\n",
       "      <td>3.4590</td>\n",
       "      <td>20360.0</td>\n",
       "      <td>534.70</td>\n",
       "      <td>3.2500</td>\n",
       "      <td>3944.0</td>\n",
       "      <td>4.877</td>\n",
       "      <td>11.98</td>\n",
       "      <td>120.09</td>\n",
       "      <td>428.05329</td>\n",
       "    </tr>\n",
       "    <tr>\n",
       "      <th>2006-10-02</th>\n",
       "      <td>71030.0</td>\n",
       "      <td>7523.0</td>\n",
       "      <td>3.4305</td>\n",
       "      <td>20113.0</td>\n",
       "      <td>533.10</td>\n",
       "      <td>3.2460</td>\n",
       "      <td>3956.0</td>\n",
       "      <td>4.891</td>\n",
       "      <td>12.57</td>\n",
       "      <td>119.80</td>\n",
       "      <td>420.17342</td>\n",
       "    </tr>\n",
       "    <tr>\n",
       "      <th>2006-10-03</th>\n",
       "      <td>71030.0</td>\n",
       "      <td>7347.0</td>\n",
       "      <td>3.2865</td>\n",
       "      <td>20293.0</td>\n",
       "      <td>534.25</td>\n",
       "      <td>3.2460</td>\n",
       "      <td>3960.0</td>\n",
       "      <td>4.912</td>\n",
       "      <td>12.24</td>\n",
       "      <td>116.93</td>\n",
       "      <td>409.67885</td>\n",
       "    </tr>\n",
       "  </tbody>\n",
       "</table>\n",
       "</div>"
      ],
      "text/plain": [
       "            price_cu_shfe  price_cu_lme  price_cu_comex_p  price_cu_comex_s  \\\n",
       "date                                                                          \n",
       "2006-09-13        69540.0        7484.5            3.3925           15748.0   \n",
       "2006-09-14        71350.0        7439.0            3.3820           14180.0   \n",
       "2006-09-15        69400.0        7281.0            3.3165           14775.0   \n",
       "2006-09-18        69830.0        7459.0            3.4180           15263.0   \n",
       "2006-09-19        71470.0        7516.0            3.3755           17523.0   \n",
       "2006-09-20        69610.0        7474.0            3.3700           18091.0   \n",
       "2006-09-21        70170.0        7602.0            3.4220           19546.0   \n",
       "2006-09-22        71170.0        7601.0            3.4395           20627.0   \n",
       "2006-09-25        71130.0        7560.0            3.4475           20978.0   \n",
       "2006-09-26        70890.0        7708.0            3.4635           21326.0   \n",
       "2006-09-27        71020.0        7662.0            3.4755           20855.0   \n",
       "2006-09-28        71170.0        7500.0            3.4140           20646.0   \n",
       "2006-09-29        71030.0        7568.0            3.4590           20360.0   \n",
       "2006-10-02        71030.0        7523.0            3.4305           20113.0   \n",
       "2006-10-03        71030.0        7347.0            3.2865           20293.0   \n",
       "\n",
       "            price_peso  price_sol  price_bdi  price_ted  price_vix  \\\n",
       "date                                                                 \n",
       "2006-09-13      537.35     3.2530     4129.0      4.901      11.18   \n",
       "2006-09-14      537.73     3.2475     4207.0      4.926      11.55   \n",
       "2006-09-15      537.10     3.2480     4258.0      4.939      11.76   \n",
       "2006-09-18      537.10     3.2450     4279.0      4.949      11.78   \n",
       "2006-09-19      537.10     3.2450     4275.0      4.948      11.98   \n",
       "2006-09-20      537.80     3.2450     4244.0      4.937      11.39   \n",
       "2006-09-21      539.70     3.2480     4200.0      4.921      12.25   \n",
       "2006-09-22      538.50     3.2470     4136.0      4.924      12.59   \n",
       "2006-09-25      539.30     3.2490     4069.0      4.907      12.12   \n",
       "2006-09-26      538.10     3.2490     3979.0      4.875      11.53   \n",
       "2006-09-27      536.70     3.2520     3915.0      4.869      11.58   \n",
       "2006-09-28      536.75     3.2530     3911.0      4.853      11.72   \n",
       "2006-09-29      534.70     3.2500     3944.0      4.877      11.98   \n",
       "2006-10-02      533.10     3.2460     3956.0      4.891      12.57   \n",
       "2006-10-03      534.25     3.2460     3960.0      4.912      12.24   \n",
       "\n",
       "            price_skew  price_gsci  \n",
       "date                                \n",
       "2006-09-13      120.44   438.38855  \n",
       "2006-09-14      119.47   433.72522  \n",
       "2006-09-15      135.25   431.58291  \n",
       "2006-09-18      127.35   434.97293  \n",
       "2006-09-19      125.03   426.51240  \n",
       "2006-09-20      122.71   418.32234  \n",
       "2006-09-21      119.68   423.56908  \n",
       "2006-09-22      118.86   418.01647  \n",
       "2006-09-25      120.75   418.93144  \n",
       "2006-09-26      121.64   419.19717  \n",
       "2006-09-27      118.43   426.00390  \n",
       "2006-09-28      118.21   426.62993  \n",
       "2006-09-29      120.09   428.05329  \n",
       "2006-10-02      119.80   420.17342  \n",
       "2006-10-03      116.93   409.67885  "
      ]
     },
     "execution_count": 6,
     "metadata": {},
     "output_type": "execute_result"
    }
   ],
   "source": [
    "df_full.head(15)\n",
    "# df_full.tail(5)"
   ]
  },
  {
   "cell_type": "markdown",
   "metadata": {
    "colab_type": "text",
    "id": "x65OxxWrqv4Q"
   },
   "source": [
    "### Normalizing the dataset"
   ]
  },
  {
   "cell_type": "code",
   "execution_count": 7,
   "metadata": {
    "colab": {},
    "colab_type": "code",
    "id": "yak6wTGtXgcA"
   },
   "outputs": [],
   "source": [
    "# Forecast length\n",
    "forecast_length = 5\n",
    "\n",
    "# Data scaling\n",
    "scaler_data_X = MinMaxScaler()\n",
    "scaler_data_y = MinMaxScaler()\n",
    "\n",
    "df_target = df_full[[target_col]]\n",
    "\n",
    "data_X = scaler_data_X.fit_transform(df_full)[:-forecast_length, :]\n",
    "# Need to have an independent scaler for inverse_transforming later\n",
    "data_y = scaler_data_y.fit_transform(df_target)\n",
    "\n",
    "# Offset target one forecast length\n",
    "data_y = shift(data_y.ravel(), -forecast_length)[:-forecast_length]\n",
    "# Check shape assert(data_X.shape[:, 0]== data_y.shape[0])"
   ]
  },
  {
   "cell_type": "markdown",
   "metadata": {
    "colab_type": "text",
    "id": "vtwh3CX8mbla"
   },
   "source": [
    "### PCA"
   ]
  },
  {
   "cell_type": "code",
   "execution_count": 8,
   "metadata": {
    "code_folding": [],
    "colab": {
     "base_uri": "https://localhost:8080/",
     "height": 68
    },
    "colab_type": "code",
    "id": "Tt6qMuNjmblb",
    "outputId": "b497b389-feab-44e7-dee6-0078cc03be5c",
    "scrolled": false
   },
   "outputs": [
    {
     "name": "stdout",
     "output_type": "stream",
     "text": [
      "Number of dimensions: 6\n",
      "Explained Variance: [0.49030338 0.23270694 0.1439148  0.04789975 0.02769706 0.0219951 ] \n",
      "Explained Variance Sum: 0.9645170286882983\n"
     ]
    }
   ],
   "source": [
    "# Reducing the dataset to containing a threshold amount of variance\n",
    "n_dim = dimension_selector(data_X, thresh=0.95)\n",
    "data_X = dimension_reduce(data_X, n_dim)\n",
    "\n",
    "PCA_used = True"
   ]
  },
  {
   "cell_type": "markdown",
   "metadata": {
    "colab_type": "text",
    "id": "zgonSBo4mble"
   },
   "source": [
    "### Slicing Series into Windows"
   ]
  },
  {
   "cell_type": "code",
   "execution_count": 9,
   "metadata": {
    "colab": {},
    "colab_type": "code",
    "id": "RFPTNYZpmblf"
   },
   "outputs": [],
   "source": [
    "# The input size of each time series window\n",
    "series_length = 250\n",
    "  \n",
    "data_X, data_y = slice_series(data_X, data_y, series_length)"
   ]
  },
  {
   "cell_type": "markdown",
   "metadata": {
    "colab_type": "text",
    "id": "tCqE2uNJmblo"
   },
   "source": [
    "### Class for LSTM deep learning"
   ]
  },
  {
   "cell_type": "code",
   "execution_count": 0,
   "metadata": {
    "code_folding": [],
    "colab": {},
    "colab_type": "code",
    "id": "ZFilw9c5mblq"
   },
   "outputs": [],
   "source": [
    "# class DeepLearning():\n",
    "#     \"\"\"Class to perform training and validation for a given model\n",
    "#     :param\n",
    "#     model: nn.Module the model to be trained\n",
    "#     df_X\n",
    "#     df_y\n",
    "#     n_epochs,\n",
    "#     optimiser, \n",
    "#     window_size,\n",
    "#     loss_function\n",
    "#     device\n",
    "#     seed=42\n",
    "#     debug\n",
    "#     \"\"\"\n",
    "#     def __init__(self, model, data_X, data_y,\n",
    "#                  n_epochs,\n",
    "#                  optimiser, \n",
    "#                  window_size,\n",
    "#                  loss_function=torch.nn.MSELoss(size_average=False),\n",
    "#                  device=\"cpu\", \n",
    "#                  seed=42,\n",
    "#                  debug = True, \n",
    "#                  disp_freq=20,\n",
    "#                  fig_disp_freq=50, \n",
    "#                  early_stop=True,\n",
    "#                  patience=50,\n",
    "#                  tol=0):\n",
    "        \n",
    "        \n",
    "#         # The neural network architecture\n",
    "#         self.model = model\n",
    "        \n",
    "#         # The optimiser for gradient descent\n",
    "#         self.optimiser = optimiser\n",
    "        \n",
    "#         # Dataframe of training values\n",
    "#         self.data_X = data_X\n",
    "        \n",
    "#         # Dataframe of target values\n",
    "#         self.data_y = data_y\n",
    "        \n",
    "#         # The number of epochs\n",
    "#         self.n_epochs = n_epochs\n",
    "        \n",
    "#         #self.optimiser = optimiser\n",
    "#         self.loss_function = loss_function\n",
    "        \n",
    "#         # Whether to run on cpu or gpu\n",
    "#         self.device = device\n",
    "        \n",
    "#         # The random seed to set\n",
    "#         self.seed = seed\n",
    "        \n",
    "#         # To activate debug mode\n",
    "#         self.debug = debug\n",
    "        \n",
    "#         # For training/val logs\n",
    "#         self.logs = {}\n",
    "        \n",
    "#         # The array of predicted lists for each batch for training\n",
    "#         self.train_predictions = None\n",
    "        \n",
    "#         # The array of predicted lists for each batch for validation\n",
    "#         self.val_predictions = None\n",
    "        \n",
    "#         # The array of predicted lists for each batch for validation\n",
    "#         self.test_predictions = None\n",
    "        \n",
    "#         # The data\n",
    "#         self.X_train = None\n",
    "#         self.X_val = None\n",
    "#         self.X_test = None\n",
    "        \n",
    "#         # The targets\n",
    "#         self.y_train = None\n",
    "#         self.y_val = None\n",
    "#         self.y_test = None\n",
    "        \n",
    "#         # Val data loader\n",
    "#         self.val_loader = None\n",
    "        \n",
    "#         # Test data loader\n",
    "#         self.test_loader = None\n",
    "        \n",
    "#         # The length of the time series window\n",
    "#         self.window_size = window_size\n",
    "        \n",
    "#         # How frequently the loss is printed\n",
    "#         self.disp_freq = disp_freq\n",
    "        \n",
    "#         # How frequently a figure is plotted\n",
    "#         self.fig_disp_freq = fig_disp_freq\n",
    "        \n",
    "#         # Storing the best model\n",
    "#         self.best_model = self.model\n",
    "        \n",
    "#         # Dummy variable for inspecting quantities\n",
    "#         self.inspect = None\n",
    "        \n",
    "#         # For running dataloaders on CUDA\n",
    "#         self.pin_memory = False\n",
    "        \n",
    "#         self.early_stop = early_stop\n",
    "        \n",
    "#         if self.early_stop: \n",
    "#           self.early = early_stopping(patience=patience, rel_tol=tol)\n",
    "        \n",
    "        \n",
    "#     def train_val_test(self):\n",
    "#         \"\"\"Splits the dataframes in to a training, validation\n",
    "#         and test set and creates torch tensors from the underlying\n",
    "#         numpy arrays\"\"\"\n",
    "#         # Splitting the sets into train, test and validation\n",
    "#         self.X_train, self.X_test, self.y_train, self.y_test = train_test_split(self.data_X, self.data_y, test_size=0.2, shuffle=False)\n",
    "        \n",
    "#         self.X_train, self.X_val, self.y_train, self.y_val = train_test_split(self.X_train, self.y_train, test_size=0.25, shuffle=False)\n",
    "\n",
    "#         if self.debug:\n",
    "#             print(\"Train Length: \\t\\t%i\\nValidation Length: \\t%i\\nTest Length:\\t\\t%i\" \n",
    "#                   % (len(X_train), len(X_val), len(X_test)))\n",
    "        \n",
    "#         # Tensor of training data\n",
    "#         self.X_train = torch.from_numpy(self.X_train).float()\n",
    "#         self.y_train = torch.from_numpy(self.y_train).float()\n",
    "\n",
    "#         # Tensor of training labels\n",
    "#         self.X_val = torch.from_numpy(self.X_val).float()\n",
    "#         self.y_val = torch.from_numpy(self.y_val).float()\n",
    "\n",
    "#         #  Tensor of test data\n",
    "#         self.X_test = torch.from_numpy(self.X_test).float()\n",
    "#         self.y_test = torch.from_numpy(self.y_test).float()\n",
    "\n",
    "#         # Size Check\n",
    "#         if self.debug:\n",
    "#             print(\"\\nInitial Size Check:\")\n",
    "#             self.size_check()\n",
    "    \n",
    "    \n",
    "#     def size_check(self):\n",
    "#         \"\"\"Checks the size of the datasets\"\"\"\n",
    "#         if self.debug:\n",
    "#             print(\"\\nX Train Shape:\\t\\t\", self.X_train.size())\n",
    "#             print(\"X Val Shape:\\t\\t\", self.X_val.size())\n",
    "#             print(\"X Test Shape:\\t\\t\", self.X_test.size())\n",
    "\n",
    "#             print(\"\\ny Train Shape:\\t\\t\", self.y_train.size())\n",
    "#             print(\"y Val Shape:\\t\\t\", self.y_val.size())\n",
    "#             print(\"y Test Shape:\\t\\t\", self.y_test.size())\n",
    "\n",
    "        \n",
    "    \n",
    "#     def create_data_loaders(self):\n",
    "#         \"\"\"Forms iterators to pipeline in the data\"\"\"\n",
    "            \n",
    "#         # Create tensor datasets\n",
    "#         train_dataset = TensorDataset(self.X_train, self.y_train)\n",
    "#         val_dataset = TensorDataset(self.X_val, self.y_val)\n",
    "#         test_dataset = TensorDataset(self.X_test, self.y_test)\n",
    "        \n",
    "#         if self.device =='cuda': self.pin_memory=True\n",
    "          \n",
    "#         # Data loaders\n",
    "#         self.train_loader = DataLoader(dataset=train_dataset, batch_size=batch_size, shuffle=False, num_workers=8,  pin_memory=self.pin_memory)\n",
    "#         self.val_loader = DataLoader(dataset=val_dataset, batch_size=batch_size, shuffle=False, num_workers=8,  pin_memory=self.pin_memory)\n",
    "#         self.test_loader = DataLoader(dataset=test_dataset, batch_size=batch_size, shuffle=False, num_workers=8,  pin_memory=self.pin_memory)\n",
    "    \n",
    "    \n",
    "#     def train(self, train_loader):\n",
    "#         \"\"\"Performs a single training cycle and returns the\n",
    "#         mean squared error loss for the training dataset\"\"\"\n",
    "#         # Sets the model to train mode\n",
    "#         self.model.train()\n",
    "        \n",
    "#         train_loss = 0.\n",
    "        \n",
    "#         # List of each batch predictions\n",
    "#         pred_list = []\n",
    "        \n",
    "#         # The data loader creates batches of data to train\n",
    "#         for i_batch, (X_train_batch, y_train_batch) in enumerate(train_loader):\n",
    "            \n",
    "#             #print('Batch : ', i_batch)\n",
    "            \n",
    "#             # Sending the data to GPU if available\n",
    "#             X_train_batch = X_train_batch.to(self.device)\n",
    "#             y_train_batch = y_train_batch.to(self.device)\n",
    "            \n",
    "#             # Zeros the gradients\n",
    "#             self.optimiser.zero_grad()\n",
    "\n",
    "#             # Need to set seed here to make deterministic\n",
    "#             set_seed(42)\n",
    "        \n",
    "#             # Perform forward pass\n",
    "#             y_pred = self.model(X_train_batch)\n",
    "            \n",
    "#             # Calculate loss for the batch\n",
    "#             loss = self.loss_function(y_pred, y_train_batch)   \n",
    "\n",
    "#             # Perform backward pass\n",
    "#             loss.backward()   \n",
    "\n",
    "#             # Adding the predictions for this batch to prediction list\n",
    "#             pred_list.append(y_pred)\n",
    "            \n",
    "#             # Calculate the training loss\n",
    "#             train_loss += (loss * X_train_batch.size()[0]).detach().cpu().numpy()\n",
    "\n",
    "#             # Update Parameters\n",
    "#             self.optimiser.step()               \n",
    "        \n",
    "#         # Converting an array of batches of predictions to a list of predictions\n",
    "#         self.train_predictions = [single_pred for batch in pred_list for single_pred in batch.detach().cpu().numpy()]\n",
    "        \n",
    "#         return train_loss/len(train_loader.dataset.tensors[0])\n",
    "    \n",
    "    \n",
    "#     def validate(self, val_loader):\n",
    "#         \"\"\"Evaluates the performance of the network\n",
    "#         on unseen validation data\"\"\"\n",
    "#         # Set the model to evaluate mode\n",
    "#         self.model.eval()\n",
    "        \n",
    "#         val_loss = 0.\n",
    "        \n",
    "#         # List of each batch predictions\n",
    "#         val_pred_list = []\n",
    "        \n",
    "#         # The data loader creates batches of data to validate\n",
    "#         for X_val_batch, y_val_batch in val_loader:\n",
    "            \n",
    "#             # Ensures that the gradients are not updated\n",
    "#             with torch.no_grad():\n",
    "                \n",
    "#                 # Sending the data to GPU if available\n",
    "#                 X_val_batch = X_val_batch.to(self.device)\n",
    "#                 y_val_batch = y_val_batch.to(self.device)\n",
    "\n",
    "#                 # Perform forward pass\n",
    "#                 y_pred = self.model(X_val_batch)\n",
    "\n",
    "#                 # Calculate loss for the batch\n",
    "#                 loss = self.loss_function(y_pred, y_val_batch) \n",
    "                \n",
    "#                 # Adding the predictions for this batch to prediction list\n",
    "#                 val_pred_list.append(y_pred)\n",
    "                \n",
    "#                 # Calculate the validation loss\n",
    "#                 val_loss += (loss * X_val_batch.size()[0]).detach().cpu().numpy()\n",
    "        \n",
    "#         # Converting an array of batches of predictions to a list of predictions\n",
    "#         self.val_predictions = [single_pred for batch in val_pred_list for single_pred in batch.detach().cpu().numpy()]\n",
    "        \n",
    "#         return val_loss/len(val_loader.dataset.tensors[0])\n",
    "    \n",
    "    \n",
    "#     def evaluate(self, model, test_loader):\n",
    "#         \"\"\"Evaluates the performance of the network on unseen test data\"\"\"\n",
    "#         # Set the model to evaluate mode\n",
    "#         model.eval()\n",
    "\n",
    "#         test_loss = 0.\n",
    "\n",
    "#         # List of each batch predictions\n",
    "#         test_pred_list = []\n",
    "\n",
    "#         # The data loader creates batches of data to validate\n",
    "#         for X_test_batch, y_test_batch in test_loader:\n",
    "\n",
    "#             # Ensures that the gradients are not updated\n",
    "#             with torch.no_grad():\n",
    "\n",
    "#                 # Sending the data to GPU if available\n",
    "#                 X_test_batch = X_test_batch.to(self.device)\n",
    "#                 y_test_batch = y_test_batch.to(self.device)\n",
    "\n",
    "#                 # Perform forward pass\n",
    "#                 y_pred = model(X_test_batch)\n",
    "\n",
    "#                 # Calculate loss for the batch\n",
    "#                 loss = self.loss_function(y_pred, y_test_batch) \n",
    "\n",
    "#                 # Adding the predictions for this batch to prediction list\n",
    "#                 test_pred_list.append(y_pred)\n",
    "\n",
    "#                 # Calculate the validation loss\n",
    "#                 test_loss += (loss * X_test_batch.size()[0]).detach().cpu().numpy()\n",
    "\n",
    "#         # Converting an array of batches of predictions to a list of predictions\n",
    "#         self.test_predictions = [single_pred for batch in test_pred_list for single_pred in batch.detach().cpu().numpy()]\n",
    "\n",
    "#         return test_loss/len(test_loader.dataset.tensors[0])\n",
    "      \n",
    "    \n",
    "#     def live_pred_plot(self):\n",
    "#         fig, ax = plt.subplots(1, 3, figsize= (20, 5))\n",
    "  \n",
    "#         ax[0].plot(self.train_predictions, label=\"Predicted\")\n",
    "#         ax[0].plot(self.y_train.numpy(), label=\"Observed\")\n",
    "#         ax[0].legend()\n",
    "        \n",
    "#         ax[1].plot(self.val_predictions, label=\"Val Predicted\")\n",
    "#         ax[1].plot(self.y_val.numpy(), label=\"Val Observed\")\n",
    "#         ax[1].legend()\n",
    "        \n",
    "#         ax[2].set_title(\"Loss Plots\")\n",
    "#         ax[2].plot(self.logs['Training Loss'], label=\"Training Loss\")\n",
    "#         ax[2].plot(self.logs['Validation Loss'], label=\"Validation Loss\")\n",
    "#         ax[2].legend()\n",
    "#         ax[2].set_ylim((0, median(self.logs['Validation Loss'])))\n",
    "        \n",
    "#         plt.show()\n",
    "    \n",
    "#     def training_wrapper(self):\n",
    "        \n",
    "#         # start timer\n",
    "#         start_time = time.time()\n",
    "\n",
    "#         # set seed\n",
    "#         set_seed(int(self.seed))\n",
    "        \n",
    "#         # Create data loaders\n",
    "#         learning.create_data_loaders()\n",
    "        \n",
    "#         train_log = []\n",
    "#         val_log = []\n",
    "        \n",
    "#         # The best validation score tracker\n",
    "#         self.best_val_score = np.inf\n",
    "        \n",
    "#         # Begin training\n",
    "#         for epoch in range(self.n_epochs):\n",
    "            \n",
    "#             live_logs = {}\n",
    "            \n",
    "#             train_loss = self.train(self.train_loader) \n",
    "#             val_loss = self.validate(self.val_loader) \n",
    "            \n",
    "#             # Saving the best model\n",
    "#             if val_loss <= self.best_val_score:\n",
    "#                 self.best_model = self.model\n",
    "#                 self.best_val_score = val_loss.item()\n",
    "            \n",
    "#             train_log.append(train_loss.item())\n",
    "#             val_log.append(val_loss.item())\n",
    "#             self.logs[\"Training Loss\"] = train_log\n",
    "#             self.logs[\"Validation Loss\"] = val_log\n",
    "#             self.logs[\"Time\"] = time.time() - start_time\n",
    "            \n",
    "#             # Checking stopping criteria\n",
    "#             if self.early_stop: \n",
    "#                 self.early(val_loss.item())\n",
    "#                 if self.early.stop:\n",
    "#                     print(\"Early Stopping\")\n",
    "#                     break\n",
    "                  \n",
    "#             if (epoch % self.disp_freq == 0): \n",
    "#                 print(\"Epoch: %i Train MSE: %.5f Val MSE: %.5f  Time: %.3f\" % (epoch, train_loss.item(),\n",
    "#                                                           val_loss.item(), (time.time() - start_time)))\n",
    "                \n",
    "#             if (epoch % self.fig_disp_freq == 0):\n",
    "#                 self.live_pred_plot()"
   ]
  },
  {
   "cell_type": "code",
   "execution_count": 10,
   "metadata": {
    "colab": {},
    "colab_type": "code",
    "id": "idV1vlA3vE5m"
   },
   "outputs": [],
   "source": [
    "class DeepLearning():\n",
    "    \"\"\"Class to perform training and validation for a given model\n",
    "    :param\n",
    "    model: nn.Module the model to be trained\n",
    "    df_X\n",
    "    df_y\n",
    "    n_epochs,\n",
    "    optimiser, \n",
    "    window_size,\n",
    "    loss_function\n",
    "    device\n",
    "    seed=42\n",
    "    debug\n",
    "    \"\"\"\n",
    "    def __init__(self, model, data_X, data_y,\n",
    "                 n_epochs,\n",
    "                 optimiser, \n",
    "                 window_size,\n",
    "                 loss_function=torch.nn.MSELoss(size_average=False),\n",
    "                 device=\"cpu\", \n",
    "                 seed=42,\n",
    "                 debug = True, \n",
    "                 disp_freq=20,\n",
    "                 fig_disp_freq=50, \n",
    "                 early_stop=True,\n",
    "                 patience=50,\n",
    "                 tol=0):\n",
    "        \n",
    "        \n",
    "        # The neural network architecture\n",
    "        self.model = model\n",
    "        \n",
    "        # The optimiser for gradient descent\n",
    "        self.optimiser = optimiser\n",
    "        \n",
    "        # Dataframe of training values\n",
    "        self.data_X = data_X\n",
    "        \n",
    "        # Dataframe of target values\n",
    "        self.data_y = data_y\n",
    "        \n",
    "        # The number of epochs\n",
    "        self.n_epochs = n_epochs\n",
    "        \n",
    "        #self.optimiser = optimiser\n",
    "        self.loss_function = loss_function\n",
    "        \n",
    "        # Whether to run on cpu or gpu\n",
    "        self.device = device\n",
    "        \n",
    "        # The random seed to set\n",
    "        self.seed = seed\n",
    "        \n",
    "        # To activate debug mode\n",
    "        self.debug = debug\n",
    "        \n",
    "        # For training/val logs\n",
    "        self.logs = {}\n",
    "        \n",
    "        # The array of predicted lists for each batch for training\n",
    "        self.train_predictions = None\n",
    "        \n",
    "        # The array of predicted lists for each batch for validation\n",
    "        self.val_predictions = None\n",
    "        \n",
    "        # The array of predicted lists for each batch for validation\n",
    "        self.test_predictions = None\n",
    "        \n",
    "        # The data\n",
    "        self.X_train = None\n",
    "        self.X_val = None\n",
    "        self.X_test = None\n",
    "        \n",
    "        # The targets\n",
    "        self.y_train = None\n",
    "        self.y_val = None\n",
    "        self.y_test = None\n",
    "        \n",
    "        # Val data loader\n",
    "        self.val_loader = None\n",
    "        \n",
    "        # Test data loader\n",
    "        self.test_loader = None\n",
    "        \n",
    "        # The length of the time series window\n",
    "        self.window_size = window_size\n",
    "        \n",
    "        # How frequently the loss is printed\n",
    "        self.disp_freq = disp_freq\n",
    "        \n",
    "        # How frequently a figure is plotted\n",
    "        self.fig_disp_freq = fig_disp_freq\n",
    "        \n",
    "        # Storing the best model\n",
    "        self.best_model = self.model\n",
    "        \n",
    "        # Dummy variable for inspecting quantities\n",
    "        self.inspect = None\n",
    "        \n",
    "        # For running dataloaders on CUDA\n",
    "        self.pin_memory = False\n",
    "        \n",
    "        self.early_stop = early_stop\n",
    "        \n",
    "        if self.early_stop: \n",
    "            self.early = early_stopping(patience=patience, rel_tol=tol)\n",
    "        \n",
    "        \n",
    "    def train_val_test(self):\n",
    "        \"\"\"Splits the dataframes in to a training, validation\n",
    "        and test set and creates torch tensors from the underlying\n",
    "        numpy arrays\"\"\"\n",
    "        # Splitting the sets into train, test and validation\n",
    "        self.X_train, self.X_test, self.y_train, self.y_test = train_test_split(self.data_X, self.data_y, test_size=0.2, shuffle=False)\n",
    "        \n",
    "        self.X_train, self.X_val, self.y_train, self.y_val = train_test_split(self.X_train, self.y_train, test_size=0.25, shuffle=False)\n",
    "\n",
    "        if self.debug:\n",
    "            print(\"Train Length: \\t\\t%i\\nValidation Length: \\t%i\\nTest Length:\\t\\t%i\" \n",
    "                  % (len(X_train), len(X_val), len(X_test)))\n",
    "        \n",
    "        # Tensor of training data\n",
    "        self.X_train = torch.from_numpy(self.X_train).float()\n",
    "        self.y_train = torch.from_numpy(self.y_train).float()\n",
    "\n",
    "        # Tensor of training labels\n",
    "        self.X_val = torch.from_numpy(self.X_val).float()\n",
    "        self.y_val = torch.from_numpy(self.y_val).float()\n",
    "\n",
    "        #  Tensor of test data\n",
    "        self.X_test = torch.from_numpy(self.X_test).float()\n",
    "        self.y_test = torch.from_numpy(self.y_test).float()\n",
    "\n",
    "        # Size Check\n",
    "        if self.debug:\n",
    "            print(\"\\nInitial Size Check:\")\n",
    "            self.size_check()\n",
    "    \n",
    "    \n",
    "    def size_check(self):\n",
    "        \"\"\"Checks the size of the datasets\"\"\"\n",
    "        if self.debug:\n",
    "            print(\"\\nX Train Shape:\\t\\t\", self.X_train.size())\n",
    "            print(\"X Val Shape:\\t\\t\", self.X_val.size())\n",
    "            print(\"X Test Shape:\\t\\t\", self.X_test.size())\n",
    "\n",
    "            print(\"\\ny Train Shape:\\t\\t\", self.y_train.size())\n",
    "            print(\"y Val Shape:\\t\\t\", self.y_val.size())\n",
    "            print(\"y Test Shape:\\t\\t\", self.y_test.size())\n",
    "\n",
    "        \n",
    "    \n",
    "    def create_data_loaders(self):\n",
    "        \"\"\"Forms iterators to pipeline in the data\"\"\"\n",
    "            \n",
    "        # Create tensor datasets\n",
    "        train_dataset = TensorDataset(self.X_train, self.y_train)\n",
    "        val_dataset = TensorDataset(self.X_val, self.y_val)\n",
    "        test_dataset = TensorDataset(self.X_test, self.y_test)\n",
    "        \n",
    "        if self.device =='cuda': self.pin_memory=True\n",
    "          \n",
    "        # Data loaders\n",
    "        self.train_loader = DataLoader(dataset=train_dataset, batch_size=batch_size, shuffle=False, num_workers=8,  pin_memory=self.pin_memory)\n",
    "        self.val_loader = DataLoader(dataset=val_dataset, batch_size=batch_size, shuffle=False, num_workers=8,  pin_memory=self.pin_memory)\n",
    "        self.test_loader = DataLoader(dataset=test_dataset, batch_size=batch_size, shuffle=False, num_workers=8,  pin_memory=self.pin_memory)\n",
    "    \n",
    "    \n",
    "    def train(self, train_loader):\n",
    "        \"\"\"Performs a single training cycle and returns the\n",
    "        mean squared error loss for the training dataset\"\"\"\n",
    "        # Sets the model to train mode\n",
    "        self.model.train()\n",
    "        \n",
    "        train_loss = 0.\n",
    "        \n",
    "        # List of each batch predictions\n",
    "        pred_list = []\n",
    "        \n",
    "        # The data loader creates batches of data to train\n",
    "        for i_batch, (X_train_batch, y_train_batch) in enumerate(train_loader):\n",
    "            \n",
    "            #print('Batch : ', i_batch)\n",
    "            \n",
    "            # Sending the data to GPU if available\n",
    "            X_train_batch = X_train_batch.to(self.device)\n",
    "            y_train_batch = y_train_batch.to(self.device)\n",
    "            \n",
    "            # Zeros the gradients\n",
    "            self.optimiser.zero_grad()\n",
    "\n",
    "            # Need to set seed here to make deterministic\n",
    "            set_seed(42)\n",
    "        \n",
    "            # Perform forward pass\n",
    "            y_pred = self.model(X_train_batch)\n",
    "            \n",
    "            # Calculate loss for the batch\n",
    "            loss = self.loss_function(y_pred, y_train_batch)   \n",
    "\n",
    "            # Perform backward pass\n",
    "            loss.backward()   \n",
    "\n",
    "            # Adding the predictions for this batch to prediction list\n",
    "            pred_list.append(y_pred)\n",
    "            \n",
    "            # Calculate the training loss\n",
    "            train_loss += (loss * X_train_batch.size()[0]).detach().cpu().numpy()\n",
    "\n",
    "            # Update Parameters\n",
    "            self.optimiser.step()               \n",
    "        \n",
    "        # Converting an array of batches of predictions to a list of predictions\n",
    "        self.train_predictions = [single_pred for batch in pred_list for single_pred in batch.detach().cpu().numpy()]\n",
    "        \n",
    "        return train_loss/len(train_loader.dataset.tensors[0])\n",
    "    \n",
    "    \n",
    "    def validate(self, val_loader):\n",
    "        \"\"\"Evaluates the performance of the network\n",
    "        on unseen validation data\"\"\"\n",
    "        # Set the model to evaluate mode\n",
    "        self.model.eval()\n",
    "        \n",
    "        val_loss = 0.\n",
    "        \n",
    "        # List of each batch predictions\n",
    "        val_pred_list = []\n",
    "        \n",
    "        # The data loader creates batches of data to validate\n",
    "        for X_val_batch, y_val_batch in val_loader:\n",
    "            \n",
    "            # Ensures that the gradients are not updated\n",
    "            with torch.no_grad():\n",
    "                \n",
    "                # Sending the data to GPU if available\n",
    "                X_val_batch = X_val_batch.to(self.device)\n",
    "                y_val_batch = y_val_batch.to(self.device)\n",
    "\n",
    "                # Perform forward pass\n",
    "                y_pred = self.model(X_val_batch)\n",
    "\n",
    "                # Calculate loss for the batch\n",
    "                loss = self.loss_function(y_pred, y_val_batch) \n",
    "                \n",
    "                # Adding the predictions for this batch to prediction list\n",
    "                val_pred_list.append(y_pred)\n",
    "                \n",
    "                # Calculate the validation loss\n",
    "                val_loss += (loss * X_val_batch.size()[0]).detach().cpu().numpy()\n",
    "        \n",
    "        # Converting an array of batches of predictions to a list of predictions\n",
    "        self.val_predictions = [single_pred for batch in val_pred_list for single_pred in batch.detach().cpu().numpy()]\n",
    "        \n",
    "        return val_loss/len(val_loader.dataset.tensors[0])\n",
    "    \n",
    "    \n",
    "    def evaluate(self, model, test_loader):\n",
    "        \"\"\"Evaluates the performance of the network on unseen test data\"\"\"\n",
    "        # Set the model to evaluate mode\n",
    "        model.eval()\n",
    "\n",
    "        test_loss = 0.\n",
    "\n",
    "        # List of each batch predictions\n",
    "        test_pred_list = []\n",
    "\n",
    "        # The data loader creates batches of data to validate\n",
    "        for X_test_batch, y_test_batch in test_loader:\n",
    "\n",
    "            # Ensures that the gradients are not updated\n",
    "            with torch.no_grad():\n",
    "\n",
    "                # Sending the data to GPU if available\n",
    "                X_test_batch = X_test_batch.to(self.device)\n",
    "                y_test_batch = y_test_batch.to(self.device)\n",
    "\n",
    "                # Perform forward pass\n",
    "                y_pred = model(X_test_batch)\n",
    "\n",
    "                # Calculate loss for the batch\n",
    "                loss = self.loss_function(y_pred, y_test_batch) \n",
    "\n",
    "                # Adding the predictions for this batch to prediction list\n",
    "                test_pred_list.append(y_pred)\n",
    "\n",
    "                # Calculate the validation loss\n",
    "                test_loss += (loss * X_test_batch.size()[0]).detach().cpu().numpy()\n",
    "\n",
    "        # Converting an array of batches of predictions to a list of predictions\n",
    "        self.test_predictions = [single_pred for batch in test_pred_list for single_pred in batch.detach().cpu().numpy()]\n",
    "\n",
    "        return test_loss/len(test_loader.dataset.tensors[0])\n",
    "      \n",
    "    \n",
    "    def live_pred_plot(self):\n",
    "        fig, ax = plt.subplots(1, 3, figsize= (20, 5))\n",
    "  \n",
    "        ax[0].plot(self.train_predictions, label=\"Predicted\")\n",
    "        ax[0].plot(self.y_train.numpy(), label=\"Observed\")\n",
    "        ax[0].legend()\n",
    "        \n",
    "        ax[1].plot(self.val_predictions, label=\"Val Predicted\")\n",
    "        ax[1].plot(self.y_val.numpy(), label=\"Val Observed\")\n",
    "        ax[1].legend()\n",
    "        \n",
    "        ax[2].set_title(\"Loss Plots\")\n",
    "        ax[2].plot(self.logs['Training Loss'], label=\"Training Loss\")\n",
    "        ax[2].plot(self.logs['Validation Loss'], label=\"Validation Loss\")\n",
    "        ax[2].legend()\n",
    "        ax[2].set_ylim((0, median(self.logs['Validation Loss'])))\n",
    "        \n",
    "        plt.show()\n",
    "    \n",
    "    def training_wrapper(self):\n",
    "        \n",
    "        # start timer\n",
    "        start_time = time.time()\n",
    "\n",
    "        # set seed\n",
    "        set_seed(int(self.seed))\n",
    "        \n",
    "        # Create data loaders\n",
    "        self.create_data_loaders()\n",
    "        \n",
    "        train_log = []\n",
    "        val_log = []\n",
    "        \n",
    "        # The best validation score tracker\n",
    "        self.best_val_score = np.inf\n",
    "        \n",
    "        # Begin training\n",
    "        for epoch in range(self.n_epochs):\n",
    "            \n",
    "            live_logs = {}\n",
    "            \n",
    "            train_loss = self.train(self.train_loader) \n",
    "            val_loss = self.validate(self.val_loader) \n",
    "            \n",
    "            # Saving the best model\n",
    "            if val_loss <= self.best_val_score:\n",
    "                self.best_model = self.model\n",
    "                self.best_val_score = val_loss.item()\n",
    "            \n",
    "            train_log.append(train_loss.item())\n",
    "            val_log.append(val_loss.item())\n",
    "            self.logs[\"Training Loss\"] = train_log\n",
    "            self.logs[\"Validation Loss\"] = val_log\n",
    "            self.logs[\"Time\"] = time.time() - start_time\n",
    "            \n",
    "            # Checking stopping criteria\n",
    "            if self.early_stop: \n",
    "                self.early(val_loss.item())\n",
    "                if self.early.stop:\n",
    "                    print(\"Early Stopping\")\n",
    "                    break\n",
    "                  \n",
    "            if (epoch % self.disp_freq == 0): \n",
    "                print(\"Epoch: %i Train MSE: %.5f Val MSE: %.5f  Time: %.3f\" % (epoch, train_loss.item(),\n",
    "                                                          val_loss.item(), (time.time() - start_time)))\n",
    "                \n",
    "            if (epoch % self.fig_disp_freq == 0):\n",
    "                self.live_pred_plot()"
   ]
  },
  {
   "cell_type": "markdown",
   "metadata": {
    "colab_type": "text",
    "id": "Whxwd1Y9mblz"
   },
   "source": [
    "### Hyperparameters"
   ]
  },
  {
   "cell_type": "code",
   "execution_count": 10,
   "metadata": {
    "colab": {},
    "colab_type": "code",
    "id": "TmcACnnRmbl0"
   },
   "outputs": [],
   "source": [
    "# Hyperparameters\n",
    "learning_rate = 1e-2\n",
    "momentum = 0.5\n",
    "weight_decay = 0\n",
    "\n",
    "# Batch Parameters\n",
    "batch_size = 32\n",
    "test_batch_size = 1000\n",
    "# series_length = 100\n",
    "\n",
    "n_epochs = 5\n",
    "\n",
    "# Model Parameters\n",
    "num_features = data_X.shape[2]\n",
    "hidden_dim = 128\n",
    "num_layers = 2\n",
    "output_dim = 1"
   ]
  },
  {
   "cell_type": "markdown",
   "metadata": {
    "colab_type": "text",
    "id": "A7cwNAKcmbl4"
   },
   "source": [
    "### Initialising the model"
   ]
  },
  {
   "cell_type": "code",
   "execution_count": 11,
   "metadata": {
    "code_folding": [
     7
    ],
    "colab": {
     "base_uri": "https://localhost:8080/",
     "height": 153
    },
    "colab_type": "code",
    "id": "ysl-hn6ombl5",
    "outputId": "cbcc6b7c-d91e-4b4b-8725-f77ba4fe543b",
    "scrolled": true
   },
   "outputs": [
    {
     "name": "stdout",
     "output_type": "stream",
     "text": [
      "num_features 6 \n",
      "hidden_dim 128\n",
      "series_length 250 \n",
      "batch_size 32\n",
      "output_dim 1 \n",
      "num_layers 2\n",
      "data_X  (3078, 250, 6) \n",
      "data_y (3078,)\n"
     ]
    }
   ],
   "source": [
    "model = LSTM(num_features=num_features, \n",
    "             hidden_dim=hidden_dim, \n",
    "             series_length = series_length,\n",
    "             batch_size=batch_size,\n",
    "             output_dim=output_dim, \n",
    "             num_layers=num_layers, \n",
    "             device=device)\n",
    "\n",
    "model.to(device)\n",
    "\n",
    "print(\"num_features %i \\nhidden_dim %i\\nseries_length %i \\nbatch_size %i\\noutput_dim %i \\nnum_layers %i\"\n",
    "      % (num_features, hidden_dim, series_length, batch_size,output_dim, num_layers))\n",
    "\n",
    "print('data_X ', data_X.shape, '\\ndata_y', data_y.shape)"
   ]
  },
  {
   "cell_type": "code",
   "execution_count": 12,
   "metadata": {
    "colab": {},
    "colab_type": "code",
    "id": "eqxMggP-pbus"
   },
   "outputs": [],
   "source": [
    "# Loading trained model\n",
    "# model = torch.load(\"/content/gdrive/My Drive/Chai/Models/Pth\" + \"LSTM_0_040.pth\")\n",
    "# model.to(device)"
   ]
  },
  {
   "cell_type": "code",
   "execution_count": 14,
   "metadata": {
    "code_folding": [],
    "colab": {
     "base_uri": "https://localhost:8080/",
     "height": 412
    },
    "colab_type": "code",
    "id": "rRhBmwmxmbl-",
    "outputId": "8be18baa-0c03-4693-a89c-d244df66e691",
    "scrolled": true
   },
   "outputs": [
    {
     "name": "stderr",
     "output_type": "stream",
     "text": [
      "Traceback (most recent call last):\n",
      "Traceback (most recent call last):\n",
      "Traceback (most recent call last):\n",
      "  File \"/anaconda3/lib/python3.7/multiprocessing/queues.py\", line 242, in _feed\n",
      "    send_bytes(obj)\n",
      "  File \"/anaconda3/lib/python3.7/multiprocessing/connection.py\", line 200, in send_bytes\n",
      "    self._send_bytes(m[offset:offset + size])\n",
      "  File \"/anaconda3/lib/python3.7/multiprocessing/connection.py\", line 404, in _send_bytes\n",
      "    self._send(header + buf)\n",
      "  File \"/anaconda3/lib/python3.7/multiprocessing/connection.py\", line 368, in _send\n",
      "    n = write(self._handle, buf)\n",
      "BrokenPipeError: [Errno 32] Broken pipe\n",
      "Traceback (most recent call last):\n",
      "  File \"/anaconda3/lib/python3.7/multiprocessing/queues.py\", line 242, in _feed\n",
      "    send_bytes(obj)\n",
      "  File \"/anaconda3/lib/python3.7/multiprocessing/queues.py\", line 242, in _feed\n",
      "    send_bytes(obj)\n",
      "  File \"/anaconda3/lib/python3.7/multiprocessing/connection.py\", line 200, in send_bytes\n",
      "    self._send_bytes(m[offset:offset + size])\n",
      "  File \"/anaconda3/lib/python3.7/multiprocessing/connection.py\", line 404, in _send_bytes\n",
      "    self._send(header + buf)\n",
      "  File \"/anaconda3/lib/python3.7/multiprocessing/connection.py\", line 368, in _send\n",
      "    n = write(self._handle, buf)\n",
      "BrokenPipeError: [Errno 32] Broken pipe\n",
      "  File \"/anaconda3/lib/python3.7/multiprocessing/queues.py\", line 242, in _feed\n",
      "    send_bytes(obj)\n",
      "  File \"/anaconda3/lib/python3.7/multiprocessing/connection.py\", line 200, in send_bytes\n",
      "    self._send_bytes(m[offset:offset + size])\n",
      "  File \"/anaconda3/lib/python3.7/multiprocessing/connection.py\", line 404, in _send_bytes\n",
      "    self._send(header + buf)\n",
      "  File \"/anaconda3/lib/python3.7/multiprocessing/connection.py\", line 368, in _send\n",
      "    n = write(self._handle, buf)\n",
      "BrokenPipeError: [Errno 32] Broken pipe\n",
      "  File \"/anaconda3/lib/python3.7/multiprocessing/connection.py\", line 200, in send_bytes\n",
      "    self._send_bytes(m[offset:offset + size])\n",
      "  File \"/anaconda3/lib/python3.7/multiprocessing/connection.py\", line 404, in _send_bytes\n",
      "    self._send(header + buf)\n",
      "  File \"/anaconda3/lib/python3.7/multiprocessing/connection.py\", line 368, in _send\n",
      "    n = write(self._handle, buf)\n",
      "BrokenPipeError: [Errno 32] Broken pipe\n",
      "Traceback (most recent call last):\n",
      "Traceback (most recent call last):\n",
      "  File \"/anaconda3/lib/python3.7/multiprocessing/queues.py\", line 242, in _feed\n",
      "    send_bytes(obj)\n",
      "  File \"/anaconda3/lib/python3.7/multiprocessing/connection.py\", line 200, in send_bytes\n",
      "    self._send_bytes(m[offset:offset + size])\n",
      "  File \"/anaconda3/lib/python3.7/multiprocessing/connection.py\", line 404, in _send_bytes\n",
      "    self._send(header + buf)\n",
      "  File \"/anaconda3/lib/python3.7/multiprocessing/connection.py\", line 368, in _send\n",
      "    n = write(self._handle, buf)\n",
      "BrokenPipeError: [Errno 32] Broken pipe\n",
      "  File \"/anaconda3/lib/python3.7/multiprocessing/queues.py\", line 242, in _feed\n",
      "    send_bytes(obj)\n",
      "Traceback (most recent call last):\n",
      "  File \"/anaconda3/lib/python3.7/multiprocessing/connection.py\", line 200, in send_bytes\n",
      "    self._send_bytes(m[offset:offset + size])\n",
      "  File \"/anaconda3/lib/python3.7/multiprocessing/connection.py\", line 404, in _send_bytes\n",
      "    self._send(header + buf)\n",
      "  File \"/anaconda3/lib/python3.7/multiprocessing/connection.py\", line 368, in _send\n",
      "    n = write(self._handle, buf)\n",
      "BrokenPipeError: [Errno 32] Broken pipe\n",
      "Traceback (most recent call last):\n",
      "  File \"/anaconda3/lib/python3.7/multiprocessing/queues.py\", line 242, in _feed\n",
      "    send_bytes(obj)\n",
      "  File \"/anaconda3/lib/python3.7/multiprocessing/connection.py\", line 200, in send_bytes\n",
      "    self._send_bytes(m[offset:offset + size])\n",
      "  File \"/anaconda3/lib/python3.7/multiprocessing/connection.py\", line 404, in _send_bytes\n",
      "    self._send(header + buf)\n",
      "  File \"/anaconda3/lib/python3.7/multiprocessing/connection.py\", line 368, in _send\n",
      "    n = write(self._handle, buf)\n",
      "BrokenPipeError: [Errno 32] Broken pipe\n",
      "  File \"/anaconda3/lib/python3.7/multiprocessing/queues.py\", line 242, in _feed\n",
      "    send_bytes(obj)\n",
      "  File \"/anaconda3/lib/python3.7/multiprocessing/connection.py\", line 200, in send_bytes\n",
      "    self._send_bytes(m[offset:offset + size])\n",
      "  File \"/anaconda3/lib/python3.7/multiprocessing/connection.py\", line 404, in _send_bytes\n",
      "    self._send(header + buf)\n",
      "  File \"/anaconda3/lib/python3.7/multiprocessing/connection.py\", line 368, in _send\n",
      "    n = write(self._handle, buf)\n",
      "BrokenPipeError: [Errno 32] Broken pipe\n"
     ]
    },
    {
     "ename": "KeyboardInterrupt",
     "evalue": "",
     "output_type": "error",
     "traceback": [
      "\u001b[0;31m---------------------------------------------------------------------------\u001b[0m",
      "\u001b[0;31mKeyboardInterrupt\u001b[0m                         Traceback (most recent call last)",
      "\u001b[0;32m<ipython-input-14-c128417024d7>\u001b[0m in \u001b[0;36m<module>\u001b[0;34m\u001b[0m\n\u001b[1;32m     16\u001b[0m \u001b[0;31m# Splitting the data into the train, validation and test sets\u001b[0m\u001b[0;34m\u001b[0m\u001b[0;34m\u001b[0m\u001b[0;34m\u001b[0m\u001b[0m\n\u001b[1;32m     17\u001b[0m \u001b[0mlearning\u001b[0m\u001b[0;34m.\u001b[0m\u001b[0mtrain_val_test\u001b[0m\u001b[0;34m(\u001b[0m\u001b[0;34m)\u001b[0m\u001b[0;34m\u001b[0m\u001b[0;34m\u001b[0m\u001b[0m\n\u001b[0;32m---> 18\u001b[0;31m \u001b[0mlearning\u001b[0m\u001b[0;34m.\u001b[0m\u001b[0mtraining_wrapper\u001b[0m\u001b[0;34m(\u001b[0m\u001b[0;34m)\u001b[0m\u001b[0;34m\u001b[0m\u001b[0;34m\u001b[0m\u001b[0m\n\u001b[0m",
      "\u001b[0;32m~/Documents/Education/Imperial/ChAI/Code/Src/deeplearning.py\u001b[0m in \u001b[0;36mtraining_wrapper\u001b[0;34m(self)\u001b[0m\n\u001b[1;32m    416\u001b[0m \u001b[0;34m\u001b[0m\u001b[0m\n\u001b[1;32m    417\u001b[0m             \u001b[0mtrain_loss\u001b[0m \u001b[0;34m=\u001b[0m \u001b[0mself\u001b[0m\u001b[0;34m.\u001b[0m\u001b[0mtrain\u001b[0m\u001b[0;34m(\u001b[0m\u001b[0mself\u001b[0m\u001b[0;34m.\u001b[0m\u001b[0mtrain_loader\u001b[0m\u001b[0;34m)\u001b[0m\u001b[0;34m\u001b[0m\u001b[0;34m\u001b[0m\u001b[0m\n\u001b[0;32m--> 418\u001b[0;31m             \u001b[0mval_loss\u001b[0m \u001b[0;34m=\u001b[0m \u001b[0mself\u001b[0m\u001b[0;34m.\u001b[0m\u001b[0mvalidate\u001b[0m\u001b[0;34m(\u001b[0m\u001b[0mself\u001b[0m\u001b[0;34m.\u001b[0m\u001b[0mval_loader\u001b[0m\u001b[0;34m)\u001b[0m\u001b[0;34m\u001b[0m\u001b[0;34m\u001b[0m\u001b[0m\n\u001b[0m\u001b[1;32m    419\u001b[0m \u001b[0;34m\u001b[0m\u001b[0m\n\u001b[1;32m    420\u001b[0m             \u001b[0;31m# Saving the best model\u001b[0m\u001b[0;34m\u001b[0m\u001b[0;34m\u001b[0m\u001b[0;34m\u001b[0m\u001b[0m\n",
      "\u001b[0;32m~/Documents/Education/Imperial/ChAI/Code/Src/deeplearning.py\u001b[0m in \u001b[0;36mvalidate\u001b[0;34m(self, val_loader)\u001b[0m\n\u001b[1;32m    319\u001b[0m \u001b[0;34m\u001b[0m\u001b[0m\n\u001b[1;32m    320\u001b[0m                 \u001b[0;31m# Perform forward pass\u001b[0m\u001b[0;34m\u001b[0m\u001b[0;34m\u001b[0m\u001b[0;34m\u001b[0m\u001b[0m\n\u001b[0;32m--> 321\u001b[0;31m                 \u001b[0my_pred\u001b[0m \u001b[0;34m=\u001b[0m \u001b[0mself\u001b[0m\u001b[0;34m.\u001b[0m\u001b[0mmodel\u001b[0m\u001b[0;34m(\u001b[0m\u001b[0mX_val_batch\u001b[0m\u001b[0;34m)\u001b[0m\u001b[0;34m\u001b[0m\u001b[0;34m\u001b[0m\u001b[0m\n\u001b[0m\u001b[1;32m    322\u001b[0m \u001b[0;34m\u001b[0m\u001b[0m\n\u001b[1;32m    323\u001b[0m                 \u001b[0;31m# Calculate loss for the batch\u001b[0m\u001b[0;34m\u001b[0m\u001b[0;34m\u001b[0m\u001b[0;34m\u001b[0m\u001b[0m\n",
      "\u001b[0;32m/anaconda3/lib/python3.7/site-packages/torch/nn/modules/module.py\u001b[0m in \u001b[0;36m__call__\u001b[0;34m(self, *input, **kwargs)\u001b[0m\n\u001b[1;32m    491\u001b[0m             \u001b[0mresult\u001b[0m \u001b[0;34m=\u001b[0m \u001b[0mself\u001b[0m\u001b[0;34m.\u001b[0m\u001b[0m_slow_forward\u001b[0m\u001b[0;34m(\u001b[0m\u001b[0;34m*\u001b[0m\u001b[0minput\u001b[0m\u001b[0;34m,\u001b[0m \u001b[0;34m**\u001b[0m\u001b[0mkwargs\u001b[0m\u001b[0;34m)\u001b[0m\u001b[0;34m\u001b[0m\u001b[0;34m\u001b[0m\u001b[0m\n\u001b[1;32m    492\u001b[0m         \u001b[0;32melse\u001b[0m\u001b[0;34m:\u001b[0m\u001b[0;34m\u001b[0m\u001b[0;34m\u001b[0m\u001b[0m\n\u001b[0;32m--> 493\u001b[0;31m             \u001b[0mresult\u001b[0m \u001b[0;34m=\u001b[0m \u001b[0mself\u001b[0m\u001b[0;34m.\u001b[0m\u001b[0mforward\u001b[0m\u001b[0;34m(\u001b[0m\u001b[0;34m*\u001b[0m\u001b[0minput\u001b[0m\u001b[0;34m,\u001b[0m \u001b[0;34m**\u001b[0m\u001b[0mkwargs\u001b[0m\u001b[0;34m)\u001b[0m\u001b[0;34m\u001b[0m\u001b[0;34m\u001b[0m\u001b[0m\n\u001b[0m\u001b[1;32m    494\u001b[0m         \u001b[0;32mfor\u001b[0m \u001b[0mhook\u001b[0m \u001b[0;32min\u001b[0m \u001b[0mself\u001b[0m\u001b[0;34m.\u001b[0m\u001b[0m_forward_hooks\u001b[0m\u001b[0;34m.\u001b[0m\u001b[0mvalues\u001b[0m\u001b[0;34m(\u001b[0m\u001b[0;34m)\u001b[0m\u001b[0;34m:\u001b[0m\u001b[0;34m\u001b[0m\u001b[0;34m\u001b[0m\u001b[0m\n\u001b[1;32m    495\u001b[0m             \u001b[0mhook_result\u001b[0m \u001b[0;34m=\u001b[0m \u001b[0mhook\u001b[0m\u001b[0;34m(\u001b[0m\u001b[0mself\u001b[0m\u001b[0;34m,\u001b[0m \u001b[0minput\u001b[0m\u001b[0;34m,\u001b[0m \u001b[0mresult\u001b[0m\u001b[0;34m)\u001b[0m\u001b[0;34m\u001b[0m\u001b[0;34m\u001b[0m\u001b[0m\n",
      "\u001b[0;32m~/Documents/Education/Imperial/ChAI/Code/Src/models.py\u001b[0m in \u001b[0;36mforward\u001b[0;34m(self, x)\u001b[0m\n\u001b[1;32m     91\u001b[0m         \u001b[0;31m# Pass through through lstm layer\u001b[0m\u001b[0;34m\u001b[0m\u001b[0;34m\u001b[0m\u001b[0;34m\u001b[0m\u001b[0m\n\u001b[1;32m     92\u001b[0m         \u001b[0;31m# Only the x is of interest\u001b[0m\u001b[0;34m\u001b[0m\u001b[0;34m\u001b[0m\u001b[0;34m\u001b[0m\u001b[0m\n\u001b[0;32m---> 93\u001b[0;31m         \u001b[0mx\u001b[0m\u001b[0;34m,\u001b[0m \u001b[0;34m(\u001b[0m\u001b[0mhn\u001b[0m\u001b[0;34m,\u001b[0m \u001b[0mcn\u001b[0m\u001b[0;34m)\u001b[0m \u001b[0;34m=\u001b[0m \u001b[0mself\u001b[0m\u001b[0;34m.\u001b[0m\u001b[0mlstm\u001b[0m\u001b[0;34m(\u001b[0m\u001b[0mx\u001b[0m\u001b[0;34m,\u001b[0m \u001b[0;34m(\u001b[0m\u001b[0mh0\u001b[0m\u001b[0;34m,\u001b[0m \u001b[0mc0\u001b[0m\u001b[0;34m)\u001b[0m\u001b[0;34m)\u001b[0m\u001b[0;34m\u001b[0m\u001b[0;34m\u001b[0m\u001b[0m\n\u001b[0m\u001b[1;32m     94\u001b[0m \u001b[0;34m\u001b[0m\u001b[0m\n\u001b[1;32m     95\u001b[0m         \u001b[0;31m# Output is seq to seq but only want seq to val\u001b[0m\u001b[0;34m\u001b[0m\u001b[0;34m\u001b[0m\u001b[0;34m\u001b[0m\u001b[0m\n",
      "\u001b[0;32m/anaconda3/lib/python3.7/site-packages/torch/nn/modules/module.py\u001b[0m in \u001b[0;36m__call__\u001b[0;34m(self, *input, **kwargs)\u001b[0m\n\u001b[1;32m    491\u001b[0m             \u001b[0mresult\u001b[0m \u001b[0;34m=\u001b[0m \u001b[0mself\u001b[0m\u001b[0;34m.\u001b[0m\u001b[0m_slow_forward\u001b[0m\u001b[0;34m(\u001b[0m\u001b[0;34m*\u001b[0m\u001b[0minput\u001b[0m\u001b[0;34m,\u001b[0m \u001b[0;34m**\u001b[0m\u001b[0mkwargs\u001b[0m\u001b[0;34m)\u001b[0m\u001b[0;34m\u001b[0m\u001b[0;34m\u001b[0m\u001b[0m\n\u001b[1;32m    492\u001b[0m         \u001b[0;32melse\u001b[0m\u001b[0;34m:\u001b[0m\u001b[0;34m\u001b[0m\u001b[0;34m\u001b[0m\u001b[0m\n\u001b[0;32m--> 493\u001b[0;31m             \u001b[0mresult\u001b[0m \u001b[0;34m=\u001b[0m \u001b[0mself\u001b[0m\u001b[0;34m.\u001b[0m\u001b[0mforward\u001b[0m\u001b[0;34m(\u001b[0m\u001b[0;34m*\u001b[0m\u001b[0minput\u001b[0m\u001b[0;34m,\u001b[0m \u001b[0;34m**\u001b[0m\u001b[0mkwargs\u001b[0m\u001b[0;34m)\u001b[0m\u001b[0;34m\u001b[0m\u001b[0;34m\u001b[0m\u001b[0m\n\u001b[0m\u001b[1;32m    494\u001b[0m         \u001b[0;32mfor\u001b[0m \u001b[0mhook\u001b[0m \u001b[0;32min\u001b[0m \u001b[0mself\u001b[0m\u001b[0;34m.\u001b[0m\u001b[0m_forward_hooks\u001b[0m\u001b[0;34m.\u001b[0m\u001b[0mvalues\u001b[0m\u001b[0;34m(\u001b[0m\u001b[0;34m)\u001b[0m\u001b[0;34m:\u001b[0m\u001b[0;34m\u001b[0m\u001b[0;34m\u001b[0m\u001b[0m\n\u001b[1;32m    495\u001b[0m             \u001b[0mhook_result\u001b[0m \u001b[0;34m=\u001b[0m \u001b[0mhook\u001b[0m\u001b[0;34m(\u001b[0m\u001b[0mself\u001b[0m\u001b[0;34m,\u001b[0m \u001b[0minput\u001b[0m\u001b[0;34m,\u001b[0m \u001b[0mresult\u001b[0m\u001b[0;34m)\u001b[0m\u001b[0;34m\u001b[0m\u001b[0;34m\u001b[0m\u001b[0m\n",
      "\u001b[0;32m/anaconda3/lib/python3.7/site-packages/torch/nn/modules/rnn.py\u001b[0m in \u001b[0;36mforward\u001b[0;34m(self, input, hx)\u001b[0m\n\u001b[1;32m    557\u001b[0m             \u001b[0;32mreturn\u001b[0m \u001b[0mself\u001b[0m\u001b[0;34m.\u001b[0m\u001b[0mforward_packed\u001b[0m\u001b[0;34m(\u001b[0m\u001b[0minput\u001b[0m\u001b[0;34m,\u001b[0m \u001b[0mhx\u001b[0m\u001b[0;34m)\u001b[0m\u001b[0;34m\u001b[0m\u001b[0;34m\u001b[0m\u001b[0m\n\u001b[1;32m    558\u001b[0m         \u001b[0;32melse\u001b[0m\u001b[0;34m:\u001b[0m\u001b[0;34m\u001b[0m\u001b[0;34m\u001b[0m\u001b[0m\n\u001b[0;32m--> 559\u001b[0;31m             \u001b[0;32mreturn\u001b[0m \u001b[0mself\u001b[0m\u001b[0;34m.\u001b[0m\u001b[0mforward_tensor\u001b[0m\u001b[0;34m(\u001b[0m\u001b[0minput\u001b[0m\u001b[0;34m,\u001b[0m \u001b[0mhx\u001b[0m\u001b[0;34m)\u001b[0m\u001b[0;34m\u001b[0m\u001b[0;34m\u001b[0m\u001b[0m\n\u001b[0m\u001b[1;32m    560\u001b[0m \u001b[0;34m\u001b[0m\u001b[0m\n\u001b[1;32m    561\u001b[0m \u001b[0;34m\u001b[0m\u001b[0m\n",
      "\u001b[0;32m/anaconda3/lib/python3.7/site-packages/torch/nn/modules/rnn.py\u001b[0m in \u001b[0;36mforward_tensor\u001b[0;34m(self, input, hx)\u001b[0m\n\u001b[1;32m    537\u001b[0m         \u001b[0munsorted_indices\u001b[0m \u001b[0;34m=\u001b[0m \u001b[0;32mNone\u001b[0m\u001b[0;34m\u001b[0m\u001b[0;34m\u001b[0m\u001b[0m\n\u001b[1;32m    538\u001b[0m \u001b[0;34m\u001b[0m\u001b[0m\n\u001b[0;32m--> 539\u001b[0;31m         \u001b[0moutput\u001b[0m\u001b[0;34m,\u001b[0m \u001b[0mhidden\u001b[0m \u001b[0;34m=\u001b[0m \u001b[0mself\u001b[0m\u001b[0;34m.\u001b[0m\u001b[0mforward_impl\u001b[0m\u001b[0;34m(\u001b[0m\u001b[0minput\u001b[0m\u001b[0;34m,\u001b[0m \u001b[0mhx\u001b[0m\u001b[0;34m,\u001b[0m \u001b[0mbatch_sizes\u001b[0m\u001b[0;34m,\u001b[0m \u001b[0mmax_batch_size\u001b[0m\u001b[0;34m,\u001b[0m \u001b[0msorted_indices\u001b[0m\u001b[0;34m)\u001b[0m\u001b[0;34m\u001b[0m\u001b[0;34m\u001b[0m\u001b[0m\n\u001b[0m\u001b[1;32m    540\u001b[0m \u001b[0;34m\u001b[0m\u001b[0m\n\u001b[1;32m    541\u001b[0m         \u001b[0;32mreturn\u001b[0m \u001b[0moutput\u001b[0m\u001b[0;34m,\u001b[0m \u001b[0mself\u001b[0m\u001b[0;34m.\u001b[0m\u001b[0mpermute_hidden\u001b[0m\u001b[0;34m(\u001b[0m\u001b[0mhidden\u001b[0m\u001b[0;34m,\u001b[0m \u001b[0munsorted_indices\u001b[0m\u001b[0;34m)\u001b[0m\u001b[0;34m\u001b[0m\u001b[0;34m\u001b[0m\u001b[0m\n",
      "\u001b[0;32m/anaconda3/lib/python3.7/site-packages/torch/nn/modules/rnn.py\u001b[0m in \u001b[0;36mforward_impl\u001b[0;34m(self, input, hx, batch_sizes, max_batch_size, sorted_indices)\u001b[0m\n\u001b[1;32m    520\u001b[0m         \u001b[0;32mif\u001b[0m \u001b[0mbatch_sizes\u001b[0m \u001b[0;32mis\u001b[0m \u001b[0;32mNone\u001b[0m\u001b[0;34m:\u001b[0m\u001b[0;34m\u001b[0m\u001b[0;34m\u001b[0m\u001b[0m\n\u001b[1;32m    521\u001b[0m             result = _VF.lstm(input, hx, self._get_flat_weights(), self.bias, self.num_layers,\n\u001b[0;32m--> 522\u001b[0;31m                               self.dropout, self.training, self.bidirectional, self.batch_first)\n\u001b[0m\u001b[1;32m    523\u001b[0m         \u001b[0;32melse\u001b[0m\u001b[0;34m:\u001b[0m\u001b[0;34m\u001b[0m\u001b[0;34m\u001b[0m\u001b[0m\n\u001b[1;32m    524\u001b[0m             result = _VF.lstm(input, batch_sizes, hx, self._get_flat_weights(), self.bias,\n",
      "\u001b[0;31mKeyboardInterrupt\u001b[0m: "
     ]
    }
   ],
   "source": [
    "optimiser = torch.optim.Adam(model.parameters(), learning_rate)\n",
    "\n",
    "\"\"\"Do I need to declare a data explicitly in the dataset\"\"\"\n",
    "learning = DeepLearning(model=model, \n",
    "                        data_X=data_X, \n",
    "                        data_y=data_y, \n",
    "                        n_epochs=2000,\n",
    "                        optimiser=optimiser,\n",
    "                        batch_size=batch_size,\n",
    "                        debug=False, \n",
    "                        disp_freq=1,\n",
    "                        fig_disp_freq=1, \n",
    "                        device=device,\n",
    "                        patience=100)\n",
    "\n",
    "# Splitting the data into the train, validation and test sets\n",
    "learning.train_val_test()\n",
    "learning.training_wrapper()"
   ]
  },
  {
   "cell_type": "code",
   "execution_count": 24,
   "metadata": {
    "colab": {
     "base_uri": "https://localhost:8080/",
     "height": 320
    },
    "colab_type": "code",
    "id": "Dnp73IIRWjxx",
    "outputId": "74799ad3-0c5a-4afa-df73-4eb79ac758a9"
   },
   "outputs": [
    {
     "ename": "TypeError",
     "evalue": "ignored",
     "output_type": "error",
     "traceback": [
      "\u001b[0;31m---------------------------------------------------------------------------\u001b[0m",
      "\u001b[0;31mTypeError\u001b[0m                                 Traceback (most recent call last)",
      "\u001b[0;32m<ipython-input-24-3fbc98730096>\u001b[0m in \u001b[0;36m<module>\u001b[0;34m()\u001b[0m\n\u001b[0;32m----> 1\u001b[0;31m \u001b[0mval_score\u001b[0m \u001b[0;34m=\u001b[0m \u001b[0mlearning\u001b[0m\u001b[0;34m.\u001b[0m\u001b[0mevaluate\u001b[0m\u001b[0;34m(\u001b[0m\u001b[0mlearning\u001b[0m\u001b[0;34m.\u001b[0m\u001b[0mbest_model\u001b[0m\u001b[0;34m,\u001b[0m \u001b[0mlearning\u001b[0m\u001b[0;34m.\u001b[0m\u001b[0mval_loader\u001b[0m\u001b[0;34m)\u001b[0m\u001b[0;34m\u001b[0m\u001b[0;34m\u001b[0m\u001b[0m\n\u001b[0m\u001b[1;32m      2\u001b[0m \u001b[0mprint\u001b[0m\u001b[0;34m(\u001b[0m\u001b[0mval_score\u001b[0m\u001b[0;34m)\u001b[0m\u001b[0;34m\u001b[0m\u001b[0;34m\u001b[0m\u001b[0m\n",
      "\u001b[0;32m/content/acse-9-independent-research-project-OliverJBoom/Src/deeplearning.py\u001b[0m in \u001b[0;36mevaluate\u001b[0;34m(self, model, test_loader)\u001b[0m\n\u001b[1;32m    347\u001b[0m         \u001b[0mtest_pred_list\u001b[0m \u001b[0;34m=\u001b[0m \u001b[0;34m[\u001b[0m\u001b[0;34m]\u001b[0m\u001b[0;34m\u001b[0m\u001b[0;34m\u001b[0m\u001b[0m\n\u001b[1;32m    348\u001b[0m \u001b[0;34m\u001b[0m\u001b[0m\n\u001b[0;32m--> 349\u001b[0;31m         \u001b[0;31m# The data loader creates batches of data to validate\u001b[0m\u001b[0;34m\u001b[0m\u001b[0;34m\u001b[0m\u001b[0;34m\u001b[0m\u001b[0m\n\u001b[0m\u001b[1;32m    350\u001b[0m         \u001b[0;32mfor\u001b[0m \u001b[0mX_test_batch\u001b[0m\u001b[0;34m,\u001b[0m \u001b[0my_test_batch\u001b[0m \u001b[0;32min\u001b[0m \u001b[0mtest_loader\u001b[0m\u001b[0;34m:\u001b[0m\u001b[0;34m\u001b[0m\u001b[0;34m\u001b[0m\u001b[0m\n\u001b[1;32m    351\u001b[0m \u001b[0;34m\u001b[0m\u001b[0m\n",
      "\u001b[0;31mTypeError\u001b[0m: 'NoneType' object is not iterable"
     ]
    }
   ],
   "source": [
    "val_score = learning.evaluate(learning.best_model, learning.val_loader)\n",
    "print(val_score)"
   ]
  },
  {
   "cell_type": "code",
   "execution_count": 101,
   "metadata": {
    "colab": {
     "base_uri": "https://localhost:8080/",
     "height": 184
    },
    "colab_type": "code",
    "id": "jxrgeuq5hSRd",
    "outputId": "a0ad475a-7b32-442e-ddf0-c9a61968edac"
   },
   "outputs": [
    {
     "ename": "PicklingError",
     "evalue": "ignored",
     "output_type": "error",
     "traceback": [
      "\u001b[0;31m---------------------------------------------------------------------------\u001b[0m",
      "\u001b[0;31mPicklingError\u001b[0m                             Traceback (most recent call last)",
      "\u001b[0;32m<ipython-input-101-29f3aa5154cf>\u001b[0m in \u001b[0;36m<module>\u001b[0;34m()\u001b[0m\n\u001b[0;32m----> 1\u001b[0;31m \u001b[0mpickle\u001b[0m\u001b[0;34m.\u001b[0m\u001b[0mdump\u001b[0m\u001b[0;34m(\u001b[0m\u001b[0mlearning\u001b[0m\u001b[0;34m,\u001b[0m \u001b[0mopen\u001b[0m\u001b[0;34m(\u001b[0m\u001b[0;34m\"/content/gdrive/My Drive/Chai/Models/Pickles/\"\u001b[0m \u001b[0;34m+\u001b[0m \u001b[0;34m\"learning_object\"\u001b[0m\u001b[0;34m,\u001b[0m \u001b[0;34m'wb'\u001b[0m\u001b[0;34m)\u001b[0m\u001b[0;34m)\u001b[0m\u001b[0;34m\u001b[0m\u001b[0;34m\u001b[0m\u001b[0m\n\u001b[0m",
      "\u001b[0;31mPicklingError\u001b[0m: Can't pickle <class '__main__.DeepLearning'>: it's not the same object as __main__.DeepLearning"
     ]
    }
   ],
   "source": [
    "pickle.dump(learning, open(\"/content/gdrive/My Drive/Chai/Models/Pickles/\" + \"learning_object\", 'wb'))"
   ]
  },
  {
   "cell_type": "code",
   "execution_count": 102,
   "metadata": {
    "colab": {
     "base_uri": "https://localhost:8080/",
     "height": 184
    },
    "colab_type": "code",
    "id": "ugRaTGaohqvF",
    "outputId": "29d1144e-b061-4c45-c8e6-57fe60e4bf1a"
   },
   "outputs": [
    {
     "ename": "EOFError",
     "evalue": "ignored",
     "output_type": "error",
     "traceback": [
      "\u001b[0;31m---------------------------------------------------------------------------\u001b[0m",
      "\u001b[0;31mEOFError\u001b[0m                                  Traceback (most recent call last)",
      "\u001b[0;32m<ipython-input-102-8780105971ee>\u001b[0m in \u001b[0;36m<module>\u001b[0;34m()\u001b[0m\n\u001b[0;32m----> 1\u001b[0;31m \u001b[0mlearning_load\u001b[0m \u001b[0;34m=\u001b[0m \u001b[0mpickle\u001b[0m\u001b[0;34m.\u001b[0m\u001b[0mload\u001b[0m\u001b[0;34m(\u001b[0m\u001b[0mopen\u001b[0m\u001b[0;34m(\u001b[0m\u001b[0;34m\"/content/gdrive/My Drive/Chai/Models/Pickles/\"\u001b[0m \u001b[0;34m+\u001b[0m \u001b[0;34m\"learning_object\"\u001b[0m\u001b[0;34m,\u001b[0m \u001b[0;34m'rb'\u001b[0m\u001b[0;34m)\u001b[0m\u001b[0;34m)\u001b[0m\u001b[0;34m\u001b[0m\u001b[0;34m\u001b[0m\u001b[0m\n\u001b[0m",
      "\u001b[0;31mEOFError\u001b[0m: Ran out of input"
     ]
    }
   ],
   "source": [
    "learning_load = pickle.load(open(\"/content/gdrive/My Drive/Chai/Models/Pickles/\" + \"learning_object\", 'rb'))"
   ]
  },
  {
   "cell_type": "code",
   "execution_count": 0,
   "metadata": {
    "colab": {
     "base_uri": "https://localhost:8080/",
     "height": 34
    },
    "colab_type": "code",
    "id": "ogD1KBcfmbmA",
    "outputId": "2d8bb975-1cb4-4b07-f00f-c8068fe2af0c"
   },
   "outputs": [
    {
     "name": "stdout",
     "output_type": "stream",
     "text": [
      "Saving model: /content/gdrive/My Drive/Chai/Models/LSTM_Full_0_046.pth\n"
     ]
    }
   ],
   "source": [
    "model_save(model_lstm, \n",
    "           path=\"/content/gdrive/My Drive/Chai/Models/Pths\",\n",
    "           name=\"LSTM_Full\", \n",
    "           val_score=learning.best_val_score)\n",
    "\n",
    "# mod = model_load(path=\"Models/Pths\",\n",
    "#            model_name=\"LSTM_5_854\")"
   ]
  },
  {
   "cell_type": "markdown",
   "metadata": {
    "colab_type": "text",
    "id": "cXZ4rWiAmbmD"
   },
   "source": [
    "### Plotting"
   ]
  },
  {
   "cell_type": "code",
   "execution_count": 0,
   "metadata": {
    "colab": {
     "base_uri": "https://localhost:8080/",
     "height": 269
    },
    "colab_type": "code",
    "id": "ptqgM03uf3aX",
    "outputId": "1c90a202-d132-466d-835b-11cf006d69a5"
   },
   "outputs": [
    {
     "data": {
      "image/png": "[encoded data removed]",
      "text/plain": [
       "<Figure size 432x288 with 1 Axes>"
      ]
     },
     "metadata": {
      "tags": []
     },
     "output_type": "display_data"
    }
   ],
   "source": [
    "# Rescaling Example\n",
    "\n",
    "scaler_data_y.inverse_transform(np.array(learning_load.train_predictions).reshape(-1, 1))\n",
    "plt.plot(scaler_data_y.inverse_transform(learning_load.y_train.numpy().reshape(-1, 1)))\n",
    "plt.plot(scaler_data_y.inverse_transform(np.array(learning_load.train_predictions).reshape(-1, 1)))\n",
    "plt.show()"
   ]
  },
  {
   "cell_type": "code",
   "execution_count": 0,
   "metadata": {
    "colab": {},
    "colab_type": "code",
    "id": "PN8Ob-GCmbmG"
   },
   "outputs": [],
   "source": [
    "predicted_train = learning.train_predictions\n",
    "observed_train = learning.y_train.numpy()\n",
    "\n",
    "learning.model = learning.best_model\n",
    "learning.validate(learning.val_loader)\n",
    "predicted_val = learning.val_predictions\n",
    "observed_val = learning.y_val.numpy()"
   ]
  },
  {
   "cell_type": "code",
   "execution_count": 0,
   "metadata": {
    "colab": {
     "base_uri": "https://localhost:8080/",
     "height": 356
    },
    "colab_type": "code",
    "id": "GnpXJzzlmbmI",
    "outputId": "c91df3b3-c5db-47e4-ac1c-8c75021d2fde"
   },
   "outputs": [
    {
     "data": {
      "image/png": "[encoded data removed]",
      "text/plain": [
       "<Figure size 1440x360 with 3 Axes>"
      ]
     },
     "metadata": {
      "tags": []
     },
     "output_type": "display_data"
    }
   ],
   "source": [
    "fig, ax = plt.subplots(1, 3, figsize=(20, 5))\n",
    "\n",
    "ax[0].set_title(\"Predicted vs Observed Values\")\n",
    "ax[0].plot(predicted_train, label=\"Predicted\")\n",
    "ax[0].plot(observed_train, label=\"Observed\")\n",
    "ax[0].legend()\n",
    "\n",
    "ax[1].set_title(\"Predicted vs Observed Values\")\n",
    "ax[1].plot(predicted_val, label=\"Predicted\")\n",
    "ax[1].plot(observed_val, label=\"Observed\")\n",
    "ax[1].legend()\n",
    "           \n",
    "ax[2].set_title(\"Loss Plots\")\n",
    "ax[2].plot(learning.logs['Training Loss'], label=\"Training Loss\")\n",
    "ax[2].plot(learning.logs['Validation Loss'], label=\"Validation Loss\")\n",
    "ax[2].legend()\n",
    "ax[2].set_ylim((0, 3))\n",
    "\n",
    "epoch_reached = str(len(learning.logs['Training Loss']))\n",
    "path=\"/content/gdrive/My Drive/Chai/Models/\"\n",
    "\n",
    "plt.savefig(path + str(\"LSTM_Val_\" + str(val_score)[:5].replace(\".\", \"_\") + \"_Epoch_\" + epoch_reached + \".png\"))\n",
    "plt.show()"
   ]
  },
  {
   "cell_type": "code",
   "execution_count": 0,
   "metadata": {
    "colab": {
     "base_uri": "https://localhost:8080/",
     "height": 298
    },
    "colab_type": "code",
    "id": "rVUUZtt2qXBh",
    "outputId": "abc3f0da-0d6a-442e-aa21-0cba3601d177"
   },
   "outputs": [
    {
     "data": {
      "text/plain": [
       "<matplotlib.legend.Legend at 0x7fca8a6692b0>"
      ]
     },
     "execution_count": 139,
     "metadata": {
      "tags": []
     },
     "output_type": "execute_result"
    },
    {
     "data": {
      "image/png": "[encoded data removed]",
      "text/plain": [
       "<Figure size 432x288 with 1 Axes>"
      ]
     },
     "metadata": {
      "tags": []
     },
     "output_type": "display_data"
    }
   ],
   "source": [
    "plt.title(\"Predicted vs Observed Values\")\n",
    "plt.plot(learning.test_predictions, label=\"Predicted\")\n",
    "plt.plot(learning.y_test.numpy(), label=\"Observed\")\n",
    "plt.legend()"
   ]
  },
  {
   "cell_type": "code",
   "execution_count": 0,
   "metadata": {
    "colab": {},
    "colab_type": "code",
    "id": "mMD13WXBi42V"
   },
   "outputs": [],
   "source": [
    "# The minimum validation loss\n",
    "val_loss = min(learning.logs['Validation Loss'])\n",
    "best_model_epoch = learning.logs['Validation Loss'].index(val_loss)\n",
    "train_loss = learning.logs['Training Loss'][best_model_epoch]\n",
    "test_loss = learning.evaluate(learning.best_model, learning.test_loader)"
   ]
  },
  {
   "cell_type": "code",
   "execution_count": 0,
   "metadata": {
    "colab": {
     "base_uri": "https://localhost:8080/",
     "height": 51
    },
    "colab_type": "code",
    "id": "UOeOd3RaLzam",
    "outputId": "1909d918-c5ed-426a-cd14-640df21bc3f8"
   },
   "outputs": [
    {
     "name": "stdout",
     "output_type": "stream",
     "text": [
      "Saving model: /content/gdrive/My Drive/Chai/Models/LSTM_0_040.pth\n"
     ]
    },
    {
     "data": {
      "text/plain": [
       "True"
      ]
     },
     "execution_count": 152,
     "metadata": {
      "tags": []
     },
     "output_type": "execute_result"
    }
   ],
   "source": [
    "num_epoch = 250\n",
    "train_time = learning.logs[\"Time\"]\n",
    "full_save(learning.best_model, \n",
    "          \"Full_Run\",\n",
    "          optimiser,\n",
    "          num_epoch, \n",
    "          learning_rate, \n",
    "          momentum,\n",
    "          weight_decay, \n",
    "          PCA_used, \n",
    "          data_X,\n",
    "          train_loss,\n",
    "          val_loss, \n",
    "          test_loss,\n",
    "          train_time, \n",
    "          hidden_dim,\n",
    "          path=\"/content/gdrive/My Drive/Chai/Models/\") "
   ]
  },
  {
   "cell_type": "markdown",
   "metadata": {
    "colab_type": "text",
    "id": "qmzBKO27mbm1"
   },
   "source": [
    "# Results"
   ]
  },
  {
   "cell_type": "code",
   "execution_count": 0,
   "metadata": {
    "colab": {
     "base_uri": "https://localhost:8080/",
     "height": 34
    },
    "colab_type": "code",
    "id": "ceRJjsRVgGl1",
    "outputId": "7b0ca914-3ef7-4049-feee-955b4c8ef519"
   },
   "outputs": [
    {
     "name": "stdout",
     "output_type": "stream",
     "text": [
      "0.0026131007 0.039629836 0.45454545454545453\n"
     ]
    }
   ],
   "source": [
    "mse, mae, mde = evaluate(learning.test_predictions, learning.y_test.numpy())\n",
    "print(mse, mae, mde)"
   ]
  },
  {
   "cell_type": "markdown",
   "metadata": {
    "colab_type": "text",
    "id": "XRT2jKcAj3M9"
   },
   "source": [
    "## Persistance"
   ]
  },
  {
   "cell_type": "code",
   "execution_count": 0,
   "metadata": {
    "colab": {
     "base_uri": "https://localhost:8080/",
     "height": 298
    },
    "colab_type": "code",
    "id": "fzd9xprempGP",
    "outputId": "c6cfb773-2f4b-4548-fe6d-f0f4a3a8935a"
   },
   "outputs": [
    {
     "data": {
      "text/plain": [
       "<matplotlib.legend.Legend at 0x7fe1c47a9828>"
      ]
     },
     "execution_count": 70,
     "metadata": {
      "tags": []
     },
     "output_type": "execute_result"
    },
    {
     "data": {
      "image/png": "[encoded data removed]",
      "text/plain": [
       "<Figure size 432x288 with 1 Axes>"
      ]
     },
     "metadata": {
      "tags": []
     },
     "output_type": "display_data"
    }
   ],
   "source": [
    "plt.title(\"Persistance vs Observed Values\")\n",
    "plt.plot(learning.train_predictions, label=\"Predicted\")\n",
    "plt.plot(shift(learning.train_predictions, 5), label=\"Observed\")\n",
    "plt.legend()"
   ]
  },
  {
   "cell_type": "code",
   "execution_count": 0,
   "metadata": {
    "colab": {},
    "colab_type": "code",
    "id": "R7iZ3kSUmbm2"
   },
   "outputs": [],
   "source": [
    "df = df_full[[\"target\"]]\n",
    "# Taking t-1 to be the value for t\n",
    "df[\"persistance\"] = df.shift(1)\n",
    "df.dropna(inplace=True)\n",
    "# Calculating metrics for these columns\n",
    "MSE, MAE, MDE = evaluate(df, \"target\", \"persistance\")"
   ]
  },
  {
   "cell_type": "code",
   "execution_count": 0,
   "metadata": {
    "colab": {},
    "colab_type": "code",
    "id": "uIbnEu1Ombm8",
    "outputId": "45b1eecf-cb00-4660-c38a-9297a160a952"
   },
   "outputs": [
    {
     "name": "stdout",
     "output_type": "stream",
     "text": [
      "              target  persistance\n",
      "date                             \n",
      "2006-09-14  0.021675    -0.001404\n",
      "2006-09-15  0.043012     0.021675\n",
      "2006-09-18  0.013450     0.043012\n",
      "2006-09-19  0.025225     0.013450\n",
      "2006-09-20  0.024843     0.025225\n",
      "              target  persistance\n",
      "date                             \n",
      "2019-06-24 -0.000589     0.004104\n",
      "2019-06-25 -0.026401    -0.000589\n",
      "2019-06-26 -0.010480    -0.026401\n",
      "2019-06-27 -0.011358    -0.010480\n",
      "2019-06-28 -0.015457    -0.011358\n"
     ]
    }
   ],
   "source": [
    "print(df[:5])\n",
    "print(df[-5:])"
   ]
  },
  {
   "cell_type": "code",
   "execution_count": 0,
   "metadata": {
    "colab": {},
    "colab_type": "code",
    "id": "x7iq6yQdmbnE",
    "outputId": "f06df65f-ac04-4fa7-e7e6-34ac5ca64014",
    "scrolled": true
   },
   "outputs": [
    {
     "data": {
      "text/html": [
       "<div>\n",
       "<style scoped>\n",
       "    .dataframe tbody tr th:only-of-type {\n",
       "        vertical-align: middle;\n",
       "    }\n",
       "\n",
       "    .dataframe tbody tr th {\n",
       "        vertical-align: top;\n",
       "    }\n",
       "\n",
       "    .dataframe thead th {\n",
       "        text-align: right;\n",
       "    }\n",
       "</style>\n",
       "<table border=\"1\" class=\"dataframe\">\n",
       "  <thead>\n",
       "    <tr style=\"text-align: right;\">\n",
       "      <th></th>\n",
       "      <th>MSE</th>\n",
       "      <th>MAE</th>\n",
       "      <th>MDE</th>\n",
       "    </tr>\n",
       "    <tr>\n",
       "      <th>Name</th>\n",
       "      <th></th>\n",
       "      <th></th>\n",
       "      <th></th>\n",
       "    </tr>\n",
       "  </thead>\n",
       "  <tbody>\n",
       "    <tr>\n",
       "      <th>persistance</th>\n",
       "      <td>0.000582</td>\n",
       "      <td>0.017105</td>\n",
       "      <td>0.465585</td>\n",
       "    </tr>\n",
       "  </tbody>\n",
       "</table>\n",
       "</div>"
      ],
      "text/plain": [
       "                  MSE       MAE       MDE\n",
       "Name                                     \n",
       "persistance  0.000582  0.017105  0.465585"
      ]
     },
     "execution_count": 661,
     "metadata": {
      "tags": []
     },
     "output_type": "execute_result"
    }
   ],
   "source": [
    "# Placing in results dataframe\n",
    "results = pd.DataFrame(columns={\"MSE\", \"MAE\", \"MDE\"})\n",
    "results.index.name = 'Name'\n",
    "results.head()\n",
    "results.loc[\"persistance\"] = [MSE, MAE, MDE] \n",
    "results.head()"
   ]
  }
 ],
 "metadata": {
  "accelerator": "GPU",
  "colab": {
   "collapsed_sections": [],
   "name": "LSTM.ipynb",
   "provenance": [],
   "toc_visible": true,
   "version": "0.3.2"
  },
  "kernelspec": {
   "display_name": "Python 3",
   "language": "python",
   "name": "python3"
  },
  "language_info": {
   "codemirror_mode": {
    "name": "ipython",
    "version": 3
   },
   "file_extension": ".py",
   "mimetype": "text/x-python",
   "name": "python",
   "nbconvert_exporter": "python",
   "pygments_lexer": "ipython3",
   "version": "3.7.3"
  }
 },
 "nbformat": 4,
 "nbformat_minor": 1
}
