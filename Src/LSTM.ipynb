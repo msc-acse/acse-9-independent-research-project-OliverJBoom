{
 "cells": [
  {
   "cell_type": "markdown",
   "metadata": {
    "colab_type": "text",
    "id": "67j8odKJJQL_"
   },
   "source": [
    "## Loading Packages"
   ]
  },
  {
   "cell_type": "code",
   "execution_count": 144,
   "metadata": {
    "colab": {},
    "colab_type": "code",
    "id": "qd88JeQfrEzc",
    "scrolled": true
   },
   "outputs": [
    {
     "data": {
      "text/plain": [
       "True"
      ]
     },
     "execution_count": 144,
     "metadata": {},
     "output_type": "execute_result"
    }
   ],
   "source": [
    "from deeplearning import *\n",
    "from livelossplot import PlotLosses\n",
    "import numpy as np\n",
    "import os\n",
    "import pandas as pd\n",
    "import matplotlib.pyplot as plt\n",
    "from sklearn.preprocessing import MinMaxScaler\n",
    "from sklearn.model_selection import train_test_split\n",
    "from sklearn.decomposition import PCA\n",
    "from preprocessing import *\n",
    "import time\n",
    "import torch\n",
    "import torch.nn as nn\n",
    "import torch.nn.functional as F\n",
    "from torch.utils.data import TensorDataset, DataLoader\n",
    "from utils import *\n",
    "import warnings\n",
    "\n",
    "# plt.style.use('dark_background')\n",
    "warnings.filterwarnings(\"ignore\")\n",
    "\n",
    "def set_seed(seed, device='cpu'):\n",
    "    \"\"\"\n",
    "    Use this to set ALL the random seeds to a fixed value and take out any randomness from cuda kernels\n",
    "    \"\"\"\n",
    "    random.seed(seed)\n",
    "    np.random.seed(seed)\n",
    "    torch.manual_seed(seed)\n",
    "    \n",
    "    if torch.cuda.device_count() > 0 and torch.cuda.is_available():\n",
    "        torch.cuda.manual_seed(seed)\n",
    "        torch.cuda.manual_seed_all(seed)\n",
    "        torch.backends.cudnn.deterministic = True\n",
    "        torch.backends.cudnn.benchmark = False  \n",
    "        torch.backends.cudnn.enabled   = False\n",
    "\n",
    "    return True\n",
    "\n",
    "set_seed(42)"
   ]
  },
  {
   "cell_type": "markdown",
   "metadata": {},
   "source": [
    "### Insuring that training is done on GPU if available"
   ]
  },
  {
   "cell_type": "code",
   "execution_count": 145,
   "metadata": {},
   "outputs": [
    {
     "name": "stdout",
     "output_type": "stream",
     "text": [
      "No GPU available!\n"
     ]
    }
   ],
   "source": [
    "device = 'cpu'\n",
    "if torch.cuda.device_count() > 0 and torch.cuda.is_available():\n",
    "    print(\"Cuda installed! Running on GPU!\")\n",
    "    device = 'cuda'\n",
    "else:\n",
    "    print(\"No GPU available!\")"
   ]
  },
  {
   "cell_type": "markdown",
   "metadata": {},
   "source": [
    "## Loading Data"
   ]
  },
  {
   "cell_type": "code",
   "execution_count": 146,
   "metadata": {},
   "outputs": [],
   "source": [
    "path = \"Data/Commodity_Data\"\n",
    "universe_dict = universe_select(path, \"Cu\")"
   ]
  },
  {
   "cell_type": "markdown",
   "metadata": {
    "colab_type": "text",
    "id": "4k8FIHASpHfv"
   },
   "source": [
    "## Preprocessing"
   ]
  },
  {
   "cell_type": "code",
   "execution_count": 147,
   "metadata": {
    "colab": {},
    "colab_type": "code",
    "id": "ki2dJCGNkOVE",
    "scrolled": true
   },
   "outputs": [
    {
     "name": "stdout",
     "output_type": "stream",
     "text": [
      "Included Instrument:\n",
      "cu_shfe\n",
      "cu_lme\n",
      "cu_comex_p\n",
      "cu_comex_s\n",
      "peso\n",
      "sol\n",
      "bdi\n",
      "ted\n",
      "vix\n",
      "skew\n",
      "gsci\n"
     ]
    }
   ],
   "source": [
    "# Renaming the columns to price\n",
    "universe_dict = price_rename(universe_dict)\n",
    "# Cleaning the dataset of any erroneous datapoints\n",
    "universe_dict = clean_dict_gen(universe_dict)\n",
    "# Making sure that all the points in the window have consistent lenght\n",
    "universe_dict = truncate_window_length(universe_dict)\n",
    "\n",
    "# Lg Returns Only\n",
    "df_full = generate_dataset(universe_dict, lg_returns_only=True, price_only=False)\n",
    "# Price Only\n",
    "# df_full = generate_dataset(universe_dict, lg_returns_only=False, price_only=True)"
   ]
  },
  {
   "cell_type": "code",
   "execution_count": 148,
   "metadata": {},
   "outputs": [],
   "source": [
    "# Both Price and Log Returns\n",
    "# df_full = generate_dataset(universe_dict, lg_returns_only=False, price_only=False)"
   ]
  },
  {
   "cell_type": "code",
   "execution_count": 149,
   "metadata": {},
   "outputs": [],
   "source": [
    "# Raw Price Target\n",
    "# df_target = df_full[[\"price_cu_lme\"]]\n",
    "# df_target = df_target.shift(-5)\n",
    "# df_full = df_full[df_full.columns.drop(list(df_full.filter(regex='price')))]"
   ]
  },
  {
   "cell_type": "markdown",
   "metadata": {},
   "source": [
    "The target column represents the log returns at one forecast length out in the future for the instrument of interest (aluminium or copper prices on the London Metals Exchange). \n",
    "\n",
    "To normalise the independent variables, the 1 day log returns between closing prices have been used."
   ]
  },
  {
   "cell_type": "code",
   "execution_count": 150,
   "metadata": {
    "code_folding": [],
    "scrolled": true
   },
   "outputs": [],
   "source": [
    "# Visualise the plots\n",
    "# visualise_universe(universe_dict)\n",
    "df = df_full[[\"target\"]]"
   ]
  },
  {
   "cell_type": "code",
   "execution_count": 151,
   "metadata": {
    "scrolled": true
   },
   "outputs": [
    {
     "data": {
      "text/html": [
       "<div>\n",
       "<style scoped>\n",
       "    .dataframe tbody tr th:only-of-type {\n",
       "        vertical-align: middle;\n",
       "    }\n",
       "\n",
       "    .dataframe tbody tr th {\n",
       "        vertical-align: top;\n",
       "    }\n",
       "\n",
       "    .dataframe thead th {\n",
       "        text-align: right;\n",
       "    }\n",
       "</style>\n",
       "<table border=\"1\" class=\"dataframe\">\n",
       "  <thead>\n",
       "    <tr style=\"text-align: right;\">\n",
       "      <th></th>\n",
       "      <th>cu_shfe</th>\n",
       "      <th>cu_lme</th>\n",
       "      <th>cu_comex_p</th>\n",
       "      <th>cu_comex_s</th>\n",
       "      <th>peso</th>\n",
       "      <th>sol</th>\n",
       "      <th>bdi</th>\n",
       "      <th>ted</th>\n",
       "      <th>vix</th>\n",
       "      <th>skew</th>\n",
       "      <th>gsci</th>\n",
       "      <th>target</th>\n",
       "    </tr>\n",
       "    <tr>\n",
       "      <th>date</th>\n",
       "      <th></th>\n",
       "      <th></th>\n",
       "      <th></th>\n",
       "      <th></th>\n",
       "      <th></th>\n",
       "      <th></th>\n",
       "      <th></th>\n",
       "      <th></th>\n",
       "      <th></th>\n",
       "      <th></th>\n",
       "      <th></th>\n",
       "      <th></th>\n",
       "    </tr>\n",
       "  </thead>\n",
       "  <tbody>\n",
       "    <tr>\n",
       "      <th>2006-09-13</th>\n",
       "      <td>0.001583</td>\n",
       "      <td>-0.013602</td>\n",
       "      <td>0.000590</td>\n",
       "      <td>0.055554</td>\n",
       "      <td>-0.000558</td>\n",
       "      <td>0.000307</td>\n",
       "      <td>0.029244</td>\n",
       "      <td>-0.004276</td>\n",
       "      <td>-0.064091</td>\n",
       "      <td>-0.048458</td>\n",
       "      <td>0.002624</td>\n",
       "      <td>-0.001404</td>\n",
       "    </tr>\n",
       "    <tr>\n",
       "      <th>2006-09-14</th>\n",
       "      <td>0.025695</td>\n",
       "      <td>-0.006098</td>\n",
       "      <td>-0.003100</td>\n",
       "      <td>-0.104881</td>\n",
       "      <td>0.000707</td>\n",
       "      <td>-0.001692</td>\n",
       "      <td>0.018715</td>\n",
       "      <td>0.005088</td>\n",
       "      <td>0.032559</td>\n",
       "      <td>-0.008086</td>\n",
       "      <td>-0.010694</td>\n",
       "      <td>0.021675</td>\n",
       "    </tr>\n",
       "    <tr>\n",
       "      <th>2006-09-15</th>\n",
       "      <td>-0.027710</td>\n",
       "      <td>-0.021468</td>\n",
       "      <td>-0.019557</td>\n",
       "      <td>0.041104</td>\n",
       "      <td>-0.001172</td>\n",
       "      <td>0.000154</td>\n",
       "      <td>0.012050</td>\n",
       "      <td>0.002636</td>\n",
       "      <td>0.018019</td>\n",
       "      <td>0.124060</td>\n",
       "      <td>-0.004952</td>\n",
       "      <td>0.043012</td>\n",
       "    </tr>\n",
       "    <tr>\n",
       "      <th>2006-09-18</th>\n",
       "      <td>0.006177</td>\n",
       "      <td>0.024153</td>\n",
       "      <td>0.030146</td>\n",
       "      <td>0.032495</td>\n",
       "      <td>0.000000</td>\n",
       "      <td>-0.000924</td>\n",
       "      <td>0.004920</td>\n",
       "      <td>0.002023</td>\n",
       "      <td>0.001699</td>\n",
       "      <td>-0.060186</td>\n",
       "      <td>0.007824</td>\n",
       "      <td>0.013450</td>\n",
       "    </tr>\n",
       "    <tr>\n",
       "      <th>2006-09-19</th>\n",
       "      <td>0.023214</td>\n",
       "      <td>0.007613</td>\n",
       "      <td>-0.012512</td>\n",
       "      <td>0.138083</td>\n",
       "      <td>0.000000</td>\n",
       "      <td>0.000000</td>\n",
       "      <td>-0.000935</td>\n",
       "      <td>-0.000202</td>\n",
       "      <td>0.016835</td>\n",
       "      <td>-0.018385</td>\n",
       "      <td>-0.019642</td>\n",
       "      <td>0.025225</td>\n",
       "    </tr>\n",
       "  </tbody>\n",
       "</table>\n",
       "</div>"
      ],
      "text/plain": [
       "             cu_shfe    cu_lme  cu_comex_p  cu_comex_s      peso       sol  \\\n",
       "date                                                                         \n",
       "2006-09-13  0.001583 -0.013602    0.000590    0.055554 -0.000558  0.000307   \n",
       "2006-09-14  0.025695 -0.006098   -0.003100   -0.104881  0.000707 -0.001692   \n",
       "2006-09-15 -0.027710 -0.021468   -0.019557    0.041104 -0.001172  0.000154   \n",
       "2006-09-18  0.006177  0.024153    0.030146    0.032495  0.000000 -0.000924   \n",
       "2006-09-19  0.023214  0.007613   -0.012512    0.138083  0.000000  0.000000   \n",
       "\n",
       "                 bdi       ted       vix      skew      gsci    target  \n",
       "date                                                                    \n",
       "2006-09-13  0.029244 -0.004276 -0.064091 -0.048458  0.002624 -0.001404  \n",
       "2006-09-14  0.018715  0.005088  0.032559 -0.008086 -0.010694  0.021675  \n",
       "2006-09-15  0.012050  0.002636  0.018019  0.124060 -0.004952  0.043012  \n",
       "2006-09-18  0.004920  0.002023  0.001699 -0.060186  0.007824  0.013450  \n",
       "2006-09-19 -0.000935 -0.000202  0.016835 -0.018385 -0.019642  0.025225  "
      ]
     },
     "execution_count": 151,
     "metadata": {},
     "output_type": "execute_result"
    }
   ],
   "source": [
    "df_full.head(5)\n",
    "# df_full.tail(5)"
   ]
  },
  {
   "cell_type": "markdown",
   "metadata": {},
   "source": [
    "Normalise data\n",
    "\n",
    "Split into validation data and test data\n",
    "\n",
    "Use validation to tune hyperparameters\n",
    "\n",
    "Perform predictions on the test dataset"
   ]
  },
  {
   "cell_type": "markdown",
   "metadata": {},
   "source": [
    "### Creating dataset for pytorch"
   ]
  },
  {
   "cell_type": "code",
   "execution_count": 152,
   "metadata": {},
   "outputs": [],
   "source": [
    "df_X = df_full.loc[:, df_full.columns != 'target']\n",
    "df_y = df_full.loc[:, df_full.columns == 'target']\n",
    "# df_y = df_target"
   ]
  },
  {
   "cell_type": "code",
   "execution_count": 153,
   "metadata": {
    "code_folding": []
   },
   "outputs": [
    {
     "name": "stdout",
     "output_type": "stream",
     "text": [
      "Number of dimensions: 2\n",
      "Explained Variance: [0.88762885 0.07697064] \n",
      "Explained Variance Sum: 0.9645994834543203\n"
     ]
    }
   ],
   "source": [
    "# Reducing the dataset to containing a threshold \n",
    "# amount of variance\n",
    "n_dim = dimension_selector(df_X, thresh=0.95)\n",
    "df_X = dimension_reduce(df_X, n_dim)"
   ]
  },
  {
   "cell_type": "code",
   "execution_count": 154,
   "metadata": {},
   "outputs": [],
   "source": [
    "# The input size of each time series window\n",
    "series_length = 100\n",
    "\n",
    "# Creating a data structure which is slices of input size\n",
    "X_train = []\n",
    "y_train = []\n",
    "\n",
    "for i in range(series_length, len(df_X)):\n",
    "    X_train.append(df_X.values[i-series_length:i, :])\n",
    "    y_train.append(df_y.values[i, 0])\n",
    "    \n",
    "X_train, y_train = np.array(X_train), np.array(y_train)"
   ]
  },
  {
   "cell_type": "markdown",
   "metadata": {},
   "source": [
    "### Hyperparameters"
   ]
  },
  {
   "cell_type": "code",
   "execution_count": 155,
   "metadata": {},
   "outputs": [],
   "source": [
    "# Hyperparameters\n",
    "learning_rate = 1e-2\n",
    "momentum = 0.5\n",
    "weight_decay = 0\n",
    "\n",
    "# Batch Parameters\n",
    "batch_size = 128\n",
    "test_batch_size = 1000\n",
    "\n",
    "n_epochs = 2\n",
    "\n",
    "# Model Parameters\n",
    "num_features = len(df_X.columns)\n",
    "hidden_dim = 64\n",
    "num_layers = 2\n",
    "output_dim = 1"
   ]
  },
  {
   "cell_type": "markdown",
   "metadata": {},
   "source": [
    "### Class for LSTM deep learning"
   ]
  },
  {
   "cell_type": "code",
   "execution_count": 216,
   "metadata": {},
   "outputs": [],
   "source": [
    "class DeepLearning():\n",
    "    \"\"\"Class to perform training and validation for a given model\"\"\"\n",
    "    def __init__(self, model, df_X, df_y,\n",
    "                 n_epochs,\n",
    "                 optimiser, \n",
    "                 window_size,\n",
    "                 loss_function=torch.nn.MSELoss(size_average=False),\n",
    "                 device=\"cpu\", \n",
    "                 seed=42,\n",
    "                 debug = True):\n",
    "        \n",
    "        # The neural network architecture\n",
    "        self.model = model\n",
    "        \n",
    "        # The optimiser for gradient descent\n",
    "        self.optimiser = optimiser\n",
    "        \n",
    "        # Dataframe of training values\n",
    "        self.df_X = df_X\n",
    "        \n",
    "        # Dataframe of target values\n",
    "        self.df_y = df_y\n",
    "        \n",
    "        # The number of epochs\n",
    "        self.n_epochs = n_epochs\n",
    "   \n",
    "        #self.optimiser = optimiser\n",
    "        self.loss_function = loss_function\n",
    "        \n",
    "        # Whether to run on cpu or gpu\n",
    "        self.device = device\n",
    "        \n",
    "        # The random seed to set\n",
    "        self.seed = seed\n",
    "        \n",
    "        # To activate debug mode\n",
    "        self.debug = debug\n",
    "        \n",
    "        # For training logs\n",
    "        self.logs = None\n",
    "        \n",
    "        # The array of predicted lists for each batch\n",
    "        self.pred_list = None\n",
    "        \n",
    "        assert (type(self.df_X) == pd.DataFrame)\n",
    "        assert (type(self.df_y) == pd.DataFrame)\n",
    "        assert (len(self.df_X.index) == len(self.df_y.index))\n",
    "        assert (len(self.df_X.index) > 0)\n",
    "        \n",
    "        self.X_train = None\n",
    "        self.X_val = None\n",
    "        self.X_test = None\n",
    "        \n",
    "        self.y_train = None\n",
    "        self.y_val = None\n",
    "        self.y_test = None\n",
    "        \n",
    "        self.window_size = window_size\n",
    "        self.inspect = None\n",
    "        \n",
    "    def train_val_test(self):\n",
    "        \"\"\"Splits the dataframes in to a training, validation\n",
    "        and test set and creates torch tensors from the underlying\n",
    "        numpy arrays\"\"\"\n",
    "        # Splitting the sets into train, test and validation\n",
    "        self.X_train, self.X_test, self.y_train, self.y_test = train_test_split(self.df_X, self.df_y, test_size=0.2, shuffle=False)\n",
    "        \n",
    "        self.X_train, self.X_val, self.y_train, self.y_val = train_test_split(self.X_train, self.y_train, test_size=0.25, shuffle=False)\n",
    "\n",
    "        if self.debug:\n",
    "            print(\"Train Length: \\t\\t%i\\nValidation Length: \\t%i\\nTest Length:\\t\\t%i\" \n",
    "                  % (len(X_train), len(X_val), len(X_test)))\n",
    "        \n",
    "        # Performs normalisation\n",
    "        # This changes the types of the X_train/val/test \n",
    "        # from dataframe to arrays\n",
    "        self.normalise()\n",
    "        \n",
    "        # Tensor of training data\n",
    "        self.X_train = torch.from_numpy(self.X_train).float()\n",
    "        self.y_train = torch.from_numpy(self.y_train.values).float()\n",
    "\n",
    "        # Tensor of training labels\n",
    "        self.X_val = torch.from_numpy(self.X_val).float()\n",
    "        self.y_val = torch.from_numpy(self.y_val.values).float()\n",
    "\n",
    "        #  Tensor of test data\n",
    "        self.X_test = torch.from_numpy(self.X_test).float()\n",
    "        self.y_test = torch.from_numpy(self.y_test.values).float()\n",
    "\n",
    "        # Size Check\n",
    "        if self.debug:\n",
    "            print(\"\\nInitial Size Check:\")\n",
    "            self.size_check()\n",
    "    \n",
    "    \n",
    "    def size_check(self):\n",
    "        \"\"\"Checks the size of the datasets\"\"\"\n",
    "        if self.debug:\n",
    "            print(\"\\nX Train Shape:\\t\\t\", self.X_train.size())\n",
    "            print(\"X Val Shape:\\t\\t\", self.X_val.size())\n",
    "            print(\"X Test Shape:\\t\\t\", self.X_test.size())\n",
    "\n",
    "            print(\"\\ny Train Shape:\\t\\t\", self.y_train.size())\n",
    "            print(\"y Val Shape:\\t\\t\", self.y_val.size())\n",
    "            print(\"y Test Shape:\\t\\t\", self.y_test.size())\n",
    "    \n",
    "    \n",
    "    def normalise(self):\n",
    "        \"\"\"Normalizes the data using MaxMinScaler, which\n",
    "            was chosen because it preserves the original \n",
    "            scale and doesn't reduce effect of outliers\"\"\"\n",
    "        \n",
    "        scaler = MinMaxScaler()\n",
    "        \n",
    "        # Normalize the validation and test set by the same\n",
    "        # scale as the training data. Needed for training to\n",
    "        # be correctly scaled\n",
    "        \n",
    "        self.X_train = scaler.fit_transform(self.X_train)\n",
    "        self.X_val = scaler.transform(self.X_val)\n",
    "        self.X_test = scaler.transform(self.X_test)\n",
    "        \n",
    "        \"\"\"TODO implement output scaling for MTL because \n",
    "        otherwise the scale of the different outputs will\n",
    "        lead to dominance of some tasks\"\"\"\n",
    "        \n",
    "    \n",
    "    def create_data_loaders(self):\n",
    "        \"\"\"Forms iterators to pipeline in the data\"\"\"\n",
    "        \n",
    "        # Slices the datasets into their respective windows\n",
    "        # Beginning at 0 with a step of 1, then rearranging the \n",
    "        # columns to be consisten with notation.\n",
    "        self.X_train= self.X_train.unfold(0, self.window_size, 1).permute(0, 2, 1)\n",
    "        self.X_val = self.X_val.unfold(0, self.window_size, 1).permute(0, 2, 1)\n",
    "        self.X_test = self.X_test.unfold(0, self.window_size, 1).permute(0, 2, 1)\n",
    "        \n",
    "        # The target values also need to be lined up\n",
    "        # This reduces the dataset by the window size\n",
    "        # The [:,;,-1] it to take the value at the end\n",
    "        # of the window now the beginning\n",
    "        self.y_train = self.y_train.unfold(0, self.window_size, 1)[:, :, -1]\n",
    "        self.y_val = self.y_val.unfold(0, self.window_size, 1)[:, :, -1]\n",
    "        self.y_test = self.y_test.unfold(0, self.window_size, 1)[:, :, -1]\n",
    "        \n",
    "        print(\"\\nTime Series Quantity: %i Rolling Window Size: %i Feature Number: %i\"\n",
    "             %(self.X_train.shape[0], self.X_train.shape[1], self.X_train.shape[2]))\n",
    "        if self.debug:\n",
    "            print(\"\\nDataset Creation Size Check:\")\n",
    "            self.size_check()\n",
    "            \n",
    "        # Create tensor datasets\n",
    "        train_dataset = TensorDataset(self.X_train, self.y_train)\n",
    "        val_dataset = TensorDataset(self.X_val, self.y_val)\n",
    "        test_dataset = TensorDataset(self.X_test, self.y_test)\n",
    "        \n",
    "        # Data loaders\n",
    "        train_data_loader = DataLoader(dataset=train_dataset, batch_size=batch_size, shuffle=False)\n",
    "        val_data_loader = DataLoader(dataset=val_dataset, batch_size=batch_size, shuffle=False)\n",
    "        test_data_loader = DataLoader(dataset=test_dataset, batch_size=batch_size, shuffle=False)\n",
    "        \n",
    "        return train_data_loader, val_data_loader, test_data_loader\n",
    "    \n",
    "    \n",
    "    def train(self, train_data_loader):\n",
    "        \"\"\"Performs a single training cycle and returns the\n",
    "        mean squared error loss for the training dataset\"\"\"\n",
    "        # Sets the model to train mode\n",
    "        self.model.train()\n",
    "        \n",
    "        train_loss = 0.\n",
    "        \n",
    "        # List of each batch predictions\n",
    "        pred_list = []\n",
    "        \n",
    "        # The data loader creates batches of data to train\n",
    "        for i_batch, (X_train_batch, y_train_batch) in enumerate(train_data_loader):\n",
    "            \n",
    "            #print('Batch : ', i_batch)\n",
    "            \n",
    "            # Sending the data to GPU if available\n",
    "            X_train_batch = X_train_batch.to(self.device)\n",
    "            y_train_batch = y_train_batch.to(self.device)\n",
    "            \n",
    "            # Zeros the gradients\n",
    "            self.optimiser.zero_grad()\n",
    "\n",
    "            # Need to set seed here to make deterministic\n",
    "            set_seed(42)\n",
    "        \n",
    "            # Perform forward pass\n",
    "            y_pred = self.model(X_train_batch)\n",
    "            \n",
    "            # Calculate loss for the batch\n",
    "            loss = self.loss_function(y_pred, y_train_batch)   \n",
    "\n",
    "            # Perform backward pass\n",
    "            loss.backward()   \n",
    "\n",
    "            # Adding the predictions for this batch to prediction list\n",
    "            pred_list.append(y_pred)\n",
    "            \n",
    "            # Calculate the training loss\n",
    "            train_loss += (loss * X_train_batch.size()[0]).detach().cpu().numpy()\n",
    "\n",
    "            # Update Parameters\n",
    "            self.optimiser.step()               \n",
    "        \n",
    "        # Converting an array of batches of predictions to a list of predictions\n",
    "        self.pred_list = [single_pred for batch in pred_list for single_pred in batch.detach().numpy()]\n",
    "        \n",
    "        return train_loss/len(train_data_loader.dataset.tensors[0])\n",
    "    \n",
    "    \n",
    "#     def validate(self, val_data_loader):\n",
    "#         \"\"\"Evaluates the performance of the network\n",
    "#         on unseen validation data\"\"\"\n",
    "#         # Set the model to evaluate mode\n",
    "#         self.model.eval()\n",
    "        \n",
    "#         val_loss = 0.\n",
    "#         # The data loader creates batches of data to validate\n",
    "#         for X_val_batch, y_val_batch in val_data_loader:\n",
    "            \n",
    "#             # Ensures that the gradients are not updated\n",
    "#             with torch.no_grad():\n",
    "                \n",
    "#                 # Sending the data to GPU if available\n",
    "#                 X_val_batch = X_val_batch.to(self.device)\n",
    "#                 y_val_batch = y_val_batch.to(self.device)\n",
    "            \n",
    "#                 # Perform forward pass\n",
    "#                 y_pred = self.model(X_val_batch)\n",
    "\n",
    "#                 # Calculate loss for the batch\n",
    "#                 loss = self.loss_function(y_pred, y_val_batch) \n",
    "                \n",
    "#                 # Calculate the validation loss\n",
    "#                 val_loss += (loss * X_val_batch.size()[0]).detach().cpu().numpy()\n",
    "            \n",
    "#         return val_loss/len(val_data_loader.dataset.tensors[0])\n",
    "    \n",
    "    \n",
    "    def training_wrapper(self):\n",
    "        \n",
    "        # start timer\n",
    "        start_time = time.time()\n",
    "\n",
    "        # set seed\n",
    "        set_seed(int(self.seed))\n",
    "        \n",
    "        # Create data loaders\n",
    "        train_loader, val_loader, test_loader = learning.create_data_loaders()\n",
    "        \n",
    "        # Shows live plot of losses\n",
    "        liveloss = PlotLosses()\n",
    "        \n",
    "        # Begin training\n",
    "        for epoch in range(self.n_epochs):\n",
    "            \n",
    "            logs = {}\n",
    "            \n",
    "            train_loss = self.train(train_loader) \n",
    "            #val_loss = self.validate(val_loader) \n",
    "            \n",
    "            print(\"Losses:\" , train_loss.item())\n",
    "            #print(\"Losses:\" ,train_loss.item(), val_loss.item())\n",
    "            \n",
    "            logs['' + 'log loss'] = train_loss.item()\n",
    "            #logs['val_' + 'log loss'] = val_loss.item()\n",
    "            logs['time'] = time.time() - start_time\n",
    "            \n",
    "            #liveloss.update(logs)\n",
    "            #liveloss.draw()\n",
    "            \n",
    "            print(\"Epoch %i MSE %.2f  Time %.1f\" % (epoch, train_loss.item(), (time.time() - start_time)))"
   ]
  },
  {
   "cell_type": "code",
   "execution_count": 170,
   "metadata": {},
   "outputs": [],
   "source": [
    "class LSTM(nn.Module):\n",
    "    \"\"\"A Long Short Term Memory network\n",
    "    model\"\"\"\n",
    "        \n",
    "    def __init__(self, num_features, hidden_dim, output_dim,\n",
    "                 batch_size, series_length, \n",
    "                 dropout=0.1, num_layers=2, debug=True):\n",
    "        \n",
    "        super(LSTM, self).__init__()\n",
    "        \n",
    "        # Number of features\n",
    "        self.num_features = num_features\n",
    "        \n",
    "        # Hidden dimensions\n",
    "        self.hidden_dim = hidden_dim\n",
    "\n",
    "        # Number of hidden layers\n",
    "        self.num_layers = num_layers\n",
    "        \n",
    "        # The output dimensions\n",
    "        self.output_dim = output_dim\n",
    "        \n",
    "        # Batch Size\n",
    "        self.batch_size = batch_size\n",
    "        \n",
    "        # Length of sequence\n",
    "        self.series_length = series_length\n",
    "        \n",
    "        # Dropout Probability\n",
    "        self.dropout = dropout\n",
    "        \n",
    "        # Define the LSTM layer\n",
    "        self.lstm = nn.LSTM(\n",
    "            input_size = self.num_features, \n",
    "            hidden_size =self.hidden_dim,\n",
    "            num_layers =self.num_layers)\n",
    "\n",
    "        # Fully Connected Layer\n",
    "        self.fc1 = nn.Linear(in_features=self.hidden_dim, \n",
    "                             out_features=self.hidden_dim)\n",
    "        \n",
    "        # Activation function\n",
    "        self.act = nn.ReLU()\n",
    "        \n",
    "        # Output layer\n",
    "        self.out = nn.Linear(in_features=self.hidden_dim, \n",
    "                             out_features=self.output_dim)\n",
    "        \n",
    "        \"\"\"TODO Add fully connected layer and see if that improves\"\"\"\n",
    "        \n",
    "        \n",
    "    def init_hidden(self, batch_size):\n",
    "        \"\"\"Initialised the hidden state to be zeros\"\"\"\n",
    "        return (torch.zeros(self.num_layers, batch_size, self.hidden_dim).to(device),\n",
    "                torch.zeros(self.num_layers, batch_size, self.hidden_dim).to(device))\n",
    "    \n",
    "    \n",
    "    def forward(self, x):\n",
    "        \"\"\"Forward pass through the neural network\"\"\"\n",
    "        \n",
    "        \"\"\"TODO Directly switch these variables in \n",
    "        the permute of the dataset\"\"\"\n",
    "        \n",
    "        # Adjust to a variable batch size \n",
    "        batch_size = x.size()[0]\n",
    "        series_length = x.size()[1]\n",
    "        \n",
    "        #print(\"series_length, batch_size\", series_length, batch_size)\n",
    "        \n",
    "        assert (series_length == self.series_length)\n",
    "        \n",
    "        \"\"\"TODO Check output of contiguous and non \n",
    "        contigious memory\"\"\"\n",
    "        \n",
    "        # Keeps the dimensions constant regardless of batchsize\n",
    "        x = x.contiguous().view(series_length, batch_size, -1) \n",
    "\n",
    "        # Initialises the hidden states\n",
    "        h0, c0 = self.init_hidden(batch_size)\n",
    "        \n",
    "        # Pass through through lstm layer\n",
    "        # Only the x is of interest\n",
    "        x, (hn, cn) = self.lstm(x, (h0, c0))\n",
    "        \n",
    "        # Output is seq to seq but only want seq to val\n",
    "        # So only use the final value of the lstm outputted\n",
    "        # sequence\n",
    "        x = x[-1]  \n",
    "        \n",
    "        # Fully connected hidden layer\n",
    "        x = self.act(self.fc1(x))\n",
    "        \n",
    "        return self.out(x).view(-1)"
   ]
  },
  {
   "cell_type": "code",
   "execution_count": 182,
   "metadata": {
    "scrolled": true
   },
   "outputs": [
    {
     "name": "stdout",
     "output_type": "stream",
     "text": [
      "num_features 2 \n",
      "hidden_dim 64\n",
      "series_length 100 \n",
      "batch_size 128\n",
      "output_dim 1 \n",
      "num_layers 2\n",
      "df_X  (3333, 2) \n",
      "df_y (3333, 1)\n"
     ]
    }
   ],
   "source": [
    "model_lstm = LSTM(num_features=num_features, \n",
    "             hidden_dim=hidden_dim, \n",
    "             series_length = series_length,\n",
    "             batch_size=batch_size,\n",
    "             output_dim=output_dim, \n",
    "             num_layers=num_layers)\n",
    "\n",
    "print(\"num_features %i \\nhidden_dim %i\\nseries_length %i \\nbatch_size %i\\noutput_dim %i \\nnum_layers %i\"\n",
    "      % (num_features, hidden_dim, series_length, batch_size,output_dim, num_layers))\n",
    "\n",
    "print('df_X ', df_X.values.shape, '\\ndf_y', df_y.values.shape)"
   ]
  },
  {
   "cell_type": "code",
   "execution_count": 172,
   "metadata": {
    "scrolled": true
   },
   "outputs": [
    {
     "name": "stdout",
     "output_type": "stream",
     "text": [
      "\n",
      "Time Series Quantity: 1900 Rolling Window Size: 100 Feature Number: 2\n",
      "Losses: 55.49443156995272\n",
      "Epoch 0 MSE 55.49  Time 4.0\n",
      "Losses: 29.887238833778785\n",
      "Epoch 1 MSE 29.89  Time 7.9\n",
      "Losses: 28.27406612998561\n",
      "Epoch 2 MSE 28.27  Time 11.7\n"
     ]
    }
   ],
   "source": [
    "# df_X = df_full.loc[:, df_full.columns != 'target']\n",
    "# df_y = df_full.loc[:, df_full.columns == 'target']\n",
    "# df_y = df_target\n",
    "\n",
    "# optimiser = torch.optim.SGD(model_test.parameters(), lr=learning_rate, momentum=momentum, weight_decay=weight_decay)\n",
    "optimiser = torch.optim.Adam(model_lstm.parameters(), learning_rate)\n",
    "\n",
    "\"\"\"Do I need to declare a data explicitly in the dataset\"\"\"\n",
    "learning = DeepLearning(model=model_lstm, \n",
    "                        df_X=df_X, \n",
    "                        df_y=df_y, \n",
    "                        n_epochs=3,\n",
    "                        optimiser=optimiser,\n",
    "                        window_size=series_length,\n",
    "                        debug=False)\n",
    "\n",
    "# Splitting the data into the train, validation and test sets\n",
    "learning.train_val_test()\n",
    "learning.training_wrapper()"
   ]
  },
  {
   "cell_type": "markdown",
   "metadata": {},
   "source": [
    "### Non class runthrough"
   ]
  },
  {
   "cell_type": "code",
   "execution_count": 183,
   "metadata": {},
   "outputs": [],
   "source": [
    "X_train = learning.X_train\n",
    "X_test = learning.X_test\n",
    "y_train = learning.y_train\n",
    "y_test = learning.y_test"
   ]
  },
  {
   "cell_type": "code",
   "execution_count": 184,
   "metadata": {},
   "outputs": [
    {
     "name": "stdout",
     "output_type": "stream",
     "text": [
      "torch.Size([1900, 100, 2])\n",
      "torch.Size([1900, 1])\n"
     ]
    }
   ],
   "source": [
    "print(X_train.shape)\n",
    "print(y_train.shape)"
   ]
  },
  {
   "cell_type": "code",
   "execution_count": 185,
   "metadata": {},
   "outputs": [],
   "source": [
    "dset = TensorDataset(X_train, y_train)\n",
    "\n",
    "train_loader = DataLoader(dset,\n",
    "                          batch_size=batch_size,\n",
    "                          shuffle=False)"
   ]
  },
  {
   "cell_type": "code",
   "execution_count": 188,
   "metadata": {
    "scrolled": false
   },
   "outputs": [
    {
     "data": {
      "text/plain": [
       "<bound method Module.parameters of LSTM(\n",
       "  (lstm): LSTM(2, 64, num_layers=2)\n",
       "  (fc1): Linear(in_features=64, out_features=64, bias=True)\n",
       "  (act): ReLU()\n",
       "  (out): Linear(in_features=64, out_features=1, bias=True)\n",
       ")>"
      ]
     },
     "execution_count": 188,
     "metadata": {},
     "output_type": "execute_result"
    }
   ],
   "source": [
    "model_001= LSTM(num_features=num_features, \n",
    "             hidden_dim=hidden_dim, \n",
    "             series_length = series_length,\n",
    "             batch_size=batch_size,\n",
    "             output_dim=output_dim, \n",
    "             num_layers=num_layers)\n",
    "\n",
    "model_001.parameters"
   ]
  },
  {
   "cell_type": "code",
   "execution_count": 189,
   "metadata": {
    "scrolled": true
   },
   "outputs": [
    {
     "name": "stdout",
     "output_type": "stream",
     "text": [
      "Epoch: 0 MSE: 7.44381 Time: 4.519\n",
      "Epoch: 1 MSE: 5.15418 Time: 8.429\n",
      "Epoch: 2 MSE: 5.29295 Time: 12.383\n",
      "Epoch: 3 MSE: 5.29148 Time: 16.182\n",
      "Epoch: 4 MSE: 5.21630 Time: 20.009\n"
     ]
    }
   ],
   "source": [
    "num_epochs = 5\n",
    "log = np.zeros(num_epochs)\n",
    "loss_fn = torch.nn.MSELoss(size_average=False)\n",
    "learning_rate = 1e-3\n",
    "optimiser = torch.optim.Adam(model_001.parameters(), learning_rate)\n",
    "\n",
    "observed_list = []\n",
    "start_time = time.time()\n",
    "\n",
    "for epoch in range(num_epochs):\n",
    "    \n",
    "    pred_list = []\n",
    "    \n",
    "    for batch_idx, (X_train_batch, y_train_batch) in enumerate(train_loader):\n",
    "\n",
    "        if epoch == 0: observed_list.append(y_train_batch)\n",
    "            \n",
    "        # Zero out gradients\n",
    "        optimiser.zero_grad()\n",
    "        \n",
    "        # Need to set seed here to make deterministic\n",
    "        set_seed(42)\n",
    "        \n",
    "        # Forward pass\n",
    "        y_pred = model_001(X_train_batch)\n",
    "\n",
    "        # Loss Function\n",
    "        loss = loss_fn(y_pred, y_train_batch)\n",
    "        log[epoch] = loss.item()\n",
    "\n",
    "        # Backward pass\n",
    "        loss.backward()\n",
    "\n",
    "        # Update parameters\n",
    "        optimiser.step()\n",
    "        \n",
    "        pred_list.append(y_pred)\n",
    "    \n",
    "    if epoch % 1 == 0: print(\"Epoch: %i MSE: %.5f Time: %.3f\" % (epoch, loss.item(), (time.time() - start_time)))"
   ]
  },
  {
   "cell_type": "markdown",
   "metadata": {},
   "source": [
    "### Plotting"
   ]
  },
  {
   "cell_type": "code",
   "execution_count": 178,
   "metadata": {},
   "outputs": [],
   "source": [
    "predicted = [single_pred for batch in pred_list for single_pred in batch.detach().numpy()]\n",
    "observed = [single_pred for batch in observed_list for single_pred in batch.detach().numpy()]"
   ]
  },
  {
   "cell_type": "code",
   "execution_count": 179,
   "metadata": {},
   "outputs": [
    {
     "data": {
      "image/png": "[encoded data removed]",
      "text/plain": [
       "<Figure size 432x288 with 1 Axes>"
      ]
     },
     "metadata": {
      "needs_background": "light"
     },
     "output_type": "display_data"
    },
    {
     "data": {
      "image/png": "[encoded data removed]",
      "text/plain": [
       "<Figure size 432x288 with 1 Axes>"
      ]
     },
     "metadata": {
      "needs_background": "light"
     },
     "output_type": "display_data"
    }
   ],
   "source": [
    "plt.plot(predicted, label=\"Predicted\")\n",
    "plt.plot(observed, label=\"Observed\")\n",
    "plt.legend()\n",
    "plt.show()\n",
    "\n",
    "plt.figure()\n",
    "plt.plot(log, label=\"Training Loss\")\n",
    "plt.legend()\n",
    "plt.show()"
   ]
  },
  {
   "cell_type": "markdown",
   "metadata": {},
   "source": [
    "### Data for a toy case"
   ]
  },
  {
   "cell_type": "code",
   "execution_count": 190,
   "metadata": {},
   "outputs": [],
   "source": [
    "batch_size = 40\n",
    "# batch_size = 80"
   ]
  },
  {
   "cell_type": "code",
   "execution_count": 207,
   "metadata": {},
   "outputs": [],
   "source": [
    "X_train = torch.load('X_train.pt').permute(1, 0, 2)\n",
    "X_test = torch.load('X_test.pt').permute(1, 0, 2)\n",
    "y_train = torch.load('y_train.pt')\n",
    "y_test = torch.load('y_test.pt')\n",
    "\n",
    "y_train = y_train + 10\n",
    "y_test = y_test + 10"
   ]
  },
  {
   "cell_type": "code",
   "execution_count": 208,
   "metadata": {},
   "outputs": [
    {
     "name": "stdout",
     "output_type": "stream",
     "text": [
      "torch.Size([80, 20, 1])\n"
     ]
    }
   ],
   "source": [
    "print(X_train.shape)\n",
    "# 80 series\n",
    "# 20 is the length of a series\n",
    "# 1 feature\n",
    "\n",
    "# X_train [number of series, length of series, feature number]\n",
    "# y_train [number of series]"
   ]
  },
  {
   "cell_type": "code",
   "execution_count": 209,
   "metadata": {},
   "outputs": [],
   "source": [
    "dset = TensorDataset(X_train, y_train)"
   ]
  },
  {
   "cell_type": "code",
   "execution_count": 210,
   "metadata": {
    "code_folding": []
   },
   "outputs": [],
   "source": [
    "train_loader = DataLoader(dset,\n",
    "                          batch_size=batch_size,\n",
    "                          shuffle=False)"
   ]
  },
  {
   "cell_type": "code",
   "execution_count": 211,
   "metadata": {},
   "outputs": [],
   "source": [
    "model_toy = LSTM(num_features=1, \n",
    "             hidden_dim=64, \n",
    "             batch_size=40,\n",
    "             output_dim=1, \n",
    "             num_layers=2, \n",
    "             series_length=20)"
   ]
  },
  {
   "cell_type": "code",
   "execution_count": 212,
   "metadata": {
    "scrolled": false
   },
   "outputs": [
    {
     "name": "stdout",
     "output_type": "stream",
     "text": [
      "Epoch: 0 MSE: 4086.70020 Time: 0.119\n",
      "Epoch: 100 MSE: 1.98111 Time: 9.333\n",
      "Epoch: 200 MSE: 1.98061 Time: 19.444\n",
      "Epoch: 300 MSE: 1.98056 Time: 26.988\n",
      "Epoch: 400 MSE: 1.98048 Time: 35.176\n",
      "Epoch: 500 MSE: 1.98037 Time: 42.274\n",
      "Epoch: 600 MSE: 1.98024 Time: 49.048\n",
      "Epoch: 700 MSE: 1.98010 Time: 55.364\n",
      "Epoch: 800 MSE: 1.97993 Time: 61.779\n",
      "Epoch: 900 MSE: 1.97975 Time: 68.075\n"
     ]
    }
   ],
   "source": [
    "# num_epochs = 10\n",
    "num_epochs = 1000\n",
    "log = np.zeros(num_epochs)\n",
    "loss_fn = torch.nn.MSELoss(size_average=False)\n",
    "learning_rate = 1e-3\n",
    "optimiser = torch.optim.Adam(model_toy.parameters(), learning_rate)\n",
    "\n",
    "observed_list = []\n",
    "start_time = time.time()\n",
    "\n",
    "for epoch in range(num_epochs):\n",
    "    \n",
    "    pred_list = []\n",
    "    \n",
    "    for batch_idx, (X_train_batch, y_train_batch) in enumerate(train_loader):\n",
    "\n",
    "        if epoch == 0: observed_list.append(y_train_batch)\n",
    "            \n",
    "        # Zero out gradients\n",
    "        optimiser.zero_grad()\n",
    "        \n",
    "        # Need to set seed here to make deterministic\n",
    "        set_seed(42)\n",
    "        \n",
    "        # Forward pass\n",
    "        y_pred = model_toy(X_train_batch)\n",
    "\n",
    "        # Loss Function\n",
    "        loss = loss_fn(y_pred, y_train_batch)\n",
    "        log[epoch] = loss.item()\n",
    "\n",
    "        # Backward pass\n",
    "        loss.backward()\n",
    "\n",
    "        # Update parameters\n",
    "        optimiser.step()\n",
    "        \n",
    "        pred_list.append(y_pred)\n",
    "\n",
    "    if epoch % 100 == 0: print(\"Epoch: %i MSE: %.5f Time: %.3f\" % (epoch, loss.item(), (time.time() - start_time)))\n",
    "#     if t % 100 == 0: print(\"Epoch \", t, \"MSE: \", loss.item())"
   ]
  },
  {
   "cell_type": "markdown",
   "metadata": {},
   "source": [
    "## Plotting predictions"
   ]
  },
  {
   "cell_type": "markdown",
   "metadata": {},
   "source": [
    "### Toy example"
   ]
  },
  {
   "cell_type": "code",
   "execution_count": 213,
   "metadata": {},
   "outputs": [],
   "source": [
    "predicted = [single_pred for batch in pred_list for single_pred in batch.detach().numpy()]\n",
    "observed = [single_pred for batch in observed_list for single_pred in batch.detach().numpy()]"
   ]
  },
  {
   "cell_type": "code",
   "execution_count": 214,
   "metadata": {
    "scrolled": true
   },
   "outputs": [
    {
     "data": {
      "image/png": "[encoded data removed]",
      "text/plain": [
       "<Figure size 432x288 with 1 Axes>"
      ]
     },
     "metadata": {
      "needs_background": "light"
     },
     "output_type": "display_data"
    },
    {
     "data": {
      "image/png": "[encoded data removed]",
      "text/plain": [
       "<Figure size 432x288 with 1 Axes>"
      ]
     },
     "metadata": {
      "needs_background": "light"
     },
     "output_type": "display_data"
    }
   ],
   "source": [
    "plt.plot(predicted, label=\"Predicted\")\n",
    "plt.plot(observed, label=\"Observed\")\n",
    "plt.legend()\n",
    "plt.show()\n",
    "\n",
    "plt.figure()\n",
    "plt.plot(log, label=\"Training Loss\")\n",
    "plt.legend()\n",
    "plt.show()"
   ]
  },
  {
   "cell_type": "markdown",
   "metadata": {},
   "source": [
    "### Plotting"
   ]
  },
  {
   "cell_type": "markdown",
   "metadata": {},
   "source": [
    "### Class Example"
   ]
  },
  {
   "cell_type": "code",
   "execution_count": 134,
   "metadata": {},
   "outputs": [],
   "source": [
    "predicted = learning.pred_list\n",
    "observed = learning.y_train.numpy()"
   ]
  },
  {
   "cell_type": "code",
   "execution_count": 137,
   "metadata": {},
   "outputs": [
    {
     "data": {
      "image/png": "[encoded data removed]",
      "text/plain": [
       "<Figure size 432x288 with 1 Axes>"
      ]
     },
     "metadata": {
      "needs_background": "light"
     },
     "output_type": "display_data"
    },
    {
     "data": {
      "image/png": "[encoded data removed]",
      "text/plain": [
       "<Figure size 432x288 with 1 Axes>"
      ]
     },
     "metadata": {
      "needs_background": "light"
     },
     "output_type": "display_data"
    }
   ],
   "source": [
    "plt.plot(predicted, label=\"Predicted\")\n",
    "plt.plot(observed, label=\"Observed\")\n",
    "plt.legend()\n",
    "plt.show()\n",
    "\n",
    "plt.figure()\n",
    "plt.plot(log, label=\"Training Loss\")\n",
    "plt.legend()\n",
    "plt.show()"
   ]
  },
  {
   "cell_type": "markdown",
   "metadata": {},
   "source": [
    "# Results"
   ]
  },
  {
   "cell_type": "code",
   "execution_count": 659,
   "metadata": {},
   "outputs": [],
   "source": [
    "df = df_full[[\"target\"]]\n",
    "# Taking t-1 to be the value for t\n",
    "df[\"persistance\"] = df.shift(1)\n",
    "df.dropna(inplace=True)\n",
    "# Calculating metrics for these columns\n",
    "MSE, MAE, MDE = evaluate(df, \"target\", \"persistance\")"
   ]
  },
  {
   "cell_type": "code",
   "execution_count": 660,
   "metadata": {},
   "outputs": [
    {
     "name": "stdout",
     "output_type": "stream",
     "text": [
      "              target  persistance\n",
      "date                             \n",
      "2006-09-14  0.021675    -0.001404\n",
      "2006-09-15  0.043012     0.021675\n",
      "2006-09-18  0.013450     0.043012\n",
      "2006-09-19  0.025225     0.013450\n",
      "2006-09-20  0.024843     0.025225\n",
      "              target  persistance\n",
      "date                             \n",
      "2019-06-24 -0.000589     0.004104\n",
      "2019-06-25 -0.026401    -0.000589\n",
      "2019-06-26 -0.010480    -0.026401\n",
      "2019-06-27 -0.011358    -0.010480\n",
      "2019-06-28 -0.015457    -0.011358\n"
     ]
    }
   ],
   "source": [
    "print(df[:5])\n",
    "print(df[-5:])"
   ]
  },
  {
   "cell_type": "code",
   "execution_count": 661,
   "metadata": {
    "scrolled": true
   },
   "outputs": [
    {
     "data": {
      "text/html": [
       "<div>\n",
       "<style scoped>\n",
       "    .dataframe tbody tr th:only-of-type {\n",
       "        vertical-align: middle;\n",
       "    }\n",
       "\n",
       "    .dataframe tbody tr th {\n",
       "        vertical-align: top;\n",
       "    }\n",
       "\n",
       "    .dataframe thead th {\n",
       "        text-align: right;\n",
       "    }\n",
       "</style>\n",
       "<table border=\"1\" class=\"dataframe\">\n",
       "  <thead>\n",
       "    <tr style=\"text-align: right;\">\n",
       "      <th></th>\n",
       "      <th>MSE</th>\n",
       "      <th>MAE</th>\n",
       "      <th>MDE</th>\n",
       "    </tr>\n",
       "    <tr>\n",
       "      <th>Name</th>\n",
       "      <th></th>\n",
       "      <th></th>\n",
       "      <th></th>\n",
       "    </tr>\n",
       "  </thead>\n",
       "  <tbody>\n",
       "    <tr>\n",
       "      <th>persistance</th>\n",
       "      <td>0.000582</td>\n",
       "      <td>0.017105</td>\n",
       "      <td>0.465585</td>\n",
       "    </tr>\n",
       "  </tbody>\n",
       "</table>\n",
       "</div>"
      ],
      "text/plain": [
       "                  MSE       MAE       MDE\n",
       "Name                                     \n",
       "persistance  0.000582  0.017105  0.465585"
      ]
     },
     "execution_count": 661,
     "metadata": {},
     "output_type": "execute_result"
    }
   ],
   "source": [
    "# Placing in results dataframe\n",
    "results = pd.DataFrame(columns={\"MSE\", \"MAE\", \"MDE\"})\n",
    "results.index.name = 'Name'\n",
    "results.head()\n",
    "results.loc[\"persistance\"] = [MSE, MAE, MDE] \n",
    "results.head()"
   ]
  }
 ],
 "metadata": {
  "colab": {
   "collapsed_sections": [],
   "name": "Chai_Base.ipynb",
   "provenance": [],
   "version": "0.3.2"
  },
  "kernelspec": {
   "display_name": "Python 3",
   "language": "python",
   "name": "python3"
  },
  "language_info": {
   "codemirror_mode": {
    "name": "ipython",
    "version": 3
   },
   "file_extension": ".py",
   "mimetype": "text/x-python",
   "name": "python",
   "nbconvert_exporter": "python",
   "pygments_lexer": "ipython3",
   "version": "3.7.3"
  }
 },
 "nbformat": 4,
 "nbformat_minor": 1
}
