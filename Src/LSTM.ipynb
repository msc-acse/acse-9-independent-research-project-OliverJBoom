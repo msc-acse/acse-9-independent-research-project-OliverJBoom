{
  "nbformat": 4,
  "nbformat_minor": 0,
  "metadata": {
    "accelerator": "GPU",
    "colab": {
      "name": "LSTM.ipynb",
      "version": "0.3.2",
      "provenance": [],
      "collapsed_sections": [],
      "toc_visible": true
    },
    "kernelspec": {
      "display_name": "Python 3",
      "language": "python",
      "name": "python3"
    },
    "language_info": {
      "codemirror_mode": {
        "name": "ipython",
        "version": 3
      },
      "file_extension": ".py",
      "mimetype": "text/x-python",
      "name": "python",
      "nbconvert_exporter": "python",
      "pygments_lexer": "ipython3",
      "version": "3.7.3"
    }
  },
  "cells": [
    {
      "cell_type": "markdown",
      "metadata": {
        "colab_type": "text",
        "id": "IyHSuKQHmbky"
      },
      "source": [
        "## For Colabs"
      ]
    },
    {
      "cell_type": "code",
      "metadata": {
        "colab_type": "code",
        "id": "X8bAIFxumbk2",
        "outputId": "6a211800-cd12-4f84-fd91-c65c0e526ba4",
        "colab": {
          "base_uri": "https://localhost:8080/",
          "height": 136
        }
      },
      "source": [
        "from getpass import getpass\n",
        "import os\n",
        "\n",
        "user = \"OliverJBoom\"\n",
        "# password = getpass('github password')\n",
        "os.environ['GITHUB_AUTH'] = user + ':' + password\n",
        "\n",
        "os.chdir(\"/content\")\n",
        "!rm -rf \"/content/acse-9-independent-research-project-OliverJBoom\"\n",
        "!git clone https://$GITHUB_AUTH@github.com/msc-acse/acse-9-independent-research-project-OliverJBoom.git\n",
        "os.chdir(\"acse-9-independent-research-project-OliverJBoom/Src\")"
      ],
      "execution_count": 43,
      "outputs": [
        {
          "output_type": "stream",
          "text": [
            "Cloning into 'acse-9-independent-research-project-OliverJBoom'...\n",
            "remote: Enumerating objects: 59, done.\u001b[K\n",
            "remote: Counting objects: 100% (59/59), done.\u001b[K\n",
            "remote: Compressing objects: 100% (45/45), done.\u001b[K\n",
            "remote: Total 505 (delta 35), reused 32 (delta 14), pack-reused 446\u001b[K\n",
            "Receiving objects: 100% (505/505), 6.54 MiB | 11.19 MiB/s, done.\n",
            "Resolving deltas: 100% (273/273), done.\n"
          ],
          "name": "stdout"
        }
      ]
    },
    {
      "cell_type": "code",
      "metadata": {
        "colab_type": "code",
        "id": "oBx8zc83mbk4",
        "outputId": "41f4cceb-75e1-41ce-8c50-4c4bf506b222",
        "colab": {
          "base_uri": "https://localhost:8080/",
          "height": 34
        }
      },
      "source": [
        "from google.colab import drive\n",
        "drive.mount(\"/content/gdrive/\", force_remount=True)\n",
        "path = \"/content/gdrive/My Drive/Chai/Data\""
      ],
      "execution_count": 10,
      "outputs": [
        {
          "output_type": "stream",
          "text": [
            "Mounted at /content/gdrive/\n"
          ],
          "name": "stdout"
        }
      ]
    },
    {
      "cell_type": "markdown",
      "metadata": {
        "colab_type": "text",
        "id": "67j8odKJJQL_"
      },
      "source": [
        "## Loading Packages"
      ]
    },
    {
      "cell_type": "code",
      "metadata": {
        "colab_type": "code",
        "id": "qd88JeQfrEzc",
        "outputId": "557d0a0b-4a3e-4d38-c58c-7f611ab21a32",
        "scrolled": true,
        "colab": {
          "base_uri": "https://localhost:8080/",
          "height": 34
        }
      },
      "source": [
        "from deeplearning import *\n",
        "from models import *\n",
        "import numpy as np\n",
        "import os\n",
        "import pandas as pd\n",
        "import matplotlib.pyplot as plt\n",
        "from scipy.ndimage.interpolation import shift\n",
        "from sklearn.preprocessing import MinMaxScaler\n",
        "from sklearn.model_selection import train_test_split\n",
        "from sklearn.decomposition import PCA\n",
        "import pickle\n",
        "from preprocessing import *\n",
        "from statistics import median\n",
        "import time\n",
        "import torch\n",
        "import torch.nn as nn\n",
        "from torch.utils.data import TensorDataset, DataLoader\n",
        "from utils import *\n",
        "import warnings\n",
        "\n",
        "warnings.filterwarnings(\"ignore\")\n",
        "\n",
        "set_seed(42)"
      ],
      "execution_count": 12,
      "outputs": [
        {
          "output_type": "execute_result",
          "data": {
            "text/plain": [
              "True"
            ]
          },
          "metadata": {
            "tags": []
          },
          "execution_count": 12
        }
      ]
    },
    {
      "cell_type": "markdown",
      "metadata": {
        "colab_type": "text",
        "id": "u0N6DJJ0mbk_"
      },
      "source": [
        "### Insuring that training is done on GPU if available"
      ]
    },
    {
      "cell_type": "code",
      "metadata": {
        "colab_type": "code",
        "id": "2QpZ1E8emblA",
        "outputId": "1f3fcbf0-c272-49e0-a51f-1dbd0cc2d1af",
        "colab": {
          "base_uri": "https://localhost:8080/",
          "height": 34
        }
      },
      "source": [
        "device = 'cpu'\n",
        "if torch.cuda.device_count() > 0 and torch.cuda.is_available():\n",
        "    print(\"Cuda installed! Running on GPU!\")\n",
        "    device = 'cuda'\n",
        "else:\n",
        "    print(\"No GPU available!\")"
      ],
      "execution_count": 13,
      "outputs": [
        {
          "output_type": "stream",
          "text": [
            "Cuda installed! Running on GPU!\n"
          ],
          "name": "stdout"
        }
      ]
    },
    {
      "cell_type": "markdown",
      "metadata": {
        "colab_type": "text",
        "id": "Um9Dkbc5mblC"
      },
      "source": [
        "## Loading Data"
      ]
    },
    {
      "cell_type": "code",
      "metadata": {
        "colab_type": "code",
        "id": "weVUDM7lmblD",
        "colab": {}
      },
      "source": [
        "path = \"Data/Commodity_Data/\"\n",
        "universe_dict = universe_select(path, \"Cu\")\n",
        "use_lg_returns = False"
      ],
      "execution_count": 0,
      "outputs": []
    },
    {
      "cell_type": "markdown",
      "metadata": {
        "colab_type": "text",
        "id": "4k8FIHASpHfv"
      },
      "source": [
        "## Preprocessing"
      ]
    },
    {
      "cell_type": "code",
      "metadata": {
        "colab_type": "code",
        "id": "ki2dJCGNkOVE",
        "outputId": "33c769f1-b983-4b97-c377-a4a9f83d3c20",
        "scrolled": true,
        "colab": {
          "base_uri": "https://localhost:8080/",
          "height": 221
        }
      },
      "source": [
        "# Renaming the columns to price\n",
        "universe_dict = price_rename(universe_dict)\n",
        "\n",
        "# Cleaning the dataset of any erroneous datapoints\n",
        "universe_dict = clean_dict_gen(universe_dict)\n",
        "\n",
        "# Making sure that all the points in the window have consistent length\n",
        "universe_dict = truncate_window_length(universe_dict)\n",
        "\n",
        "# Generating the dataset\n",
        "if use_lg_returns:\n",
        "  # Lg Returns Only\n",
        "  df_full = generate_dataset(universe_dict, lg_returns_only=True, price_only=False)\n",
        "  target_col = \"cu_lme\"\n",
        "  \n",
        "else:\n",
        "  # Price Only\n",
        "  df_full = generate_dataset(universe_dict, lg_returns_only=False, price_only=True)\n",
        "  target_col = \"price_cu_lme\"\n",
        "\n",
        "# Set to False initially\n",
        "PCA_used = False"
      ],
      "execution_count": 15,
      "outputs": [
        {
          "output_type": "stream",
          "text": [
            "Included Instrument:\n",
            "cu_shfe\n",
            "cu_lme\n",
            "cu_comex_p\n",
            "cu_comex_s\n",
            "peso\n",
            "sol\n",
            "bdi\n",
            "ted\n",
            "vix\n",
            "skew\n",
            "gsci\n"
          ],
          "name": "stdout"
        }
      ]
    },
    {
      "cell_type": "code",
      "metadata": {
        "code_folding": [],
        "colab_type": "code",
        "id": "b7nd05YFmblM",
        "scrolled": true,
        "colab": {}
      },
      "source": [
        "# Visualise the plots\n",
        "# visualise_universe(universe_dict)"
      ],
      "execution_count": 0,
      "outputs": []
    },
    {
      "cell_type": "code",
      "metadata": {
        "colab_type": "code",
        "id": "7J6bOnusmblO",
        "outputId": "1990a1d2-762a-4c07-e5a0-8b13fc0f24ee",
        "scrolled": true,
        "colab": {
          "base_uri": "https://localhost:8080/",
          "height": 820
        }
      },
      "source": [
        "df_full.head(15)\n",
        "# df_full.tail(5)"
      ],
      "execution_count": 17,
      "outputs": [
        {
          "output_type": "execute_result",
          "data": {
            "text/html": [
              "<div>\n",
              "<style scoped>\n",
              "    .dataframe tbody tr th:only-of-type {\n",
              "        vertical-align: middle;\n",
              "    }\n",
              "\n",
              "    .dataframe tbody tr th {\n",
              "        vertical-align: top;\n",
              "    }\n",
              "\n",
              "    .dataframe thead th {\n",
              "        text-align: right;\n",
              "    }\n",
              "</style>\n",
              "<table border=\"1\" class=\"dataframe\">\n",
              "  <thead>\n",
              "    <tr style=\"text-align: right;\">\n",
              "      <th></th>\n",
              "      <th>price_cu_shfe</th>\n",
              "      <th>price_cu_lme</th>\n",
              "      <th>price_cu_comex_p</th>\n",
              "      <th>price_cu_comex_s</th>\n",
              "      <th>price_peso</th>\n",
              "      <th>price_sol</th>\n",
              "      <th>price_bdi</th>\n",
              "      <th>price_ted</th>\n",
              "      <th>price_vix</th>\n",
              "      <th>price_skew</th>\n",
              "      <th>price_gsci</th>\n",
              "    </tr>\n",
              "    <tr>\n",
              "      <th>date</th>\n",
              "      <th></th>\n",
              "      <th></th>\n",
              "      <th></th>\n",
              "      <th></th>\n",
              "      <th></th>\n",
              "      <th></th>\n",
              "      <th></th>\n",
              "      <th></th>\n",
              "      <th></th>\n",
              "      <th></th>\n",
              "      <th></th>\n",
              "    </tr>\n",
              "  </thead>\n",
              "  <tbody>\n",
              "    <tr>\n",
              "      <th>2006-09-13</th>\n",
              "      <td>69540.0</td>\n",
              "      <td>7484.5</td>\n",
              "      <td>3.3925</td>\n",
              "      <td>15748.0</td>\n",
              "      <td>537.35</td>\n",
              "      <td>3.2530</td>\n",
              "      <td>4129.0</td>\n",
              "      <td>4.901</td>\n",
              "      <td>11.18</td>\n",
              "      <td>120.44</td>\n",
              "      <td>438.38855</td>\n",
              "    </tr>\n",
              "    <tr>\n",
              "      <th>2006-09-14</th>\n",
              "      <td>71350.0</td>\n",
              "      <td>7439.0</td>\n",
              "      <td>3.3820</td>\n",
              "      <td>14180.0</td>\n",
              "      <td>537.73</td>\n",
              "      <td>3.2475</td>\n",
              "      <td>4207.0</td>\n",
              "      <td>4.926</td>\n",
              "      <td>11.55</td>\n",
              "      <td>119.47</td>\n",
              "      <td>433.72522</td>\n",
              "    </tr>\n",
              "    <tr>\n",
              "      <th>2006-09-15</th>\n",
              "      <td>69400.0</td>\n",
              "      <td>7281.0</td>\n",
              "      <td>3.3165</td>\n",
              "      <td>14775.0</td>\n",
              "      <td>537.10</td>\n",
              "      <td>3.2480</td>\n",
              "      <td>4258.0</td>\n",
              "      <td>4.939</td>\n",
              "      <td>11.76</td>\n",
              "      <td>135.25</td>\n",
              "      <td>431.58291</td>\n",
              "    </tr>\n",
              "    <tr>\n",
              "      <th>2006-09-18</th>\n",
              "      <td>69830.0</td>\n",
              "      <td>7459.0</td>\n",
              "      <td>3.4180</td>\n",
              "      <td>15263.0</td>\n",
              "      <td>537.10</td>\n",
              "      <td>3.2450</td>\n",
              "      <td>4279.0</td>\n",
              "      <td>4.949</td>\n",
              "      <td>11.78</td>\n",
              "      <td>127.35</td>\n",
              "      <td>434.97293</td>\n",
              "    </tr>\n",
              "    <tr>\n",
              "      <th>2006-09-19</th>\n",
              "      <td>71470.0</td>\n",
              "      <td>7516.0</td>\n",
              "      <td>3.3755</td>\n",
              "      <td>17523.0</td>\n",
              "      <td>537.10</td>\n",
              "      <td>3.2450</td>\n",
              "      <td>4275.0</td>\n",
              "      <td>4.948</td>\n",
              "      <td>11.98</td>\n",
              "      <td>125.03</td>\n",
              "      <td>426.51240</td>\n",
              "    </tr>\n",
              "    <tr>\n",
              "      <th>2006-09-20</th>\n",
              "      <td>69610.0</td>\n",
              "      <td>7474.0</td>\n",
              "      <td>3.3700</td>\n",
              "      <td>18091.0</td>\n",
              "      <td>537.80</td>\n",
              "      <td>3.2450</td>\n",
              "      <td>4244.0</td>\n",
              "      <td>4.937</td>\n",
              "      <td>11.39</td>\n",
              "      <td>122.71</td>\n",
              "      <td>418.32234</td>\n",
              "    </tr>\n",
              "    <tr>\n",
              "      <th>2006-09-21</th>\n",
              "      <td>70170.0</td>\n",
              "      <td>7602.0</td>\n",
              "      <td>3.4220</td>\n",
              "      <td>19546.0</td>\n",
              "      <td>539.70</td>\n",
              "      <td>3.2480</td>\n",
              "      <td>4200.0</td>\n",
              "      <td>4.921</td>\n",
              "      <td>12.25</td>\n",
              "      <td>119.68</td>\n",
              "      <td>423.56908</td>\n",
              "    </tr>\n",
              "    <tr>\n",
              "      <th>2006-09-22</th>\n",
              "      <td>71170.0</td>\n",
              "      <td>7601.0</td>\n",
              "      <td>3.4395</td>\n",
              "      <td>20627.0</td>\n",
              "      <td>538.50</td>\n",
              "      <td>3.2470</td>\n",
              "      <td>4136.0</td>\n",
              "      <td>4.924</td>\n",
              "      <td>12.59</td>\n",
              "      <td>118.86</td>\n",
              "      <td>418.01647</td>\n",
              "    </tr>\n",
              "    <tr>\n",
              "      <th>2006-09-25</th>\n",
              "      <td>71130.0</td>\n",
              "      <td>7560.0</td>\n",
              "      <td>3.4475</td>\n",
              "      <td>20978.0</td>\n",
              "      <td>539.30</td>\n",
              "      <td>3.2490</td>\n",
              "      <td>4069.0</td>\n",
              "      <td>4.907</td>\n",
              "      <td>12.12</td>\n",
              "      <td>120.75</td>\n",
              "      <td>418.93144</td>\n",
              "    </tr>\n",
              "    <tr>\n",
              "      <th>2006-09-26</th>\n",
              "      <td>70890.0</td>\n",
              "      <td>7708.0</td>\n",
              "      <td>3.4635</td>\n",
              "      <td>21326.0</td>\n",
              "      <td>538.10</td>\n",
              "      <td>3.2490</td>\n",
              "      <td>3979.0</td>\n",
              "      <td>4.875</td>\n",
              "      <td>11.53</td>\n",
              "      <td>121.64</td>\n",
              "      <td>419.19717</td>\n",
              "    </tr>\n",
              "    <tr>\n",
              "      <th>2006-09-27</th>\n",
              "      <td>71020.0</td>\n",
              "      <td>7662.0</td>\n",
              "      <td>3.4755</td>\n",
              "      <td>20855.0</td>\n",
              "      <td>536.70</td>\n",
              "      <td>3.2520</td>\n",
              "      <td>3915.0</td>\n",
              "      <td>4.869</td>\n",
              "      <td>11.58</td>\n",
              "      <td>118.43</td>\n",
              "      <td>426.00390</td>\n",
              "    </tr>\n",
              "    <tr>\n",
              "      <th>2006-09-28</th>\n",
              "      <td>71170.0</td>\n",
              "      <td>7500.0</td>\n",
              "      <td>3.4140</td>\n",
              "      <td>20646.0</td>\n",
              "      <td>536.75</td>\n",
              "      <td>3.2530</td>\n",
              "      <td>3911.0</td>\n",
              "      <td>4.853</td>\n",
              "      <td>11.72</td>\n",
              "      <td>118.21</td>\n",
              "      <td>426.62993</td>\n",
              "    </tr>\n",
              "    <tr>\n",
              "      <th>2006-09-29</th>\n",
              "      <td>71030.0</td>\n",
              "      <td>7568.0</td>\n",
              "      <td>3.4590</td>\n",
              "      <td>20360.0</td>\n",
              "      <td>534.70</td>\n",
              "      <td>3.2500</td>\n",
              "      <td>3944.0</td>\n",
              "      <td>4.877</td>\n",
              "      <td>11.98</td>\n",
              "      <td>120.09</td>\n",
              "      <td>428.05329</td>\n",
              "    </tr>\n",
              "    <tr>\n",
              "      <th>2006-10-02</th>\n",
              "      <td>71030.0</td>\n",
              "      <td>7523.0</td>\n",
              "      <td>3.4305</td>\n",
              "      <td>20113.0</td>\n",
              "      <td>533.10</td>\n",
              "      <td>3.2460</td>\n",
              "      <td>3956.0</td>\n",
              "      <td>4.891</td>\n",
              "      <td>12.57</td>\n",
              "      <td>119.80</td>\n",
              "      <td>420.17342</td>\n",
              "    </tr>\n",
              "    <tr>\n",
              "      <th>2006-10-03</th>\n",
              "      <td>71030.0</td>\n",
              "      <td>7347.0</td>\n",
              "      <td>3.2865</td>\n",
              "      <td>20293.0</td>\n",
              "      <td>534.25</td>\n",
              "      <td>3.2460</td>\n",
              "      <td>3960.0</td>\n",
              "      <td>4.912</td>\n",
              "      <td>12.24</td>\n",
              "      <td>116.93</td>\n",
              "      <td>409.67885</td>\n",
              "    </tr>\n",
              "  </tbody>\n",
              "</table>\n",
              "</div>"
            ],
            "text/plain": [
              "            price_cu_shfe  price_cu_lme  ...  price_skew  price_gsci\n",
              "date                                     ...                        \n",
              "2006-09-13        69540.0        7484.5  ...      120.44   438.38855\n",
              "2006-09-14        71350.0        7439.0  ...      119.47   433.72522\n",
              "2006-09-15        69400.0        7281.0  ...      135.25   431.58291\n",
              "2006-09-18        69830.0        7459.0  ...      127.35   434.97293\n",
              "2006-09-19        71470.0        7516.0  ...      125.03   426.51240\n",
              "2006-09-20        69610.0        7474.0  ...      122.71   418.32234\n",
              "2006-09-21        70170.0        7602.0  ...      119.68   423.56908\n",
              "2006-09-22        71170.0        7601.0  ...      118.86   418.01647\n",
              "2006-09-25        71130.0        7560.0  ...      120.75   418.93144\n",
              "2006-09-26        70890.0        7708.0  ...      121.64   419.19717\n",
              "2006-09-27        71020.0        7662.0  ...      118.43   426.00390\n",
              "2006-09-28        71170.0        7500.0  ...      118.21   426.62993\n",
              "2006-09-29        71030.0        7568.0  ...      120.09   428.05329\n",
              "2006-10-02        71030.0        7523.0  ...      119.80   420.17342\n",
              "2006-10-03        71030.0        7347.0  ...      116.93   409.67885\n",
              "\n",
              "[15 rows x 11 columns]"
            ]
          },
          "metadata": {
            "tags": []
          },
          "execution_count": 17
        }
      ]
    },
    {
      "cell_type": "markdown",
      "metadata": {
        "id": "x65OxxWrqv4Q",
        "colab_type": "text"
      },
      "source": [
        "### Normalizing the dataset"
      ]
    },
    {
      "cell_type": "code",
      "metadata": {
        "id": "yak6wTGtXgcA",
        "colab_type": "code",
        "colab": {}
      },
      "source": [
        "# Forecast length\n",
        "forecast_length = 5\n",
        "\n",
        "# Data scaling\n",
        "scaler_data_X = MinMaxScaler()\n",
        "scaler_data_y = MinMaxScaler()\n",
        "\n",
        "df_target = df_full[[target_col]]\n",
        "\n",
        "data_X = scaler_data_X.fit_transform(df_full)[:-forecast_length, :]\n",
        "# Need to have an independent scaler for inverse_transforming later\n",
        "data_y = scaler_data_y.fit_transform(df_target)\n",
        "\n",
        "# Offset target one forecast length\n",
        "data_y = shift(data_y.ravel(), -forecast_length)[:-forecast_length]\n",
        "# Check shape assert(data_X.shape[:, 0]== data_y.shape[0])"
      ],
      "execution_count": 0,
      "outputs": []
    },
    {
      "cell_type": "markdown",
      "metadata": {
        "colab_type": "text",
        "id": "vtwh3CX8mbla"
      },
      "source": [
        "### PCA"
      ]
    },
    {
      "cell_type": "code",
      "metadata": {
        "code_folding": [],
        "colab_type": "code",
        "id": "Tt6qMuNjmblb",
        "outputId": "47b153e3-e8e3-4a16-e298-58aa0b95e46d",
        "scrolled": false,
        "colab": {
          "base_uri": "https://localhost:8080/",
          "height": 68
        }
      },
      "source": [
        "# Reducing the dataset to containing a threshold amount of variance\n",
        "n_dim = dimension_selector(data_X, thresh=0.95)\n",
        "data_X = dimension_reduce(data_X, n_dim)\n",
        "\n",
        "PCA_used = True"
      ],
      "execution_count": 37,
      "outputs": [
        {
          "output_type": "stream",
          "text": [
            "Number of dimensions: 6\n",
            "Explained Variance: [0.49030338 0.23270694 0.1439148  0.04789975 0.02769706 0.0219951 ] \n",
            "Explained Variance Sum: 0.9645170286882985\n"
          ],
          "name": "stdout"
        }
      ]
    },
    {
      "cell_type": "markdown",
      "metadata": {
        "colab_type": "text",
        "id": "zgonSBo4mble"
      },
      "source": [
        "### Slicing Series into Windows"
      ]
    },
    {
      "cell_type": "code",
      "metadata": {
        "colab_type": "code",
        "id": "RFPTNYZpmblf",
        "colab": {}
      },
      "source": [
        "# The input size of each time series window\n",
        "series_length = 250\n",
        "  \n",
        "data_X, data_y = slice_series(data_X, data_y, series_length, dataset_pct=0.1)"
      ],
      "execution_count": 0,
      "outputs": []
    },
    {
      "cell_type": "markdown",
      "metadata": {
        "colab_type": "text",
        "id": "Whxwd1Y9mblz"
      },
      "source": [
        "### Hyperparameters"
      ]
    },
    {
      "cell_type": "code",
      "metadata": {
        "colab_type": "code",
        "id": "TmcACnnRmbl0",
        "colab": {}
      },
      "source": [
        "# Hyperparameters\n",
        "learning_rate = 1e-2\n",
        "momentum = 0.5\n",
        "weight_decay = 0\n",
        "\n",
        "# Batch Parameters\n",
        "batch_size = 32\n",
        "test_batch_size = 1000\n",
        "# series_length = 100\n",
        "\n",
        "n_epochs = 5\n",
        "\n",
        "# Model Parameters\n",
        "num_features = data_X.shape[2]\n",
        "hidden_dim = 256\n",
        "num_layers = 4\n",
        "output_dim = 1"
      ],
      "execution_count": 0,
      "outputs": []
    },
    {
      "cell_type": "markdown",
      "metadata": {
        "colab_type": "text",
        "id": "A7cwNAKcmbl4"
      },
      "source": [
        "### Initialising the model"
      ]
    },
    {
      "cell_type": "code",
      "metadata": {
        "code_folding": [
          7
        ],
        "colab_type": "code",
        "id": "ysl-hn6ombl5",
        "outputId": "cd3cb026-cebf-49dd-ab37-e975eaa4c87e",
        "scrolled": false,
        "colab": {
          "base_uri": "https://localhost:8080/",
          "height": 153
        }
      },
      "source": [
        "model = LSTM(num_features=num_features, \n",
        "             hidden_dim=hidden_dim, \n",
        "             series_length = series_length,\n",
        "             batch_size=batch_size,\n",
        "             output_dim=output_dim, \n",
        "             num_layers=num_layers, \n",
        "             device=device)\n",
        "\n",
        "model.to(device)\n",
        "\n",
        "print(\"num_features %i \\nhidden_dim %i\\nseries_length %i \\nbatch_size %i\\noutput_dim %i \\nnum_layers %i\"\n",
        "      % (num_features, hidden_dim, series_length, batch_size,output_dim, num_layers))\n",
        "\n",
        "print('data_X ', data_X.shape, '\\ndata_y', data_y.shape)"
      ],
      "execution_count": 40,
      "outputs": [
        {
          "output_type": "stream",
          "text": [
            "num_features 6 \n",
            "hidden_dim 256\n",
            "series_length 250 \n",
            "batch_size 32\n",
            "output_dim 1 \n",
            "num_layers 4\n",
            "data_X  (82, 250, 6) \n",
            "data_y (82,)\n"
          ],
          "name": "stdout"
        }
      ]
    },
    {
      "cell_type": "code",
      "metadata": {
        "id": "eqxMggP-pbus",
        "colab_type": "code",
        "colab": {}
      },
      "source": [
        "# Loading trained model\n",
        "# model = torch.load(\"/content/gdrive/My Drive/Chai/Models/Pths/\" + \"LSTM_0_040.pth\")\n",
        "# model.to(device)"
      ],
      "execution_count": 0,
      "outputs": []
    },
    {
      "cell_type": "code",
      "metadata": {
        "code_folding": [],
        "colab_type": "code",
        "id": "rRhBmwmxmbl-",
        "outputId": "83a0a3de-42c0-4fc2-dfa7-4ab33d72f99f",
        "scrolled": true,
        "colab": {
          "base_uri": "https://localhost:8080/",
          "height": 1000
        }
      },
      "source": [
        "optimiser = torch.optim.Adam(model.parameters(), learning_rate)\n",
        "\n",
        "\"\"\"Do I need to declare a data explicitly in the dataset\"\"\"\n",
        "learning = DeepLearning(model=model, \n",
        "                        data_X=data_X, \n",
        "                        data_y=data_y, \n",
        "                        n_epochs=2000,\n",
        "                        optimiser=optimiser,\n",
        "                        batch_size=batch_size,\n",
        "                        debug=False, \n",
        "                        disp_freq=1,\n",
        "                        fig_disp_freq=10, \n",
        "                        device=device,\n",
        "                        patience=100,\n",
        "                        \n",
        "                       )\n",
        "\n",
        "# Splitting the data into the train, validation and test sets\n",
        "learning.train_val_test()\n",
        "learning.training_wrapper()"
      ],
      "execution_count": 42,
      "outputs": [
        {
          "output_type": "stream",
          "text": [
            "saving model 4.988604826085708\n",
            "best model score 4.988604826085708\n",
            "Count: 0\n",
            "Epoch: 0 Train MSE: 66.15679 Val MSE: 4.98860  Time: 1.921\n"
          ],
          "name": "stdout"
        },
        {
          "output_type": "display_data",
          "data": {
            "image/png": "[encoded data removed]",
            "text/plain": [
              "<Figure size 1440x360 with 3 Axes>"
            ]
          },
          "metadata": {
            "tags": []
          }
        },
        {
          "output_type": "stream",
          "text": [
            "saving model 1.2261576933019303\n",
            "best model score 1.2261576933019303\n",
            "Count: 0\n",
            "Epoch: 1 Train MSE: 15.96493 Val MSE: 1.22616  Time: 4.409\n",
            "best model score 1.2261576933019303\n",
            "Count: 1\n",
            "Epoch: 2 Train MSE: 8.72894 Val MSE: 15.72875  Time: 6.392\n",
            "best model score 1.2261576933019303\n",
            "Count: 2\n",
            "Epoch: 3 Train MSE: 15.81434 Val MSE: 6.03173  Time: 8.358\n",
            "saving model 0.8628782384535846\n",
            "best model score 0.8628782384535846\n",
            "Count: 0\n",
            "Epoch: 4 Train MSE: 12.27967 Val MSE: 0.86288  Time: 10.352\n",
            "best model score 0.8628782384535846\n",
            "Count: 1\n",
            "Epoch: 5 Train MSE: 0.55760 Val MSE: 2.19249  Time: 12.315\n",
            "saving model 0.01666343562743243\n",
            "best model score 0.01666343562743243\n",
            "Count: 0\n",
            "Epoch: 6 Train MSE: 0.97619 Val MSE: 0.01666  Time: 14.321\n",
            "best model score 0.01666343562743243\n",
            "Count: 1\n",
            "Epoch: 7 Train MSE: 0.45062 Val MSE: 0.03185  Time: 16.347\n",
            "best model score 0.01666343562743243\n",
            "Count: 2\n",
            "Epoch: 8 Train MSE: 0.34424 Val MSE: 0.20978  Time: 18.370\n",
            "best model score 0.01666343562743243\n",
            "Count: 3\n",
            "Epoch: 9 Train MSE: 0.10023 Val MSE: 0.56429  Time: 20.385\n",
            "best model score 0.01666343562743243\n",
            "Count: 4\n",
            "Epoch: 10 Train MSE: 0.10290 Val MSE: 0.60760  Time: 22.353\n"
          ],
          "name": "stdout"
        },
        {
          "output_type": "display_data",
          "data": {
            "image/png": "[encoded data removed]",
            "text/plain": [
              "<Figure size 1440x360 with 3 Axes>"
            ]
          },
          "metadata": {
            "tags": []
          }
        },
        {
          "output_type": "stream",
          "text": [
            "best model score 0.01666343562743243\n",
            "Count: 5\n",
            "Epoch: 11 Train MSE: 0.09176 Val MSE: 0.34785  Time: 24.886\n",
            "best model score 0.01666343562743243\n",
            "Count: 6\n",
            "Epoch: 12 Train MSE: 0.05981 Val MSE: 0.17616  Time: 26.881\n",
            "best model score 0.01666343562743243\n",
            "Count: 7\n",
            "Epoch: 13 Train MSE: 0.13021 Val MSE: 0.27309  Time: 28.862\n",
            "best model score 0.01666343562743243\n",
            "Count: 8\n",
            "Epoch: 14 Train MSE: 0.07360 Val MSE: 0.44566  Time: 30.844\n",
            "best model score 0.01666343562743243\n",
            "Count: 9\n",
            "Epoch: 15 Train MSE: 0.06687 Val MSE: 0.43913  Time: 32.839\n",
            "best model score 0.01666343562743243\n",
            "Count: 10\n",
            "Epoch: 16 Train MSE: 0.05749 Val MSE: 0.29153  Time: 34.829\n",
            "best model score 0.01666343562743243\n",
            "Count: 11\n",
            "Epoch: 17 Train MSE: 0.06283 Val MSE: 0.24256  Time: 36.813\n",
            "best model score 0.01666343562743243\n",
            "Count: 12\n",
            "Epoch: 18 Train MSE: 0.07848 Val MSE: 0.33170  Time: 38.775\n",
            "best model score 0.01666343562743243\n",
            "Count: 13\n",
            "Epoch: 19 Train MSE: 0.06287 Val MSE: 0.41673  Time: 40.755\n",
            "best model score 0.01666343562743243\n",
            "Count: 14\n",
            "Epoch: 20 Train MSE: 0.05933 Val MSE: 0.36202  Time: 42.737\n"
          ],
          "name": "stdout"
        },
        {
          "output_type": "display_data",
          "data": {
            "image/png": "[encoded data removed]",
            "text/plain": [
              "<Figure size 1440x360 with 3 Axes>"
            ]
          },
          "metadata": {
            "tags": []
          }
        },
        {
          "output_type": "stream",
          "text": [
            "Traceback (most recent call last):\n",
            "Traceback (most recent call last):\n",
            "  File \"/usr/lib/python3.6/multiprocessing/queues.py\", line 240, in _feed\n",
            "    send_bytes(obj)\n",
            "  File \"/usr/lib/python3.6/multiprocessing/queues.py\", line 240, in _feed\n",
            "    send_bytes(obj)\n",
            "  File \"/usr/lib/python3.6/multiprocessing/connection.py\", line 200, in send_bytes\n",
            "    self._send_bytes(m[offset:offset + size])\n",
            "  File \"/usr/lib/python3.6/multiprocessing/connection.py\", line 200, in send_bytes\n",
            "    self._send_bytes(m[offset:offset + size])\n",
            "  File \"/usr/lib/python3.6/multiprocessing/connection.py\", line 404, in _send_bytes\n",
            "    self._send(header + buf)\n",
            "  File \"/usr/lib/python3.6/multiprocessing/connection.py\", line 368, in _send\n",
            "    n = write(self._handle, buf)\n",
            "BrokenPipeError: [Errno 32] Broken pipe\n",
            "  File \"/usr/lib/python3.6/multiprocessing/connection.py\", line 404, in _send_bytes\n",
            "    self._send(header + buf)\n",
            "  File \"/usr/lib/python3.6/multiprocessing/connection.py\", line 368, in _send\n",
            "    n = write(self._handle, buf)\n",
            "BrokenPipeError: [Errno 32] Broken pipe\n",
            "Traceback (most recent call last):\n",
            "Traceback (most recent call last):\n",
            "  File \"/usr/lib/python3.6/multiprocessing/queues.py\", line 240, in _feed\n",
            "    send_bytes(obj)\n",
            "  File \"/usr/lib/python3.6/multiprocessing/connection.py\", line 200, in send_bytes\n",
            "    self._send_bytes(m[offset:offset + size])\n",
            "  File \"/usr/lib/python3.6/multiprocessing/connection.py\", line 404, in _send_bytes\n",
            "    self._send(header + buf)\n",
            "  File \"/usr/lib/python3.6/multiprocessing/connection.py\", line 368, in _send\n",
            "    n = write(self._handle, buf)\n",
            "BrokenPipeError: [Errno 32] Broken pipe\n",
            "  File \"/usr/lib/python3.6/multiprocessing/queues.py\", line 240, in _feed\n",
            "    send_bytes(obj)\n",
            "  File \"/usr/lib/python3.6/multiprocessing/connection.py\", line 200, in send_bytes\n",
            "    self._send_bytes(m[offset:offset + size])\n",
            "  File \"/usr/lib/python3.6/multiprocessing/connection.py\", line 404, in _send_bytes\n",
            "    self._send(header + buf)\n",
            "  File \"/usr/lib/python3.6/multiprocessing/connection.py\", line 368, in _send\n",
            "    n = write(self._handle, buf)\n",
            "BrokenPipeError: [Errno 32] Broken pipe\n",
            "Traceback (most recent call last):\n",
            "  File \"/usr/lib/python3.6/multiprocessing/queues.py\", line 240, in _feed\n",
            "    send_bytes(obj)\n",
            "Traceback (most recent call last):\n",
            "  File \"/usr/lib/python3.6/multiprocessing/queues.py\", line 240, in _feed\n",
            "    send_bytes(obj)\n",
            "  File \"/usr/lib/python3.6/multiprocessing/connection.py\", line 200, in send_bytes\n",
            "    self._send_bytes(m[offset:offset + size])\n",
            "  File \"/usr/lib/python3.6/multiprocessing/connection.py\", line 404, in _send_bytes\n",
            "    self._send(header + buf)\n",
            "  File \"/usr/lib/python3.6/multiprocessing/connection.py\", line 368, in _send\n",
            "    n = write(self._handle, buf)\n",
            "BrokenPipeError: [Errno 32] Broken pipe\n",
            "  File \"/usr/lib/python3.6/multiprocessing/connection.py\", line 200, in send_bytes\n",
            "    self._send_bytes(m[offset:offset + size])\n",
            "  File \"/usr/lib/python3.6/multiprocessing/connection.py\", line 404, in _send_bytes\n",
            "    self._send(header + buf)\n",
            "  File \"/usr/lib/python3.6/multiprocessing/connection.py\", line 368, in _send\n",
            "    n = write(self._handle, buf)\n",
            "BrokenPipeError: [Errno 32] Broken pipe\n",
            "Traceback (most recent call last):\n",
            "Traceback (most recent call last):\n",
            "  File \"/usr/lib/python3.6/multiprocessing/queues.py\", line 240, in _feed\n",
            "    send_bytes(obj)\n",
            "  File \"/usr/lib/python3.6/multiprocessing/connection.py\", line 200, in send_bytes\n",
            "    self._send_bytes(m[offset:offset + size])\n",
            "  File \"/usr/lib/python3.6/multiprocessing/connection.py\", line 404, in _send_bytes\n",
            "    self._send(header + buf)\n",
            "  File \"/usr/lib/python3.6/multiprocessing/queues.py\", line 240, in _feed\n",
            "    send_bytes(obj)\n",
            "  File \"/usr/lib/python3.6/multiprocessing/connection.py\", line 200, in send_bytes\n",
            "    self._send_bytes(m[offset:offset + size])\n",
            "  File \"/usr/lib/python3.6/multiprocessing/connection.py\", line 404, in _send_bytes\n",
            "    self._send(header + buf)\n",
            "  File \"/usr/lib/python3.6/multiprocessing/connection.py\", line 368, in _send\n",
            "    n = write(self._handle, buf)\n",
            "BrokenPipeError: [Errno 32] Broken pipe\n",
            "  File \"/usr/lib/python3.6/multiprocessing/connection.py\", line 368, in _send\n",
            "    n = write(self._handle, buf)\n",
            "BrokenPipeError: [Errno 32] Broken pipe\n"
          ],
          "name": "stderr"
        },
        {
          "output_type": "error",
          "ename": "KeyboardInterrupt",
          "evalue": "ignored",
          "traceback": [
            "\u001b[0;31m---------------------------------------------------------------------------\u001b[0m",
            "\u001b[0;31mKeyboardInterrupt\u001b[0m                         Traceback (most recent call last)",
            "\u001b[0;32m<ipython-input-42-bb92338f8e77>\u001b[0m in \u001b[0;36m<module>\u001b[0;34m()\u001b[0m\n\u001b[1;32m     16\u001b[0m \u001b[0;31m# Splitting the data into the train, validation and test sets\u001b[0m\u001b[0;34m\u001b[0m\u001b[0;34m\u001b[0m\u001b[0;34m\u001b[0m\u001b[0m\n\u001b[1;32m     17\u001b[0m \u001b[0mlearning\u001b[0m\u001b[0;34m.\u001b[0m\u001b[0mtrain_val_test\u001b[0m\u001b[0;34m(\u001b[0m\u001b[0;34m)\u001b[0m\u001b[0;34m\u001b[0m\u001b[0;34m\u001b[0m\u001b[0m\n\u001b[0;32m---> 18\u001b[0;31m \u001b[0mlearning\u001b[0m\u001b[0;34m.\u001b[0m\u001b[0mtraining_wrapper\u001b[0m\u001b[0;34m(\u001b[0m\u001b[0;34m)\u001b[0m\u001b[0;34m\u001b[0m\u001b[0;34m\u001b[0m\u001b[0m\n\u001b[0m",
            "\u001b[0;32m/content/acse-9-independent-research-project-OliverJBoom/Src/deeplearning.py\u001b[0m in \u001b[0;36mtraining_wrapper\u001b[0;34m(self)\u001b[0m\n\u001b[1;32m    416\u001b[0m             \u001b[0mlive_logs\u001b[0m \u001b[0;34m=\u001b[0m \u001b[0;34m{\u001b[0m\u001b[0;34m}\u001b[0m\u001b[0;34m\u001b[0m\u001b[0;34m\u001b[0m\u001b[0m\n\u001b[1;32m    417\u001b[0m \u001b[0;34m\u001b[0m\u001b[0m\n\u001b[0;32m--> 418\u001b[0;31m             \u001b[0mtrain_loss\u001b[0m \u001b[0;34m=\u001b[0m \u001b[0mself\u001b[0m\u001b[0;34m.\u001b[0m\u001b[0mtrain\u001b[0m\u001b[0;34m(\u001b[0m\u001b[0mself\u001b[0m\u001b[0;34m.\u001b[0m\u001b[0mtrain_loader\u001b[0m\u001b[0;34m)\u001b[0m\u001b[0;34m\u001b[0m\u001b[0;34m\u001b[0m\u001b[0m\n\u001b[0m\u001b[1;32m    419\u001b[0m             \u001b[0mval_loss\u001b[0m \u001b[0;34m=\u001b[0m \u001b[0mself\u001b[0m\u001b[0;34m.\u001b[0m\u001b[0mvalidate\u001b[0m\u001b[0;34m(\u001b[0m\u001b[0mself\u001b[0m\u001b[0;34m.\u001b[0m\u001b[0mval_loader\u001b[0m\u001b[0;34m)\u001b[0m\u001b[0;34m\u001b[0m\u001b[0;34m\u001b[0m\u001b[0m\n\u001b[1;32m    420\u001b[0m \u001b[0;34m\u001b[0m\u001b[0m\n",
            "\u001b[0;32m/content/acse-9-independent-research-project-OliverJBoom/Src/deeplearning.py\u001b[0m in \u001b[0;36mtrain\u001b[0;34m(self, train_loader)\u001b[0m\n\u001b[1;32m    281\u001b[0m \u001b[0;34m\u001b[0m\u001b[0m\n\u001b[1;32m    282\u001b[0m             \u001b[0;31m# Perform backward pass\u001b[0m\u001b[0;34m\u001b[0m\u001b[0;34m\u001b[0m\u001b[0;34m\u001b[0m\u001b[0m\n\u001b[0;32m--> 283\u001b[0;31m             \u001b[0mloss\u001b[0m\u001b[0;34m.\u001b[0m\u001b[0mbackward\u001b[0m\u001b[0;34m(\u001b[0m\u001b[0;34m)\u001b[0m\u001b[0;34m\u001b[0m\u001b[0;34m\u001b[0m\u001b[0m\n\u001b[0m\u001b[1;32m    284\u001b[0m \u001b[0;34m\u001b[0m\u001b[0m\n\u001b[1;32m    285\u001b[0m             \u001b[0;31m# Adding the predictions for this batch to prediction list\u001b[0m\u001b[0;34m\u001b[0m\u001b[0;34m\u001b[0m\u001b[0;34m\u001b[0m\u001b[0m\n",
            "\u001b[0;32m/usr/local/lib/python3.6/dist-packages/torch/tensor.py\u001b[0m in \u001b[0;36mbackward\u001b[0;34m(self, gradient, retain_graph, create_graph)\u001b[0m\n\u001b[1;32m    105\u001b[0m                 \u001b[0mproducts\u001b[0m\u001b[0;34m.\u001b[0m \u001b[0mDefaults\u001b[0m \u001b[0mto\u001b[0m\u001b[0;31m \u001b[0m\u001b[0;31m`\u001b[0m\u001b[0;31m`\u001b[0m\u001b[0;32mFalse\u001b[0m\u001b[0;31m`\u001b[0m\u001b[0;31m`\u001b[0m\u001b[0;34m.\u001b[0m\u001b[0;34m\u001b[0m\u001b[0;34m\u001b[0m\u001b[0m\n\u001b[1;32m    106\u001b[0m         \"\"\"\n\u001b[0;32m--> 107\u001b[0;31m         \u001b[0mtorch\u001b[0m\u001b[0;34m.\u001b[0m\u001b[0mautograd\u001b[0m\u001b[0;34m.\u001b[0m\u001b[0mbackward\u001b[0m\u001b[0;34m(\u001b[0m\u001b[0mself\u001b[0m\u001b[0;34m,\u001b[0m \u001b[0mgradient\u001b[0m\u001b[0;34m,\u001b[0m \u001b[0mretain_graph\u001b[0m\u001b[0;34m,\u001b[0m \u001b[0mcreate_graph\u001b[0m\u001b[0;34m)\u001b[0m\u001b[0;34m\u001b[0m\u001b[0;34m\u001b[0m\u001b[0m\n\u001b[0m\u001b[1;32m    108\u001b[0m \u001b[0;34m\u001b[0m\u001b[0m\n\u001b[1;32m    109\u001b[0m     \u001b[0;32mdef\u001b[0m \u001b[0mregister_hook\u001b[0m\u001b[0;34m(\u001b[0m\u001b[0mself\u001b[0m\u001b[0;34m,\u001b[0m \u001b[0mhook\u001b[0m\u001b[0;34m)\u001b[0m\u001b[0;34m:\u001b[0m\u001b[0;34m\u001b[0m\u001b[0;34m\u001b[0m\u001b[0m\n",
            "\u001b[0;32m/usr/local/lib/python3.6/dist-packages/torch/autograd/__init__.py\u001b[0m in \u001b[0;36mbackward\u001b[0;34m(tensors, grad_tensors, retain_graph, create_graph, grad_variables)\u001b[0m\n\u001b[1;32m     91\u001b[0m     Variable._execution_engine.run_backward(\n\u001b[1;32m     92\u001b[0m         \u001b[0mtensors\u001b[0m\u001b[0;34m,\u001b[0m \u001b[0mgrad_tensors\u001b[0m\u001b[0;34m,\u001b[0m \u001b[0mretain_graph\u001b[0m\u001b[0;34m,\u001b[0m \u001b[0mcreate_graph\u001b[0m\u001b[0;34m,\u001b[0m\u001b[0;34m\u001b[0m\u001b[0;34m\u001b[0m\u001b[0m\n\u001b[0;32m---> 93\u001b[0;31m         allow_unreachable=True)  # allow_unreachable flag\n\u001b[0m\u001b[1;32m     94\u001b[0m \u001b[0;34m\u001b[0m\u001b[0m\n\u001b[1;32m     95\u001b[0m \u001b[0;34m\u001b[0m\u001b[0m\n",
            "\u001b[0;31mKeyboardInterrupt\u001b[0m: "
          ]
        }
      ]
    },
    {
      "cell_type": "code",
      "metadata": {
        "id": "WKdGpQzwS5zn",
        "colab_type": "code",
        "outputId": "7208e61d-e3ba-40e9-cbf8-f0bb6c394cd3",
        "colab": {
          "base_uri": "https://localhost:8080/",
          "height": 34
        }
      },
      "source": [
        "learning.best_val_score"
      ],
      "execution_count": 0,
      "outputs": [
        {
          "output_type": "execute_result",
          "data": {
            "text/plain": [
              "0.01666558665387771"
            ]
          },
          "metadata": {
            "tags": []
          },
          "execution_count": 126
        }
      ]
    },
    {
      "cell_type": "code",
      "metadata": {
        "id": "OvWsLSAtUBu_",
        "colab_type": "code",
        "outputId": "cf09f3e9-2624-472e-c3ff-52f164ddc3d1",
        "colab": {
          "base_uri": "https://localhost:8080/",
          "height": 71
        }
      },
      "source": [
        "print(learning.logs[\"Validation Loss\"])\n",
        "print(learning.best_val_score)"
      ],
      "execution_count": 0,
      "outputs": [
        {
          "output_type": "stream",
          "text": [
            "[0.024320756687837487, 0.03603248035206514, 0.04117278491749483, 0.02976700838874368, 0.02055048942565918, 0.01741785161635455, 0.01666558665387771, 0.018300272086087394, 0.022471252609701717, 0.024590190719155705]\n",
            "0.01666558665387771\n"
          ],
          "name": "stdout"
        }
      ]
    },
    {
      "cell_type": "code",
      "metadata": {
        "id": "Dnp73IIRWjxx",
        "colab_type": "code",
        "outputId": "0bf3d9a7-4424-4f87-e48c-500bcac40f10",
        "colab": {
          "base_uri": "https://localhost:8080/",
          "height": 51
        }
      },
      "source": [
        "# learning.create_data_loaders()\n",
        "print(learning.validate(learning.val_loader))\n",
        "print(learning.evaluate(learning.best_model, learning.val_loader))"
      ],
      "execution_count": 0,
      "outputs": [
        {
          "output_type": "stream",
          "text": [
            "0.024590190719155705\n",
            "0.01666558665387771\n"
          ],
          "name": "stdout"
        }
      ]
    },
    {
      "cell_type": "code",
      "metadata": {
        "id": "jxrgeuq5hSRd",
        "colab_type": "code",
        "colab": {}
      },
      "source": [
        "pickle.dump(learning, open(\"/content/gdrive/My Drive/Chai/Models/Pickles/\" + \"learning_object\", 'wb'))"
      ],
      "execution_count": 0,
      "outputs": []
    },
    {
      "cell_type": "code",
      "metadata": {
        "id": "ugRaTGaohqvF",
        "colab_type": "code",
        "colab": {}
      },
      "source": [
        "learning_load = pickle.load(open(\"/content/gdrive/My Drive/Chai/Models/Pickles/\" + \"learning_object\", 'rb'))"
      ],
      "execution_count": 0,
      "outputs": []
    },
    {
      "cell_type": "code",
      "metadata": {
        "colab_type": "code",
        "id": "ogD1KBcfmbmA",
        "colab": {}
      },
      "source": [
        "model_save(model_lstm, \n",
        "           path=\"/content/gdrive/My Drive/Chai/Models/Pths\",\n",
        "           name=\"LSTM_Full\", \n",
        "           val_score=learning.best_val_score)\n",
        "\n",
        "# mod = model_load(path=\"Models/Pths\",\n",
        "#            model_name=\"LSTM_5_854\")"
      ],
      "execution_count": 0,
      "outputs": []
    },
    {
      "cell_type": "markdown",
      "metadata": {
        "colab_type": "text",
        "id": "cXZ4rWiAmbmD"
      },
      "source": [
        "### Plotting"
      ]
    },
    {
      "cell_type": "code",
      "metadata": {
        "id": "ptqgM03uf3aX",
        "colab_type": "code",
        "colab": {}
      },
      "source": [
        "# Rescaling Example\n",
        "\n",
        "scaler_data_y.inverse_transform(np.array(learning_load.train_predictions).reshape(-1, 1))\n",
        "plt.plot(scaler_data_y.inverse_transform(learning_load.y_train.numpy().reshape(-1, 1)))\n",
        "plt.plot(scaler_data_y.inverse_transform(np.array(learning_load.train_predictions).reshape(-1, 1)))\n",
        "plt.show()"
      ],
      "execution_count": 0,
      "outputs": []
    },
    {
      "cell_type": "code",
      "metadata": {
        "colab_type": "code",
        "id": "PN8Ob-GCmbmG",
        "colab": {}
      },
      "source": [
        "predicted_train = learning.train_predictions\n",
        "observed_train = learning.y_train.numpy()\n",
        "\n",
        "learning.model = learning.best_model\n",
        "learning.validate(learning.val_loader)\n",
        "predicted_val = learning.val_predictions\n",
        "observed_val = learning.y_val.numpy()"
      ],
      "execution_count": 0,
      "outputs": []
    },
    {
      "cell_type": "code",
      "metadata": {
        "colab_type": "code",
        "id": "GnpXJzzlmbmI",
        "colab": {}
      },
      "source": [
        "fig, ax = plt.subplots(1, 3, figsize=(20, 5))\n",
        "\n",
        "ax[0].set_title(\"Predicted vs Observed Values\")\n",
        "ax[0].plot(predicted_train, label=\"Predicted\")\n",
        "ax[0].plot(observed_train, label=\"Observed\")\n",
        "ax[0].legend()\n",
        "\n",
        "ax[1].set_title(\"Predicted vs Observed Values\")\n",
        "ax[1].plot(predicted_val, label=\"Predicted\")\n",
        "ax[1].plot(observed_val, label=\"Observed\")\n",
        "ax[1].legend()\n",
        "           \n",
        "ax[2].set_title(\"Loss Plots\")\n",
        "ax[2].plot(learning.logs['Training Loss'], label=\"Training Loss\")\n",
        "ax[2].plot(learning.logs['Validation Loss'], label=\"Validation Loss\")\n",
        "ax[2].legend()\n",
        "ax[2].set_ylim((0, 3))\n",
        "\n",
        "epoch_reached = str(len(learning.logs['Training Loss']))\n",
        "path=\"/content/gdrive/My Drive/Chai/Models/\"\n",
        "\n",
        "plt.savefig(path + str(\"LSTM_Val_\" + str(val_score)[:5].replace(\".\", \"_\") + \"_Epoch_\" + epoch_reached + \".png\"))\n",
        "plt.show()"
      ],
      "execution_count": 0,
      "outputs": []
    },
    {
      "cell_type": "code",
      "metadata": {
        "colab_type": "code",
        "id": "rVUUZtt2qXBh",
        "colab": {}
      },
      "source": [
        "plt.title(\"Predicted vs Observed Values\")\n",
        "plt.plot(learning.test_predictions, label=\"Predicted\")\n",
        "plt.plot(learning.y_test.numpy(), label=\"Observed\")\n",
        "plt.legend()"
      ],
      "execution_count": 0,
      "outputs": []
    },
    {
      "cell_type": "code",
      "metadata": {
        "colab_type": "code",
        "id": "mMD13WXBi42V",
        "colab": {}
      },
      "source": [
        "# The minimum validation loss\n",
        "val_loss = min(learning.logs['Validation Loss'])\n",
        "best_model_epoch = learning.logs['Validation Loss'].index(val_loss)\n",
        "train_loss = learning.logs['Training Loss'][best_model_epoch]\n",
        "test_loss = learning.evaluate(learning.best_model, learning.test_loader)"
      ],
      "execution_count": 0,
      "outputs": []
    },
    {
      "cell_type": "code",
      "metadata": {
        "colab_type": "code",
        "id": "UOeOd3RaLzam",
        "colab": {}
      },
      "source": [
        "num_epoch = 250\n",
        "train_time = learning.logs[\"Time\"]\n",
        "full_save(learning.best_model, \n",
        "          \"Full_Run\",\n",
        "          optimiser,\n",
        "          num_epoch, \n",
        "          learning_rate, \n",
        "          momentum,\n",
        "          weight_decay, \n",
        "          PCA_used, \n",
        "          data_X,\n",
        "          train_loss,\n",
        "          val_loss, \n",
        "          test_loss,\n",
        "          train_time, \n",
        "          hidden_dim,\n",
        "          path=\"/content/gdrive/My Drive/Chai/Models/\") "
      ],
      "execution_count": 0,
      "outputs": []
    },
    {
      "cell_type": "markdown",
      "metadata": {
        "colab_type": "text",
        "id": "qmzBKO27mbm1"
      },
      "source": [
        "# Results"
      ]
    },
    {
      "cell_type": "code",
      "metadata": {
        "id": "ceRJjsRVgGl1",
        "colab_type": "code",
        "colab": {}
      },
      "source": [
        "mse, mae, mde = evaluate(learning.test_predictions, learning.y_test.numpy())\n",
        "print(mse, mae, mde)"
      ],
      "execution_count": 0,
      "outputs": []
    },
    {
      "cell_type": "markdown",
      "metadata": {
        "id": "XRT2jKcAj3M9",
        "colab_type": "text"
      },
      "source": [
        "## Persistance"
      ]
    },
    {
      "cell_type": "code",
      "metadata": {
        "id": "fzd9xprempGP",
        "colab_type": "code",
        "colab": {}
      },
      "source": [
        "plt.title(\"Persistance vs Observed Values\")\n",
        "plt.plot(learning.train_predictions, label=\"Predicted\")\n",
        "plt.plot(shift(learning.train_predictions, 5), label=\"Observed\")\n",
        "plt.legend()"
      ],
      "execution_count": 0,
      "outputs": []
    },
    {
      "cell_type": "code",
      "metadata": {
        "colab_type": "code",
        "id": "R7iZ3kSUmbm2",
        "colab": {}
      },
      "source": [
        "df = df_full[[\"target\"]]\n",
        "# Taking t-1 to be the value for t\n",
        "df[\"persistance\"] = df.shift(1)\n",
        "df.dropna(inplace=True)\n",
        "# Calculating metrics for these columns\n",
        "MSE, MAE, MDE = evaluate(df, \"target\", \"persistance\")"
      ],
      "execution_count": 0,
      "outputs": []
    },
    {
      "cell_type": "code",
      "metadata": {
        "colab_type": "code",
        "id": "uIbnEu1Ombm8",
        "colab": {}
      },
      "source": [
        "print(df[:5])\n",
        "print(df[-5:])"
      ],
      "execution_count": 0,
      "outputs": []
    },
    {
      "cell_type": "code",
      "metadata": {
        "colab_type": "code",
        "id": "x7iq6yQdmbnE",
        "scrolled": true,
        "colab": {}
      },
      "source": [
        "# Placing in results dataframe\n",
        "results = pd.DataFrame(columns={\"MSE\", \"MAE\", \"MDE\"})\n",
        "results.index.name = 'Name'\n",
        "results.head()\n",
        "results.loc[\"persistance\"] = [MSE, MAE, MDE] \n",
        "results.head()"
      ],
      "execution_count": 0,
      "outputs": []
    }
  ]
}