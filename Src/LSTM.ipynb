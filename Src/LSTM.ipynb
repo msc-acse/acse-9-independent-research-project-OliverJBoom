{
  "nbformat": 4,
  "nbformat_minor": 0,
  "metadata": {
    "accelerator": "GPU",
    "colab": {
      "name": "LSTM.ipynb",
      "version": "0.3.2",
      "provenance": [],
      "collapsed_sections": [],
      "toc_visible": true
    },
    "kernelspec": {
      "display_name": "Python 3",
      "language": "python",
      "name": "python3"
    },
    "language_info": {
      "codemirror_mode": {
        "name": "ipython",
        "version": 3
      },
      "file_extension": ".py",
      "mimetype": "text/x-python",
      "name": "python",
      "nbconvert_exporter": "python",
      "pygments_lexer": "ipython3",
      "version": "3.7.3"
    }
  },
  "cells": [
    {
      "cell_type": "markdown",
      "metadata": {
        "colab_type": "text",
        "id": "IyHSuKQHmbky"
      },
      "source": [
        "## For Colabs"
      ]
    },
    {
      "cell_type": "code",
      "metadata": {
        "colab_type": "code",
        "id": "X8bAIFxumbk2",
        "outputId": "171482ec-4784-4595-a8d7-991e80d0e770",
        "colab": {
          "base_uri": "https://localhost:8080/",
          "height": 136
        }
      },
      "source": [
        "from getpass import getpass\n",
        "import os\n",
        "\n",
        "user = \"OliverJBoom\"\n",
        "password = \"Ym100%otsydt\"\n",
        "# password = getpass('github password')\n",
        "os.environ['GITHUB_AUTH'] = user + ':' + password\n",
        "\n",
        "os.chdir(\"/content\")\n",
        "!rm -rf \"/content/acse-9-independent-research-project-OliverJBoom\"\n",
        "!git clone https://$GITHUB_AUTH@github.com/msc-acse/acse-9-independent-research-project-OliverJBoom.git\n",
        "os.chdir(\"acse-9-independent-research-project-OliverJBoom/Src\")"
      ],
      "execution_count": 1,
      "outputs": [
        {
          "output_type": "stream",
          "text": [
            "Cloning into 'acse-9-independent-research-project-OliverJBoom'...\n",
            "remote: Enumerating objects: 54, done.\u001b[K\n",
            "remote: Counting objects:   1% (1/54)   \u001b[K\rremote: Counting objects:   3% (2/54)   \u001b[K\rremote: Counting objects:   5% (3/54)   \u001b[K\rremote: Counting objects:   7% (4/54)   \u001b[K\rremote: Counting objects:   9% (5/54)   \u001b[K\rremote: Counting objects:  11% (6/54)   \u001b[K\rremote: Counting objects:  12% (7/54)   \u001b[K\rremote: Counting objects:  14% (8/54)   \u001b[K\rremote: Counting objects:  16% (9/54)   \u001b[K\rremote: Counting objects:  18% (10/54)   \u001b[K\rremote: Counting objects:  20% (11/54)   \u001b[K\rremote: Counting objects:  22% (12/54)   \u001b[K\rremote: Counting objects:  24% (13/54)   \u001b[K\rremote: Counting objects:  25% (14/54)   \u001b[K\rremote: Counting objects:  27% (15/54)   \u001b[K\rremote: Counting objects:  29% (16/54)   \u001b[K\rremote: Counting objects:  31% (17/54)   \u001b[K\rremote: Counting objects:  33% (18/54)   \u001b[K\rremote: Counting objects:  35% (19/54)   \u001b[K\rremote: Counting objects:  37% (20/54)   \u001b[K\rremote: Counting objects:  38% (21/54)   \u001b[K\rremote: Counting objects:  40% (22/54)   \u001b[K\rremote: Counting objects:  42% (23/54)   \u001b[K\rremote: Counting objects:  44% (24/54)   \u001b[K\rremote: Counting objects:  46% (25/54)   \u001b[K\rremote: Counting objects:  48% (26/54)   \u001b[K\rremote: Counting objects:  50% (27/54)   \u001b[K\rremote: Counting objects:  51% (28/54)   \u001b[K\rremote: Counting objects:  53% (29/54)   \u001b[K\rremote: Counting objects:  55% (30/54)   \u001b[K\rremote: Counting objects:  57% (31/54)   \u001b[K\rremote: Counting objects:  59% (32/54)   \u001b[K\rremote: Counting objects:  61% (33/54)   \u001b[K\rremote: Counting objects:  62% (34/54)   \u001b[K\rremote: Counting objects:  64% (35/54)   \u001b[K\rremote: Counting objects:  66% (36/54)   \u001b[K\rremote: Counting objects:  68% (37/54)   \u001b[K\rremote: Counting objects:  70% (38/54)   \u001b[K\rremote: Counting objects:  72% (39/54)   \u001b[K\rremote: Counting objects:  74% (40/54)   \u001b[K\rremote: Counting objects:  75% (41/54)   \u001b[K\rremote: Counting objects:  77% (42/54)   \u001b[K\rremote: Counting objects:  79% (43/54)   \u001b[K\rremote: Counting objects:  81% (44/54)   \u001b[K\rremote: Counting objects:  83% (45/54)   \u001b[K\rremote: Counting objects:  85% (46/54)   \u001b[K\rremote: Counting objects:  87% (47/54)   \u001b[K\rremote: Counting objects:  88% (48/54)   \u001b[K\rremote: Counting objects:  90% (49/54)   \u001b[K\rremote: Counting objects:  92% (50/54)   \u001b[K\rremote: Counting objects:  94% (51/54)   \u001b[K\rremote: Counting objects:  96% (52/54)   \u001b[K\rremote: Counting objects:  98% (53/54)   \u001b[K\rremote: Counting objects: 100% (54/54)   \u001b[K\rremote: Counting objects: 100% (54/54), done.\u001b[K\n",
            "remote: Compressing objects:   2% (1/40)   \u001b[K\rremote: Compressing objects:   5% (2/40)   \u001b[K\rremote: Compressing objects:   7% (3/40)   \u001b[K\rremote: Compressing objects:  10% (4/40)   \u001b[K\rremote: Compressing objects:  12% (5/40)   \u001b[K\rremote: Compressing objects:  15% (6/40)   \u001b[K\rremote: Compressing objects:  17% (7/40)   \u001b[K\rremote: Compressing objects:  20% (8/40)   \u001b[K\rremote: Compressing objects:  22% (9/40)   \u001b[K\rremote: Compressing objects:  25% (10/40)   \u001b[K\rremote: Compressing objects:  27% (11/40)   \u001b[K\rremote: Compressing objects:  30% (12/40)   \u001b[K\rremote: Compressing objects:  32% (13/40)   \u001b[K\rremote: Compressing objects:  35% (14/40)   \u001b[K\rremote: Compressing objects:  37% (15/40)   \u001b[K\rremote: Compressing objects:  40% (16/40)   \u001b[K\rremote: Compressing objects:  42% (17/40)   \u001b[K\rremote: Compressing objects:  45% (18/40)   \u001b[K\rremote: Compressing objects:  47% (19/40)   \u001b[K\rremote: Compressing objects:  50% (20/40)   \u001b[K\rremote: Compressing objects:  52% (21/40)   \u001b[K\rremote: Compressing objects:  55% (22/40)   \u001b[K\rremote: Compressing objects:  57% (23/40)   \u001b[K\rremote: Compressing objects:  60% (24/40)   \u001b[K\rremote: Compressing objects:  62% (25/40)   \u001b[K\rremote: Compressing objects:  65% (26/40)   \u001b[K\rremote: Compressing objects:  67% (27/40)   \u001b[K\rremote: Compressing objects:  70% (28/40)   \u001b[K\rremote: Compressing objects:  72% (29/40)   \u001b[K\rremote: Compressing objects:  75% (30/40)   \u001b[K\rremote: Compressing objects:  77% (31/40)   \u001b[K\rremote: Compressing objects:  80% (32/40)   \u001b[K\rremote: Compressing objects:  82% (33/40)   \u001b[K\rremote: Compressing objects:  85% (34/40)   \u001b[K\rremote: Compressing objects:  87% (35/40)   \u001b[K\rremote: Compressing objects:  90% (36/40)   \u001b[K\rremote: Compressing objects:  92% (37/40)   \u001b[K\rremote: Compressing objects:  95% (38/40)   \u001b[K\rremote: Compressing objects:  97% (39/40)   \u001b[K\rremote: Compressing objects: 100% (40/40)   \u001b[K\rremote: Compressing objects: 100% (40/40), done.\u001b[K\n",
            "Receiving objects:   0% (1/500)   \rReceiving objects:   1% (5/500)   \rReceiving objects:   2% (10/500)   \rReceiving objects:   3% (15/500)   \rReceiving objects:   4% (20/500)   \rReceiving objects:   5% (25/500)   \rReceiving objects:   6% (30/500)   \rReceiving objects:   7% (35/500)   \rReceiving objects:   8% (40/500)   \rReceiving objects:   9% (45/500)   \rReceiving objects:  10% (50/500)   \rReceiving objects:  11% (55/500)   \rReceiving objects:  12% (60/500)   \rReceiving objects:  13% (65/500)   \rReceiving objects:  14% (70/500)   \rReceiving objects:  15% (75/500)   \rReceiving objects:  16% (80/500)   \rReceiving objects:  17% (85/500)   \rReceiving objects:  18% (90/500)   \rReceiving objects:  19% (95/500)   \rReceiving objects:  20% (100/500)   \rReceiving objects:  21% (105/500)   \rReceiving objects:  22% (110/500)   \rReceiving objects:  23% (115/500)   \rReceiving objects:  24% (120/500)   \rReceiving objects:  25% (125/500)   \rReceiving objects:  26% (130/500)   \rReceiving objects:  27% (135/500)   \rReceiving objects:  28% (140/500)   \rReceiving objects:  29% (145/500)   \rReceiving objects:  30% (150/500)   \rReceiving objects:  31% (155/500)   \rReceiving objects:  32% (160/500)   \rReceiving objects:  33% (165/500)   \rReceiving objects:  34% (170/500)   \rReceiving objects:  35% (175/500)   \rReceiving objects:  36% (180/500)   \rReceiving objects:  37% (185/500)   \rReceiving objects:  38% (190/500)   \rReceiving objects:  39% (195/500)   \rReceiving objects:  40% (200/500)   \rReceiving objects:  41% (205/500)   \rReceiving objects:  42% (210/500)   \rReceiving objects:  43% (215/500)   \rReceiving objects:  44% (220/500)   \rReceiving objects:  45% (225/500)   \rReceiving objects:  46% (230/500)   \rReceiving objects:  47% (235/500)   \rReceiving objects:  48% (240/500)   \rReceiving objects:  49% (245/500)   \rReceiving objects:  50% (250/500)   \rReceiving objects:  51% (255/500)   \rReceiving objects:  52% (260/500)   \rReceiving objects:  53% (265/500)   \rReceiving objects:  54% (270/500)   \rReceiving objects:  55% (275/500)   \rReceiving objects:  56% (280/500)   \rReceiving objects:  57% (285/500)   \rReceiving objects:  58% (290/500)   \rReceiving objects:  59% (295/500)   \rReceiving objects:  60% (300/500)   \rReceiving objects:  61% (305/500)   \rReceiving objects:  62% (310/500)   \rReceiving objects:  63% (315/500)   \rReceiving objects:  64% (320/500)   \rReceiving objects:  65% (325/500)   \rReceiving objects:  66% (330/500)   \rReceiving objects:  67% (335/500)   \rReceiving objects:  68% (340/500)   \rReceiving objects:  69% (345/500)   \rReceiving objects:  70% (350/500)   \rReceiving objects:  71% (355/500)   \rReceiving objects:  72% (360/500)   \rReceiving objects:  73% (365/500)   \rReceiving objects:  74% (370/500)   \rReceiving objects:  75% (375/500)   \rReceiving objects:  76% (380/500)   \rReceiving objects:  77% (385/500)   \rReceiving objects:  78% (390/500)   \rReceiving objects:  79% (395/500)   \rReceiving objects:  80% (400/500)   \rReceiving objects:  81% (405/500)   \rReceiving objects:  82% (410/500)   \rReceiving objects:  83% (415/500)   \rReceiving objects:  84% (420/500)   \rReceiving objects:  85% (425/500)   \rReceiving objects:  86% (430/500)   \rReceiving objects:  87% (435/500)   \rReceiving objects:  88% (440/500)   \rReceiving objects:  89% (445/500)   \rReceiving objects:  90% (450/500)   \rReceiving objects:  91% (455/500)   \rReceiving objects:  92% (460/500)   \rReceiving objects:  93% (465/500)   \rReceiving objects:  94% (470/500)   \rReceiving objects:  95% (475/500)   \rReceiving objects:  96% (480/500)   \rReceiving objects:  97% (485/500)   \rReceiving objects:  98% (490/500)   \rReceiving objects:  99% (495/500)   \rremote: Total 500 (delta 32), reused 30 (delta 14), pack-reused 446\u001b[K\n",
            "Receiving objects: 100% (500/500)   \rReceiving objects: 100% (500/500), 6.48 MiB | 32.71 MiB/s, done.\n",
            "Resolving deltas:   0% (0/270)   \rResolving deltas:  12% (35/270)   \rResolving deltas:  15% (42/270)   \rResolving deltas:  22% (61/270)   \rResolving deltas:  23% (64/270)   \rResolving deltas:  24% (66/270)   \rResolving deltas:  26% (72/270)   \rResolving deltas:  27% (75/270)   \rResolving deltas:  28% (76/270)   \rResolving deltas:  29% (80/270)   \rResolving deltas:  30% (81/270)   \rResolving deltas:  31% (85/270)   \rResolving deltas:  33% (90/270)   \rResolving deltas:  34% (93/270)   \rResolving deltas:  36% (99/270)   \rResolving deltas:  38% (103/270)   \rResolving deltas:  40% (108/270)   \rResolving deltas:  41% (111/270)   \rResolving deltas:  42% (115/270)   \rResolving deltas:  43% (118/270)   \rResolving deltas:  44% (121/270)   \rResolving deltas:  47% (129/270)   \rResolving deltas:  49% (133/270)   \rResolving deltas:  50% (135/270)   \rResolving deltas:  52% (141/270)   \rResolving deltas:  54% (147/270)   \rResolving deltas:  56% (153/270)   \rResolving deltas:  60% (163/270)   \rResolving deltas:  63% (171/270)   \rResolving deltas:  64% (173/270)   \rResolving deltas:  66% (179/270)   \rResolving deltas:  72% (195/270)   \rResolving deltas:  73% (198/270)   \rResolving deltas:  74% (200/270)   \rResolving deltas:  77% (209/270)   \rResolving deltas:  78% (213/270)   \rResolving deltas:  79% (214/270)   \rResolving deltas:  80% (216/270)   \rResolving deltas:  83% (225/270)   \rResolving deltas:  84% (229/270)   \rResolving deltas:  88% (239/270)   \rResolving deltas:  92% (249/270)   \rResolving deltas:  95% (258/270)   \rResolving deltas:  99% (268/270)   \rResolving deltas: 100% (270/270)   \rResolving deltas: 100% (270/270), done.\n"
          ],
          "name": "stdout"
        }
      ]
    },
    {
      "cell_type": "code",
      "metadata": {
        "colab_type": "code",
        "id": "oBx8zc83mbk4",
        "outputId": "786fbbfd-40e0-40ce-e20e-5031613407e3",
        "colab": {
          "base_uri": "https://localhost:8080/",
          "height": 34
        }
      },
      "source": [
        "from google.colab import drive\n",
        "drive.mount(\"/content/gdrive/\", force_remount=True)\n",
        "path = \"/content/gdrive/My Drive/Chai/Data\""
      ],
      "execution_count": 2,
      "outputs": [
        {
          "output_type": "stream",
          "text": [
            "Mounted at /content/gdrive/\n"
          ],
          "name": "stdout"
        }
      ]
    },
    {
      "cell_type": "markdown",
      "metadata": {
        "colab_type": "text",
        "id": "67j8odKJJQL_"
      },
      "source": [
        "## Loading Packages"
      ]
    },
    {
      "cell_type": "code",
      "metadata": {
        "colab_type": "code",
        "id": "qd88JeQfrEzc",
        "outputId": "a21d6337-f3f2-4d3a-8a51-e5ca5d489082",
        "scrolled": true,
        "colab": {
          "base_uri": "https://localhost:8080/",
          "height": 34
        }
      },
      "source": [
        "from copy import deepcopy\n",
        "from deeplearning import *\n",
        "from models import *\n",
        "import numpy as np\n",
        "import os\n",
        "import pandas as pd\n",
        "import matplotlib.pyplot as plt\n",
        "from scipy.ndimage.interpolation import shift\n",
        "from sklearn.preprocessing import MinMaxScaler\n",
        "from sklearn.model_selection import train_test_split\n",
        "from sklearn.decomposition import PCA\n",
        "import pickle\n",
        "from preprocessing import *\n",
        "from statistics import median\n",
        "import time\n",
        "import torch\n",
        "import torch.nn as nn\n",
        "from torch.utils.data import TensorDataset, DataLoader\n",
        "from utils import *\n",
        "import warnings\n",
        "\n",
        "warnings.filterwarnings(\"ignore\")\n",
        "\n",
        "set_seed(42)"
      ],
      "execution_count": 108,
      "outputs": [
        {
          "output_type": "execute_result",
          "data": {
            "text/plain": [
              "True"
            ]
          },
          "metadata": {
            "tags": []
          },
          "execution_count": 108
        }
      ]
    },
    {
      "cell_type": "markdown",
      "metadata": {
        "colab_type": "text",
        "id": "u0N6DJJ0mbk_"
      },
      "source": [
        "### Insuring that training is done on GPU if available"
      ]
    },
    {
      "cell_type": "code",
      "metadata": {
        "colab_type": "code",
        "id": "2QpZ1E8emblA",
        "outputId": "8fa484bf-9bd3-405c-dd8f-fc2e32365a42",
        "colab": {
          "base_uri": "https://localhost:8080/",
          "height": 34
        }
      },
      "source": [
        "device = 'cpu'\n",
        "if torch.cuda.device_count() > 0 and torch.cuda.is_available():\n",
        "    print(\"Cuda installed! Running on GPU!\")\n",
        "    device = 'cuda'\n",
        "else:\n",
        "    print(\"No GPU available!\")"
      ],
      "execution_count": 109,
      "outputs": [
        {
          "output_type": "stream",
          "text": [
            "Cuda installed! Running on GPU!\n"
          ],
          "name": "stdout"
        }
      ]
    },
    {
      "cell_type": "markdown",
      "metadata": {
        "colab_type": "text",
        "id": "Um9Dkbc5mblC"
      },
      "source": [
        "## Loading Data"
      ]
    },
    {
      "cell_type": "code",
      "metadata": {
        "colab_type": "code",
        "id": "weVUDM7lmblD",
        "colab": {}
      },
      "source": [
        "path = \"Data/Commodity_Data/\"\n",
        "universe_dict = universe_select(path, \"Cu\")\n",
        "use_lg_returns = False"
      ],
      "execution_count": 0,
      "outputs": []
    },
    {
      "cell_type": "markdown",
      "metadata": {
        "colab_type": "text",
        "id": "4k8FIHASpHfv"
      },
      "source": [
        "## Preprocessing"
      ]
    },
    {
      "cell_type": "code",
      "metadata": {
        "colab_type": "code",
        "id": "ki2dJCGNkOVE",
        "outputId": "a39daa53-dd2a-442f-9971-567cc8216aac",
        "scrolled": true,
        "colab": {
          "base_uri": "https://localhost:8080/",
          "height": 1000
        }
      },
      "source": [
        "# Renaming the columns to price\n",
        "universe_dict = price_rename(universe_dict)\n",
        "\n",
        "# Cleaning the dataset of any erroneous datapoints\n",
        "universe_dict = clean_dict_gen(universe_dict)\n",
        "\n",
        "# Making sure that all the points in the window have consistent length\n",
        "universe_dict = truncate_window_length(universe_dict)\n",
        "\n",
        "# Generating the dataset\n",
        "if use_lg_returns:\n",
        "  # Lg Returns Only\n",
        "  df_full = generate_dataset(universe_dict, lg_returns_only=True, price_only=False)\n",
        "  target_col = \"cu_lme\"\n",
        "  \n",
        "else:\n",
        "  # Price Only\n",
        "  df_full = generate_dataset(universe_dict, lg_returns_only=False, price_only=True)\n",
        "  target_col = \"price_cu_lme\"\n",
        "\n",
        "# Set to False initially\n",
        "PCA_used = False"
      ],
      "execution_count": 111,
      "outputs": [
        {
          "output_type": "stream",
          "text": [
            "Included Instrument:\n",
            "cu_shfe\n",
            "cu_lme\n",
            "cu_comex_p\n",
            "cu_comex_s\n",
            "peso\n",
            "sol\n",
            "bdi\n",
            "ted\n",
            "vix\n",
            "skew\n",
            "gsci\n"
          ],
          "name": "stdout"
        },
        {
          "output_type": "stream",
          "text": [
            "Traceback (most recent call last):\n",
            "  File \"/usr/lib/python3.6/multiprocessing/queues.py\", line 240, in _feed\n",
            "    send_bytes(obj)\n",
            "Traceback (most recent call last):\n",
            "Traceback (most recent call last):\n",
            "  File \"/usr/lib/python3.6/multiprocessing/connection.py\", line 200, in send_bytes\n",
            "    self._send_bytes(m[offset:offset + size])\n",
            "  File \"/usr/lib/python3.6/multiprocessing/queues.py\", line 240, in _feed\n",
            "    send_bytes(obj)\n",
            "  File \"/usr/lib/python3.6/multiprocessing/queues.py\", line 240, in _feed\n",
            "    send_bytes(obj)\n",
            "  File \"/usr/lib/python3.6/multiprocessing/connection.py\", line 404, in _send_bytes\n",
            "    self._send(header + buf)\n",
            "  File \"/usr/lib/python3.6/multiprocessing/connection.py\", line 200, in send_bytes\n",
            "    self._send_bytes(m[offset:offset + size])\n",
            "  File \"/usr/lib/python3.6/multiprocessing/connection.py\", line 200, in send_bytes\n",
            "    self._send_bytes(m[offset:offset + size])\n",
            "  File \"/usr/lib/python3.6/multiprocessing/connection.py\", line 368, in _send\n",
            "    n = write(self._handle, buf)\n",
            "  File \"/usr/lib/python3.6/multiprocessing/connection.py\", line 404, in _send_bytes\n",
            "    self._send(header + buf)\n",
            "  File \"/usr/lib/python3.6/multiprocessing/connection.py\", line 404, in _send_bytes\n",
            "    self._send(header + buf)\n",
            "BrokenPipeError: [Errno 32] Broken pipe\n",
            "  File \"/usr/lib/python3.6/multiprocessing/connection.py\", line 368, in _send\n",
            "    n = write(self._handle, buf)\n",
            "  File \"/usr/lib/python3.6/multiprocessing/connection.py\", line 368, in _send\n",
            "    n = write(self._handle, buf)\n",
            "BrokenPipeError: [Errno 32] Broken pipe\n",
            "BrokenPipeError: [Errno 32] Broken pipe\n",
            "Traceback (most recent call last):\n",
            "  File \"/usr/lib/python3.6/multiprocessing/queues.py\", line 240, in _feed\n",
            "    send_bytes(obj)\n",
            "  File \"/usr/lib/python3.6/multiprocessing/connection.py\", line 200, in send_bytes\n",
            "    self._send_bytes(m[offset:offset + size])\n",
            "  File \"/usr/lib/python3.6/multiprocessing/connection.py\", line 404, in _send_bytes\n",
            "    self._send(header + buf)\n",
            "  File \"/usr/lib/python3.6/multiprocessing/connection.py\", line 368, in _send\n",
            "    n = write(self._handle, buf)\n",
            "OSError: [Errno 9] Bad file descriptor\n",
            "Traceback (most recent call last):\n",
            "  File \"/usr/lib/python3.6/multiprocessing/queues.py\", line 230, in _feed\n",
            "    close()\n",
            "  File \"/usr/lib/python3.6/multiprocessing/connection.py\", line 177, in close\n",
            "    self._close()\n",
            "  File \"/usr/lib/python3.6/multiprocessing/connection.py\", line 361, in _close\n",
            "    _close(self._handle)\n",
            "OSError: [Errno 9] Bad file descriptor\n"
          ],
          "name": "stderr"
        }
      ]
    },
    {
      "cell_type": "code",
      "metadata": {
        "code_folding": [],
        "colab_type": "code",
        "id": "b7nd05YFmblM",
        "scrolled": true,
        "colab": {}
      },
      "source": [
        "# Visualise the plots\n",
        "# visualise_universe(universe_dict)"
      ],
      "execution_count": 0,
      "outputs": []
    },
    {
      "cell_type": "code",
      "metadata": {
        "colab_type": "code",
        "id": "7J6bOnusmblO",
        "outputId": "3ab1dda9-c52a-45d1-c954-12c45596d37b",
        "scrolled": true,
        "colab": {
          "base_uri": "https://localhost:8080/",
          "height": 820
        }
      },
      "source": [
        "df_full.head(15)\n",
        "# df_full.tail(5)"
      ],
      "execution_count": 113,
      "outputs": [
        {
          "output_type": "execute_result",
          "data": {
            "text/html": [
              "<div>\n",
              "<style scoped>\n",
              "    .dataframe tbody tr th:only-of-type {\n",
              "        vertical-align: middle;\n",
              "    }\n",
              "\n",
              "    .dataframe tbody tr th {\n",
              "        vertical-align: top;\n",
              "    }\n",
              "\n",
              "    .dataframe thead th {\n",
              "        text-align: right;\n",
              "    }\n",
              "</style>\n",
              "<table border=\"1\" class=\"dataframe\">\n",
              "  <thead>\n",
              "    <tr style=\"text-align: right;\">\n",
              "      <th></th>\n",
              "      <th>price_cu_shfe</th>\n",
              "      <th>price_cu_lme</th>\n",
              "      <th>price_cu_comex_p</th>\n",
              "      <th>price_cu_comex_s</th>\n",
              "      <th>price_peso</th>\n",
              "      <th>price_sol</th>\n",
              "      <th>price_bdi</th>\n",
              "      <th>price_ted</th>\n",
              "      <th>price_vix</th>\n",
              "      <th>price_skew</th>\n",
              "      <th>price_gsci</th>\n",
              "    </tr>\n",
              "    <tr>\n",
              "      <th>date</th>\n",
              "      <th></th>\n",
              "      <th></th>\n",
              "      <th></th>\n",
              "      <th></th>\n",
              "      <th></th>\n",
              "      <th></th>\n",
              "      <th></th>\n",
              "      <th></th>\n",
              "      <th></th>\n",
              "      <th></th>\n",
              "      <th></th>\n",
              "    </tr>\n",
              "  </thead>\n",
              "  <tbody>\n",
              "    <tr>\n",
              "      <th>2006-09-13</th>\n",
              "      <td>69540.0</td>\n",
              "      <td>7484.5</td>\n",
              "      <td>3.3925</td>\n",
              "      <td>15748.0</td>\n",
              "      <td>537.35</td>\n",
              "      <td>3.2530</td>\n",
              "      <td>4129.0</td>\n",
              "      <td>4.901</td>\n",
              "      <td>11.18</td>\n",
              "      <td>120.44</td>\n",
              "      <td>438.38855</td>\n",
              "    </tr>\n",
              "    <tr>\n",
              "      <th>2006-09-14</th>\n",
              "      <td>71350.0</td>\n",
              "      <td>7439.0</td>\n",
              "      <td>3.3820</td>\n",
              "      <td>14180.0</td>\n",
              "      <td>537.73</td>\n",
              "      <td>3.2475</td>\n",
              "      <td>4207.0</td>\n",
              "      <td>4.926</td>\n",
              "      <td>11.55</td>\n",
              "      <td>119.47</td>\n",
              "      <td>433.72522</td>\n",
              "    </tr>\n",
              "    <tr>\n",
              "      <th>2006-09-15</th>\n",
              "      <td>69400.0</td>\n",
              "      <td>7281.0</td>\n",
              "      <td>3.3165</td>\n",
              "      <td>14775.0</td>\n",
              "      <td>537.10</td>\n",
              "      <td>3.2480</td>\n",
              "      <td>4258.0</td>\n",
              "      <td>4.939</td>\n",
              "      <td>11.76</td>\n",
              "      <td>135.25</td>\n",
              "      <td>431.58291</td>\n",
              "    </tr>\n",
              "    <tr>\n",
              "      <th>2006-09-18</th>\n",
              "      <td>69830.0</td>\n",
              "      <td>7459.0</td>\n",
              "      <td>3.4180</td>\n",
              "      <td>15263.0</td>\n",
              "      <td>537.10</td>\n",
              "      <td>3.2450</td>\n",
              "      <td>4279.0</td>\n",
              "      <td>4.949</td>\n",
              "      <td>11.78</td>\n",
              "      <td>127.35</td>\n",
              "      <td>434.97293</td>\n",
              "    </tr>\n",
              "    <tr>\n",
              "      <th>2006-09-19</th>\n",
              "      <td>71470.0</td>\n",
              "      <td>7516.0</td>\n",
              "      <td>3.3755</td>\n",
              "      <td>17523.0</td>\n",
              "      <td>537.10</td>\n",
              "      <td>3.2450</td>\n",
              "      <td>4275.0</td>\n",
              "      <td>4.948</td>\n",
              "      <td>11.98</td>\n",
              "      <td>125.03</td>\n",
              "      <td>426.51240</td>\n",
              "    </tr>\n",
              "    <tr>\n",
              "      <th>2006-09-20</th>\n",
              "      <td>69610.0</td>\n",
              "      <td>7474.0</td>\n",
              "      <td>3.3700</td>\n",
              "      <td>18091.0</td>\n",
              "      <td>537.80</td>\n",
              "      <td>3.2450</td>\n",
              "      <td>4244.0</td>\n",
              "      <td>4.937</td>\n",
              "      <td>11.39</td>\n",
              "      <td>122.71</td>\n",
              "      <td>418.32234</td>\n",
              "    </tr>\n",
              "    <tr>\n",
              "      <th>2006-09-21</th>\n",
              "      <td>70170.0</td>\n",
              "      <td>7602.0</td>\n",
              "      <td>3.4220</td>\n",
              "      <td>19546.0</td>\n",
              "      <td>539.70</td>\n",
              "      <td>3.2480</td>\n",
              "      <td>4200.0</td>\n",
              "      <td>4.921</td>\n",
              "      <td>12.25</td>\n",
              "      <td>119.68</td>\n",
              "      <td>423.56908</td>\n",
              "    </tr>\n",
              "    <tr>\n",
              "      <th>2006-09-22</th>\n",
              "      <td>71170.0</td>\n",
              "      <td>7601.0</td>\n",
              "      <td>3.4395</td>\n",
              "      <td>20627.0</td>\n",
              "      <td>538.50</td>\n",
              "      <td>3.2470</td>\n",
              "      <td>4136.0</td>\n",
              "      <td>4.924</td>\n",
              "      <td>12.59</td>\n",
              "      <td>118.86</td>\n",
              "      <td>418.01647</td>\n",
              "    </tr>\n",
              "    <tr>\n",
              "      <th>2006-09-25</th>\n",
              "      <td>71130.0</td>\n",
              "      <td>7560.0</td>\n",
              "      <td>3.4475</td>\n",
              "      <td>20978.0</td>\n",
              "      <td>539.30</td>\n",
              "      <td>3.2490</td>\n",
              "      <td>4069.0</td>\n",
              "      <td>4.907</td>\n",
              "      <td>12.12</td>\n",
              "      <td>120.75</td>\n",
              "      <td>418.93144</td>\n",
              "    </tr>\n",
              "    <tr>\n",
              "      <th>2006-09-26</th>\n",
              "      <td>70890.0</td>\n",
              "      <td>7708.0</td>\n",
              "      <td>3.4635</td>\n",
              "      <td>21326.0</td>\n",
              "      <td>538.10</td>\n",
              "      <td>3.2490</td>\n",
              "      <td>3979.0</td>\n",
              "      <td>4.875</td>\n",
              "      <td>11.53</td>\n",
              "      <td>121.64</td>\n",
              "      <td>419.19717</td>\n",
              "    </tr>\n",
              "    <tr>\n",
              "      <th>2006-09-27</th>\n",
              "      <td>71020.0</td>\n",
              "      <td>7662.0</td>\n",
              "      <td>3.4755</td>\n",
              "      <td>20855.0</td>\n",
              "      <td>536.70</td>\n",
              "      <td>3.2520</td>\n",
              "      <td>3915.0</td>\n",
              "      <td>4.869</td>\n",
              "      <td>11.58</td>\n",
              "      <td>118.43</td>\n",
              "      <td>426.00390</td>\n",
              "    </tr>\n",
              "    <tr>\n",
              "      <th>2006-09-28</th>\n",
              "      <td>71170.0</td>\n",
              "      <td>7500.0</td>\n",
              "      <td>3.4140</td>\n",
              "      <td>20646.0</td>\n",
              "      <td>536.75</td>\n",
              "      <td>3.2530</td>\n",
              "      <td>3911.0</td>\n",
              "      <td>4.853</td>\n",
              "      <td>11.72</td>\n",
              "      <td>118.21</td>\n",
              "      <td>426.62993</td>\n",
              "    </tr>\n",
              "    <tr>\n",
              "      <th>2006-09-29</th>\n",
              "      <td>71030.0</td>\n",
              "      <td>7568.0</td>\n",
              "      <td>3.4590</td>\n",
              "      <td>20360.0</td>\n",
              "      <td>534.70</td>\n",
              "      <td>3.2500</td>\n",
              "      <td>3944.0</td>\n",
              "      <td>4.877</td>\n",
              "      <td>11.98</td>\n",
              "      <td>120.09</td>\n",
              "      <td>428.05329</td>\n",
              "    </tr>\n",
              "    <tr>\n",
              "      <th>2006-10-02</th>\n",
              "      <td>71030.0</td>\n",
              "      <td>7523.0</td>\n",
              "      <td>3.4305</td>\n",
              "      <td>20113.0</td>\n",
              "      <td>533.10</td>\n",
              "      <td>3.2460</td>\n",
              "      <td>3956.0</td>\n",
              "      <td>4.891</td>\n",
              "      <td>12.57</td>\n",
              "      <td>119.80</td>\n",
              "      <td>420.17342</td>\n",
              "    </tr>\n",
              "    <tr>\n",
              "      <th>2006-10-03</th>\n",
              "      <td>71030.0</td>\n",
              "      <td>7347.0</td>\n",
              "      <td>3.2865</td>\n",
              "      <td>20293.0</td>\n",
              "      <td>534.25</td>\n",
              "      <td>3.2460</td>\n",
              "      <td>3960.0</td>\n",
              "      <td>4.912</td>\n",
              "      <td>12.24</td>\n",
              "      <td>116.93</td>\n",
              "      <td>409.67885</td>\n",
              "    </tr>\n",
              "  </tbody>\n",
              "</table>\n",
              "</div>"
            ],
            "text/plain": [
              "            price_cu_shfe  price_cu_lme  ...  price_skew  price_gsci\n",
              "date                                     ...                        \n",
              "2006-09-13        69540.0        7484.5  ...      120.44   438.38855\n",
              "2006-09-14        71350.0        7439.0  ...      119.47   433.72522\n",
              "2006-09-15        69400.0        7281.0  ...      135.25   431.58291\n",
              "2006-09-18        69830.0        7459.0  ...      127.35   434.97293\n",
              "2006-09-19        71470.0        7516.0  ...      125.03   426.51240\n",
              "2006-09-20        69610.0        7474.0  ...      122.71   418.32234\n",
              "2006-09-21        70170.0        7602.0  ...      119.68   423.56908\n",
              "2006-09-22        71170.0        7601.0  ...      118.86   418.01647\n",
              "2006-09-25        71130.0        7560.0  ...      120.75   418.93144\n",
              "2006-09-26        70890.0        7708.0  ...      121.64   419.19717\n",
              "2006-09-27        71020.0        7662.0  ...      118.43   426.00390\n",
              "2006-09-28        71170.0        7500.0  ...      118.21   426.62993\n",
              "2006-09-29        71030.0        7568.0  ...      120.09   428.05329\n",
              "2006-10-02        71030.0        7523.0  ...      119.80   420.17342\n",
              "2006-10-03        71030.0        7347.0  ...      116.93   409.67885\n",
              "\n",
              "[15 rows x 11 columns]"
            ]
          },
          "metadata": {
            "tags": []
          },
          "execution_count": 113
        }
      ]
    },
    {
      "cell_type": "markdown",
      "metadata": {
        "id": "x65OxxWrqv4Q",
        "colab_type": "text"
      },
      "source": [
        "### Normalizing the dataset"
      ]
    },
    {
      "cell_type": "code",
      "metadata": {
        "id": "yak6wTGtXgcA",
        "colab_type": "code",
        "colab": {}
      },
      "source": [
        "# Forecast length\n",
        "forecast_length = 5\n",
        "\n",
        "# Data scaling\n",
        "scaler_data_X = MinMaxScaler()\n",
        "scaler_data_y = MinMaxScaler()\n",
        "\n",
        "df_target = df_full[[target_col]]\n",
        "\n",
        "data_X = scaler_data_X.fit_transform(df_full)[:-forecast_length, :]\n",
        "# Need to have an independent scaler for inverse_transforming later\n",
        "data_y = scaler_data_y.fit_transform(df_target)\n",
        "\n",
        "# Offset target one forecast length\n",
        "data_y = shift(data_y.ravel(), -forecast_length)[:-forecast_length]\n",
        "# Check shape assert(data_X.shape[:, 0]== data_y.shape[0])"
      ],
      "execution_count": 0,
      "outputs": []
    },
    {
      "cell_type": "markdown",
      "metadata": {
        "colab_type": "text",
        "id": "vtwh3CX8mbla"
      },
      "source": [
        "### PCA"
      ]
    },
    {
      "cell_type": "code",
      "metadata": {
        "code_folding": [],
        "colab_type": "code",
        "id": "Tt6qMuNjmblb",
        "outputId": "5d30b1a6-3047-4e70-ab51-20c4ed76edc9",
        "scrolled": false,
        "colab": {
          "base_uri": "https://localhost:8080/",
          "height": 68
        }
      },
      "source": [
        "# Reducing the dataset to containing a threshold amount of variance\n",
        "n_dim = dimension_selector(data_X, thresh=0.95)\n",
        "data_X = dimension_reduce(data_X, n_dim)\n",
        "\n",
        "PCA_used = True"
      ],
      "execution_count": 115,
      "outputs": [
        {
          "output_type": "stream",
          "text": [
            "Number of dimensions: 6\n",
            "Explained Variance: [0.49030338 0.23270694 0.1439148  0.04789975 0.02769706 0.0219951 ] \n",
            "Explained Variance Sum: 0.9645170286882985\n"
          ],
          "name": "stdout"
        }
      ]
    },
    {
      "cell_type": "markdown",
      "metadata": {
        "colab_type": "text",
        "id": "zgonSBo4mble"
      },
      "source": [
        "### Slicing Series into Windows"
      ]
    },
    {
      "cell_type": "code",
      "metadata": {
        "colab_type": "code",
        "id": "RFPTNYZpmblf",
        "colab": {}
      },
      "source": [
        "# The input size of each time series window\n",
        "series_length = 250\n",
        "  \n",
        "data_X, data_y = slice_series(data_X, data_y, series_length, dataset_pct=0.1)"
      ],
      "execution_count": 0,
      "outputs": []
    },
    {
      "cell_type": "markdown",
      "metadata": {
        "colab_type": "text",
        "id": "Whxwd1Y9mblz"
      },
      "source": [
        "### Hyperparameters"
      ]
    },
    {
      "cell_type": "code",
      "metadata": {
        "colab_type": "code",
        "id": "TmcACnnRmbl0",
        "colab": {}
      },
      "source": [
        "# Hyperparameters\n",
        "learning_rate = 1e-2\n",
        "momentum = 0.5\n",
        "weight_decay = 0\n",
        "\n",
        "# Batch Parameters\n",
        "batch_size = 32\n",
        "test_batch_size = 1000\n",
        "# series_length = 100\n",
        "\n",
        "n_epochs = 5\n",
        "\n",
        "# Model Parameters\n",
        "num_features = data_X.shape[2]\n",
        "hidden_dim = 128\n",
        "num_layers = 2\n",
        "output_dim = 1"
      ],
      "execution_count": 0,
      "outputs": []
    },
    {
      "cell_type": "markdown",
      "metadata": {
        "colab_type": "text",
        "id": "A7cwNAKcmbl4"
      },
      "source": [
        "### Initialising the model"
      ]
    },
    {
      "cell_type": "code",
      "metadata": {
        "code_folding": [
          7
        ],
        "colab_type": "code",
        "id": "ysl-hn6ombl5",
        "outputId": "d0405c07-ac55-4ef2-fd36-43a45340cd19",
        "scrolled": false,
        "colab": {
          "base_uri": "https://localhost:8080/",
          "height": 153
        }
      },
      "source": [
        "model = LSTM(num_features=num_features, \n",
        "             hidden_dim=hidden_dim, \n",
        "             series_length = series_length,\n",
        "             batch_size=batch_size,\n",
        "             output_dim=output_dim, \n",
        "             num_layers=num_layers, \n",
        "             device=device)\n",
        "\n",
        "model.to(device)\n",
        "\n",
        "print(\"num_features %i \\nhidden_dim %i\\nseries_length %i \\nbatch_size %i\\noutput_dim %i \\nnum_layers %i\"\n",
        "      % (num_features, hidden_dim, series_length, batch_size,output_dim, num_layers))\n",
        "\n",
        "print('data_X ', data_X.shape, '\\ndata_y', data_y.shape)"
      ],
      "execution_count": 118,
      "outputs": [
        {
          "output_type": "stream",
          "text": [
            "num_features 6 \n",
            "hidden_dim 128\n",
            "series_length 250 \n",
            "batch_size 32\n",
            "output_dim 1 \n",
            "num_layers 2\n",
            "data_X  (82, 250, 6) \n",
            "data_y (82,)\n"
          ],
          "name": "stdout"
        }
      ]
    },
    {
      "cell_type": "code",
      "metadata": {
        "id": "eqxMggP-pbus",
        "colab_type": "code",
        "outputId": "c9d27917-4c09-41d0-a9f6-cf0dfbe71007",
        "colab": {
          "base_uri": "https://localhost:8080/",
          "height": 119
        }
      },
      "source": [
        "# Loading trained model\n",
        "model = torch.load(\"/content/gdrive/My Drive/Chai/Models/Pths/\" + \"LSTM_0_040.pth\")\n",
        "model.to(device)"
      ],
      "execution_count": 119,
      "outputs": [
        {
          "output_type": "execute_result",
          "data": {
            "text/plain": [
              "LSTM(\n",
              "  (lstm): LSTM(6, 128, num_layers=2, dropout=0.1)\n",
              "  (fc1): Linear(in_features=128, out_features=128, bias=True)\n",
              "  (act): ReLU()\n",
              "  (out): Linear(in_features=128, out_features=1, bias=True)\n",
              ")"
            ]
          },
          "metadata": {
            "tags": []
          },
          "execution_count": 119
        }
      ]
    },
    {
      "cell_type": "code",
      "metadata": {
        "code_folding": [],
        "colab_type": "code",
        "id": "rRhBmwmxmbl-",
        "outputId": "a2cde7a3-135a-42c2-d5ef-335121fe9176",
        "scrolled": true,
        "colab": {
          "base_uri": "https://localhost:8080/",
          "height": 1000
        }
      },
      "source": [
        "optimiser = torch.optim.Adam(model.parameters(), learning_rate)\n",
        "\n",
        "\"\"\"Do I need to declare a data explicitly in the dataset\"\"\"\n",
        "learning = DeepLearning(model=model, \n",
        "                        data_X=data_X, \n",
        "                        data_y=data_y, \n",
        "                        n_epochs=10,\n",
        "                        optimiser=optimiser,\n",
        "                        batch_size=batch_size,\n",
        "                        debug=False, \n",
        "                        disp_freq=1,\n",
        "                        fig_disp_freq=10, \n",
        "                        device=device,\n",
        "                        patience=100)\n",
        "\n",
        "# Splitting the data into the train, validation and test sets\n",
        "learning.train_val_test()\n",
        "learning.training_wrapper()"
      ],
      "execution_count": 125,
      "outputs": [
        {
          "output_type": "stream",
          "text": [
            "saving model 0.024320756687837487\n",
            "best model score 0.024320756687837487\n",
            "inf\n",
            "Count: 0\n",
            "Epoch: 0 Train MSE: 0.06375 Val MSE: 0.02432  Time: 2.387\n"
          ],
          "name": "stdout"
        },
        {
          "output_type": "display_data",
          "data": {
            "image/png": "[encoded data removed]",
            "text/plain": [
              "<Figure size 1440x360 with 3 Axes>"
            ]
          },
          "metadata": {
            "tags": []
          }
        },
        {
          "output_type": "stream",
          "text": [
            "best model score 0.024320756687837487\n",
            "0.024320756687837487\n",
            "Count: 1\n",
            "Epoch: 1 Train MSE: 0.02616 Val MSE: 0.03603  Time: 5.579\n",
            "best model score 0.024320756687837487\n",
            "0.024320756687837487\n",
            "Count: 2\n",
            "Epoch: 2 Train MSE: 0.05799 Val MSE: 0.04117  Time: 8.244\n",
            "best model score 0.024320756687837487\n",
            "0.024320756687837487\n",
            "Count: 3\n",
            "Epoch: 3 Train MSE: 0.06499 Val MSE: 0.02977  Time: 10.977\n",
            "saving model 0.02055048942565918\n",
            "best model score 0.02055048942565918\n",
            "0.024320756687837487\n",
            "Count: 0\n",
            "Epoch: 4 Train MSE: 0.03934 Val MSE: 0.02055  Time: 13.714\n",
            "saving model 0.01741785161635455\n",
            "best model score 0.01741785161635455\n",
            "0.02055048942565918\n",
            "Count: 0\n",
            "Epoch: 5 Train MSE: 0.02692 Val MSE: 0.01742  Time: 16.441\n",
            "saving model 0.01666558665387771\n",
            "best model score 0.01666558665387771\n",
            "0.01741785161635455\n",
            "Count: 0\n",
            "Epoch: 6 Train MSE: 0.02615 Val MSE: 0.01667  Time: 19.219\n",
            "best model score 0.01666558665387771\n",
            "0.01666558665387771\n",
            "Count: 1\n",
            "Epoch: 7 Train MSE: 0.02178 Val MSE: 0.01830  Time: 21.955\n",
            "best model score 0.01666558665387771\n",
            "0.01666558665387771\n",
            "Count: 2\n",
            "Epoch: 8 Train MSE: 0.01751 Val MSE: 0.02247  Time: 24.623\n",
            "best model score 0.01666558665387771\n",
            "0.01666558665387771\n",
            "Count: 3\n",
            "Epoch: 9 Train MSE: 0.02107 Val MSE: 0.02459  Time: 27.346\n"
          ],
          "name": "stdout"
        }
      ]
    },
    {
      "cell_type": "code",
      "metadata": {
        "id": "WKdGpQzwS5zn",
        "colab_type": "code",
        "colab": {
          "base_uri": "https://localhost:8080/",
          "height": 34
        },
        "outputId": "7208e61d-e3ba-40e9-cbf8-f0bb6c394cd3"
      },
      "source": [
        "learning.best_val_score"
      ],
      "execution_count": 126,
      "outputs": [
        {
          "output_type": "execute_result",
          "data": {
            "text/plain": [
              "0.01666558665387771"
            ]
          },
          "metadata": {
            "tags": []
          },
          "execution_count": 126
        }
      ]
    },
    {
      "cell_type": "code",
      "metadata": {
        "id": "OvWsLSAtUBu_",
        "colab_type": "code",
        "colab": {
          "base_uri": "https://localhost:8080/",
          "height": 71
        },
        "outputId": "cf09f3e9-2624-472e-c3ff-52f164ddc3d1"
      },
      "source": [
        "print(learning.logs[\"Validation Loss\"])\n",
        "print(learning.best_val_score)"
      ],
      "execution_count": 127,
      "outputs": [
        {
          "output_type": "stream",
          "text": [
            "[0.024320756687837487, 0.03603248035206514, 0.04117278491749483, 0.02976700838874368, 0.02055048942565918, 0.01741785161635455, 0.01666558665387771, 0.018300272086087394, 0.022471252609701717, 0.024590190719155705]\n",
            "0.01666558665387771\n"
          ],
          "name": "stdout"
        }
      ]
    },
    {
      "cell_type": "code",
      "metadata": {
        "id": "Dnp73IIRWjxx",
        "colab_type": "code",
        "outputId": "0bf3d9a7-4424-4f87-e48c-500bcac40f10",
        "colab": {
          "base_uri": "https://localhost:8080/",
          "height": 51
        }
      },
      "source": [
        "# learning.create_data_loaders()\n",
        "print(learning.validate(learning.val_loader))\n",
        "print(learning.evaluate(learning.best_model, learning.val_loader))"
      ],
      "execution_count": 129,
      "outputs": [
        {
          "output_type": "stream",
          "text": [
            "0.024590190719155705\n",
            "0.01666558665387771\n"
          ],
          "name": "stdout"
        }
      ]
    },
    {
      "cell_type": "code",
      "metadata": {
        "id": "jxrgeuq5hSRd",
        "colab_type": "code",
        "colab": {}
      },
      "source": [
        "pickle.dump(learning, open(\"/content/gdrive/My Drive/Chai/Models/Pickles/\" + \"learning_object\", 'wb'))"
      ],
      "execution_count": 0,
      "outputs": []
    },
    {
      "cell_type": "code",
      "metadata": {
        "id": "ugRaTGaohqvF",
        "colab_type": "code",
        "colab": {}
      },
      "source": [
        "learning_load = pickle.load(open(\"/content/gdrive/My Drive/Chai/Models/Pickles/\" + \"learning_object\", 'rb'))"
      ],
      "execution_count": 0,
      "outputs": []
    },
    {
      "cell_type": "code",
      "metadata": {
        "colab_type": "code",
        "id": "ogD1KBcfmbmA",
        "colab": {}
      },
      "source": [
        "model_save(model_lstm, \n",
        "           path=\"/content/gdrive/My Drive/Chai/Models/Pths\",\n",
        "           name=\"LSTM_Full\", \n",
        "           val_score=learning.best_val_score)\n",
        "\n",
        "# mod = model_load(path=\"Models/Pths\",\n",
        "#            model_name=\"LSTM_5_854\")"
      ],
      "execution_count": 0,
      "outputs": []
    },
    {
      "cell_type": "markdown",
      "metadata": {
        "colab_type": "text",
        "id": "cXZ4rWiAmbmD"
      },
      "source": [
        "### Plotting"
      ]
    },
    {
      "cell_type": "code",
      "metadata": {
        "id": "ptqgM03uf3aX",
        "colab_type": "code",
        "colab": {}
      },
      "source": [
        "# Rescaling Example\n",
        "\n",
        "scaler_data_y.inverse_transform(np.array(learning_load.train_predictions).reshape(-1, 1))\n",
        "plt.plot(scaler_data_y.inverse_transform(learning_load.y_train.numpy().reshape(-1, 1)))\n",
        "plt.plot(scaler_data_y.inverse_transform(np.array(learning_load.train_predictions).reshape(-1, 1)))\n",
        "plt.show()"
      ],
      "execution_count": 0,
      "outputs": []
    },
    {
      "cell_type": "code",
      "metadata": {
        "colab_type": "code",
        "id": "PN8Ob-GCmbmG",
        "colab": {}
      },
      "source": [
        "predicted_train = learning.train_predictions\n",
        "observed_train = learning.y_train.numpy()\n",
        "\n",
        "learning.model = learning.best_model\n",
        "learning.validate(learning.val_loader)\n",
        "predicted_val = learning.val_predictions\n",
        "observed_val = learning.y_val.numpy()"
      ],
      "execution_count": 0,
      "outputs": []
    },
    {
      "cell_type": "code",
      "metadata": {
        "colab_type": "code",
        "id": "GnpXJzzlmbmI",
        "colab": {}
      },
      "source": [
        "fig, ax = plt.subplots(1, 3, figsize=(20, 5))\n",
        "\n",
        "ax[0].set_title(\"Predicted vs Observed Values\")\n",
        "ax[0].plot(predicted_train, label=\"Predicted\")\n",
        "ax[0].plot(observed_train, label=\"Observed\")\n",
        "ax[0].legend()\n",
        "\n",
        "ax[1].set_title(\"Predicted vs Observed Values\")\n",
        "ax[1].plot(predicted_val, label=\"Predicted\")\n",
        "ax[1].plot(observed_val, label=\"Observed\")\n",
        "ax[1].legend()\n",
        "           \n",
        "ax[2].set_title(\"Loss Plots\")\n",
        "ax[2].plot(learning.logs['Training Loss'], label=\"Training Loss\")\n",
        "ax[2].plot(learning.logs['Validation Loss'], label=\"Validation Loss\")\n",
        "ax[2].legend()\n",
        "ax[2].set_ylim((0, 3))\n",
        "\n",
        "epoch_reached = str(len(learning.logs['Training Loss']))\n",
        "path=\"/content/gdrive/My Drive/Chai/Models/\"\n",
        "\n",
        "plt.savefig(path + str(\"LSTM_Val_\" + str(val_score)[:5].replace(\".\", \"_\") + \"_Epoch_\" + epoch_reached + \".png\"))\n",
        "plt.show()"
      ],
      "execution_count": 0,
      "outputs": []
    },
    {
      "cell_type": "code",
      "metadata": {
        "colab_type": "code",
        "id": "rVUUZtt2qXBh",
        "colab": {}
      },
      "source": [
        "plt.title(\"Predicted vs Observed Values\")\n",
        "plt.plot(learning.test_predictions, label=\"Predicted\")\n",
        "plt.plot(learning.y_test.numpy(), label=\"Observed\")\n",
        "plt.legend()"
      ],
      "execution_count": 0,
      "outputs": []
    },
    {
      "cell_type": "code",
      "metadata": {
        "colab_type": "code",
        "id": "mMD13WXBi42V",
        "colab": {}
      },
      "source": [
        "# The minimum validation loss\n",
        "val_loss = min(learning.logs['Validation Loss'])\n",
        "best_model_epoch = learning.logs['Validation Loss'].index(val_loss)\n",
        "train_loss = learning.logs['Training Loss'][best_model_epoch]\n",
        "test_loss = learning.evaluate(learning.best_model, learning.test_loader)"
      ],
      "execution_count": 0,
      "outputs": []
    },
    {
      "cell_type": "code",
      "metadata": {
        "colab_type": "code",
        "id": "UOeOd3RaLzam",
        "colab": {}
      },
      "source": [
        "num_epoch = 250\n",
        "train_time = learning.logs[\"Time\"]\n",
        "full_save(learning.best_model, \n",
        "          \"Full_Run\",\n",
        "          optimiser,\n",
        "          num_epoch, \n",
        "          learning_rate, \n",
        "          momentum,\n",
        "          weight_decay, \n",
        "          PCA_used, \n",
        "          data_X,\n",
        "          train_loss,\n",
        "          val_loss, \n",
        "          test_loss,\n",
        "          train_time, \n",
        "          hidden_dim,\n",
        "          path=\"/content/gdrive/My Drive/Chai/Models/\") "
      ],
      "execution_count": 0,
      "outputs": []
    },
    {
      "cell_type": "markdown",
      "metadata": {
        "colab_type": "text",
        "id": "qmzBKO27mbm1"
      },
      "source": [
        "# Results"
      ]
    },
    {
      "cell_type": "code",
      "metadata": {
        "id": "ceRJjsRVgGl1",
        "colab_type": "code",
        "colab": {}
      },
      "source": [
        "mse, mae, mde = evaluate(learning.test_predictions, learning.y_test.numpy())\n",
        "print(mse, mae, mde)"
      ],
      "execution_count": 0,
      "outputs": []
    },
    {
      "cell_type": "markdown",
      "metadata": {
        "id": "XRT2jKcAj3M9",
        "colab_type": "text"
      },
      "source": [
        "## Persistance"
      ]
    },
    {
      "cell_type": "code",
      "metadata": {
        "id": "fzd9xprempGP",
        "colab_type": "code",
        "colab": {}
      },
      "source": [
        "plt.title(\"Persistance vs Observed Values\")\n",
        "plt.plot(learning.train_predictions, label=\"Predicted\")\n",
        "plt.plot(shift(learning.train_predictions, 5), label=\"Observed\")\n",
        "plt.legend()"
      ],
      "execution_count": 0,
      "outputs": []
    },
    {
      "cell_type": "code",
      "metadata": {
        "colab_type": "code",
        "id": "R7iZ3kSUmbm2",
        "colab": {}
      },
      "source": [
        "df = df_full[[\"target\"]]\n",
        "# Taking t-1 to be the value for t\n",
        "df[\"persistance\"] = df.shift(1)\n",
        "df.dropna(inplace=True)\n",
        "# Calculating metrics for these columns\n",
        "MSE, MAE, MDE = evaluate(df, \"target\", \"persistance\")"
      ],
      "execution_count": 0,
      "outputs": []
    },
    {
      "cell_type": "code",
      "metadata": {
        "colab_type": "code",
        "id": "uIbnEu1Ombm8",
        "colab": {}
      },
      "source": [
        "print(df[:5])\n",
        "print(df[-5:])"
      ],
      "execution_count": 0,
      "outputs": []
    },
    {
      "cell_type": "code",
      "metadata": {
        "colab_type": "code",
        "id": "x7iq6yQdmbnE",
        "scrolled": true,
        "colab": {}
      },
      "source": [
        "# Placing in results dataframe\n",
        "results = pd.DataFrame(columns={\"MSE\", \"MAE\", \"MDE\"})\n",
        "results.index.name = 'Name'\n",
        "results.head()\n",
        "results.loc[\"persistance\"] = [MSE, MAE, MDE] \n",
        "results.head()"
      ],
      "execution_count": 0,
      "outputs": []
    }
  ]
}