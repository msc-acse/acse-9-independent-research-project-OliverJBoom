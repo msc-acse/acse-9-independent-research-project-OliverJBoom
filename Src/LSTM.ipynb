{
  "nbformat": 4,
  "nbformat_minor": 0,
  "metadata": {
    "accelerator": "GPU",
    "colab": {
      "name": "LSTM.ipynb",
      "version": "0.3.2",
      "provenance": [],
      "collapsed_sections": [],
      "toc_visible": true
    },
    "kernelspec": {
      "display_name": "Python 3",
      "language": "python",
      "name": "python3"
    },
    "language_info": {
      "codemirror_mode": {
        "name": "ipython",
        "version": 3
      },
      "file_extension": ".py",
      "mimetype": "text/x-python",
      "name": "python",
      "nbconvert_exporter": "python",
      "pygments_lexer": "ipython3",
      "version": "3.7.3"
    }
  },
  "cells": [
    {
      "cell_type": "markdown",
      "metadata": {
        "colab_type": "text",
        "id": "IyHSuKQHmbky"
      },
      "source": [
        "## For Colabs"
      ]
    },
    {
      "cell_type": "code",
      "metadata": {
        "colab_type": "code",
        "id": "7NKH9kQRmbkz",
        "outputId": "5d339884-d150-44c3-9b3b-f4b2d792b67e",
        "colab": {
          "base_uri": "https://localhost:8080/",
          "height": 751
        }
      },
      "source": [
        "!pip install pycm livelossplot"
      ],
      "execution_count": 1,
      "outputs": [
        {
          "output_type": "stream",
          "text": [
            "Requirement already satisfied: pycm in /usr/local/lib/python3.6/dist-packages (2.4)\n",
            "Requirement already satisfied: livelossplot in /usr/local/lib/python3.6/dist-packages (0.4.1)\n",
            "Requirement already satisfied: numpy>=1.9.0 in /usr/local/lib/python3.6/dist-packages (from pycm) (1.16.4)\n",
            "Requirement already satisfied: art>=1.8 in /usr/local/lib/python3.6/dist-packages (from pycm) (3.8)\n",
            "Requirement already satisfied: notebook in /usr/local/lib/python3.6/dist-packages (from livelossplot) (5.2.2)\n",
            "Requirement already satisfied: matplotlib in /usr/local/lib/python3.6/dist-packages (from livelossplot) (3.0.3)\n",
            "Requirement already satisfied: coverage>=4.1 in /usr/local/lib/python3.6/dist-packages (from art>=1.8->pycm) (4.5.4)\n",
            "Requirement already satisfied: jupyter-client in /usr/local/lib/python3.6/dist-packages (from notebook->livelossplot) (5.3.1)\n",
            "Requirement already satisfied: traitlets>=4.2.1 in /usr/local/lib/python3.6/dist-packages (from notebook->livelossplot) (4.3.2)\n",
            "Requirement already satisfied: ipykernel in /usr/local/lib/python3.6/dist-packages (from notebook->livelossplot) (4.6.1)\n",
            "Requirement already satisfied: terminado>=0.3.3; sys_platform != \"win32\" in /usr/local/lib/python3.6/dist-packages (from notebook->livelossplot) (0.8.2)\n",
            "Requirement already satisfied: ipython-genutils in /usr/local/lib/python3.6/dist-packages (from notebook->livelossplot) (0.2.0)\n",
            "Requirement already satisfied: tornado>=4 in /usr/local/lib/python3.6/dist-packages (from notebook->livelossplot) (4.5.3)\n",
            "Requirement already satisfied: jinja2 in /usr/local/lib/python3.6/dist-packages (from notebook->livelossplot) (2.10.1)\n",
            "Requirement already satisfied: jupyter-core in /usr/local/lib/python3.6/dist-packages (from notebook->livelossplot) (4.5.0)\n",
            "Requirement already satisfied: nbformat in /usr/local/lib/python3.6/dist-packages (from notebook->livelossplot) (4.4.0)\n",
            "Requirement already satisfied: nbconvert in /usr/local/lib/python3.6/dist-packages (from notebook->livelossplot) (5.5.0)\n",
            "Requirement already satisfied: kiwisolver>=1.0.1 in /usr/local/lib/python3.6/dist-packages (from matplotlib->livelossplot) (1.1.0)\n",
            "Requirement already satisfied: cycler>=0.10 in /usr/local/lib/python3.6/dist-packages (from matplotlib->livelossplot) (0.10.0)\n",
            "Requirement already satisfied: python-dateutil>=2.1 in /usr/local/lib/python3.6/dist-packages (from matplotlib->livelossplot) (2.5.3)\n",
            "Requirement already satisfied: pyparsing!=2.0.4,!=2.1.2,!=2.1.6,>=2.0.1 in /usr/local/lib/python3.6/dist-packages (from matplotlib->livelossplot) (2.4.2)\n",
            "Requirement already satisfied: pyzmq>=13 in /usr/local/lib/python3.6/dist-packages (from jupyter-client->notebook->livelossplot) (17.0.0)\n",
            "Requirement already satisfied: decorator in /usr/local/lib/python3.6/dist-packages (from traitlets>=4.2.1->notebook->livelossplot) (4.4.0)\n",
            "Requirement already satisfied: six in /usr/local/lib/python3.6/dist-packages (from traitlets>=4.2.1->notebook->livelossplot) (1.12.0)\n",
            "Requirement already satisfied: ipython>=4.0.0 in /usr/local/lib/python3.6/dist-packages (from ipykernel->notebook->livelossplot) (5.5.0)\n",
            "Requirement already satisfied: ptyprocess; os_name != \"nt\" in /usr/local/lib/python3.6/dist-packages (from terminado>=0.3.3; sys_platform != \"win32\"->notebook->livelossplot) (0.6.0)\n",
            "Requirement already satisfied: MarkupSafe>=0.23 in /usr/local/lib/python3.6/dist-packages (from jinja2->notebook->livelossplot) (1.1.1)\n",
            "Requirement already satisfied: jsonschema!=2.5.0,>=2.4 in /usr/local/lib/python3.6/dist-packages (from nbformat->notebook->livelossplot) (2.6.0)\n",
            "Requirement already satisfied: testpath in /usr/local/lib/python3.6/dist-packages (from nbconvert->notebook->livelossplot) (0.4.2)\n",
            "Requirement already satisfied: entrypoints>=0.2.2 in /usr/local/lib/python3.6/dist-packages (from nbconvert->notebook->livelossplot) (0.3)\n",
            "Requirement already satisfied: pygments in /usr/local/lib/python3.6/dist-packages (from nbconvert->notebook->livelossplot) (2.1.3)\n",
            "Requirement already satisfied: pandocfilters>=1.4.1 in /usr/local/lib/python3.6/dist-packages (from nbconvert->notebook->livelossplot) (1.4.2)\n",
            "Requirement already satisfied: mistune>=0.8.1 in /usr/local/lib/python3.6/dist-packages (from nbconvert->notebook->livelossplot) (0.8.4)\n",
            "Requirement already satisfied: defusedxml in /usr/local/lib/python3.6/dist-packages (from nbconvert->notebook->livelossplot) (0.6.0)\n",
            "Requirement already satisfied: bleach in /usr/local/lib/python3.6/dist-packages (from nbconvert->notebook->livelossplot) (3.1.0)\n",
            "Requirement already satisfied: setuptools in /usr/local/lib/python3.6/dist-packages (from kiwisolver>=1.0.1->matplotlib->livelossplot) (41.0.1)\n",
            "Requirement already satisfied: simplegeneric>0.8 in /usr/local/lib/python3.6/dist-packages (from ipython>=4.0.0->ipykernel->notebook->livelossplot) (0.8.1)\n",
            "Requirement already satisfied: pexpect; sys_platform != \"win32\" in /usr/local/lib/python3.6/dist-packages (from ipython>=4.0.0->ipykernel->notebook->livelossplot) (4.7.0)\n",
            "Requirement already satisfied: prompt-toolkit<2.0.0,>=1.0.4 in /usr/local/lib/python3.6/dist-packages (from ipython>=4.0.0->ipykernel->notebook->livelossplot) (1.0.16)\n",
            "Requirement already satisfied: pickleshare in /usr/local/lib/python3.6/dist-packages (from ipython>=4.0.0->ipykernel->notebook->livelossplot) (0.7.5)\n",
            "Requirement already satisfied: webencodings in /usr/local/lib/python3.6/dist-packages (from bleach->nbconvert->notebook->livelossplot) (0.5.1)\n",
            "Requirement already satisfied: wcwidth in /usr/local/lib/python3.6/dist-packages (from prompt-toolkit<2.0.0,>=1.0.4->ipython>=4.0.0->ipykernel->notebook->livelossplot) (0.1.7)\n"
          ],
          "name": "stdout"
        }
      ]
    },
    {
      "cell_type": "code",
      "metadata": {
        "colab_type": "code",
        "id": "X8bAIFxumbk2",
        "outputId": "ef1416b3-e4fa-4900-fcfe-0eb1d59eb59d",
        "colab": {
          "base_uri": "https://localhost:8080/",
          "height": 153
        }
      },
      "source": [
        "from getpass import getpass\n",
        "import os\n",
        "\n",
        "user = \"OliverJBoom\"\n",
        "password = getpass('github password')\n",
        "os.environ['GITHUB_AUTH'] = user + ':' + password\n",
        "\n",
        "!rm -rf \"/content/acse-9-independent-research-project-OliverJBoom\"\n",
        "!git clone https://$GITHUB_AUTH@github.com/msc-acse/acse-9-independent-research-project-OliverJBoom.git"
      ],
      "execution_count": 3,
      "outputs": [
        {
          "output_type": "stream",
          "text": [
            "github password··········\n",
            "Cloning into 'acse-9-independent-research-project-OliverJBoom'...\n",
            "remote: Enumerating objects: 420, done.\u001b[K\n",
            "remote: Counting objects: 100% (420/420), done.\u001b[K\n",
            "remote: Compressing objects: 100% (298/298), done.\u001b[K\n",
            "remote: Total 420 (delta 218), reused 291 (delta 114), pack-reused 0\u001b[K\n",
            "Receiving objects: 100% (420/420), 4.03 MiB | 24.69 MiB/s, done.\n",
            "Resolving deltas: 100% (218/218), done.\n"
          ],
          "name": "stdout"
        }
      ]
    },
    {
      "cell_type": "code",
      "metadata": {
        "colab_type": "code",
        "id": "oBx8zc83mbk4",
        "outputId": "722cff66-6718-45cf-8eca-e38a84c56667",
        "colab": {
          "base_uri": "https://localhost:8080/",
          "height": 34
        }
      },
      "source": [
        "from google.colab import drive\n",
        "drive.mount(\"/content/gdrive/\", force_remount=True)\n",
        "path = \"/content/gdrive/My Drive/Chai/Data\""
      ],
      "execution_count": 128,
      "outputs": [
        {
          "output_type": "stream",
          "text": [
            "Mounted at /content/gdrive/\n"
          ],
          "name": "stdout"
        }
      ]
    },
    {
      "cell_type": "code",
      "metadata": {
        "colab_type": "code",
        "id": "m_1U5r4ymbk6",
        "outputId": "c043f0a9-41ed-4dcc-cfa7-2abbc72c8f57",
        "colab": {
          "base_uri": "https://localhost:8080/",
          "height": 289
        }
      },
      "source": [
        "import os\n",
        "os.chdir(\"acse-9-independent-research-project-OliverJBoom/Src\")\n",
        "os.listdir()"
      ],
      "execution_count": 5,
      "outputs": [
        {
          "output_type": "execute_result",
          "data": {
            "text/plain": [
              "['Models',\n",
              " '.DS_Store',\n",
              " 'Data',\n",
              " '.ipynb_checkpoints',\n",
              " 'ARIMA_Model.ipynb',\n",
              " '__pycache__',\n",
              " 'Gaussian_Process.ipynb',\n",
              " 'utils.py',\n",
              " 'LSTM.ipynb',\n",
              " 'Additive_Model.ipynb',\n",
              " 'Chai_Base.ipynb',\n",
              " 'deeplearning.py',\n",
              " 'preprocessing.py',\n",
              " 'test.py',\n",
              " '.idea',\n",
              " 'db_access.py']"
            ]
          },
          "metadata": {
            "tags": []
          },
          "execution_count": 5
        }
      ]
    },
    {
      "cell_type": "markdown",
      "metadata": {
        "colab_type": "text",
        "id": "67j8odKJJQL_"
      },
      "source": [
        "## Loading Packages"
      ]
    },
    {
      "cell_type": "code",
      "metadata": {
        "colab_type": "code",
        "id": "qd88JeQfrEzc",
        "outputId": "b064fb66-f91d-4c0c-89ed-245a63b82fe7",
        "scrolled": true,
        "colab": {
          "base_uri": "https://localhost:8080/",
          "height": 34
        }
      },
      "source": [
        "from deeplearning import *\n",
        "from livelossplot import PlotLosses\n",
        "import numpy as np\n",
        "import os\n",
        "import pandas as pd\n",
        "import matplotlib.pyplot as plt\n",
        "from scipy.ndimage.interpolation import shift\n",
        "from sklearn.preprocessing import MinMaxScaler\n",
        "from sklearn.model_selection import train_test_split\n",
        "from sklearn.decomposition import PCA\n",
        "from preprocessing import *\n",
        "import time\n",
        "import torch\n",
        "import torch.nn as nn\n",
        "import torch.nn.functional as F\n",
        "from torch.utils.data import TensorDataset, DataLoader\n",
        "from utils import *\n",
        "import warnings\n",
        "\n",
        "warnings.filterwarnings(\"ignore\")\n",
        "\n",
        "set_seed(42)"
      ],
      "execution_count": 6,
      "outputs": [
        {
          "output_type": "execute_result",
          "data": {
            "text/plain": [
              "True"
            ]
          },
          "metadata": {
            "tags": []
          },
          "execution_count": 6
        }
      ]
    },
    {
      "cell_type": "markdown",
      "metadata": {
        "colab_type": "text",
        "id": "u0N6DJJ0mbk_"
      },
      "source": [
        "### Insuring that training is done on GPU if available"
      ]
    },
    {
      "cell_type": "code",
      "metadata": {
        "colab_type": "code",
        "id": "2QpZ1E8emblA",
        "outputId": "81b0006b-13a5-4854-cc36-abd7999952d4",
        "colab": {
          "base_uri": "https://localhost:8080/",
          "height": 34
        }
      },
      "source": [
        "device = 'cpu'\n",
        "if torch.cuda.device_count() > 0 and torch.cuda.is_available():\n",
        "    print(\"Cuda installed! Running on GPU!\")\n",
        "    device = 'cuda'\n",
        "else:\n",
        "    print(\"No GPU available!\")"
      ],
      "execution_count": 7,
      "outputs": [
        {
          "output_type": "stream",
          "text": [
            "Cuda installed! Running on GPU!\n"
          ],
          "name": "stdout"
        }
      ]
    },
    {
      "cell_type": "markdown",
      "metadata": {
        "colab_type": "text",
        "id": "Um9Dkbc5mblC"
      },
      "source": [
        "## Loading Data"
      ]
    },
    {
      "cell_type": "code",
      "metadata": {
        "colab_type": "code",
        "id": "weVUDM7lmblD",
        "colab": {}
      },
      "source": [
        "path = \"Data/Commodity_Data/\"\n",
        "universe_dict = universe_select(path, \"Cu\")"
      ],
      "execution_count": 0,
      "outputs": []
    },
    {
      "cell_type": "markdown",
      "metadata": {
        "colab_type": "text",
        "id": "4k8FIHASpHfv"
      },
      "source": [
        "## Preprocessing"
      ]
    },
    {
      "cell_type": "code",
      "metadata": {
        "colab_type": "code",
        "id": "ki2dJCGNkOVE",
        "outputId": "6b27bd0f-a2c0-4bc6-c4a2-620360264130",
        "scrolled": true,
        "colab": {
          "base_uri": "https://localhost:8080/",
          "height": 221
        }
      },
      "source": [
        "# Renaming the columns to price\n",
        "universe_dict = price_rename(universe_dict)\n",
        "\n",
        "# Cleaning the dataset of any erroneous datapoints\n",
        "universe_dict = clean_dict_gen(universe_dict)\n",
        "\n",
        "# Making sure that all the points in the window have consistent length\n",
        "universe_dict = truncate_window_length(universe_dict)\n",
        "\n",
        "# Lg Returns Only\n",
        "# df_full = generate_dataset(universe_dict, lg_returns_only=True, price_only=False)\n",
        "\n",
        "# Price Only\n",
        "df_full = generate_dataset(universe_dict, lg_returns_only=False, price_only=True)"
      ],
      "execution_count": 9,
      "outputs": [
        {
          "output_type": "stream",
          "text": [
            "Included Instrument:\n",
            "cu_shfe\n",
            "cu_lme\n",
            "cu_comex_p\n",
            "cu_comex_s\n",
            "peso\n",
            "sol\n",
            "bdi\n",
            "ted\n",
            "vix\n",
            "skew\n",
            "gsci\n"
          ],
          "name": "stdout"
        }
      ]
    },
    {
      "cell_type": "code",
      "metadata": {
        "colab_type": "code",
        "id": "GD-VPpI7mblH",
        "colab": {}
      },
      "source": [
        "# Both Price and Log Returns\n",
        "# df_full = generate_dataset(universe_dict, lg_returns_only=False, price_only=False)"
      ],
      "execution_count": 0,
      "outputs": []
    },
    {
      "cell_type": "code",
      "metadata": {
        "colab_type": "code",
        "id": "lhgJJBmjmblJ",
        "colab": {}
      },
      "source": [
        "# # Raw Price Target\n",
        "# df_target = df_full[[\"price_cu_lme\"]]\n",
        "# df_target = df_target.shift(-5)\n",
        "\n",
        "# # # df_full = df_full[df_full.columns.drop(list(df_full.filter(regex='price')))]\n",
        "# df_full[[\"target\"]] = df_target"
      ],
      "execution_count": 0,
      "outputs": []
    },
    {
      "cell_type": "markdown",
      "metadata": {
        "colab_type": "text",
        "id": "Sdgf7eXimblL"
      },
      "source": [
        "The target column represents the log returns at one forecast length out in the future for the instrument of interest (aluminium or copper prices on the London Metals Exchange). \n",
        "\n",
        "To normalise the independent variables, the 1 day log returns between closing prices have been used."
      ]
    },
    {
      "cell_type": "code",
      "metadata": {
        "code_folding": [],
        "colab_type": "code",
        "id": "b7nd05YFmblM",
        "scrolled": true,
        "colab": {}
      },
      "source": [
        "# Visualise the plots\n",
        "# visualise_universe(universe_dict)\n",
        "df_full = df_full[[\"price_cu_lme\"]]\n",
        "# df_full = df_full[[\"cu_lme\"]]"
      ],
      "execution_count": 0,
      "outputs": []
    },
    {
      "cell_type": "code",
      "metadata": {
        "colab_type": "code",
        "id": "7J6bOnusmblO",
        "outputId": "ceab5edd-afa4-470c-e6bc-5279a621b1c7",
        "scrolled": true,
        "colab": {
          "base_uri": "https://localhost:8080/",
          "height": 820
        }
      },
      "source": [
        "df_full.head(15)\n",
        "# df_full.tail(5)"
      ],
      "execution_count": 10,
      "outputs": [
        {
          "output_type": "execute_result",
          "data": {
            "text/html": [
              "<div>\n",
              "<style scoped>\n",
              "    .dataframe tbody tr th:only-of-type {\n",
              "        vertical-align: middle;\n",
              "    }\n",
              "\n",
              "    .dataframe tbody tr th {\n",
              "        vertical-align: top;\n",
              "    }\n",
              "\n",
              "    .dataframe thead th {\n",
              "        text-align: right;\n",
              "    }\n",
              "</style>\n",
              "<table border=\"1\" class=\"dataframe\">\n",
              "  <thead>\n",
              "    <tr style=\"text-align: right;\">\n",
              "      <th></th>\n",
              "      <th>price_cu_shfe</th>\n",
              "      <th>price_cu_lme</th>\n",
              "      <th>price_cu_comex_p</th>\n",
              "      <th>price_cu_comex_s</th>\n",
              "      <th>price_peso</th>\n",
              "      <th>price_sol</th>\n",
              "      <th>price_bdi</th>\n",
              "      <th>price_ted</th>\n",
              "      <th>price_vix</th>\n",
              "      <th>price_skew</th>\n",
              "      <th>price_gsci</th>\n",
              "    </tr>\n",
              "    <tr>\n",
              "      <th>date</th>\n",
              "      <th></th>\n",
              "      <th></th>\n",
              "      <th></th>\n",
              "      <th></th>\n",
              "      <th></th>\n",
              "      <th></th>\n",
              "      <th></th>\n",
              "      <th></th>\n",
              "      <th></th>\n",
              "      <th></th>\n",
              "      <th></th>\n",
              "    </tr>\n",
              "  </thead>\n",
              "  <tbody>\n",
              "    <tr>\n",
              "      <th>2006-09-13</th>\n",
              "      <td>69540.0</td>\n",
              "      <td>7484.5</td>\n",
              "      <td>3.3925</td>\n",
              "      <td>15748.0</td>\n",
              "      <td>537.35</td>\n",
              "      <td>3.2530</td>\n",
              "      <td>4129.0</td>\n",
              "      <td>4.901</td>\n",
              "      <td>11.18</td>\n",
              "      <td>120.44</td>\n",
              "      <td>438.38855</td>\n",
              "    </tr>\n",
              "    <tr>\n",
              "      <th>2006-09-14</th>\n",
              "      <td>71350.0</td>\n",
              "      <td>7439.0</td>\n",
              "      <td>3.3820</td>\n",
              "      <td>14180.0</td>\n",
              "      <td>537.73</td>\n",
              "      <td>3.2475</td>\n",
              "      <td>4207.0</td>\n",
              "      <td>4.926</td>\n",
              "      <td>11.55</td>\n",
              "      <td>119.47</td>\n",
              "      <td>433.72522</td>\n",
              "    </tr>\n",
              "    <tr>\n",
              "      <th>2006-09-15</th>\n",
              "      <td>69400.0</td>\n",
              "      <td>7281.0</td>\n",
              "      <td>3.3165</td>\n",
              "      <td>14775.0</td>\n",
              "      <td>537.10</td>\n",
              "      <td>3.2480</td>\n",
              "      <td>4258.0</td>\n",
              "      <td>4.939</td>\n",
              "      <td>11.76</td>\n",
              "      <td>135.25</td>\n",
              "      <td>431.58291</td>\n",
              "    </tr>\n",
              "    <tr>\n",
              "      <th>2006-09-18</th>\n",
              "      <td>69830.0</td>\n",
              "      <td>7459.0</td>\n",
              "      <td>3.4180</td>\n",
              "      <td>15263.0</td>\n",
              "      <td>537.10</td>\n",
              "      <td>3.2450</td>\n",
              "      <td>4279.0</td>\n",
              "      <td>4.949</td>\n",
              "      <td>11.78</td>\n",
              "      <td>127.35</td>\n",
              "      <td>434.97293</td>\n",
              "    </tr>\n",
              "    <tr>\n",
              "      <th>2006-09-19</th>\n",
              "      <td>71470.0</td>\n",
              "      <td>7516.0</td>\n",
              "      <td>3.3755</td>\n",
              "      <td>17523.0</td>\n",
              "      <td>537.10</td>\n",
              "      <td>3.2450</td>\n",
              "      <td>4275.0</td>\n",
              "      <td>4.948</td>\n",
              "      <td>11.98</td>\n",
              "      <td>125.03</td>\n",
              "      <td>426.51240</td>\n",
              "    </tr>\n",
              "    <tr>\n",
              "      <th>2006-09-20</th>\n",
              "      <td>69610.0</td>\n",
              "      <td>7474.0</td>\n",
              "      <td>3.3700</td>\n",
              "      <td>18091.0</td>\n",
              "      <td>537.80</td>\n",
              "      <td>3.2450</td>\n",
              "      <td>4244.0</td>\n",
              "      <td>4.937</td>\n",
              "      <td>11.39</td>\n",
              "      <td>122.71</td>\n",
              "      <td>418.32234</td>\n",
              "    </tr>\n",
              "    <tr>\n",
              "      <th>2006-09-21</th>\n",
              "      <td>70170.0</td>\n",
              "      <td>7602.0</td>\n",
              "      <td>3.4220</td>\n",
              "      <td>19546.0</td>\n",
              "      <td>539.70</td>\n",
              "      <td>3.2480</td>\n",
              "      <td>4200.0</td>\n",
              "      <td>4.921</td>\n",
              "      <td>12.25</td>\n",
              "      <td>119.68</td>\n",
              "      <td>423.56908</td>\n",
              "    </tr>\n",
              "    <tr>\n",
              "      <th>2006-09-22</th>\n",
              "      <td>71170.0</td>\n",
              "      <td>7601.0</td>\n",
              "      <td>3.4395</td>\n",
              "      <td>20627.0</td>\n",
              "      <td>538.50</td>\n",
              "      <td>3.2470</td>\n",
              "      <td>4136.0</td>\n",
              "      <td>4.924</td>\n",
              "      <td>12.59</td>\n",
              "      <td>118.86</td>\n",
              "      <td>418.01647</td>\n",
              "    </tr>\n",
              "    <tr>\n",
              "      <th>2006-09-25</th>\n",
              "      <td>71130.0</td>\n",
              "      <td>7560.0</td>\n",
              "      <td>3.4475</td>\n",
              "      <td>20978.0</td>\n",
              "      <td>539.30</td>\n",
              "      <td>3.2490</td>\n",
              "      <td>4069.0</td>\n",
              "      <td>4.907</td>\n",
              "      <td>12.12</td>\n",
              "      <td>120.75</td>\n",
              "      <td>418.93144</td>\n",
              "    </tr>\n",
              "    <tr>\n",
              "      <th>2006-09-26</th>\n",
              "      <td>70890.0</td>\n",
              "      <td>7708.0</td>\n",
              "      <td>3.4635</td>\n",
              "      <td>21326.0</td>\n",
              "      <td>538.10</td>\n",
              "      <td>3.2490</td>\n",
              "      <td>3979.0</td>\n",
              "      <td>4.875</td>\n",
              "      <td>11.53</td>\n",
              "      <td>121.64</td>\n",
              "      <td>419.19717</td>\n",
              "    </tr>\n",
              "    <tr>\n",
              "      <th>2006-09-27</th>\n",
              "      <td>71020.0</td>\n",
              "      <td>7662.0</td>\n",
              "      <td>3.4755</td>\n",
              "      <td>20855.0</td>\n",
              "      <td>536.70</td>\n",
              "      <td>3.2520</td>\n",
              "      <td>3915.0</td>\n",
              "      <td>4.869</td>\n",
              "      <td>11.58</td>\n",
              "      <td>118.43</td>\n",
              "      <td>426.00390</td>\n",
              "    </tr>\n",
              "    <tr>\n",
              "      <th>2006-09-28</th>\n",
              "      <td>71170.0</td>\n",
              "      <td>7500.0</td>\n",
              "      <td>3.4140</td>\n",
              "      <td>20646.0</td>\n",
              "      <td>536.75</td>\n",
              "      <td>3.2530</td>\n",
              "      <td>3911.0</td>\n",
              "      <td>4.853</td>\n",
              "      <td>11.72</td>\n",
              "      <td>118.21</td>\n",
              "      <td>426.62993</td>\n",
              "    </tr>\n",
              "    <tr>\n",
              "      <th>2006-09-29</th>\n",
              "      <td>71030.0</td>\n",
              "      <td>7568.0</td>\n",
              "      <td>3.4590</td>\n",
              "      <td>20360.0</td>\n",
              "      <td>534.70</td>\n",
              "      <td>3.2500</td>\n",
              "      <td>3944.0</td>\n",
              "      <td>4.877</td>\n",
              "      <td>11.98</td>\n",
              "      <td>120.09</td>\n",
              "      <td>428.05329</td>\n",
              "    </tr>\n",
              "    <tr>\n",
              "      <th>2006-10-02</th>\n",
              "      <td>71030.0</td>\n",
              "      <td>7523.0</td>\n",
              "      <td>3.4305</td>\n",
              "      <td>20113.0</td>\n",
              "      <td>533.10</td>\n",
              "      <td>3.2460</td>\n",
              "      <td>3956.0</td>\n",
              "      <td>4.891</td>\n",
              "      <td>12.57</td>\n",
              "      <td>119.80</td>\n",
              "      <td>420.17342</td>\n",
              "    </tr>\n",
              "    <tr>\n",
              "      <th>2006-10-03</th>\n",
              "      <td>71030.0</td>\n",
              "      <td>7347.0</td>\n",
              "      <td>3.2865</td>\n",
              "      <td>20293.0</td>\n",
              "      <td>534.25</td>\n",
              "      <td>3.2460</td>\n",
              "      <td>3960.0</td>\n",
              "      <td>4.912</td>\n",
              "      <td>12.24</td>\n",
              "      <td>116.93</td>\n",
              "      <td>409.67885</td>\n",
              "    </tr>\n",
              "  </tbody>\n",
              "</table>\n",
              "</div>"
            ],
            "text/plain": [
              "            price_cu_shfe  price_cu_lme  ...  price_skew  price_gsci\n",
              "date                                     ...                        \n",
              "2006-09-13        69540.0        7484.5  ...      120.44   438.38855\n",
              "2006-09-14        71350.0        7439.0  ...      119.47   433.72522\n",
              "2006-09-15        69400.0        7281.0  ...      135.25   431.58291\n",
              "2006-09-18        69830.0        7459.0  ...      127.35   434.97293\n",
              "2006-09-19        71470.0        7516.0  ...      125.03   426.51240\n",
              "2006-09-20        69610.0        7474.0  ...      122.71   418.32234\n",
              "2006-09-21        70170.0        7602.0  ...      119.68   423.56908\n",
              "2006-09-22        71170.0        7601.0  ...      118.86   418.01647\n",
              "2006-09-25        71130.0        7560.0  ...      120.75   418.93144\n",
              "2006-09-26        70890.0        7708.0  ...      121.64   419.19717\n",
              "2006-09-27        71020.0        7662.0  ...      118.43   426.00390\n",
              "2006-09-28        71170.0        7500.0  ...      118.21   426.62993\n",
              "2006-09-29        71030.0        7568.0  ...      120.09   428.05329\n",
              "2006-10-02        71030.0        7523.0  ...      119.80   420.17342\n",
              "2006-10-03        71030.0        7347.0  ...      116.93   409.67885\n",
              "\n",
              "[15 rows x 11 columns]"
            ]
          },
          "metadata": {
            "tags": []
          },
          "execution_count": 10
        }
      ]
    },
    {
      "cell_type": "code",
      "metadata": {
        "colab_type": "code",
        "id": "RvZXqVUPmblQ",
        "outputId": "0c72e460-6a69-4e21-fb69-2833a97ec3ce",
        "scrolled": true,
        "colab": {
          "base_uri": "https://localhost:8080/",
          "height": 34
        }
      },
      "source": [
        "scaler = MinMaxScaler()\n",
        "scaled_data = scaler.fit_transform(df_full)\n",
        "scaled_data.shape"
      ],
      "execution_count": 68,
      "outputs": [
        {
          "output_type": "execute_result",
          "data": {
            "text/plain": [
              "(3333, 11)"
            ]
          },
          "metadata": {
            "tags": []
          },
          "execution_count": 68
        }
      ]
    },
    {
      "cell_type": "code",
      "metadata": {
        "colab_type": "code",
        "id": "rT4o2KylmblT",
        "colab": {}
      },
      "source": [
        "scaled_target = scaled_data[:, df_full.columns.get_loc('price_cu_lme')]\n",
        "# scaled_target = scaled_data[:, df_full.columns.get_loc('cu_lme')]\n",
        "# Need to remove final 5 values in df\n",
        "scaled_target = shift(scaled_target, -5)"
      ],
      "execution_count": 0,
      "outputs": []
    },
    {
      "cell_type": "code",
      "metadata": {
        "colab_type": "code",
        "id": "z9Blxu_WmblV",
        "colab": {}
      },
      "source": [
        "scaled_data = scaled_data[:-5, :]\n",
        "scaled_target = scaled_target[:-5]"
      ],
      "execution_count": 0,
      "outputs": []
    },
    {
      "cell_type": "code",
      "metadata": {
        "colab_type": "code",
        "id": "SjGMsUEx1bEl",
        "colab": {}
      },
      "source": [
        "dataset_size = 1500\n",
        "\n",
        "scaled_data = scaled_data[:dataset_size, :]\n",
        "scaled_target = scaled_target[:dataset_size]"
      ],
      "execution_count": 0,
      "outputs": []
    },
    {
      "cell_type": "code",
      "metadata": {
        "colab_type": "code",
        "id": "z-cQFIJkmblX",
        "outputId": "ae08388f-1393-462d-9302-25545ad363ea",
        "colab": {
          "base_uri": "https://localhost:8080/",
          "height": 51
        }
      },
      "source": [
        "print(scaled_data.shape)\n",
        "print(scaled_target.shape)\n",
        "\n",
        "# print(scaled_data[:10, 1])\n",
        "# print(scaled_target[:10])"
      ],
      "execution_count": 72,
      "outputs": [
        {
          "output_type": "stream",
          "text": [
            "(1500, 11)\n",
            "(1500,)\n"
          ],
          "name": "stdout"
        }
      ]
    },
    {
      "cell_type": "markdown",
      "metadata": {
        "colab_type": "text",
        "id": "vtwh3CX8mbla"
      },
      "source": [
        "### PCA"
      ]
    },
    {
      "cell_type": "code",
      "metadata": {
        "id": "eMGYAFAoFaiF",
        "colab_type": "code",
        "colab": {
          "base_uri": "https://localhost:8080/",
          "height": 187
        },
        "outputId": "5210b96d-aa06-46a1-e115-ae04e2c37cb9"
      },
      "source": [
        "thresh = 0.95\n",
        "\n",
        "for n_dim in range(1, 11):\n",
        "    pca = PCA(n_components=n_dim)\n",
        "    pca.fit(scaled_data)\n",
        "\n",
        "    if sum(pca.explained_variance_ratio_) > thresh:\n",
        "        print(\"Number of dimensions:\", n_dim, \n",
        "             sum(pca.explained_variance_ratio_))\n",
        "    else: print(\"No\", sum(pca.explained_variance_ratio_))"
      ],
      "execution_count": 67,
      "outputs": [
        {
          "output_type": "stream",
          "text": [
            "No 0.43425379765361916\n",
            "No 0.8358757769399348\n",
            "No 0.931406203233768\n",
            "Number of dimensions: 4 0.9565865437689408\n",
            "Number of dimensions: 5 0.9701937896803973\n",
            "Number of dimensions: 6 0.9822148234684126\n",
            "Number of dimensions: 7 0.99029985996799\n",
            "Number of dimensions: 8 0.9949622748931334\n",
            "Number of dimensions: 9 0.9981499248146981\n",
            "Number of dimensions: 10 0.9999297052498892\n"
          ],
          "name": "stdout"
        }
      ]
    },
    {
      "cell_type": "code",
      "metadata": {
        "code_folding": [],
        "colab_type": "code",
        "id": "Tt6qMuNjmblb",
        "outputId": "efe142d2-a633-4139-e358-37c0e3ecd6ac",
        "scrolled": false,
        "colab": {
          "base_uri": "https://localhost:8080/",
          "height": 34
        }
      },
      "source": [
        "# Reducing the dataset to containing a threshold \n",
        "# amount of variance\n",
        "# n_dim = dimension_selector(df_X, thresh=0.98)\n",
        "# df_X = dimension_reduce(df_X, n_dim)\n",
        "# print(scaled_data.shape)\n",
        "pca = PCA(n_components=4)\n",
        "scaled_data = pca.fit_transform(scaled_data)\n",
        "print(sum(pca.explained_variance_ratio_), pca.explained_variance_ratio_)"
      ],
      "execution_count": 73,
      "outputs": [
        {
          "output_type": "stream",
          "text": [
            "[0.4342538  0.40162198 0.09553043 0.02518034]\n"
          ],
          "name": "stdout"
        }
      ]
    },
    {
      "cell_type": "markdown",
      "metadata": {
        "colab_type": "text",
        "id": "zgonSBo4mble"
      },
      "source": [
        "### Chunking Series into Windows"
      ]
    },
    {
      "cell_type": "code",
      "metadata": {
        "colab_type": "code",
        "id": "RFPTNYZpmblf",
        "outputId": "fbae720a-3d4e-438c-cf09-70a4af04b31f",
        "colab": {
          "base_uri": "https://localhost:8080/",
          "height": 34
        }
      },
      "source": [
        "# The input size of each time series window\n",
        "series_length = 60\n",
        "\n",
        "# Creating a data structure which is slices of input size\n",
        "data_X = []\n",
        "data_y = []\n",
        "\n",
        "# For prototyping\n",
        "# length = int(len(df_X)/10)\n",
        "length = len(scaled_data)\n",
        "\n",
        "for i in range(series_length, length):\n",
        "    data_X.append(scaled_data[i-series_length:i, :])\n",
        "    data_y.append(scaled_target[i])\n",
        "    \n",
        "data_X, data_y = np.array(data_X), np.array(data_y)\n",
        "\n",
        "print(data_X.shape, data_y.shape)"
      ],
      "execution_count": 74,
      "outputs": [
        {
          "output_type": "stream",
          "text": [
            "(1440, 60, 4) (1440,)\n"
          ],
          "name": "stdout"
        }
      ]
    },
    {
      "cell_type": "markdown",
      "metadata": {
        "colab_type": "text",
        "id": "tCqE2uNJmblo"
      },
      "source": [
        "### Class for LSTM deep learning"
      ]
    },
    {
      "cell_type": "code",
      "metadata": {
        "code_folding": [],
        "colab_type": "code",
        "id": "ZFilw9c5mblq",
        "colab": {}
      },
      "source": [
        "class DeepLearning():\n",
        "    \"\"\"Class to perform training and validation for a given model\n",
        "    :param\n",
        "    model: nn.Module the model to be trained\n",
        "    df_X\n",
        "    df_y\n",
        "    n_epochs,\n",
        "    optimiser, \n",
        "    window_size,\n",
        "    loss_function\n",
        "    device\n",
        "    seed=42\n",
        "    debug\n",
        "    \"\"\"\n",
        "    def __init__(self, model, data_X, data_y,\n",
        "                 n_epochs,\n",
        "                 optimiser, \n",
        "                 window_size,\n",
        "                 loss_function=torch.nn.MSELoss(size_average=False),\n",
        "                 device=\"cpu\", \n",
        "                 seed=42,\n",
        "                 debug = True, \n",
        "                 disp_freq=20,\n",
        "                 fig_disp_freq=50):\n",
        "        \n",
        "        \n",
        "        # The neural network architecture\n",
        "        self.model = model\n",
        "        \n",
        "        # The optimiser for gradient descent\n",
        "        self.optimiser = optimiser\n",
        "        \n",
        "        # Dataframe of training values\n",
        "        self.data_X = data_X\n",
        "        \n",
        "        # Dataframe of target values\n",
        "        self.data_y = data_y\n",
        "        \n",
        "        # The number of epochs\n",
        "        self.n_epochs = n_epochs\n",
        "   \n",
        "        #self.optimiser = optimiser\n",
        "        self.loss_function = loss_function\n",
        "        \n",
        "        # Whether to run on cpu or gpu\n",
        "        self.device = device\n",
        "        \n",
        "        # The random seed to set\n",
        "        self.seed = seed\n",
        "        \n",
        "        # To activate debug mode\n",
        "        self.debug = debug\n",
        "        \n",
        "        # For training/val logs\n",
        "        self.logs = {}\n",
        "        \n",
        "        # The array of predicted lists for each batch\n",
        "        self.pred_list = None\n",
        "        \n",
        "        # The data\n",
        "        self.X_train = None\n",
        "        self.X_val = None\n",
        "        self.X_test = None\n",
        "        \n",
        "        # The targets\n",
        "        self.y_train = None\n",
        "        self.y_val = None\n",
        "        self.y_test = None\n",
        "        \n",
        "        # The length of the time series window\n",
        "        self.window_size = window_size\n",
        "        \n",
        "        # How frequently the loss is printed\n",
        "        self.disp_freq = disp_freq\n",
        "        \n",
        "        # How frequently a figure is plotted\n",
        "        self.fig_disp_freq = fig_disp_freq\n",
        "        \n",
        "        # Storing the best model\n",
        "        self.best_model = None\n",
        "        \n",
        "        # Dummy variable for inspecting quantities\n",
        "        self.inspect = None\n",
        "        \n",
        "        # For running dataloaders on CUDA\n",
        "        self.pin_memory = False\n",
        "        \n",
        "        \n",
        "    def train_val_test(self):\n",
        "        \"\"\"Splits the dataframes in to a training, validation\n",
        "        and test set and creates torch tensors from the underlying\n",
        "        numpy arrays\"\"\"\n",
        "        # Splitting the sets into train, test and validation\n",
        "        self.X_train, self.X_test, self.y_train, self.y_test = train_test_split(self.data_X, self.data_y, test_size=0.2, shuffle=False)\n",
        "        \n",
        "        self.X_train, self.X_val, self.y_train, self.y_val = train_test_split(self.X_train, self.y_train, test_size=0.25, shuffle=False)\n",
        "\n",
        "        if self.debug:\n",
        "            print(\"Train Length: \\t\\t%i\\nValidation Length: \\t%i\\nTest Length:\\t\\t%i\" \n",
        "                  % (len(X_train), len(X_val), len(X_test)))\n",
        "        \n",
        "        # Tensor of training data\n",
        "        self.X_train = torch.from_numpy(self.X_train).float()\n",
        "        self.y_train = torch.from_numpy(self.y_train).float()\n",
        "\n",
        "        # Tensor of training labels\n",
        "        self.X_val = torch.from_numpy(self.X_val).float()\n",
        "        self.y_val = torch.from_numpy(self.y_val).float()\n",
        "\n",
        "        #  Tensor of test data\n",
        "        self.X_test = torch.from_numpy(self.X_test).float()\n",
        "        self.y_test = torch.from_numpy(self.y_test).float()\n",
        "\n",
        "        # Size Check\n",
        "        if self.debug:\n",
        "            print(\"\\nInitial Size Check:\")\n",
        "            self.size_check()\n",
        "    \n",
        "    \n",
        "    def size_check(self):\n",
        "        \"\"\"Checks the size of the datasets\"\"\"\n",
        "        if self.debug:\n",
        "            print(\"\\nX Train Shape:\\t\\t\", self.X_train.size())\n",
        "            print(\"X Val Shape:\\t\\t\", self.X_val.size())\n",
        "            print(\"X Test Shape:\\t\\t\", self.X_test.size())\n",
        "\n",
        "            print(\"\\ny Train Shape:\\t\\t\", self.y_train.size())\n",
        "            print(\"y Val Shape:\\t\\t\", self.y_val.size())\n",
        "            print(\"y Test Shape:\\t\\t\", self.y_test.size())\n",
        "\n",
        "        \n",
        "    \n",
        "    def create_data_loaders(self):\n",
        "        \"\"\"Forms iterators to pipeline in the data\"\"\"\n",
        "            \n",
        "        # Create tensor datasets\n",
        "        train_dataset = TensorDataset(self.X_train, self.y_train)\n",
        "        val_dataset = TensorDataset(self.X_val, self.y_val)\n",
        "        test_dataset = TensorDataset(self.X_test, self.y_test)\n",
        "        \n",
        "        if self.device =='cuda': self.pin_memory=True\n",
        "          \n",
        "        # Data loaders\n",
        "        train_data_loader = DataLoader(dataset=train_dataset, batch_size=batch_size, shuffle=False, num_workers=8,  pin_memory=self.pin_memory)\n",
        "        val_data_loader = DataLoader(dataset=val_dataset, batch_size=batch_size, shuffle=False, num_workers=8,  pin_memory=self.pin_memory)\n",
        "        test_data_loader = DataLoader(dataset=test_dataset, batch_size=batch_size, shuffle=False, num_workers=8,  pin_memory=self.pin_memory)\n",
        "        \n",
        "        return train_data_loader, val_data_loader, test_data_loader\n",
        "    \n",
        "    \n",
        "    def train(self, train_data_loader):\n",
        "        \"\"\"Performs a single training cycle and returns the\n",
        "        mean squared error loss for the training dataset\"\"\"\n",
        "        # Sets the model to train mode\n",
        "        self.model.train()\n",
        "        \n",
        "        train_loss = 0.\n",
        "        \n",
        "        # List of each batch predictions\n",
        "        pred_list = []\n",
        "        \n",
        "        # The data loader creates batches of data to train\n",
        "        for i_batch, (X_train_batch, y_train_batch) in enumerate(train_data_loader):\n",
        "            \n",
        "            #print('Batch : ', i_batch)\n",
        "            \n",
        "            # Sending the data to GPU if available\n",
        "            X_train_batch = X_train_batch.to(self.device)\n",
        "            y_train_batch = y_train_batch.to(self.device)\n",
        "            \n",
        "            # Zeros the gradients\n",
        "            self.optimiser.zero_grad()\n",
        "\n",
        "            # Need to set seed here to make deterministic\n",
        "            set_seed(42)\n",
        "        \n",
        "            # Perform forward pass\n",
        "            y_pred = self.model(X_train_batch)\n",
        "            \n",
        "            # Calculate loss for the batch\n",
        "            loss = self.loss_function(y_pred, y_train_batch)   \n",
        "\n",
        "            # Perform backward pass\n",
        "            loss.backward()   \n",
        "\n",
        "            # Adding the predictions for this batch to prediction list\n",
        "            pred_list.append(y_pred)\n",
        "            \n",
        "            # Calculate the training loss\n",
        "            train_loss += (loss * X_train_batch.size()[0]).detach().cpu().numpy()\n",
        "\n",
        "            # Update Parameters\n",
        "            self.optimiser.step()               \n",
        "        \n",
        "        # Converting an array of batches of predictions to a list of predictions\n",
        "        self.pred_list = [single_pred for batch in pred_list for single_pred in batch.detach().cpu().numpy()]\n",
        "        \n",
        "        return train_loss/len(train_data_loader.dataset.tensors[0])\n",
        "    \n",
        "    \n",
        "    def validate(self, val_data_loader):\n",
        "        \"\"\"Evaluates the performance of the network\n",
        "        on unseen validation data\"\"\"\n",
        "        # Set the model to evaluate mode\n",
        "        self.model.eval()\n",
        "        \n",
        "        val_loss = 0.\n",
        "        # The data loader creates batches of data to validate\n",
        "        for X_val_batch, y_val_batch in val_data_loader:\n",
        "            \n",
        "            # Ensures that the gradients are not updated\n",
        "            with torch.no_grad():\n",
        "                \n",
        "                # Sending the data to GPU if available\n",
        "                X_val_batch = X_val_batch.to(self.device)\n",
        "                y_val_batch = y_val_batch.to(self.device)\n",
        "\n",
        "                # Perform forward pass\n",
        "                y_pred = self.model(X_val_batch)\n",
        "\n",
        "                # Calculate loss for the batch\n",
        "                loss = self.loss_function(y_pred, y_val_batch) \n",
        "                \n",
        "                # Calculate the validation loss\n",
        "                val_loss += (loss * X_val_batch.size()[0]).detach().cpu().numpy()\n",
        "            \n",
        "        return val_loss/len(val_data_loader.dataset.tensors[0])\n",
        "    \n",
        "    \n",
        "    def live_pred_plot(self):\n",
        "#         x_axis = np.array(range(len(self.pred_list)))\n",
        "        plt.plot(self.pred_list, label=\"Predicted\")\n",
        "        plt.plot(self.y_train.numpy(), label=\"Observed\")\n",
        "        plt.legend()\n",
        "        plt.show()\n",
        "    \n",
        "    def training_wrapper(self):\n",
        "        \n",
        "        # start timer\n",
        "        start_time = time.time()\n",
        "\n",
        "        # set seed\n",
        "        set_seed(int(self.seed))\n",
        "        \n",
        "        # Create data loaders\n",
        "        train_loader, val_loader, test_loader = learning.create_data_loaders()\n",
        "        \n",
        "        # Shows live plot of losses\n",
        "        liveloss = PlotLosses()\n",
        "        \n",
        "        train_log = []\n",
        "        val_log = []\n",
        "        \n",
        "        # The best validation score tracker\n",
        "        self.best_val_score = np.inf\n",
        "        \n",
        "        # Begin training\n",
        "        for epoch in range(self.n_epochs):\n",
        "            \n",
        "            live_logs = {}\n",
        "            \n",
        "            train_loss = self.train(train_loader) \n",
        "            val_loss = self.validate(val_loader) \n",
        "            \n",
        "            # Saving the best model\n",
        "            if val_loss < self.best_val_score:\n",
        "                self.best_model = self.model\n",
        "                self.best_val_score = val_loss.item()\n",
        "                \n",
        "            # For live plotting\n",
        "            live_logs['' + 'log loss'] = train_loss.item()\n",
        "            live_logs['val_' + 'log loss'] = val_loss.item()\n",
        "            live_logs['time'] = time.time() - start_time\n",
        "            #liveloss.update(self.logs)\n",
        "            #liveloss.draw()\n",
        "            \n",
        "            train_log.append(train_loss.item())\n",
        "            val_log.append(val_loss.item())\n",
        "            self.logs[\"Training Loss\"] = train_log\n",
        "            self.logs[\"Validation Loss\"] = val_log\n",
        "            \n",
        "            if (epoch % self.disp_freq == 0): \n",
        "                print(\"Epoch: %i Train MSE: %.5f Val MSE: %.5f  Time: %.3f\" % (epoch, train_loss.item(),\n",
        "                                                          val_loss.item(), (time.time() - start_time)))\n",
        "                \n",
        "            if (epoch % self.fig_disp_freq == 0):\n",
        "                self.live_pred_plot()"
      ],
      "execution_count": 0,
      "outputs": []
    },
    {
      "cell_type": "code",
      "metadata": {
        "code_folding": [],
        "colab_type": "code",
        "id": "sH_dF36Tmblv",
        "colab": {}
      },
      "source": [
        "class LSTM(nn.Module):\n",
        "    \"\"\"A Long Short Term Memory network\n",
        "    model\"\"\"\n",
        "        \n",
        "    def __init__(self, num_features, hidden_dim, output_dim,\n",
        "                 batch_size, series_length, \n",
        "                 dropout=0.1, num_layers=2, debug=True):\n",
        "        \n",
        "        super(LSTM, self).__init__()\n",
        "        \n",
        "        # Number of features\n",
        "        self.num_features = num_features\n",
        "        \n",
        "        # Hidden dimensions\n",
        "        self.hidden_dim = hidden_dim\n",
        "\n",
        "        # Number of hidden layers\n",
        "        self.num_layers = num_layers\n",
        "        \n",
        "        # The output dimensions\n",
        "        self.output_dim = output_dim\n",
        "        \n",
        "        # Batch Size\n",
        "        self.batch_size = batch_size\n",
        "        \n",
        "        # Length of sequence\n",
        "        self.series_length = series_length\n",
        "        \n",
        "        # Dropout Probability\n",
        "        self.dropout = dropout\n",
        "        \n",
        "        # Define the LSTM layer\n",
        "        self.lstm = nn.LSTM(\n",
        "            input_size = self.num_features, \n",
        "            hidden_size =self.hidden_dim,\n",
        "            dropout = self.dropout ,\n",
        "            num_layers =self.num_layers)\n",
        "\n",
        "        # Fully Connected Layer\n",
        "        self.fc1 = nn.Linear(in_features=self.hidden_dim, \n",
        "                             out_features=self.hidden_dim)\n",
        "        \n",
        "        # Activation function\n",
        "        self.act = nn.ReLU()\n",
        "        \n",
        "        # Output layer\n",
        "        self.out = nn.Linear(in_features=self.hidden_dim, \n",
        "                             out_features=self.output_dim)\n",
        "        \n",
        "        \"\"\"TODO Add fully connected layer and see if that improves\"\"\"\n",
        "        \n",
        "        \n",
        "    def init_hidden(self, batch_size):\n",
        "        \"\"\"Initialised the hidden state to be zeros\"\"\"\n",
        "        return (torch.zeros(self.num_layers, batch_size, self.hidden_dim).to(device),\n",
        "                torch.zeros(self.num_layers, batch_size, self.hidden_dim).to(device))\n",
        "    \n",
        "    \n",
        "    def forward(self, x):\n",
        "        \"\"\"Forward pass through the neural network\"\"\"\n",
        "        \n",
        "        \"\"\"TODO Directly switch these variables in \n",
        "        the permute of the dataset\"\"\"\n",
        "        \n",
        "        # Adjust to a variable batch size \n",
        "        batch_size = x.size()[0]\n",
        "        series_length = x.size()[1]\n",
        "        \n",
        "        #print(\"series_length, batch_size\", series_length, batch_size)\n",
        "\n",
        "        assert (series_length == self.series_length)\n",
        "        \n",
        "        \"\"\"TODO Check output of contiguous and non \n",
        "        contigious memory\"\"\"\n",
        "        \n",
        "        # Keeps the dimensions constant regardless of batchsize\n",
        "        x = x.contiguous().view(series_length, batch_size, -1) \n",
        "\n",
        "        # Initialises the hidden states\n",
        "        h0, c0 = self.init_hidden(batch_size)\n",
        "        \n",
        "        # Pass through through lstm layer\n",
        "        # Only the x is of interest\n",
        "        x, (hn, cn) = self.lstm(x, (h0, c0))\n",
        "        \n",
        "        # Output is seq to seq but only want seq to val\n",
        "        # So only use the final value of the lstm outputted\n",
        "        # sequence\n",
        "        x = x[-1]  \n",
        "        \n",
        "        # Fully connected hidden layer\n",
        "        x = self.act(self.fc1(x))\n",
        "        \n",
        "        return self.out(x).view(-1)"
      ],
      "execution_count": 0,
      "outputs": []
    },
    {
      "cell_type": "markdown",
      "metadata": {
        "colab_type": "text",
        "id": "Whxwd1Y9mblz"
      },
      "source": [
        "### Hyperparameters"
      ]
    },
    {
      "cell_type": "code",
      "metadata": {
        "colab_type": "code",
        "id": "TmcACnnRmbl0",
        "colab": {}
      },
      "source": [
        "# Hyperparameters\n",
        "learning_rate = 1e-2\n",
        "momentum = 0.5\n",
        "weight_decay = 0\n",
        "\n",
        "# Batch Parameters\n",
        "batch_size = 32\n",
        "test_batch_size = 1000\n",
        "# series_length = 100\n",
        "\n",
        "n_epochs = 5\n",
        "\n",
        "# Model Parameters\n",
        "num_features = data_X.shape[2]\n",
        "hidden_dim = 128\n",
        "num_layers = 2\n",
        "output_dim = 1"
      ],
      "execution_count": 0,
      "outputs": []
    },
    {
      "cell_type": "markdown",
      "metadata": {
        "colab_type": "text",
        "id": "A7cwNAKcmbl4"
      },
      "source": [
        "### Initialising the model"
      ]
    },
    {
      "cell_type": "code",
      "metadata": {
        "code_folding": [
          7
        ],
        "colab_type": "code",
        "id": "ysl-hn6ombl5",
        "outputId": "2ffc245c-ef40-4bd3-bba5-c409a385eac5",
        "scrolled": false,
        "colab": {
          "base_uri": "https://localhost:8080/",
          "height": 153
        }
      },
      "source": [
        "model_lstm = LSTM(num_features=num_features, \n",
        "             hidden_dim=hidden_dim, \n",
        "             series_length = series_length,\n",
        "             batch_size=batch_size,\n",
        "             output_dim=output_dim, \n",
        "             num_layers=num_layers)\n",
        "\n",
        "model_lstm.to(device)\n",
        "\n",
        "print(\"num_features %i \\nhidden_dim %i\\nseries_length %i \\nbatch_size %i\\noutput_dim %i \\nnum_layers %i\"\n",
        "      % (num_features, hidden_dim, series_length, batch_size,output_dim, num_layers))\n",
        "\n",
        "print('data_X ', data_X.shape, '\\ndata_y', data_y.shape)"
      ],
      "execution_count": 76,
      "outputs": [
        {
          "output_type": "stream",
          "text": [
            "num_features 4 \n",
            "hidden_dim 128\n",
            "series_length 60 \n",
            "batch_size 32\n",
            "output_dim 1 \n",
            "num_layers 2\n",
            "data_X  (1440, 60, 4) \n",
            "data_y (1440,)\n"
          ],
          "name": "stdout"
        }
      ]
    },
    {
      "cell_type": "code",
      "metadata": {
        "code_folding": [],
        "colab_type": "code",
        "id": "rRhBmwmxmbl-",
        "outputId": "8bb3fca0-6351-4f13-be77-83ae635c379a",
        "scrolled": true,
        "colab": {
          "base_uri": "https://localhost:8080/",
          "height": 1000
        }
      },
      "source": [
        "optimiser = torch.optim.Adam(model_lstm.parameters(), learning_rate)\n",
        "# optimizer = optim.RMSprop(model_lstm.parameters(), lr=learning_rate, weight_decay=0.0)\n",
        "\n",
        "\"\"\"Do I need to declare a data explicitly in the dataset\"\"\"\n",
        "learning = DeepLearning(model=model_lstm, \n",
        "                        data_X=data_X, \n",
        "                        data_y=data_y, \n",
        "                        n_epochs=2000,\n",
        "                        optimiser=optimiser,\n",
        "                        window_size=series_length,\n",
        "                        debug=False, \n",
        "                        disp_freq=10,\n",
        "                        fig_disp_freq=10, \n",
        "                        device=device)\n",
        "\n",
        "# Splitting the data into the train, validation and test sets\n",
        "learning.train_val_test()\n",
        "learning.training_wrapper()"
      ],
      "execution_count": 77,
      "outputs": [
        {
          "output_type": "stream",
          "text": [
            "Epoch: 0 Train MSE: 10.37108 Val MSE: 11.32928  Time: 1.937\n"
          ],
          "name": "stdout"
        },
        {
          "output_type": "display_data",
          "data": {
            "image/png": "[encoded data removed]",
            "text/plain": [
              "<Figure size 432x288 with 1 Axes>"
            ]
          },
          "metadata": {
            "tags": []
          }
        },
        {
          "output_type": "stream",
          "text": [
            "Epoch: 10 Train MSE: 2.24980 Val MSE: 3.82634  Time: 20.635\n"
          ],
          "name": "stdout"
        },
        {
          "output_type": "display_data",
          "data": {
            "image/png": "[encoded data removed]",
            "text/plain": [
              "<Figure size 432x288 with 1 Axes>"
            ]
          },
          "metadata": {
            "tags": []
          }
        },
        {
          "output_type": "stream",
          "text": [
            "Epoch: 20 Train MSE: 1.76338 Val MSE: 3.14400  Time: 39.378\n"
          ],
          "name": "stdout"
        },
        {
          "output_type": "display_data",
          "data": {
            "image/png": "[encoded data removed]",
            "text/plain": [
              "<Figure size 432x288 with 1 Axes>"
            ]
          },
          "metadata": {
            "tags": []
          }
        },
        {
          "output_type": "stream",
          "text": [
            "Epoch: 30 Train MSE: 1.64339 Val MSE: 2.81997  Time: 58.212\n"
          ],
          "name": "stdout"
        },
        {
          "output_type": "display_data",
          "data": {
            "image/png": "[encoded data removed]",
            "text/plain": [
              "<Figure size 432x288 with 1 Axes>"
            ]
          },
          "metadata": {
            "tags": []
          }
        },
        {
          "output_type": "stream",
          "text": [
            "Epoch: 40 Train MSE: 1.64614 Val MSE: 2.82102  Time: 76.864\n"
          ],
          "name": "stdout"
        },
        {
          "output_type": "display_data",
          "data": {
            "image/png": "[encoded data removed]",
            "text/plain": [
              "<Figure size 432x288 with 1 Axes>"
            ]
          },
          "metadata": {
            "tags": []
          }
        },
        {
          "output_type": "error",
          "ename": "KeyboardInterrupt",
          "evalue": "ignored",
          "traceback": [
            "\u001b[0;31m---------------------------------------------------------------------------\u001b[0m",
            "\u001b[0;31mKeyboardInterrupt\u001b[0m                         Traceback (most recent call last)",
            "\u001b[0;32m<ipython-input-77-b713858e19ff>\u001b[0m in \u001b[0;36m<module>\u001b[0;34m()\u001b[0m\n\u001b[1;32m     16\u001b[0m \u001b[0;31m# Splitting the data into the train, validation and test sets\u001b[0m\u001b[0;34m\u001b[0m\u001b[0;34m\u001b[0m\u001b[0;34m\u001b[0m\u001b[0m\n\u001b[1;32m     17\u001b[0m \u001b[0mlearning\u001b[0m\u001b[0;34m.\u001b[0m\u001b[0mtrain_val_test\u001b[0m\u001b[0;34m(\u001b[0m\u001b[0;34m)\u001b[0m\u001b[0;34m\u001b[0m\u001b[0;34m\u001b[0m\u001b[0m\n\u001b[0;32m---> 18\u001b[0;31m \u001b[0mlearning\u001b[0m\u001b[0;34m.\u001b[0m\u001b[0mtraining_wrapper\u001b[0m\u001b[0;34m(\u001b[0m\u001b[0;34m)\u001b[0m\u001b[0;34m\u001b[0m\u001b[0;34m\u001b[0m\u001b[0m\n\u001b[0m",
            "\u001b[0;32m<ipython-input-41-f8c492ae3949>\u001b[0m in \u001b[0;36mtraining_wrapper\u001b[0;34m(self)\u001b[0m\n\u001b[1;32m    260\u001b[0m             \u001b[0mlive_logs\u001b[0m \u001b[0;34m=\u001b[0m \u001b[0;34m{\u001b[0m\u001b[0;34m}\u001b[0m\u001b[0;34m\u001b[0m\u001b[0;34m\u001b[0m\u001b[0m\n\u001b[1;32m    261\u001b[0m \u001b[0;34m\u001b[0m\u001b[0m\n\u001b[0;32m--> 262\u001b[0;31m             \u001b[0mtrain_loss\u001b[0m \u001b[0;34m=\u001b[0m \u001b[0mself\u001b[0m\u001b[0;34m.\u001b[0m\u001b[0mtrain\u001b[0m\u001b[0;34m(\u001b[0m\u001b[0mtrain_loader\u001b[0m\u001b[0;34m)\u001b[0m\u001b[0;34m\u001b[0m\u001b[0;34m\u001b[0m\u001b[0m\n\u001b[0m\u001b[1;32m    263\u001b[0m             \u001b[0mval_loss\u001b[0m \u001b[0;34m=\u001b[0m \u001b[0mself\u001b[0m\u001b[0;34m.\u001b[0m\u001b[0mvalidate\u001b[0m\u001b[0;34m(\u001b[0m\u001b[0mval_loader\u001b[0m\u001b[0;34m)\u001b[0m\u001b[0;34m\u001b[0m\u001b[0;34m\u001b[0m\u001b[0m\n\u001b[1;32m    264\u001b[0m \u001b[0;34m\u001b[0m\u001b[0m\n",
            "\u001b[0;32m<ipython-input-41-f8c492ae3949>\u001b[0m in \u001b[0;36mtrain\u001b[0;34m(self, train_data_loader)\u001b[0m\n\u001b[1;32m    161\u001b[0m \u001b[0;34m\u001b[0m\u001b[0m\n\u001b[1;32m    162\u001b[0m         \u001b[0;31m# The data loader creates batches of data to train\u001b[0m\u001b[0;34m\u001b[0m\u001b[0;34m\u001b[0m\u001b[0;34m\u001b[0m\u001b[0m\n\u001b[0;32m--> 163\u001b[0;31m         \u001b[0;32mfor\u001b[0m \u001b[0mi_batch\u001b[0m\u001b[0;34m,\u001b[0m \u001b[0;34m(\u001b[0m\u001b[0mX_train_batch\u001b[0m\u001b[0;34m,\u001b[0m \u001b[0my_train_batch\u001b[0m\u001b[0;34m)\u001b[0m \u001b[0;32min\u001b[0m \u001b[0menumerate\u001b[0m\u001b[0;34m(\u001b[0m\u001b[0mtrain_data_loader\u001b[0m\u001b[0;34m)\u001b[0m\u001b[0;34m:\u001b[0m\u001b[0;34m\u001b[0m\u001b[0;34m\u001b[0m\u001b[0m\n\u001b[0m\u001b[1;32m    164\u001b[0m \u001b[0;34m\u001b[0m\u001b[0m\n\u001b[1;32m    165\u001b[0m             \u001b[0;31m#print('Batch : ', i_batch)\u001b[0m\u001b[0;34m\u001b[0m\u001b[0;34m\u001b[0m\u001b[0;34m\u001b[0m\u001b[0m\n",
            "\u001b[0;32m/usr/local/lib/python3.6/dist-packages/torch/utils/data/dataloader.py\u001b[0m in \u001b[0;36m__iter__\u001b[0;34m(self)\u001b[0m\n\u001b[1;32m    191\u001b[0m \u001b[0;34m\u001b[0m\u001b[0m\n\u001b[1;32m    192\u001b[0m     \u001b[0;32mdef\u001b[0m \u001b[0m__iter__\u001b[0m\u001b[0;34m(\u001b[0m\u001b[0mself\u001b[0m\u001b[0;34m)\u001b[0m\u001b[0;34m:\u001b[0m\u001b[0;34m\u001b[0m\u001b[0;34m\u001b[0m\u001b[0m\n\u001b[0;32m--> 193\u001b[0;31m         \u001b[0;32mreturn\u001b[0m \u001b[0m_DataLoaderIter\u001b[0m\u001b[0;34m(\u001b[0m\u001b[0mself\u001b[0m\u001b[0;34m)\u001b[0m\u001b[0;34m\u001b[0m\u001b[0;34m\u001b[0m\u001b[0m\n\u001b[0m\u001b[1;32m    194\u001b[0m \u001b[0;34m\u001b[0m\u001b[0m\n\u001b[1;32m    195\u001b[0m     \u001b[0;32mdef\u001b[0m \u001b[0m__len__\u001b[0m\u001b[0;34m(\u001b[0m\u001b[0mself\u001b[0m\u001b[0;34m)\u001b[0m\u001b[0;34m:\u001b[0m\u001b[0;34m\u001b[0m\u001b[0;34m\u001b[0m\u001b[0m\n",
            "\u001b[0;32m/usr/local/lib/python3.6/dist-packages/torch/utils/data/dataloader.py\u001b[0m in \u001b[0;36m__init__\u001b[0;34m(self, loader)\u001b[0m\n\u001b[1;32m    476\u001b[0m                     \u001b[0mtarget\u001b[0m\u001b[0;34m=\u001b[0m\u001b[0m_utils\u001b[0m\u001b[0;34m.\u001b[0m\u001b[0mpin_memory\u001b[0m\u001b[0;34m.\u001b[0m\u001b[0m_pin_memory_loop\u001b[0m\u001b[0;34m,\u001b[0m\u001b[0;34m\u001b[0m\u001b[0;34m\u001b[0m\u001b[0m\n\u001b[1;32m    477\u001b[0m                     args=(self.worker_result_queue, self.data_queue,\n\u001b[0;32m--> 478\u001b[0;31m                           torch.cuda.current_device(), self.done_event))\n\u001b[0m\u001b[1;32m    479\u001b[0m                 \u001b[0mpin_memory_thread\u001b[0m\u001b[0;34m.\u001b[0m\u001b[0mdaemon\u001b[0m \u001b[0;34m=\u001b[0m \u001b[0;32mTrue\u001b[0m\u001b[0;34m\u001b[0m\u001b[0;34m\u001b[0m\u001b[0m\n\u001b[1;32m    480\u001b[0m                 \u001b[0mpin_memory_thread\u001b[0m\u001b[0;34m.\u001b[0m\u001b[0mstart\u001b[0m\u001b[0;34m(\u001b[0m\u001b[0;34m)\u001b[0m\u001b[0;34m\u001b[0m\u001b[0;34m\u001b[0m\u001b[0m\n",
            "\u001b[0;31mKeyboardInterrupt\u001b[0m: "
          ]
        }
      ]
    },
    {
      "cell_type": "code",
      "metadata": {
        "colab_type": "code",
        "id": "ogD1KBcfmbmA",
        "colab": {}
      },
      "source": [
        "model_save(model_lstm, name=\"LSTM\", val_score=learning.best_val_score)\n",
        "\n",
        "mod = model_load(path=\"Models/\",\n",
        "           model_name=\"LSTM_5_854\")"
      ],
      "execution_count": 0,
      "outputs": []
    },
    {
      "cell_type": "markdown",
      "metadata": {
        "colab_type": "text",
        "id": "cXZ4rWiAmbmD"
      },
      "source": [
        "### Plotting"
      ]
    },
    {
      "cell_type": "code",
      "metadata": {
        "colab_type": "code",
        "id": "WsSWp_PrmbmE",
        "colab": {
          "base_uri": "https://localhost:8080/",
          "height": 34
        },
        "outputId": "03cf5ab9-ca25-4e8f-df1f-66296dd17fbe"
      },
      "source": [
        "# min(learning.logs['Training Loss'])\n",
        "min(learning.logs['Validation Loss'])\n",
        "# len(learning.logs['Training Loss'])"
      ],
      "execution_count": 101,
      "outputs": [
        {
          "output_type": "execute_result",
          "data": {
            "text/plain": [
              "'2_269'"
            ]
          },
          "metadata": {
            "tags": []
          },
          "execution_count": 101
        }
      ]
    },
    {
      "cell_type": "code",
      "metadata": {
        "colab_type": "code",
        "id": "PN8Ob-GCmbmG",
        "colab": {}
      },
      "source": [
        "predicted = learning.pred_list\n",
        "observed = learning.y_train.numpy()"
      ],
      "execution_count": 0,
      "outputs": []
    },
    {
      "cell_type": "code",
      "metadata": {
        "colab_type": "code",
        "id": "GnpXJzzlmbmI",
        "outputId": "e575b983-45ba-4bf4-e265-c2d223d75658",
        "colab": {
          "base_uri": "https://localhost:8080/",
          "height": 545
        }
      },
      "source": [
        "plt.title(\"Predicted vs Observed Values\")\n",
        "plt.plot(predicted, label=\"Predicted\")\n",
        "plt.plot(observed, label=\"Observed\")\n",
        "plt.legend()\n",
        "plt.show()\n",
        "\n",
        "plt.figure()\n",
        "plt.title(\"Loss Plots\")\n",
        "plt.plot(learning.logs['Training Loss'], label=\"Training Loss\")\n",
        "plt.plot(learning.logs['Validation Loss'], label=\"Validation Loss\")\n",
        "plt.legend()\n",
        "plt.ylim((0,1))\n",
        "\n",
        "epoch_reached = len(learning.logs['Training Loss'])\n",
        "val_min = min(learning.logs['Validation Loss'])\n",
        "\n",
        "plt.savefig(\"LSTM:, \", val_min, epoch_reached)\n",
        "plt.show()"
      ],
      "execution_count": 80,
      "outputs": [
        {
          "output_type": "display_data",
          "data": {
            "image/png": "[encoded data removed]",
            "text/plain": [
              "<Figure size 432x288 with 1 Axes>"
            ]
          },
          "metadata": {
            "tags": []
          }
        },
        {
          "output_type": "display_data",
          "data": {
            "image/png": "[encoded data removed]",
            "text/plain": [
              "<Figure size 432x288 with 1 Axes>"
            ]
          },
          "metadata": {
            "tags": []
          }
        }
      ]
    },
    {
      "cell_type": "code",
      "metadata": {
        "id": "nOgB2CsMMrHG",
        "colab_type": "code",
        "colab": {
          "base_uri": "https://localhost:8080/",
          "height": 34
        },
        "outputId": "d2612c16-8c24-4b16-b362-3d5020479ea8"
      },
      "source": [
        "data_X.shape"
      ],
      "execution_count": 91,
      "outputs": [
        {
          "output_type": "execute_result",
          "data": {
            "text/plain": [
              "(1440, 60, 4)"
            ]
          },
          "metadata": {
            "tags": []
          },
          "execution_count": 91
        }
      ]
    },
    {
      "cell_type": "code",
      "metadata": {
        "id": "UOeOd3RaLzam",
        "colab_type": "code",
        "colab": {
          "base_uri": "https://localhost:8080/",
          "height": 361
        },
        "outputId": "8a39468c-40e7-4202-a8ab-76656b044b5b"
      },
      "source": [
        "def param_strip(param):\n",
        "    \"\"\"Strips the key text info out of certain parameters\"\"\"\n",
        "    return str(param)[:str(param).find('(')]\n",
        "  \n",
        "num_epoch = 90\n",
        "PCA = True\n",
        "data_X_shape = data_X.shape\n",
        "train_loss = 0.02\n",
        "val_loss = 0.03\n",
        "test_loss  = 0.1\n",
        "train_time = 900\n",
        "  \n",
        "row = [param_strip(model_lstm),\n",
        "       param_strip(optimiser),\n",
        "       num_epoch, \n",
        "       learning_rate, \n",
        "       momentum,\n",
        "       weight_decay, \n",
        "       PCA, \n",
        "       data_X_shape,\n",
        "       train_loss,\n",
        "       val_loss, \n",
        "       test_loss,\n",
        "       train_time]\n",
        "\n",
        "ind = [\"param_strip(model_lstm)\",\n",
        "       \"param_strip(optimiser)\",\n",
        "       \"num_epoch\", \n",
        "       'learning_rate', \n",
        "       \"momentum\",\n",
        "       \"weight_decay\", \n",
        "       \"PCA\", \n",
        "       \"data_X_shape\",\n",
        "       \"train_loss\",\n",
        "       \"val_loss\", \n",
        "       \"test_loss\",\n",
        "       \"train_time\"]\n",
        "\n",
        "\n",
        "def full_save(model, name_tag, path=\"Models/\"):\n",
        "  \"\"\"Saves the models weights and hyperparameters to a pth file and csv file\"\"\"\n",
        "#   ind = [\"Model, Optimiser, Loss Function, Early Stop Tol, Epochs, Learning Rate, Momentum, Weight Decay, nFolds, Augmentations, Val Acc, Val Loss, Training Time, Test Acc\"]\n",
        "  \n",
        "  ind = [\"param_strip(model_lstm)\",\n",
        "       \"param_strip(optimiser)\",\n",
        "       \"num_epoch\", \n",
        "       'learning_rate', \n",
        "       \"momentum\",\n",
        "       \"weight_decay\", \n",
        "       \"PCA\", \n",
        "       \"data_X_shape\",\n",
        "       \"train_loss\",\n",
        "       \"val_loss\", \n",
        "       \"test_loss\",\n",
        "       \"train_time\"]\n",
        "  \n",
        "  model_name = param_strip(model_lstm)\n",
        "  \n",
        "  row = [model_name,\n",
        "       param_strip(optimiser),\n",
        "       num_epoch, \n",
        "       learning_rate, \n",
        "       momentum,\n",
        "       weight_decay, \n",
        "       PCA, \n",
        "       data_X_shape,\n",
        "       train_loss,\n",
        "       val_loss, \n",
        "       test_loss,\n",
        "       train_time]\n",
        "  \n",
        "  s = [str(i) for i in row] \n",
        "  \n",
        "  ind = [\",\".join(s)]\n",
        "  row = [\",\".join(s)]\n",
        "         \n",
        "  model_save(model, name=\"LSTM\", val_score=val_loss)\n",
        "\n",
        "  np.savetxt(path + name_tag + '_' + str(val_loss).replace(\".\", \"_\")[:5] + \".csv\", np.r_[ind, row], fmt='%s', delimiter=',')\n",
        "  return\n",
        "\n",
        "\n",
        "\n",
        "full_save(model = model_lstm, \n",
        "          name_tag = \"Trial\")"
      ],
      "execution_count": 148,
      "outputs": [
        {
          "output_type": "error",
          "ename": "NameError",
          "evalue": "ignored",
          "traceback": [
            "\u001b[0;31m---------------------------------------------------------------------------\u001b[0m",
            "\u001b[0;31mNameError\u001b[0m                                 Traceback (most recent call last)",
            "\u001b[0;32m<ipython-input-148-eecfaac436ca>\u001b[0m in \u001b[0;36m<module>\u001b[0;34m()\u001b[0m\n\u001b[1;32m     84\u001b[0m \u001b[0;34m\u001b[0m\u001b[0m\n\u001b[1;32m     85\u001b[0m full_save(model = model_lstm, \n\u001b[0;32m---> 86\u001b[0;31m           name_tag = \"Trial\")\n\u001b[0m",
            "\u001b[0;32m<ipython-input-148-eecfaac436ca>\u001b[0m in \u001b[0;36mfull_save\u001b[0;34m(model, name_tag, path)\u001b[0m\n\u001b[1;32m     75\u001b[0m   \u001b[0mrow\u001b[0m \u001b[0;34m=\u001b[0m \u001b[0;34m[\u001b[0m\u001b[0;34m\",\"\u001b[0m\u001b[0;34m.\u001b[0m\u001b[0mjoin\u001b[0m\u001b[0;34m(\u001b[0m\u001b[0ms\u001b[0m\u001b[0;34m)\u001b[0m\u001b[0;34m]\u001b[0m\u001b[0;34m\u001b[0m\u001b[0;34m\u001b[0m\u001b[0m\n\u001b[1;32m     76\u001b[0m \u001b[0;34m\u001b[0m\u001b[0m\n\u001b[0;32m---> 77\u001b[0;31m   \u001b[0mmodel_save\u001b[0m\u001b[0;34m(\u001b[0m\u001b[0mmodel\u001b[0m\u001b[0;34m,\u001b[0m \u001b[0mname\u001b[0m\u001b[0;34m=\u001b[0m\u001b[0;34m\"LSTM\"\u001b[0m\u001b[0;34m,\u001b[0m \u001b[0mval_score\u001b[0m\u001b[0;34m=\u001b[0m\u001b[0mval_loss\u001b[0m\u001b[0;34m)\u001b[0m\u001b[0;34m\u001b[0m\u001b[0;34m\u001b[0m\u001b[0m\n\u001b[0m\u001b[1;32m     78\u001b[0m \u001b[0;34m\u001b[0m\u001b[0m\n\u001b[1;32m     79\u001b[0m   \u001b[0mnp\u001b[0m\u001b[0;34m.\u001b[0m\u001b[0msavetxt\u001b[0m\u001b[0;34m(\u001b[0m\u001b[0mpath\u001b[0m \u001b[0;34m+\u001b[0m \u001b[0mname_tag\u001b[0m \u001b[0;34m+\u001b[0m \u001b[0;34m'_'\u001b[0m \u001b[0;34m+\u001b[0m \u001b[0mstr\u001b[0m\u001b[0;34m(\u001b[0m\u001b[0mval_loss\u001b[0m\u001b[0;34m)\u001b[0m\u001b[0;34m.\u001b[0m\u001b[0mreplace\u001b[0m\u001b[0;34m(\u001b[0m\u001b[0;34m\".\"\u001b[0m\u001b[0;34m,\u001b[0m \u001b[0;34m\"_\"\u001b[0m\u001b[0;34m)\u001b[0m\u001b[0;34m[\u001b[0m\u001b[0;34m:\u001b[0m\u001b[0;36m5\u001b[0m\u001b[0;34m]\u001b[0m \u001b[0;34m+\u001b[0m \u001b[0;34m\".csv\"\u001b[0m\u001b[0;34m,\u001b[0m \u001b[0mnp\u001b[0m\u001b[0;34m.\u001b[0m\u001b[0mr_\u001b[0m\u001b[0;34m[\u001b[0m\u001b[0mind\u001b[0m\u001b[0;34m,\u001b[0m \u001b[0mrow\u001b[0m\u001b[0;34m]\u001b[0m\u001b[0;34m,\u001b[0m \u001b[0mfmt\u001b[0m\u001b[0;34m=\u001b[0m\u001b[0;34m'%s'\u001b[0m\u001b[0;34m,\u001b[0m \u001b[0mdelimiter\u001b[0m\u001b[0;34m=\u001b[0m\u001b[0;34m','\u001b[0m\u001b[0;34m)\u001b[0m\u001b[0;34m\u001b[0m\u001b[0;34m\u001b[0m\u001b[0m\n",
            "\u001b[0;32m/content/acse-9-independent-research-project-OliverJBoom/Src/deeplearning.py\u001b[0m in \u001b[0;36mmodel_save\u001b[0;34m(model, name, val_score, path)\u001b[0m\n\u001b[1;32m     25\u001b[0m \u001b[0;32mdef\u001b[0m \u001b[0mmodel_save\u001b[0m\u001b[0;34m(\u001b[0m\u001b[0mmodel\u001b[0m\u001b[0;34m,\u001b[0m \u001b[0mname\u001b[0m\u001b[0;34m,\u001b[0m \u001b[0mval_score\u001b[0m\u001b[0;34m,\u001b[0m \u001b[0mpath\u001b[0m\u001b[0;34m=\u001b[0m\u001b[0;34m\"Models/\"\u001b[0m\u001b[0;34m)\u001b[0m\u001b[0;34m:\u001b[0m\u001b[0;34m\u001b[0m\u001b[0;34m\u001b[0m\u001b[0m\n\u001b[1;32m     26\u001b[0m     \u001b[0;34m\"\"\"Saving function to keep track of models\"\"\"\u001b[0m\u001b[0;34m\u001b[0m\u001b[0;34m\u001b[0m\u001b[0m\n\u001b[0;32m---> 27\u001b[0;31m     \u001b[0mval\u001b[0m \u001b[0;34m=\u001b[0m \u001b[0mstr\u001b[0m\u001b[0;34m(\u001b[0m\u001b[0mlearning\u001b[0m\u001b[0;34m.\u001b[0m\u001b[0mbest_val_score\u001b[0m\u001b[0;34m)\u001b[0m\u001b[0;34m[\u001b[0m\u001b[0;34m:\u001b[0m\u001b[0;36m5\u001b[0m\u001b[0;34m]\u001b[0m\u001b[0;34m.\u001b[0m\u001b[0mreplace\u001b[0m\u001b[0;34m(\u001b[0m\u001b[0;34m\".\"\u001b[0m\u001b[0;34m,\u001b[0m \u001b[0;34m\"_\"\u001b[0m\u001b[0;34m)\u001b[0m\u001b[0;34m\u001b[0m\u001b[0;34m\u001b[0m\u001b[0m\n\u001b[0m\u001b[1;32m     28\u001b[0m     \u001b[0mprint\u001b[0m\u001b[0;34m(\u001b[0m\u001b[0;34m\"Saving model:\"\u001b[0m\u001b[0;34m,\u001b[0m \u001b[0mpath\u001b[0m \u001b[0;34m+\u001b[0m \u001b[0mname\u001b[0m \u001b[0;34m+\u001b[0m \u001b[0;34m'_'\u001b[0m \u001b[0;34m+\u001b[0m \u001b[0mval\u001b[0m \u001b[0;34m+\u001b[0m \u001b[0;34m'.pth'\u001b[0m\u001b[0;34m)\u001b[0m\u001b[0;34m\u001b[0m\u001b[0;34m\u001b[0m\u001b[0m\n\u001b[1;32m     29\u001b[0m     \u001b[0mtorch\u001b[0m\u001b[0;34m.\u001b[0m\u001b[0msave\u001b[0m\u001b[0;34m(\u001b[0m\u001b[0mmodel\u001b[0m\u001b[0;34m,\u001b[0m \u001b[0mpath\u001b[0m \u001b[0;34m+\u001b[0m \u001b[0mname\u001b[0m \u001b[0;34m+\u001b[0m \u001b[0;34m'_'\u001b[0m \u001b[0;34m+\u001b[0m \u001b[0mval\u001b[0m \u001b[0;34m+\u001b[0m \u001b[0;34m'.pth'\u001b[0m\u001b[0;34m)\u001b[0m\u001b[0;34m\u001b[0m\u001b[0;34m\u001b[0m\u001b[0m\n",
            "\u001b[0;31mNameError\u001b[0m: name 'learning' is not defined"
          ]
        }
      ]
    },
    {
      "cell_type": "code",
      "metadata": {
        "id": "-BuKq8ZmPQWi",
        "colab_type": "code",
        "colab": {
          "base_uri": "https://localhost:8080/",
          "height": 34
        },
        "outputId": "ed8c523a-4166-4d87-94fb-f43ab887a605"
      },
      "source": [
        "os.listdir(\"Models\")"
      ],
      "execution_count": 142,
      "outputs": [
        {
          "output_type": "execute_result",
          "data": {
            "text/plain": [
              "['.DS_Store', 'LSTM_5_854.pth']"
            ]
          },
          "metadata": {
            "tags": []
          },
          "execution_count": 142
        }
      ]
    },
    {
      "cell_type": "markdown",
      "metadata": {
        "colab_type": "text",
        "id": "a5lAB9BxmbmU"
      },
      "source": [
        "### Plotting"
      ]
    },
    {
      "cell_type": "markdown",
      "metadata": {
        "colab_type": "text",
        "id": "KVHI_5EXmbmb"
      },
      "source": [
        "### Data for a toy case"
      ]
    },
    {
      "cell_type": "code",
      "metadata": {
        "colab_type": "code",
        "id": "CMOS8Nc3mbmc",
        "colab": {}
      },
      "source": [
        "# batch_size = 40\n",
        "batch_size = 80"
      ],
      "execution_count": 0,
      "outputs": []
    },
    {
      "cell_type": "code",
      "metadata": {
        "colab_type": "code",
        "id": "S7sKH5C4mbmg",
        "colab": {}
      },
      "source": [
        "X_train = torch.load('Data/Examples/X_train.pt').permute(1, 0, 2)\n",
        "X_test = torch.load('Data/Examples/X_test.pt').permute(1, 0, 2)\n",
        "y_train = torch.load('Data/Examples/y_train.pt')\n",
        "y_test = torch.load('Data/Examples/y_test.pt')\n",
        "\n",
        "y_train = y_train + 10\n",
        "y_test = y_test + 10"
      ],
      "execution_count": 0,
      "outputs": []
    },
    {
      "cell_type": "code",
      "metadata": {
        "colab_type": "code",
        "id": "_5OJLXu_mbmj",
        "outputId": "2caec450-dafd-4ea2-a9e2-530731e6e3c2",
        "colab": {
          "base_uri": "https://localhost:8080/",
          "height": 34
        }
      },
      "source": [
        "print(X_train.shape)\n",
        "# 80 series, 20 is the length of a series, 1 feature\n",
        "\n",
        "# X_train [number of series, length of series, feature number]\n",
        "# y_train [number of series]"
      ],
      "execution_count": 0,
      "outputs": [
        {
          "output_type": "stream",
          "text": [
            "torch.Size([80, 20, 1])\n"
          ],
          "name": "stdout"
        }
      ]
    },
    {
      "cell_type": "code",
      "metadata": {
        "colab_type": "code",
        "id": "whGa1GkNmbmr",
        "colab": {}
      },
      "source": [
        "dset = TensorDataset(X_train, y_train)"
      ],
      "execution_count": 0,
      "outputs": []
    },
    {
      "cell_type": "code",
      "metadata": {
        "code_folding": [],
        "colab_type": "code",
        "id": "FT_7AWJcmbms",
        "colab": {}
      },
      "source": [
        "train_loader = DataLoader(dset,\n",
        "                          batch_size=batch_size,\n",
        "                          shuffle=False)"
      ],
      "execution_count": 0,
      "outputs": []
    },
    {
      "cell_type": "code",
      "metadata": {
        "colab_type": "code",
        "id": "daCj5-uimbmu",
        "colab": {}
      },
      "source": [
        "model_toy = LSTM(num_features=1, \n",
        "             hidden_dim=64, \n",
        "             batch_size=batch_size,\n",
        "             output_dim=1, \n",
        "             num_layers=2, \n",
        "             series_length=20)\n",
        "\n",
        "model_toy = model_toy.to(device)"
      ],
      "execution_count": 0,
      "outputs": []
    },
    {
      "cell_type": "code",
      "metadata": {
        "colab_type": "code",
        "id": "xKbRZCZvmbmx",
        "outputId": "42063026-e6f6-43be-850d-8d3a1ab08c57",
        "scrolled": true,
        "colab": {
          "base_uri": "https://localhost:8080/",
          "height": 950
        }
      },
      "source": [
        "num_epochs = 10000\n",
        "\n",
        "log = np.zeros(num_epochs)\n",
        "loss_fn = torch.nn.MSELoss(size_average=False)\n",
        "learning_rate = 1e-3\n",
        "optimiser = torch.optim.Adam(model_toy.parameters(), learning_rate)\n",
        "\n",
        "observed_list = []\n",
        "start_time = time.time()\n",
        "\n",
        "\n",
        "def plot_pred_obs(predicted, observed_list):\n",
        "    x_axis = np.array(range(len(predicted)))\n",
        "    observed = [single_pred for batch in observed_list for single_pred in batch.detach().cpu().numpy()]\n",
        "\n",
        "    plt.plot(x_axis, np.array(predicted), label=\"Predicted\")\n",
        "    plt.plot(x_axis, observed, label=\"Observed\")\n",
        "    plt.legend()\n",
        "    plt.show()\n",
        "    \n",
        "    \n",
        "for epoch in range(num_epochs):\n",
        "    \n",
        "    predicted = []\n",
        "    \n",
        "    for batch_idx, (X_train_batch, y_train_batch) in enumerate(train_loader):\n",
        "        \n",
        "        \n",
        "        X_train_batch = X_train_batch.to(device)\n",
        "        y_train_batch = y_train_batch.to(device)\n",
        "        \n",
        "        if epoch == 0: observed_list.append(y_train_batch)\n",
        "            \n",
        "        # Zero out gradients\n",
        "        optimiser.zero_grad()\n",
        "        \n",
        "        # Need to set seed here to make deterministic\n",
        "        set_seed(42)\n",
        "        \n",
        "        # Forward pass\n",
        "        y_pred = model_toy(X_train_batch)\n",
        "        \n",
        "        # Adding the predicted values to a list for plotting\n",
        "        for pred_ix in range(y_pred.size()[0]):\n",
        "            predicted.append(y_pred[pred_ix].item())\n",
        "\n",
        "        # Loss Function\n",
        "        loss = loss_fn(y_pred, y_train_batch)\n",
        "        log[epoch] = loss.item()\n",
        "\n",
        "        # Backward pass\n",
        "        loss.backward()\n",
        "\n",
        "        # Update parameters\n",
        "        optimiser.step()\n",
        "        \n",
        "    if epoch % 100 == 0: print(\"Epoch: %i MSE: %.5f Time: %.3f\" % (epoch, loss.item(), (time.time() - start_time)))\n",
        "        \n",
        "    if epoch % 200.0 == 0: plot_pred_obs(predicted, observed_list)"
      ],
      "execution_count": 0,
      "outputs": [
        {
          "output_type": "stream",
          "text": [
            "Epoch: 0 MSE: 0.05505 Time: 0.051\n"
          ],
          "name": "stdout"
        },
        {
          "output_type": "display_data",
          "data": {
            "image/png": "[encoded data removed]",
            "text/plain": [
              "<Figure size 432x288 with 1 Axes>"
            ]
          },
          "metadata": {
            "tags": []
          }
        },
        {
          "output_type": "stream",
          "text": [
            "Epoch: 100 MSE: 0.02178 Time: 4.323\n",
            "Epoch: 200 MSE: 0.00946 Time: 8.369\n"
          ],
          "name": "stdout"
        },
        {
          "output_type": "display_data",
          "data": {
            "image/png": "[encoded data removed]",
            "text/plain": [
              "<Figure size 432x288 with 1 Axes>"
            ]
          },
          "metadata": {
            "tags": []
          }
        },
        {
          "output_type": "error",
          "ename": "KeyboardInterrupt",
          "evalue": "ignored",
          "traceback": [
            "\u001b[0;31m---------------------------------------------------------------------------\u001b[0m",
            "\u001b[0;31mKeyboardInterrupt\u001b[0m                         Traceback (most recent call last)",
            "\u001b[0;32m<ipython-input-102-06bf7f00e196>\u001b[0m in \u001b[0;36m<module>\u001b[0;34m()\u001b[0m\n\u001b[1;32m     39\u001b[0m \u001b[0;34m\u001b[0m\u001b[0m\n\u001b[1;32m     40\u001b[0m         \u001b[0;31m# Forward pass\u001b[0m\u001b[0;34m\u001b[0m\u001b[0;34m\u001b[0m\u001b[0;34m\u001b[0m\u001b[0m\n\u001b[0;32m---> 41\u001b[0;31m         \u001b[0my_pred\u001b[0m \u001b[0;34m=\u001b[0m \u001b[0mmodel_toy\u001b[0m\u001b[0;34m(\u001b[0m\u001b[0mX_train_batch\u001b[0m\u001b[0;34m)\u001b[0m\u001b[0;34m\u001b[0m\u001b[0;34m\u001b[0m\u001b[0m\n\u001b[0m\u001b[1;32m     42\u001b[0m \u001b[0;34m\u001b[0m\u001b[0m\n\u001b[1;32m     43\u001b[0m         \u001b[0;31m# Adding the predicted values to a list for plotting\u001b[0m\u001b[0;34m\u001b[0m\u001b[0;34m\u001b[0m\u001b[0;34m\u001b[0m\u001b[0m\n",
            "\u001b[0;32m/usr/local/lib/python3.6/dist-packages/torch/nn/modules/module.py\u001b[0m in \u001b[0;36m__call__\u001b[0;34m(self, *input, **kwargs)\u001b[0m\n\u001b[1;32m    491\u001b[0m             \u001b[0mresult\u001b[0m \u001b[0;34m=\u001b[0m \u001b[0mself\u001b[0m\u001b[0;34m.\u001b[0m\u001b[0m_slow_forward\u001b[0m\u001b[0;34m(\u001b[0m\u001b[0;34m*\u001b[0m\u001b[0minput\u001b[0m\u001b[0;34m,\u001b[0m \u001b[0;34m**\u001b[0m\u001b[0mkwargs\u001b[0m\u001b[0;34m)\u001b[0m\u001b[0;34m\u001b[0m\u001b[0;34m\u001b[0m\u001b[0m\n\u001b[1;32m    492\u001b[0m         \u001b[0;32melse\u001b[0m\u001b[0;34m:\u001b[0m\u001b[0;34m\u001b[0m\u001b[0;34m\u001b[0m\u001b[0m\n\u001b[0;32m--> 493\u001b[0;31m             \u001b[0mresult\u001b[0m \u001b[0;34m=\u001b[0m \u001b[0mself\u001b[0m\u001b[0;34m.\u001b[0m\u001b[0mforward\u001b[0m\u001b[0;34m(\u001b[0m\u001b[0;34m*\u001b[0m\u001b[0minput\u001b[0m\u001b[0;34m,\u001b[0m \u001b[0;34m**\u001b[0m\u001b[0mkwargs\u001b[0m\u001b[0;34m)\u001b[0m\u001b[0;34m\u001b[0m\u001b[0;34m\u001b[0m\u001b[0m\n\u001b[0m\u001b[1;32m    494\u001b[0m         \u001b[0;32mfor\u001b[0m \u001b[0mhook\u001b[0m \u001b[0;32min\u001b[0m \u001b[0mself\u001b[0m\u001b[0;34m.\u001b[0m\u001b[0m_forward_hooks\u001b[0m\u001b[0;34m.\u001b[0m\u001b[0mvalues\u001b[0m\u001b[0;34m(\u001b[0m\u001b[0;34m)\u001b[0m\u001b[0;34m:\u001b[0m\u001b[0;34m\u001b[0m\u001b[0;34m\u001b[0m\u001b[0m\n\u001b[1;32m    495\u001b[0m             \u001b[0mhook_result\u001b[0m \u001b[0;34m=\u001b[0m \u001b[0mhook\u001b[0m\u001b[0;34m(\u001b[0m\u001b[0mself\u001b[0m\u001b[0;34m,\u001b[0m \u001b[0minput\u001b[0m\u001b[0;34m,\u001b[0m \u001b[0mresult\u001b[0m\u001b[0;34m)\u001b[0m\u001b[0;34m\u001b[0m\u001b[0;34m\u001b[0m\u001b[0m\n",
            "\u001b[0;32m<ipython-input-55-d0f3cd5bc5b9>\u001b[0m in \u001b[0;36mforward\u001b[0;34m(self, x)\u001b[0m\n\u001b[1;32m     82\u001b[0m         \u001b[0;31m# Pass through through lstm layer\u001b[0m\u001b[0;34m\u001b[0m\u001b[0;34m\u001b[0m\u001b[0;34m\u001b[0m\u001b[0m\n\u001b[1;32m     83\u001b[0m         \u001b[0;31m# Only the x is of interest\u001b[0m\u001b[0;34m\u001b[0m\u001b[0;34m\u001b[0m\u001b[0;34m\u001b[0m\u001b[0m\n\u001b[0;32m---> 84\u001b[0;31m         \u001b[0mx\u001b[0m\u001b[0;34m,\u001b[0m \u001b[0;34m(\u001b[0m\u001b[0mhn\u001b[0m\u001b[0;34m,\u001b[0m \u001b[0mcn\u001b[0m\u001b[0;34m)\u001b[0m \u001b[0;34m=\u001b[0m \u001b[0mself\u001b[0m\u001b[0;34m.\u001b[0m\u001b[0mlstm\u001b[0m\u001b[0;34m(\u001b[0m\u001b[0mx\u001b[0m\u001b[0;34m,\u001b[0m \u001b[0;34m(\u001b[0m\u001b[0mh0\u001b[0m\u001b[0;34m,\u001b[0m \u001b[0mc0\u001b[0m\u001b[0;34m)\u001b[0m\u001b[0;34m)\u001b[0m\u001b[0;34m\u001b[0m\u001b[0;34m\u001b[0m\u001b[0m\n\u001b[0m\u001b[1;32m     85\u001b[0m \u001b[0;34m\u001b[0m\u001b[0m\n\u001b[1;32m     86\u001b[0m         \u001b[0;31m# Output is seq to seq but only want seq to val\u001b[0m\u001b[0;34m\u001b[0m\u001b[0;34m\u001b[0m\u001b[0;34m\u001b[0m\u001b[0m\n",
            "\u001b[0;32m/usr/local/lib/python3.6/dist-packages/torch/nn/modules/module.py\u001b[0m in \u001b[0;36m__call__\u001b[0;34m(self, *input, **kwargs)\u001b[0m\n\u001b[1;32m    491\u001b[0m             \u001b[0mresult\u001b[0m \u001b[0;34m=\u001b[0m \u001b[0mself\u001b[0m\u001b[0;34m.\u001b[0m\u001b[0m_slow_forward\u001b[0m\u001b[0;34m(\u001b[0m\u001b[0;34m*\u001b[0m\u001b[0minput\u001b[0m\u001b[0;34m,\u001b[0m \u001b[0;34m**\u001b[0m\u001b[0mkwargs\u001b[0m\u001b[0;34m)\u001b[0m\u001b[0;34m\u001b[0m\u001b[0;34m\u001b[0m\u001b[0m\n\u001b[1;32m    492\u001b[0m         \u001b[0;32melse\u001b[0m\u001b[0;34m:\u001b[0m\u001b[0;34m\u001b[0m\u001b[0;34m\u001b[0m\u001b[0m\n\u001b[0;32m--> 493\u001b[0;31m             \u001b[0mresult\u001b[0m \u001b[0;34m=\u001b[0m \u001b[0mself\u001b[0m\u001b[0;34m.\u001b[0m\u001b[0mforward\u001b[0m\u001b[0;34m(\u001b[0m\u001b[0;34m*\u001b[0m\u001b[0minput\u001b[0m\u001b[0;34m,\u001b[0m \u001b[0;34m**\u001b[0m\u001b[0mkwargs\u001b[0m\u001b[0;34m)\u001b[0m\u001b[0;34m\u001b[0m\u001b[0;34m\u001b[0m\u001b[0m\n\u001b[0m\u001b[1;32m    494\u001b[0m         \u001b[0;32mfor\u001b[0m \u001b[0mhook\u001b[0m \u001b[0;32min\u001b[0m \u001b[0mself\u001b[0m\u001b[0;34m.\u001b[0m\u001b[0m_forward_hooks\u001b[0m\u001b[0;34m.\u001b[0m\u001b[0mvalues\u001b[0m\u001b[0;34m(\u001b[0m\u001b[0;34m)\u001b[0m\u001b[0;34m:\u001b[0m\u001b[0;34m\u001b[0m\u001b[0;34m\u001b[0m\u001b[0m\n\u001b[1;32m    495\u001b[0m             \u001b[0mhook_result\u001b[0m \u001b[0;34m=\u001b[0m \u001b[0mhook\u001b[0m\u001b[0;34m(\u001b[0m\u001b[0mself\u001b[0m\u001b[0;34m,\u001b[0m \u001b[0minput\u001b[0m\u001b[0;34m,\u001b[0m \u001b[0mresult\u001b[0m\u001b[0;34m)\u001b[0m\u001b[0;34m\u001b[0m\u001b[0;34m\u001b[0m\u001b[0m\n",
            "\u001b[0;32m/usr/local/lib/python3.6/dist-packages/torch/nn/modules/rnn.py\u001b[0m in \u001b[0;36mforward\u001b[0;34m(self, input, hx)\u001b[0m\n\u001b[1;32m    557\u001b[0m             \u001b[0;32mreturn\u001b[0m \u001b[0mself\u001b[0m\u001b[0;34m.\u001b[0m\u001b[0mforward_packed\u001b[0m\u001b[0;34m(\u001b[0m\u001b[0minput\u001b[0m\u001b[0;34m,\u001b[0m \u001b[0mhx\u001b[0m\u001b[0;34m)\u001b[0m\u001b[0;34m\u001b[0m\u001b[0;34m\u001b[0m\u001b[0m\n\u001b[1;32m    558\u001b[0m         \u001b[0;32melse\u001b[0m\u001b[0;34m:\u001b[0m\u001b[0;34m\u001b[0m\u001b[0;34m\u001b[0m\u001b[0m\n\u001b[0;32m--> 559\u001b[0;31m             \u001b[0;32mreturn\u001b[0m \u001b[0mself\u001b[0m\u001b[0;34m.\u001b[0m\u001b[0mforward_tensor\u001b[0m\u001b[0;34m(\u001b[0m\u001b[0minput\u001b[0m\u001b[0;34m,\u001b[0m \u001b[0mhx\u001b[0m\u001b[0;34m)\u001b[0m\u001b[0;34m\u001b[0m\u001b[0;34m\u001b[0m\u001b[0m\n\u001b[0m\u001b[1;32m    560\u001b[0m \u001b[0;34m\u001b[0m\u001b[0m\n\u001b[1;32m    561\u001b[0m \u001b[0;34m\u001b[0m\u001b[0m\n",
            "\u001b[0;32m/usr/local/lib/python3.6/dist-packages/torch/nn/modules/rnn.py\u001b[0m in \u001b[0;36mforward_tensor\u001b[0;34m(self, input, hx)\u001b[0m\n\u001b[1;32m    537\u001b[0m         \u001b[0munsorted_indices\u001b[0m \u001b[0;34m=\u001b[0m \u001b[0;32mNone\u001b[0m\u001b[0;34m\u001b[0m\u001b[0;34m\u001b[0m\u001b[0m\n\u001b[1;32m    538\u001b[0m \u001b[0;34m\u001b[0m\u001b[0m\n\u001b[0;32m--> 539\u001b[0;31m         \u001b[0moutput\u001b[0m\u001b[0;34m,\u001b[0m \u001b[0mhidden\u001b[0m \u001b[0;34m=\u001b[0m \u001b[0mself\u001b[0m\u001b[0;34m.\u001b[0m\u001b[0mforward_impl\u001b[0m\u001b[0;34m(\u001b[0m\u001b[0minput\u001b[0m\u001b[0;34m,\u001b[0m \u001b[0mhx\u001b[0m\u001b[0;34m,\u001b[0m \u001b[0mbatch_sizes\u001b[0m\u001b[0;34m,\u001b[0m \u001b[0mmax_batch_size\u001b[0m\u001b[0;34m,\u001b[0m \u001b[0msorted_indices\u001b[0m\u001b[0;34m)\u001b[0m\u001b[0;34m\u001b[0m\u001b[0;34m\u001b[0m\u001b[0m\n\u001b[0m\u001b[1;32m    540\u001b[0m \u001b[0;34m\u001b[0m\u001b[0m\n\u001b[1;32m    541\u001b[0m         \u001b[0;32mreturn\u001b[0m \u001b[0moutput\u001b[0m\u001b[0;34m,\u001b[0m \u001b[0mself\u001b[0m\u001b[0;34m.\u001b[0m\u001b[0mpermute_hidden\u001b[0m\u001b[0;34m(\u001b[0m\u001b[0mhidden\u001b[0m\u001b[0;34m,\u001b[0m \u001b[0munsorted_indices\u001b[0m\u001b[0;34m)\u001b[0m\u001b[0;34m\u001b[0m\u001b[0;34m\u001b[0m\u001b[0m\n",
            "\u001b[0;32m/usr/local/lib/python3.6/dist-packages/torch/nn/modules/rnn.py\u001b[0m in \u001b[0;36mforward_impl\u001b[0;34m(self, input, hx, batch_sizes, max_batch_size, sorted_indices)\u001b[0m\n\u001b[1;32m    520\u001b[0m         \u001b[0;32mif\u001b[0m \u001b[0mbatch_sizes\u001b[0m \u001b[0;32mis\u001b[0m \u001b[0;32mNone\u001b[0m\u001b[0;34m:\u001b[0m\u001b[0;34m\u001b[0m\u001b[0;34m\u001b[0m\u001b[0m\n\u001b[1;32m    521\u001b[0m             result = _VF.lstm(input, hx, self._get_flat_weights(), self.bias, self.num_layers,\n\u001b[0;32m--> 522\u001b[0;31m                               self.dropout, self.training, self.bidirectional, self.batch_first)\n\u001b[0m\u001b[1;32m    523\u001b[0m         \u001b[0;32melse\u001b[0m\u001b[0;34m:\u001b[0m\u001b[0;34m\u001b[0m\u001b[0;34m\u001b[0m\u001b[0m\n\u001b[1;32m    524\u001b[0m             result = _VF.lstm(input, batch_sizes, hx, self._get_flat_weights(), self.bias,\n",
            "\u001b[0;31mKeyboardInterrupt\u001b[0m: "
          ]
        }
      ]
    },
    {
      "cell_type": "markdown",
      "metadata": {
        "colab_type": "text",
        "id": "qmzBKO27mbm1"
      },
      "source": [
        "# Results"
      ]
    },
    {
      "cell_type": "code",
      "metadata": {
        "colab_type": "code",
        "id": "R7iZ3kSUmbm2",
        "colab": {}
      },
      "source": [
        "df = df_full[[\"target\"]]\n",
        "# Taking t-1 to be the value for t\n",
        "df[\"persistance\"] = df.shift(1)\n",
        "df.dropna(inplace=True)\n",
        "# Calculating metrics for these columns\n",
        "MSE, MAE, MDE = evaluate(df, \"target\", \"persistance\")"
      ],
      "execution_count": 0,
      "outputs": []
    },
    {
      "cell_type": "code",
      "metadata": {
        "colab_type": "code",
        "id": "uIbnEu1Ombm8",
        "outputId": "45b1eecf-cb00-4660-c38a-9297a160a952",
        "colab": {}
      },
      "source": [
        "print(df[:5])\n",
        "print(df[-5:])"
      ],
      "execution_count": 0,
      "outputs": [
        {
          "output_type": "stream",
          "text": [
            "              target  persistance\n",
            "date                             \n",
            "2006-09-14  0.021675    -0.001404\n",
            "2006-09-15  0.043012     0.021675\n",
            "2006-09-18  0.013450     0.043012\n",
            "2006-09-19  0.025225     0.013450\n",
            "2006-09-20  0.024843     0.025225\n",
            "              target  persistance\n",
            "date                             \n",
            "2019-06-24 -0.000589     0.004104\n",
            "2019-06-25 -0.026401    -0.000589\n",
            "2019-06-26 -0.010480    -0.026401\n",
            "2019-06-27 -0.011358    -0.010480\n",
            "2019-06-28 -0.015457    -0.011358\n"
          ],
          "name": "stdout"
        }
      ]
    },
    {
      "cell_type": "code",
      "metadata": {
        "colab_type": "code",
        "id": "x7iq6yQdmbnE",
        "outputId": "f06df65f-ac04-4fa7-e7e6-34ac5ca64014",
        "scrolled": true,
        "colab": {}
      },
      "source": [
        "# Placing in results dataframe\n",
        "results = pd.DataFrame(columns={\"MSE\", \"MAE\", \"MDE\"})\n",
        "results.index.name = 'Name'\n",
        "results.head()\n",
        "results.loc[\"persistance\"] = [MSE, MAE, MDE] \n",
        "results.head()"
      ],
      "execution_count": 0,
      "outputs": [
        {
          "output_type": "execute_result",
          "data": {
            "text/html": [
              "<div>\n",
              "<style scoped>\n",
              "    .dataframe tbody tr th:only-of-type {\n",
              "        vertical-align: middle;\n",
              "    }\n",
              "\n",
              "    .dataframe tbody tr th {\n",
              "        vertical-align: top;\n",
              "    }\n",
              "\n",
              "    .dataframe thead th {\n",
              "        text-align: right;\n",
              "    }\n",
              "</style>\n",
              "<table border=\"1\" class=\"dataframe\">\n",
              "  <thead>\n",
              "    <tr style=\"text-align: right;\">\n",
              "      <th></th>\n",
              "      <th>MSE</th>\n",
              "      <th>MAE</th>\n",
              "      <th>MDE</th>\n",
              "    </tr>\n",
              "    <tr>\n",
              "      <th>Name</th>\n",
              "      <th></th>\n",
              "      <th></th>\n",
              "      <th></th>\n",
              "    </tr>\n",
              "  </thead>\n",
              "  <tbody>\n",
              "    <tr>\n",
              "      <th>persistance</th>\n",
              "      <td>0.000582</td>\n",
              "      <td>0.017105</td>\n",
              "      <td>0.465585</td>\n",
              "    </tr>\n",
              "  </tbody>\n",
              "</table>\n",
              "</div>"
            ],
            "text/plain": [
              "                  MSE       MAE       MDE\n",
              "Name                                     \n",
              "persistance  0.000582  0.017105  0.465585"
            ]
          },
          "metadata": {
            "tags": []
          },
          "execution_count": 661
        }
      ]
    }
  ]
}