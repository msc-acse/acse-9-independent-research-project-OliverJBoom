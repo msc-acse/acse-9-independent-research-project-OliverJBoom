{
 "cells": [
  {
   "cell_type": "markdown",
   "metadata": {
    "colab_type": "text",
    "id": "IyHSuKQHmbky"
   },
   "source": [
    "## For Colabs"
   ]
  },
  {
   "cell_type": "code",
   "execution_count": 1,
   "metadata": {
    "colab": {
     "base_uri": "https://localhost:8080/",
     "height": 153
    },
    "colab_type": "code",
    "id": "X8bAIFxumbk2",
    "outputId": "d36e25a0-6d35-4ecb-8e2e-48a172f94f99"
   },
   "outputs": [
    {
     "name": "stdout",
     "output_type": "stream",
     "text": [
      "github password··········\n",
      "Cloning into 'acse-9-independent-research-project-OliverJBoom'...\n",
      "remote: Enumerating objects: 103, done.\u001b[K\n",
      "remote: Counting objects: 100% (103/103), done.\u001b[K\n",
      "remote: Compressing objects: 100% (78/78), done.\u001b[K\n",
      "remote: Total 549 (delta 66), reused 56 (delta 25), pack-reused 446\n",
      "Receiving objects: 100% (549/549), 9.26 MiB | 24.06 MiB/s, done.\n",
      "Resolving deltas: 100% (304/304), done.\n"
     ]
    }
   ],
   "source": [
    "from getpass import getpass\n",
    "import os\n",
    "\n",
    "user = \"OliverJBoom\"\n",
    "password = getpass('github password')\n",
    "\n",
    "os.environ['GITHUB_AUTH'] = user + ':' + password\n",
    "os.chdir(\"/content\")\n",
    "!rm -rf \"/content/acse-9-independent-research-project-OliverJBoom\"\n",
    "!git clone https://$GITHUB_AUTH@github.com/msc-acse/acse-9-independent-research-project-OliverJBoom.git\n",
    "os.chdir(\"acse-9-independent-research-project-OliverJBoom/Src\")"
   ]
  },
  {
   "cell_type": "code",
   "execution_count": 2,
   "metadata": {
    "colab": {
     "base_uri": "https://localhost:8080/",
     "height": 34
    },
    "colab_type": "code",
    "id": "oBx8zc83mbk4",
    "outputId": "f1acf6da-6e8e-433f-e83c-79ce1e1e9579"
   },
   "outputs": [
    {
     "name": "stdout",
     "output_type": "stream",
     "text": [
      "Mounted at /content/gdrive/\n"
     ]
    }
   ],
   "source": [
    "from google.colab import drive\n",
    "drive.mount(\"/content/gdrive/\", force_remount=True)\n",
    "path = \"/content/gdrive/My Drive/Chai/Data\""
   ]
  },
  {
   "cell_type": "markdown",
   "metadata": {
    "colab_type": "text",
    "id": "67j8odKJJQL_"
   },
   "source": [
    "## Loading Packages"
   ]
  },
  {
   "cell_type": "code",
   "execution_count": null,
   "metadata": {
    "colab": {
     "base_uri": "https://localhost:8080/",
     "height": 34
    },
    "colab_type": "code",
    "id": "qd88JeQfrEzc",
    "outputId": "dd41133a-b9e4-42d9-c3c1-8b607b772e1f",
    "scrolled": true
   },
   "outputs": [],
   "source": [
    "from deeplearning import *\n",
    "from models import *\n",
    "import numpy as np\n",
    "import os\n",
    "import pandas as pd\n",
    "import matplotlib.pyplot as plt\n",
    "from scipy.ndimage.interpolation import shift\n",
    "from sklearn.preprocessing import MinMaxScaler\n",
    "from sklearn.model_selection import train_test_split\n",
    "from sklearn.decomposition import PCA\n",
    "import pickle\n",
    "from preprocessing import *\n",
    "from statistics import median\n",
    "import time\n",
    "import torch\n",
    "import torch.nn as nn\n",
    "from torch.utils.data import TensorDataset, DataLoader\n",
    "from utils import *\n",
    "import warnings\n",
    "\n",
    "warnings.filterwarnings(\"ignore\")\n",
    "\n",
    "set_seed(42)"
   ]
  },
  {
   "cell_type": "markdown",
   "metadata": {
    "colab_type": "text",
    "id": "u0N6DJJ0mbk_"
   },
   "source": [
    "### Insuring that training is done on GPU if available"
   ]
  },
  {
   "cell_type": "code",
   "execution_count": null,
   "metadata": {
    "colab": {
     "base_uri": "https://localhost:8080/",
     "height": 34
    },
    "colab_type": "code",
    "id": "2QpZ1E8emblA",
    "outputId": "ad7e01c6-3b0b-4bbd-ee7d-371d64063959"
   },
   "outputs": [],
   "source": [
    "device = 'cpu'\n",
    "if torch.cuda.device_count() > 0 and torch.cuda.is_available():\n",
    "    print(\"Cuda installed! Running on GPU!\")\n",
    "    device = 'cuda'\n",
    "else:\n",
    "    print(\"No GPU available!\")"
   ]
  },
  {
   "cell_type": "markdown",
   "metadata": {
    "colab_type": "text",
    "id": "Um9Dkbc5mblC"
   },
   "source": [
    "## Loading Data"
   ]
  },
  {
   "cell_type": "code",
   "execution_count": null,
   "metadata": {
    "colab": {},
    "colab_type": "code",
    "id": "weVUDM7lmblD"
   },
   "outputs": [],
   "source": [
    "path = \"Data/Commodity_Data/\"\n",
    "universe_dict = universe_select(path, \"Cu\")\n",
    "use_lg_returns = True"
   ]
  },
  {
   "cell_type": "markdown",
   "metadata": {
    "colab_type": "text",
    "id": "4k8FIHASpHfv"
   },
   "source": [
    "## Preprocessing"
   ]
  },
  {
   "cell_type": "code",
   "execution_count": 6,
   "metadata": {
    "colab": {
     "base_uri": "https://localhost:8080/",
     "height": 221
    },
    "colab_type": "code",
    "id": "ki2dJCGNkOVE",
    "outputId": "7687d531-7631-4219-ddae-03d7d4f800b5",
    "scrolled": true
   },
   "outputs": [
    {
     "name": "stdout",
     "output_type": "stream",
     "text": [
      "Included Instrument:\n",
      "cu_shfe\n",
      "cu_lme\n",
      "cu_comex_p\n",
      "cu_comex_s\n",
      "peso\n",
      "sol\n",
      "bdi\n",
      "ted\n",
      "vix\n",
      "skew\n",
      "gsci\n"
     ]
    }
   ],
   "source": [
    "# Renaming the columns to price\n",
    "universe_dict = price_rename(universe_dict)\n",
    "\n",
    "# Cleaning the dataset of any erroneous datapoints\n",
    "universe_dict = clean_dict_gen(universe_dict)\n",
    "\n",
    "# Making sure that all the points in the window have consistent length\n",
    "universe_dict = truncate_window_length(universe_dict)\n",
    "\n",
    "# Generating the dataset\n",
    "if use_lg_returns:\n",
    "    # Lg Returns Only\n",
    "    df_full = generate_dataset(universe_dict, lg_returns_only=True, price_only=False)\n",
    "    target_col = \"cu_lme\"\n",
    "\n",
    "else:\n",
    "    # Price Only\n",
    "    df_full = generate_dataset(universe_dict, lg_returns_only=False, price_only=True)\n",
    "    target_col = \"price_cu_lme\"\n",
    "\n",
    "# Set to False initially\n",
    "PCA_used = False"
   ]
  },
  {
   "cell_type": "code",
   "execution_count": 7,
   "metadata": {
    "code_folding": [],
    "colab": {},
    "colab_type": "code",
    "id": "b7nd05YFmblM",
    "scrolled": true
   },
   "outputs": [],
   "source": [
    "# Visualise the plots\n",
    "# visualise_universe(universe_dict)"
   ]
  },
  {
   "cell_type": "code",
   "execution_count": 8,
   "metadata": {
    "colab": {
     "base_uri": "https://localhost:8080/",
     "height": 820
    },
    "colab_type": "code",
    "id": "7J6bOnusmblO",
    "outputId": "2f02703b-d2d2-4721-bf55-a3ddc5e73247",
    "scrolled": true
   },
   "outputs": [
    {
     "data": {
      "text/html": [
       "<div>\n",
       "<style scoped>\n",
       "    .dataframe tbody tr th:only-of-type {\n",
       "        vertical-align: middle;\n",
       "    }\n",
       "\n",
       "    .dataframe tbody tr th {\n",
       "        vertical-align: top;\n",
       "    }\n",
       "\n",
       "    .dataframe thead th {\n",
       "        text-align: right;\n",
       "    }\n",
       "</style>\n",
       "<table border=\"1\" class=\"dataframe\">\n",
       "  <thead>\n",
       "    <tr style=\"text-align: right;\">\n",
       "      <th></th>\n",
       "      <th>cu_shfe</th>\n",
       "      <th>cu_lme</th>\n",
       "      <th>cu_comex_p</th>\n",
       "      <th>cu_comex_s</th>\n",
       "      <th>peso</th>\n",
       "      <th>sol</th>\n",
       "      <th>bdi</th>\n",
       "      <th>ted</th>\n",
       "      <th>vix</th>\n",
       "      <th>skew</th>\n",
       "      <th>gsci</th>\n",
       "    </tr>\n",
       "    <tr>\n",
       "      <th>date</th>\n",
       "      <th></th>\n",
       "      <th></th>\n",
       "      <th></th>\n",
       "      <th></th>\n",
       "      <th></th>\n",
       "      <th></th>\n",
       "      <th></th>\n",
       "      <th></th>\n",
       "      <th></th>\n",
       "      <th></th>\n",
       "      <th></th>\n",
       "    </tr>\n",
       "  </thead>\n",
       "  <tbody>\n",
       "    <tr>\n",
       "      <th>2006-09-13</th>\n",
       "      <td>0.001583</td>\n",
       "      <td>-0.013602</td>\n",
       "      <td>0.000590</td>\n",
       "      <td>0.055554</td>\n",
       "      <td>-0.000558</td>\n",
       "      <td>0.000307</td>\n",
       "      <td>0.029244</td>\n",
       "      <td>-0.004276</td>\n",
       "      <td>-0.064091</td>\n",
       "      <td>-0.048458</td>\n",
       "      <td>0.002624</td>\n",
       "    </tr>\n",
       "    <tr>\n",
       "      <th>2006-09-14</th>\n",
       "      <td>0.025695</td>\n",
       "      <td>-0.006098</td>\n",
       "      <td>-0.003100</td>\n",
       "      <td>-0.104881</td>\n",
       "      <td>0.000707</td>\n",
       "      <td>-0.001692</td>\n",
       "      <td>0.018715</td>\n",
       "      <td>0.005088</td>\n",
       "      <td>0.032559</td>\n",
       "      <td>-0.008086</td>\n",
       "      <td>-0.010694</td>\n",
       "    </tr>\n",
       "    <tr>\n",
       "      <th>2006-09-15</th>\n",
       "      <td>-0.027710</td>\n",
       "      <td>-0.021468</td>\n",
       "      <td>-0.019557</td>\n",
       "      <td>0.041104</td>\n",
       "      <td>-0.001172</td>\n",
       "      <td>0.000154</td>\n",
       "      <td>0.012050</td>\n",
       "      <td>0.002636</td>\n",
       "      <td>0.018019</td>\n",
       "      <td>0.124060</td>\n",
       "      <td>-0.004952</td>\n",
       "    </tr>\n",
       "    <tr>\n",
       "      <th>2006-09-18</th>\n",
       "      <td>0.006177</td>\n",
       "      <td>0.024153</td>\n",
       "      <td>0.030146</td>\n",
       "      <td>0.032495</td>\n",
       "      <td>0.000000</td>\n",
       "      <td>-0.000924</td>\n",
       "      <td>0.004920</td>\n",
       "      <td>0.002023</td>\n",
       "      <td>0.001699</td>\n",
       "      <td>-0.060186</td>\n",
       "      <td>0.007824</td>\n",
       "    </tr>\n",
       "    <tr>\n",
       "      <th>2006-09-19</th>\n",
       "      <td>0.023214</td>\n",
       "      <td>0.007613</td>\n",
       "      <td>-0.012512</td>\n",
       "      <td>0.138083</td>\n",
       "      <td>0.000000</td>\n",
       "      <td>0.000000</td>\n",
       "      <td>-0.000935</td>\n",
       "      <td>-0.000202</td>\n",
       "      <td>0.016835</td>\n",
       "      <td>-0.018385</td>\n",
       "      <td>-0.019642</td>\n",
       "    </tr>\n",
       "    <tr>\n",
       "      <th>2006-09-20</th>\n",
       "      <td>-0.026370</td>\n",
       "      <td>-0.005604</td>\n",
       "      <td>-0.001631</td>\n",
       "      <td>0.031900</td>\n",
       "      <td>0.001302</td>\n",
       "      <td>0.000000</td>\n",
       "      <td>-0.007278</td>\n",
       "      <td>-0.002226</td>\n",
       "      <td>-0.050503</td>\n",
       "      <td>-0.018730</td>\n",
       "      <td>-0.019389</td>\n",
       "    </tr>\n",
       "    <tr>\n",
       "      <th>2006-09-21</th>\n",
       "      <td>0.008013</td>\n",
       "      <td>0.016981</td>\n",
       "      <td>0.015312</td>\n",
       "      <td>0.077356</td>\n",
       "      <td>0.003527</td>\n",
       "      <td>0.000924</td>\n",
       "      <td>-0.010422</td>\n",
       "      <td>-0.003246</td>\n",
       "      <td>0.072790</td>\n",
       "      <td>-0.025002</td>\n",
       "      <td>0.012464</td>\n",
       "    </tr>\n",
       "    <tr>\n",
       "      <th>2006-09-22</th>\n",
       "      <td>0.014151</td>\n",
       "      <td>-0.000132</td>\n",
       "      <td>0.005101</td>\n",
       "      <td>0.053830</td>\n",
       "      <td>-0.002226</td>\n",
       "      <td>-0.000308</td>\n",
       "      <td>-0.015355</td>\n",
       "      <td>0.000609</td>\n",
       "      <td>0.027377</td>\n",
       "      <td>-0.006875</td>\n",
       "      <td>-0.013196</td>\n",
       "    </tr>\n",
       "    <tr>\n",
       "      <th>2006-09-25</th>\n",
       "      <td>-0.000562</td>\n",
       "      <td>-0.005409</td>\n",
       "      <td>0.002323</td>\n",
       "      <td>0.016873</td>\n",
       "      <td>0.001485</td>\n",
       "      <td>0.000616</td>\n",
       "      <td>-0.016332</td>\n",
       "      <td>-0.003458</td>\n",
       "      <td>-0.038046</td>\n",
       "      <td>0.015776</td>\n",
       "      <td>0.002186</td>\n",
       "    </tr>\n",
       "    <tr>\n",
       "      <th>2006-09-26</th>\n",
       "      <td>-0.003380</td>\n",
       "      <td>0.019388</td>\n",
       "      <td>0.004630</td>\n",
       "      <td>0.016453</td>\n",
       "      <td>-0.002228</td>\n",
       "      <td>0.000000</td>\n",
       "      <td>-0.022367</td>\n",
       "      <td>-0.006543</td>\n",
       "      <td>-0.049905</td>\n",
       "      <td>0.007344</td>\n",
       "      <td>0.000634</td>\n",
       "    </tr>\n",
       "    <tr>\n",
       "      <th>2006-09-27</th>\n",
       "      <td>0.001832</td>\n",
       "      <td>-0.005986</td>\n",
       "      <td>0.003459</td>\n",
       "      <td>-0.022333</td>\n",
       "      <td>-0.002605</td>\n",
       "      <td>0.000923</td>\n",
       "      <td>-0.016215</td>\n",
       "      <td>-0.001232</td>\n",
       "      <td>0.004327</td>\n",
       "      <td>-0.026744</td>\n",
       "      <td>0.016107</td>\n",
       "    </tr>\n",
       "    <tr>\n",
       "      <th>2006-09-28</th>\n",
       "      <td>0.002110</td>\n",
       "      <td>-0.021370</td>\n",
       "      <td>-0.017854</td>\n",
       "      <td>-0.010072</td>\n",
       "      <td>0.000093</td>\n",
       "      <td>0.000307</td>\n",
       "      <td>-0.001022</td>\n",
       "      <td>-0.003292</td>\n",
       "      <td>0.012017</td>\n",
       "      <td>-0.001859</td>\n",
       "      <td>0.001468</td>\n",
       "    </tr>\n",
       "    <tr>\n",
       "      <th>2006-09-29</th>\n",
       "      <td>-0.001969</td>\n",
       "      <td>0.009026</td>\n",
       "      <td>0.013095</td>\n",
       "      <td>-0.013949</td>\n",
       "      <td>-0.003827</td>\n",
       "      <td>-0.000923</td>\n",
       "      <td>0.008402</td>\n",
       "      <td>0.004933</td>\n",
       "      <td>0.021942</td>\n",
       "      <td>0.015779</td>\n",
       "      <td>0.003331</td>\n",
       "    </tr>\n",
       "    <tr>\n",
       "      <th>2006-10-02</th>\n",
       "      <td>0.000000</td>\n",
       "      <td>-0.005964</td>\n",
       "      <td>-0.008274</td>\n",
       "      <td>-0.012206</td>\n",
       "      <td>-0.002997</td>\n",
       "      <td>-0.001232</td>\n",
       "      <td>0.003038</td>\n",
       "      <td>0.002867</td>\n",
       "      <td>0.048074</td>\n",
       "      <td>-0.002418</td>\n",
       "      <td>-0.018580</td>\n",
       "    </tr>\n",
       "    <tr>\n",
       "      <th>2006-10-03</th>\n",
       "      <td>0.000000</td>\n",
       "      <td>-0.023673</td>\n",
       "      <td>-0.042883</td>\n",
       "      <td>0.008910</td>\n",
       "      <td>0.002155</td>\n",
       "      <td>0.000000</td>\n",
       "      <td>0.001011</td>\n",
       "      <td>0.004284</td>\n",
       "      <td>-0.026604</td>\n",
       "      <td>-0.024248</td>\n",
       "      <td>-0.025294</td>\n",
       "    </tr>\n",
       "  </tbody>\n",
       "</table>\n",
       "</div>"
      ],
      "text/plain": [
       "             cu_shfe    cu_lme  cu_comex_p  cu_comex_s      peso       sol  \\\n",
       "date                                                                         \n",
       "2006-09-13  0.001583 -0.013602    0.000590    0.055554 -0.000558  0.000307   \n",
       "2006-09-14  0.025695 -0.006098   -0.003100   -0.104881  0.000707 -0.001692   \n",
       "2006-09-15 -0.027710 -0.021468   -0.019557    0.041104 -0.001172  0.000154   \n",
       "2006-09-18  0.006177  0.024153    0.030146    0.032495  0.000000 -0.000924   \n",
       "2006-09-19  0.023214  0.007613   -0.012512    0.138083  0.000000  0.000000   \n",
       "2006-09-20 -0.026370 -0.005604   -0.001631    0.031900  0.001302  0.000000   \n",
       "2006-09-21  0.008013  0.016981    0.015312    0.077356  0.003527  0.000924   \n",
       "2006-09-22  0.014151 -0.000132    0.005101    0.053830 -0.002226 -0.000308   \n",
       "2006-09-25 -0.000562 -0.005409    0.002323    0.016873  0.001485  0.000616   \n",
       "2006-09-26 -0.003380  0.019388    0.004630    0.016453 -0.002228  0.000000   \n",
       "2006-09-27  0.001832 -0.005986    0.003459   -0.022333 -0.002605  0.000923   \n",
       "2006-09-28  0.002110 -0.021370   -0.017854   -0.010072  0.000093  0.000307   \n",
       "2006-09-29 -0.001969  0.009026    0.013095   -0.013949 -0.003827 -0.000923   \n",
       "2006-10-02  0.000000 -0.005964   -0.008274   -0.012206 -0.002997 -0.001232   \n",
       "2006-10-03  0.000000 -0.023673   -0.042883    0.008910  0.002155  0.000000   \n",
       "\n",
       "                 bdi       ted       vix      skew      gsci  \n",
       "date                                                          \n",
       "2006-09-13  0.029244 -0.004276 -0.064091 -0.048458  0.002624  \n",
       "2006-09-14  0.018715  0.005088  0.032559 -0.008086 -0.010694  \n",
       "2006-09-15  0.012050  0.002636  0.018019  0.124060 -0.004952  \n",
       "2006-09-18  0.004920  0.002023  0.001699 -0.060186  0.007824  \n",
       "2006-09-19 -0.000935 -0.000202  0.016835 -0.018385 -0.019642  \n",
       "2006-09-20 -0.007278 -0.002226 -0.050503 -0.018730 -0.019389  \n",
       "2006-09-21 -0.010422 -0.003246  0.072790 -0.025002  0.012464  \n",
       "2006-09-22 -0.015355  0.000609  0.027377 -0.006875 -0.013196  \n",
       "2006-09-25 -0.016332 -0.003458 -0.038046  0.015776  0.002186  \n",
       "2006-09-26 -0.022367 -0.006543 -0.049905  0.007344  0.000634  \n",
       "2006-09-27 -0.016215 -0.001232  0.004327 -0.026744  0.016107  \n",
       "2006-09-28 -0.001022 -0.003292  0.012017 -0.001859  0.001468  \n",
       "2006-09-29  0.008402  0.004933  0.021942  0.015779  0.003331  \n",
       "2006-10-02  0.003038  0.002867  0.048074 -0.002418 -0.018580  \n",
       "2006-10-03  0.001011  0.004284 -0.026604 -0.024248 -0.025294  "
      ]
     },
     "execution_count": 8,
     "metadata": {},
     "output_type": "execute_result"
    }
   ],
   "source": [
    "df_full.head(15)\n",
    "# df_full.tail(5)"
   ]
  },
  {
   "cell_type": "markdown",
   "metadata": {
    "colab_type": "text",
    "id": "x65OxxWrqv4Q"
   },
   "source": [
    "### Normalizing the dataset"
   ]
  },
  {
   "cell_type": "code",
   "execution_count": 9,
   "metadata": {
    "colab": {},
    "colab_type": "code",
    "id": "yak6wTGtXgcA"
   },
   "outputs": [],
   "source": [
    "# Forecast length\n",
    "# forecast_length = 5\n",
    "forecast_length = 22\n",
    "\n",
    "# Data scaling\n",
    "scaler_data_X = MinMaxScaler()\n",
    "scaler_data_y = MinMaxScaler()\n",
    "\n",
    "df_target = df_full[[target_col]]\n",
    "\n",
    "data_X = scaler_data_X.fit_transform(df_full)[:-forecast_length, :]\n",
    "# Need to have an independent scaler for inverse_transforming later\n",
    "data_y = scaler_data_y.fit_transform(df_target)\n",
    "\n",
    "# Offset target one forecast length\n",
    "data_y = shift(data_y.ravel(), -forecast_length)[:-forecast_length]\n",
    "# Check shape assert(data_X.shape[:, 0]== data_y.shape[0])"
   ]
  },
  {
   "cell_type": "markdown",
   "metadata": {
    "colab_type": "text",
    "id": "vtwh3CX8mbla"
   },
   "source": [
    "### PCA"
   ]
  },
  {
   "cell_type": "code",
   "execution_count": 10,
   "metadata": {
    "code_folding": [],
    "colab": {
     "base_uri": "https://localhost:8080/",
     "height": 85
    },
    "colab_type": "code",
    "id": "Tt6qMuNjmblb",
    "outputId": "d1d0aba9-fc25-42b5-8f77-70eba2e8a19d",
    "scrolled": false
   },
   "outputs": [
    {
     "name": "stdout",
     "output_type": "stream",
     "text": [
      "Number of dimensions: 8\n",
      "Explained Variance: [0.32255423 0.14760517 0.11781215 0.09835737 0.0834445  0.07540705\n",
      " 0.0594611  0.04764373] \n",
      "Explained Variance Sum: 0.9522852911009694\n"
     ]
    }
   ],
   "source": [
    "# Reducing the dataset to containing a threshold amount of variance\n",
    "n_dim = dimension_selector(data_X, thresh=0.95)\n",
    "data_X = dimension_reduce(data_X, n_dim)\n",
    "\n",
    "PCA_used = True"
   ]
  },
  {
   "cell_type": "markdown",
   "metadata": {
    "colab_type": "text",
    "id": "zgonSBo4mble"
   },
   "source": [
    "### Slicing Series into Windows"
   ]
  },
  {
   "cell_type": "code",
   "execution_count": 12,
   "metadata": {
    "colab": {},
    "colab_type": "code",
    "id": "RFPTNYZpmblf"
   },
   "outputs": [],
   "source": [
    "# The input size of each time series window\n",
    "series_length = 250\n",
    "  \n",
    "data_X, data_y = slice_series(data_X, data_y, series_length, dataset_pct=1.0)"
   ]
  },
  {
   "cell_type": "markdown",
   "metadata": {
    "colab_type": "text",
    "id": "Whxwd1Y9mblz"
   },
   "source": [
    "### Hyperparameters"
   ]
  },
  {
   "cell_type": "code",
   "execution_count": null,
   "metadata": {
    "colab": {},
    "colab_type": "code",
    "id": "TmcACnnRmbl0"
   },
   "outputs": [],
   "source": [
    "# Hyperparameters\n",
    "learning_rate = 1e-2\n",
    "momentum = 0.5\n",
    "weight_decay = 0\n",
    "\n",
    "# Batch Parameters\n",
    "batch_size =  250\n",
    "\n",
    "# Training Parameters\n",
    "n_epochs = 20000\n",
    "patience = 5000\n",
    "disp_freq= 20\n",
    "fig_disp_freq= 20\n",
    "\n",
    "\n",
    "# Model Parameters\n",
    "num_features = data_X.shape[2]\n",
    "hidden_dim = 128\n",
    "num_layers = 2\n",
    "output_dim = 1\n",
    "dropout = 0.2"
   ]
  },
  {
   "cell_type": "markdown",
   "metadata": {
    "colab_type": "text",
    "id": "A7cwNAKcmbl4"
   },
   "source": [
    "### Initialising the model"
   ]
  },
  {
   "cell_type": "code",
   "execution_count": null,
   "metadata": {
    "colab": {
     "base_uri": "https://localhost:8080/",
     "height": 34
    },
    "colab_type": "code",
    "id": "eqxMggP-pbus",
    "outputId": "9c1c8db2-58d7-480c-ac3b-c5444dc712a9"
   },
   "outputs": [],
   "source": [
    "# Loading trained model\n",
    "# model = torch.load(\"/content/gdrive/My Drive/Chai/Models/Pths/\" + \"partial_dataset_LSTM_0_1206.pth\")\n",
    "# model.to(device)"
   ]
  },
  {
   "cell_type": "code",
   "execution_count": null,
   "metadata": {
    "code_folding": [
     7
    ],
    "colab": {
     "base_uri": "https://localhost:8080/",
     "height": 153
    },
    "colab_type": "code",
    "id": "ysl-hn6ombl5",
    "outputId": "05b71a3a-c02e-4c43-c081-deb8f1cfc006",
    "scrolled": false
   },
   "outputs": [],
   "source": [
    "model = LSTM(num_features=num_features, \n",
    "             hidden_dim=hidden_dim, \n",
    "             series_length = series_length,\n",
    "             batch_size=batch_size,\n",
    "             output_dim=output_dim, \n",
    "             num_layers=num_layers, \n",
    "             device=device,\n",
    "             dropout=dropout)\n",
    "\n",
    "model.to(device)\n",
    "\n",
    "print(\"num_features %i \\nhidden_dim %i\\nseries_length %i \\nbatch_size %i\\noutput_dim %i \\nnum_layers %i\"\n",
    "      % (num_features, hidden_dim, series_length, batch_size,output_dim, num_layers))\n",
    "\n",
    "print('data_X ', data_X.shape, '\\ndata_y', data_y.shape)"
   ]
  },
  {
   "cell_type": "code",
   "execution_count": null,
   "metadata": {
    "code_folding": [],
    "colab": {
     "base_uri": "https://localhost:8080/",
     "height": 1000
    },
    "colab_type": "code",
    "id": "rRhBmwmxmbl-",
    "outputId": "ca162b6c-f0d6-446b-b139-c50d0903379b",
    "scrolled": false
   },
   "outputs": [],
   "source": [
    "optimiser = torch.optim.Adam(model.parameters(), learning_rate)\n",
    "\n",
    "\"\"\"Do I need to declare a data explicitly in the dataset\"\"\"\n",
    "learning = DeepLearning(model=model, \n",
    "                        data_X=data_X, \n",
    "                        data_y=data_y, \n",
    "                        n_epochs=n_epochs,\n",
    "                        optimiser=optimiser,\n",
    "                        batch_size=batch_size,\n",
    "                        debug=False, \n",
    "                        disp_freq=1,\n",
    "                        fig_disp_freq=1, \n",
    "                        device=device,\n",
    "                        patience=200, \n",
    "                        scaler_data_X=scaler_data_X,\n",
    "                        scaler_data_y=scaler_data_y)\n",
    "\n",
    "# Splitting the data into the train, validation and test sets\n",
    "learning.train_val_test()\n",
    "learning.training_wrapper()\n",
    "print(\"Best Score:\", learning.best_val_score)"
   ]
  },
  {
   "cell_type": "code",
   "execution_count": 16,
   "metadata": {
    "colab": {
     "base_uri": "https://localhost:8080/",
     "height": 34
    },
    "colab_type": "code",
    "id": "-XMuXS-g55aL",
    "outputId": "8bd49058-6e47-42b6-cdb7-79e5e5c53ae8"
   },
   "outputs": [
    {
     "data": {
      "text/plain": [
       "2.8865791380215"
      ]
     },
     "execution_count": 16,
     "metadata": {},
     "output_type": "execute_result"
    }
   ],
   "source": [
    "learning.evaluate(learning.best_model, learning.test_loader)"
   ]
  },
  {
   "cell_type": "markdown",
   "metadata": {
    "colab_type": "text",
    "id": "QF2qf_p02MDE"
   },
   "source": [
    "### Saving Model Object"
   ]
  },
  {
   "cell_type": "code",
   "execution_count": 0,
   "metadata": {
    "colab": {},
    "colab_type": "code",
    "id": "jxrgeuq5hSRd"
   },
   "outputs": [],
   "source": [
    "model_name = \"log_returns_len\" + str(forecast_length) + \"_\"\n",
    "obj_name = \"Learning\" + \"_\" + model_name\n",
    "pickle.dump(learning, open(\"/content/gdrive/My Drive/Chai/Models/Pickles/\" + obj_name, 'wb'))"
   ]
  },
  {
   "cell_type": "code",
   "execution_count": 0,
   "metadata": {
    "colab": {},
    "colab_type": "code",
    "id": "ugRaTGaohqvF"
   },
   "outputs": [],
   "source": [
    "# learning_load = pickle.load(open(\"/content/gdrive/My Drive/Chai/Models/Pickles/\" + \"learning_object\", 'rb'))"
   ]
  },
  {
   "cell_type": "code",
   "execution_count": 26,
   "metadata": {
    "colab": {
     "base_uri": "https://localhost:8080/",
     "height": 34
    },
    "colab_type": "code",
    "id": "ogD1KBcfmbmA",
    "outputId": "a9d32bbc-6079-4b14-f6b2-3da1124bd610"
   },
   "outputs": [
    {
     "name": "stdout",
     "output_type": "stream",
     "text": [
      "Saving model: /content/gdrive/My Drive/Chai/Models/Pths/LSTMlog_returns_len22__0_2299.pth\n"
     ]
    }
   ],
   "source": [
    "model_save(model, \n",
    "           path=\"/content/gdrive/My Drive/Chai/Models/Pths/\",\n",
    "           name= \"LSTM\" + model_name, \n",
    "           val_score=learning.best_val_score)\n",
    "\n",
    "# mod = model_load(path=\"Models/Pths\",\n",
    "#            model_name=\"LSTM_5_854\")"
   ]
  },
  {
   "cell_type": "markdown",
   "metadata": {
    "colab_type": "text",
    "id": "cXZ4rWiAmbmD"
   },
   "source": [
    "### Plotting"
   ]
  },
  {
   "cell_type": "code",
   "execution_count": 18,
   "metadata": {
    "colab": {},
    "colab_type": "code",
    "id": "WhwEY1fXmice"
   },
   "outputs": [],
   "source": [
    "# Scaled Observed\n",
    "train_true = scaler_data_y.inverse_transform(learning.y_train.numpy().reshape(-1, 1))\n",
    "val_true  = scaler_data_y.inverse_transform(learning.y_val.numpy().reshape(-1, 1))\n",
    "test_true  = scaler_data_y.inverse_transform(learning.y_test.numpy().reshape(-1, 1))\n",
    "\n",
    "# Scaled Predicted\n",
    "train_pred = scaler_data_y.inverse_transform(np.array(learning.train_predictions).reshape(-1, 1))\n",
    "val_pred  = scaler_data_y.inverse_transform(np.array(learning.val_predictions).reshape(-1, 1))\n",
    "test_pred = scaler_data_y.inverse_transform(np.array(learning.test_predictions).reshape(-1, 1))"
   ]
  },
  {
   "cell_type": "code",
   "execution_count": 19,
   "metadata": {
    "colab": {
     "base_uri": "https://localhost:8080/",
     "height": 716
    },
    "colab_type": "code",
    "id": "ptqgM03uf3aX",
    "outputId": "00f5e405-9547-45ba-d39e-7d88482292ea",
    "scrolled": true
   },
   "outputs": [
    {
     "data": {
      "image/png": "[encoded data removed]",
      "text/plain": [
       "<Figure size 864x864 with 4 Axes>"
      ]
     },
     "metadata": {
      "needs_background": "light"
     },
     "output_type": "display_data"
    }
   ],
   "source": [
    "# Rescaling Example\n",
    "fig, ax = plt.subplots(2, 2, figsize=(12, 12))\n",
    "\n",
    "ax[0, 0].set_title(\"Training Predictions\")\n",
    "ax[0, 0].plot(train_true, label=\"Observed\")\n",
    "ax[0, 0].plot(train_pred, label=\"Predicted\")\n",
    "ax[0, 0].grid()\n",
    "ax[0, 0].legend()\n",
    "\n",
    "ax[0, 1].grid()\n",
    "ax[0, 1].set_title(\"Validation Predictions\")\n",
    "ax[0, 1].plot(val_true, label=\"Observed\")\n",
    "ax[0, 1].plot(val_pred, label=\"Predictions\")\n",
    "ax[0, 1].legend()\n",
    "\n",
    "ax[1, 0].grid()\n",
    "ax[1, 0].set_title(\"Test Predictions\")\n",
    "ax[1, 0].plot(test_true, label=\"Observed\")\n",
    "ax[1, 0].plot(test_pred, label=\"Predictions\")\n",
    "ax[1, 0].legend()\n",
    "\n",
    "ax[1, 1].grid()\n",
    "ax[1, 1].set_title(\"Loss Plots\")\n",
    "ax[1, 1].plot(learning.logs['Training Loss'], label=\"Training Loss\")\n",
    "ax[1, 1].plot(learning.logs['Validation Loss'], label=\"Validation Loss\")\n",
    "ax[1, 1].legend()\n",
    "ax[1, 1].set_ylim((0, 3))\n",
    "\n",
    "epoch_reached = str(len(learning.logs['Training Loss']))\n",
    "path=\"/content/gdrive/My Drive/Chai/Models/\"\n",
    "val_loss = learning.best_val_score\n",
    "\n",
    "# plt.savefig(path + model_name + str(\"LSTM_Val_\" + str(val_loss)[:5].replace(\".\", \"_\") + \"_Epoch_\" + epoch_reached + \".png\"))\n",
    "\n",
    "plt.show()"
   ]
  },
  {
   "cell_type": "code",
   "execution_count": 25,
   "metadata": {},
   "outputs": [
    {
     "data": {
      "text/plain": [
       "0.4967948717948718"
      ]
     },
     "execution_count": 25,
     "metadata": {},
     "output_type": "execute_result"
    }
   ],
   "source": [
    "np.mean(np.sign(test_true[1:, :] - test_true[:-1, :]) == np.sign(test_pred[1:, :] - test_pred[:-1, :]))"
   ]
  },
  {
   "cell_type": "markdown",
   "metadata": {
    "colab_type": "text",
    "id": "qmzBKO27mbm1"
   },
   "source": [
    "# Results"
   ]
  },
  {
   "cell_type": "code",
   "execution_count": 0,
   "metadata": {
    "colab": {},
    "colab_type": "code",
    "id": "s0oYyrKG8dB1"
   },
   "outputs": [],
   "source": [
    "test_increase = 1e-5 * np.array(range(test_true.shape[0]))\n",
    "test_zeros = np.zeros(test_true.shape)"
   ]
  },
  {
   "cell_type": "code",
   "execution_count": 0,
   "metadata": {
    "colab": {},
    "colab_type": "code",
    "id": "e8lpAQJQ8SKw"
   },
   "outputs": [],
   "source": [
    "test_naive = shift(test_true.ravel(), forecast_length)[forecast_length:]"
   ]
  },
  {
   "cell_type": "code",
   "execution_count": 20,
   "metadata": {
    "colab": {
     "base_uri": "https://localhost:8080/",
     "height": 85
    },
    "colab_type": "code",
    "id": "ceRJjsRVgGl1",
    "outputId": "213361f3-532a-4e45-f2b0-04ee83737623"
   },
   "outputs": [
    {
     "name": "stdout",
     "output_type": "stream",
     "text": [
      "Predictions:  0.00015826996921737866 0.009525578837899574 0.5239616613418531\n"
     ]
    },
    {
     "ename": "NameError",
     "evalue": "name 'test_naive' is not defined",
     "output_type": "error",
     "traceback": [
      "\u001b[0;31m---------------------------------------------------------------------------\u001b[0m",
      "\u001b[0;31mNameError\u001b[0m                                 Traceback (most recent call last)",
      "\u001b[0;32m<ipython-input-20-a8a650904b2c>\u001b[0m in \u001b[0;36m<module>\u001b[0;34m\u001b[0m\n\u001b[1;32m      3\u001b[0m       mse, mae, mda)\n\u001b[1;32m      4\u001b[0m \u001b[0;34m\u001b[0m\u001b[0m\n\u001b[0;32m----> 5\u001b[0;31m \u001b[0mmse_naive\u001b[0m\u001b[0;34m,\u001b[0m \u001b[0mmae_naive\u001b[0m\u001b[0;34m,\u001b[0m \u001b[0mmda_naive\u001b[0m \u001b[0;34m=\u001b[0m \u001b[0mevaluate\u001b[0m\u001b[0;34m(\u001b[0m\u001b[0mtest_naive\u001b[0m\u001b[0;34m,\u001b[0m \u001b[0mtest_true\u001b[0m\u001b[0;34m[\u001b[0m\u001b[0mforecast_length\u001b[0m\u001b[0;34m:\u001b[0m\u001b[0;34m]\u001b[0m\u001b[0;34m)\u001b[0m\u001b[0;34m\u001b[0m\u001b[0;34m\u001b[0m\u001b[0m\n\u001b[0m\u001b[1;32m      6\u001b[0m print(\"naive\",\n\u001b[1;32m      7\u001b[0m     mse_naive, mae_naive, mda_naive)\n",
      "\u001b[0;31mNameError\u001b[0m: name 'test_naive' is not defined"
     ]
    }
   ],
   "source": [
    "mse, mae, mda = evaluate(test_pred, test_true)\n",
    "print(\"Predictions: \", \n",
    "      mse, mae, mda)\n",
    "\n",
    "mse_naive, mae_naive, mda_naive = evaluate(test_naive, test_true[forecast_length:])\n",
    "print(\"naive\",\n",
    "    mse_naive, mae_naive, mda_naive)\n",
    "\n",
    "mse_zeros, mae_zeros, mda_zeros = evaluate(test_zeros, test_true)\n",
    "print(\"Flat\",\n",
    "    mse_zeros, mae_zeros, mda_zeros)\n",
    "\n",
    "mse_increase, mae_increase, mda_increase = evaluate(test_increase, test_true)\n",
    "print(\"Inflation\",\n",
    "    mse_increase, mae_increase, mda_increase)"
   ]
  },
  {
   "cell_type": "code",
   "execution_count": 0,
   "metadata": {
    "colab": {},
    "colab_type": "code",
    "id": "mMD13WXBi42V"
   },
   "outputs": [],
   "source": [
    "# The minimum validation loss\n",
    "best_model_epoch = learning.logs['Validation Loss'].index(val_loss)\n",
    "train_loss = learning.logs['Training Loss'][best_model_epoch]\n",
    "test_loss = learning.evaluate(learning.best_model, learning.test_loader)"
   ]
  },
  {
   "cell_type": "code",
   "execution_count": 0,
   "metadata": {
    "colab": {
     "base_uri": "https://localhost:8080/",
     "height": 252
    },
    "colab_type": "code",
    "id": "UOeOd3RaLzam",
    "outputId": "caad54c9-8349-44cb-eaee-96af6573359e"
   },
   "outputs": [
    {
     "ename": "NameError",
     "evalue": "ignored",
     "output_type": "error",
     "traceback": [
      "\u001b[0;31m---------------------------------------------------------------------------\u001b[0m",
      "\u001b[0;31mNameError\u001b[0m                                 Traceback (most recent call last)",
      "\u001b[0;32m<ipython-input-64-0ee119ee1630>\u001b[0m in \u001b[0;36m<module>\u001b[0;34m()\u001b[0m\n\u001b[1;32m     19\u001b[0m           \u001b[0mmae\u001b[0m\u001b[0;34m,\u001b[0m\u001b[0;34m\u001b[0m\u001b[0;34m\u001b[0m\u001b[0m\n\u001b[1;32m     20\u001b[0m           \u001b[0mmde\u001b[0m\u001b[0;34m,\u001b[0m\u001b[0;34m\u001b[0m\u001b[0;34m\u001b[0m\u001b[0m\n\u001b[0;32m---> 21\u001b[0;31m           path=\"/content/gdrive/My Drive/Chai/Models/CSVs/\") \n\u001b[0m",
      "\u001b[0;32m/content/acse-9-independent-research-project-OliverJBoom/Src/utils.py\u001b[0m in \u001b[0;36mfull_save\u001b[0;34m(model, name_tag, optimiser, num_epoch, learning_rate, momentum, weight_decay, use_lg_returns, PCA_used, data_X, train_loss, val_loss, test_loss, train_time, hidden_dim, mse, mae, mde, path)\u001b[0m\n",
      "\u001b[0;31mNameError\u001b[0m: name 'model_save' is not defined"
     ]
    }
   ],
   "source": [
    "num_epoch = 250\n",
    "train_time = learning.logs[\"Time\"]\n",
    "full_save(learning.best_model, \n",
    "          model_name,\n",
    "          optimiser,\n",
    "          num_epoch, \n",
    "          learning_rate, \n",
    "          momentum,\n",
    "          weight_decay, \n",
    "          use_lg_returns,\n",
    "          PCA_used, \n",
    "          data_X,\n",
    "          train_loss,\n",
    "          val_loss, \n",
    "          test_loss,\n",
    "          train_time, \n",
    "          hidden_dim,\n",
    "          mse,\n",
    "          mae,\n",
    "          mde,\n",
    "          path=\"/content/gdrive/My Drive/Chai/Models/CSVs/\") "
   ]
  },
  {
   "cell_type": "markdown",
   "metadata": {
    "colab_type": "text",
    "id": "XRT2jKcAj3M9"
   },
   "source": [
    "## Persistance"
   ]
  },
  {
   "cell_type": "code",
   "execution_count": 0,
   "metadata": {
    "colab": {},
    "colab_type": "code",
    "id": "fzd9xprempGP"
   },
   "outputs": [],
   "source": [
    "plt.title(\"Persistance vs Observed Values\")\n",
    "plt.plot(learning.train_predictions, label=\"Predicted\")\n",
    "plt.plot(shift(learning.train_predictions, 5), label=\"Observed\")\n",
    "plt.legend()"
   ]
  },
  {
   "cell_type": "code",
   "execution_count": 0,
   "metadata": {
    "colab": {},
    "colab_type": "code",
    "id": "R7iZ3kSUmbm2"
   },
   "outputs": [],
   "source": [
    "df = df_full[[\"target\"]]\n",
    "# Taking t-1 to be the value for t\n",
    "df[\"persistance\"] = df.shift(1)\n",
    "df.dropna(inplace=True)\n",
    "# Calculating metrics for these columns\n",
    "MSE, MAE, MDE = evaluate(df, \"target\", \"persistance\")"
   ]
  },
  {
   "cell_type": "code",
   "execution_count": 0,
   "metadata": {
    "colab": {},
    "colab_type": "code",
    "id": "uIbnEu1Ombm8"
   },
   "outputs": [],
   "source": [
    "print(df[:5])\n",
    "print(df[-5:])"
   ]
  },
  {
   "cell_type": "code",
   "execution_count": 0,
   "metadata": {
    "colab": {},
    "colab_type": "code",
    "id": "x7iq6yQdmbnE",
    "scrolled": true
   },
   "outputs": [],
   "source": [
    "# Placing in results dataframe\n",
    "results = pd.DataFrame(columns={\"MSE\", \"MAE\", \"MDE\"})\n",
    "results.index.name = 'Name'\n",
    "results.head()\n",
    "results.loc[\"persistance\"] = [MSE, MAE, MDE] \n",
    "results.head()"
   ]
  }
 ],
 "metadata": {
  "accelerator": "GPU",
  "colab": {
   "collapsed_sections": [],
   "name": "LSTM_lg_ret.ipynb",
   "provenance": [],
   "toc_visible": true,
   "version": "0.3.2"
  },
  "kernelspec": {
   "display_name": "Python 3",
   "language": "python",
   "name": "python3"
  }
 },
 "nbformat": 4,
 "nbformat_minor": 1
}
