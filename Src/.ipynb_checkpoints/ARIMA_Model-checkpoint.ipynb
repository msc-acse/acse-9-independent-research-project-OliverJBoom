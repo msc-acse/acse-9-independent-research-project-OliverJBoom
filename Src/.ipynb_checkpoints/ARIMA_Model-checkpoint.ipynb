{
 "cells": [
  {
   "cell_type": "markdown",
   "metadata": {
    "colab_type": "text",
    "id": "67j8odKJJQL_"
   },
   "source": [
    "## Loading Packages"
   ]
  },
  {
   "cell_type": "code",
   "execution_count": 11,
   "metadata": {
    "colab": {},
    "colab_type": "code",
    "id": "qd88JeQfrEzc"
   },
   "outputs": [],
   "source": [
    "from fbprophet import Prophet\n",
    "import numpy as np\n",
    "import os\n",
    "from pmdarima.arima import auto_arima, ARIMA\n",
    "import pandas as pd\n",
    "import matplotlib.pyplot as plt\n",
    "from sklearn.model_selection import train_test_split\n",
    "# from sklearn.decomposition import PCA\n",
    "# from statsmodels.tsa.arima_model import ARIMA\n",
    "# from statsmodels.graphics.tsaplots import plot_acf, plot_pacf\n",
    "from statsmodels.tsa.stattools import adfuller\n",
    "from preprocessing import * \n",
    "from utils import *\n",
    "import warnings\n",
    "\n",
    "# plt.style.use('dark_background')\n",
    "warnings.filterwarnings(\"ignore\")"
   ]
  },
  {
   "cell_type": "markdown",
   "metadata": {},
   "source": [
    "## Loading Data"
   ]
  },
  {
   "cell_type": "code",
   "execution_count": 12,
   "metadata": {},
   "outputs": [],
   "source": [
    "path = \"Data/\"\n",
    "universe_dict = universe_select(path, \"Cu\")"
   ]
  },
  {
   "cell_type": "markdown",
   "metadata": {
    "colab_type": "text",
    "id": "4k8FIHASpHfv"
   },
   "source": [
    "## Preprocessing"
   ]
  },
  {
   "cell_type": "code",
   "execution_count": 13,
   "metadata": {
    "colab": {},
    "colab_type": "code",
    "id": "ki2dJCGNkOVE",
    "scrolled": false
   },
   "outputs": [
    {
     "name": "stdout",
     "output_type": "stream",
     "text": [
      "Included Instrument:\n",
      "cu_shfe\n",
      "cu_lme\n",
      "cu_comex_p\n",
      "cu_comex_s\n",
      "peso\n",
      "sol\n",
      "bdi\n",
      "ted\n",
      "vix\n",
      "skew\n",
      "gsci\n"
     ]
    }
   ],
   "source": [
    "# Renaming the columns to price\n",
    "universe_dict = price_rename(universe_dict)\n",
    "# Cleaning the dataset of any erroneous datapoints\n",
    "universe_dict = clean_dict_gen(universe_dict)\n",
    "# Making sure that all the points in the window have consistent lenght\n",
    "universe_dict = truncate_window_length(universe_dict)\n",
    "# Generate the full training dataset\n",
    "df_full = generate_dataset(universe_dict, lag=5)\n",
    "# Adding 1 day log returns as the normalized input variable\n",
    "df_full = generate_lg_return(df_full, lag=1, target=False)"
   ]
  },
  {
   "cell_type": "code",
   "execution_count": 17,
   "metadata": {
    "scrolled": true
   },
   "outputs": [],
   "source": [
    "# Visualise the plots\n",
    "# visualise_universe(universe_dict)\n",
    "# df_full.head()\n",
    "df = df_full[[\"1day_lg_return_cu_lme\"]]\n",
    "# df = df_full[[\"lg_return_cu_shfe\"]]\n",
    "# plt.plot(df.index, df)"
   ]
  },
  {
   "cell_type": "code",
   "execution_count": 33,
   "metadata": {},
   "outputs": [
    {
     "data": {
      "text/html": [
       "<div>\n",
       "<style scoped>\n",
       "    .dataframe tbody tr th:only-of-type {\n",
       "        vertical-align: middle;\n",
       "    }\n",
       "\n",
       "    .dataframe tbody tr th {\n",
       "        vertical-align: top;\n",
       "    }\n",
       "\n",
       "    .dataframe thead th {\n",
       "        text-align: right;\n",
       "    }\n",
       "</style>\n",
       "<table border=\"1\" class=\"dataframe\">\n",
       "  <thead>\n",
       "    <tr style=\"text-align: right;\">\n",
       "      <th></th>\n",
       "      <th>price_cu_shfe</th>\n",
       "      <th>price_cu_lme</th>\n",
       "      <th>price_cu_comex_p</th>\n",
       "      <th>price_cu_comex_s</th>\n",
       "      <th>price_peso</th>\n",
       "      <th>price_sol</th>\n",
       "      <th>price_bdi</th>\n",
       "      <th>price_ted</th>\n",
       "      <th>price_vix</th>\n",
       "      <th>price_skew</th>\n",
       "      <th>...</th>\n",
       "      <th>1day_lg_return_cu_lme</th>\n",
       "      <th>1day_lg_return_cu_comex_p</th>\n",
       "      <th>1day_lg_return_cu_comex_s</th>\n",
       "      <th>1day_lg_return_peso</th>\n",
       "      <th>1day_lg_return_sol</th>\n",
       "      <th>1day_lg_return_bdi</th>\n",
       "      <th>1day_lg_return_ted</th>\n",
       "      <th>1day_lg_return_vix</th>\n",
       "      <th>1day_lg_return_skew</th>\n",
       "      <th>1day_lg_return_gsci</th>\n",
       "    </tr>\n",
       "    <tr>\n",
       "      <th>date</th>\n",
       "      <th></th>\n",
       "      <th></th>\n",
       "      <th></th>\n",
       "      <th></th>\n",
       "      <th></th>\n",
       "      <th></th>\n",
       "      <th></th>\n",
       "      <th></th>\n",
       "      <th></th>\n",
       "      <th></th>\n",
       "      <th></th>\n",
       "      <th></th>\n",
       "      <th></th>\n",
       "      <th></th>\n",
       "      <th></th>\n",
       "      <th></th>\n",
       "      <th></th>\n",
       "      <th></th>\n",
       "      <th></th>\n",
       "      <th></th>\n",
       "      <th></th>\n",
       "    </tr>\n",
       "  </thead>\n",
       "  <tbody>\n",
       "    <tr>\n",
       "      <th>2006-09-13</th>\n",
       "      <td>69540.0</td>\n",
       "      <td>7484.5</td>\n",
       "      <td>3.3925</td>\n",
       "      <td>15748.0</td>\n",
       "      <td>537.35</td>\n",
       "      <td>3.2530</td>\n",
       "      <td>4129.0</td>\n",
       "      <td>4.901</td>\n",
       "      <td>11.18</td>\n",
       "      <td>120.44</td>\n",
       "      <td>...</td>\n",
       "      <td>-0.013602</td>\n",
       "      <td>0.000590</td>\n",
       "      <td>0.055554</td>\n",
       "      <td>-0.000558</td>\n",
       "      <td>0.000307</td>\n",
       "      <td>0.029244</td>\n",
       "      <td>-0.004276</td>\n",
       "      <td>-0.064091</td>\n",
       "      <td>-0.048458</td>\n",
       "      <td>0.002624</td>\n",
       "    </tr>\n",
       "    <tr>\n",
       "      <th>2006-09-14</th>\n",
       "      <td>71350.0</td>\n",
       "      <td>7439.0</td>\n",
       "      <td>3.3820</td>\n",
       "      <td>14180.0</td>\n",
       "      <td>537.73</td>\n",
       "      <td>3.2475</td>\n",
       "      <td>4207.0</td>\n",
       "      <td>4.926</td>\n",
       "      <td>11.55</td>\n",
       "      <td>119.47</td>\n",
       "      <td>...</td>\n",
       "      <td>-0.006098</td>\n",
       "      <td>-0.003100</td>\n",
       "      <td>-0.104881</td>\n",
       "      <td>0.000707</td>\n",
       "      <td>-0.001692</td>\n",
       "      <td>0.018715</td>\n",
       "      <td>0.005088</td>\n",
       "      <td>0.032559</td>\n",
       "      <td>-0.008086</td>\n",
       "      <td>-0.010694</td>\n",
       "    </tr>\n",
       "    <tr>\n",
       "      <th>2006-09-15</th>\n",
       "      <td>69400.0</td>\n",
       "      <td>7281.0</td>\n",
       "      <td>3.3165</td>\n",
       "      <td>14775.0</td>\n",
       "      <td>537.10</td>\n",
       "      <td>3.2480</td>\n",
       "      <td>4258.0</td>\n",
       "      <td>4.939</td>\n",
       "      <td>11.76</td>\n",
       "      <td>135.25</td>\n",
       "      <td>...</td>\n",
       "      <td>-0.021468</td>\n",
       "      <td>-0.019557</td>\n",
       "      <td>0.041104</td>\n",
       "      <td>-0.001172</td>\n",
       "      <td>0.000154</td>\n",
       "      <td>0.012050</td>\n",
       "      <td>0.002636</td>\n",
       "      <td>0.018019</td>\n",
       "      <td>0.124060</td>\n",
       "      <td>-0.004952</td>\n",
       "    </tr>\n",
       "    <tr>\n",
       "      <th>2006-09-18</th>\n",
       "      <td>69830.0</td>\n",
       "      <td>7459.0</td>\n",
       "      <td>3.4180</td>\n",
       "      <td>15263.0</td>\n",
       "      <td>537.10</td>\n",
       "      <td>3.2450</td>\n",
       "      <td>4279.0</td>\n",
       "      <td>4.949</td>\n",
       "      <td>11.78</td>\n",
       "      <td>127.35</td>\n",
       "      <td>...</td>\n",
       "      <td>0.024153</td>\n",
       "      <td>0.030146</td>\n",
       "      <td>0.032495</td>\n",
       "      <td>0.000000</td>\n",
       "      <td>-0.000924</td>\n",
       "      <td>0.004920</td>\n",
       "      <td>0.002023</td>\n",
       "      <td>0.001699</td>\n",
       "      <td>-0.060186</td>\n",
       "      <td>0.007824</td>\n",
       "    </tr>\n",
       "    <tr>\n",
       "      <th>2006-09-19</th>\n",
       "      <td>71470.0</td>\n",
       "      <td>7516.0</td>\n",
       "      <td>3.3755</td>\n",
       "      <td>17523.0</td>\n",
       "      <td>537.10</td>\n",
       "      <td>3.2450</td>\n",
       "      <td>4275.0</td>\n",
       "      <td>4.948</td>\n",
       "      <td>11.98</td>\n",
       "      <td>125.03</td>\n",
       "      <td>...</td>\n",
       "      <td>0.007613</td>\n",
       "      <td>-0.012512</td>\n",
       "      <td>0.138083</td>\n",
       "      <td>0.000000</td>\n",
       "      <td>0.000000</td>\n",
       "      <td>-0.000935</td>\n",
       "      <td>-0.000202</td>\n",
       "      <td>0.016835</td>\n",
       "      <td>-0.018385</td>\n",
       "      <td>-0.019642</td>\n",
       "    </tr>\n",
       "  </tbody>\n",
       "</table>\n",
       "<p>5 rows × 33 columns</p>\n",
       "</div>"
      ],
      "text/plain": [
       "            price_cu_shfe  price_cu_lme  price_cu_comex_p  price_cu_comex_s  \\\n",
       "date                                                                          \n",
       "2006-09-13        69540.0        7484.5            3.3925           15748.0   \n",
       "2006-09-14        71350.0        7439.0            3.3820           14180.0   \n",
       "2006-09-15        69400.0        7281.0            3.3165           14775.0   \n",
       "2006-09-18        69830.0        7459.0            3.4180           15263.0   \n",
       "2006-09-19        71470.0        7516.0            3.3755           17523.0   \n",
       "\n",
       "            price_peso  price_sol  price_bdi  price_ted  price_vix  \\\n",
       "date                                                                 \n",
       "2006-09-13      537.35     3.2530     4129.0      4.901      11.18   \n",
       "2006-09-14      537.73     3.2475     4207.0      4.926      11.55   \n",
       "2006-09-15      537.10     3.2480     4258.0      4.939      11.76   \n",
       "2006-09-18      537.10     3.2450     4279.0      4.949      11.78   \n",
       "2006-09-19      537.10     3.2450     4275.0      4.948      11.98   \n",
       "\n",
       "            price_skew  ...  1day_lg_return_cu_lme  1day_lg_return_cu_comex_p  \\\n",
       "date                    ...                                                     \n",
       "2006-09-13      120.44  ...              -0.013602                   0.000590   \n",
       "2006-09-14      119.47  ...              -0.006098                  -0.003100   \n",
       "2006-09-15      135.25  ...              -0.021468                  -0.019557   \n",
       "2006-09-18      127.35  ...               0.024153                   0.030146   \n",
       "2006-09-19      125.03  ...               0.007613                  -0.012512   \n",
       "\n",
       "            1day_lg_return_cu_comex_s  1day_lg_return_peso  \\\n",
       "date                                                         \n",
       "2006-09-13                   0.055554            -0.000558   \n",
       "2006-09-14                  -0.104881             0.000707   \n",
       "2006-09-15                   0.041104            -0.001172   \n",
       "2006-09-18                   0.032495             0.000000   \n",
       "2006-09-19                   0.138083             0.000000   \n",
       "\n",
       "            1day_lg_return_sol  1day_lg_return_bdi  1day_lg_return_ted  \\\n",
       "date                                                                     \n",
       "2006-09-13            0.000307            0.029244           -0.004276   \n",
       "2006-09-14           -0.001692            0.018715            0.005088   \n",
       "2006-09-15            0.000154            0.012050            0.002636   \n",
       "2006-09-18           -0.000924            0.004920            0.002023   \n",
       "2006-09-19            0.000000           -0.000935           -0.000202   \n",
       "\n",
       "            1day_lg_return_vix  1day_lg_return_skew  1day_lg_return_gsci  \n",
       "date                                                                      \n",
       "2006-09-13           -0.064091            -0.048458             0.002624  \n",
       "2006-09-14            0.032559            -0.008086            -0.010694  \n",
       "2006-09-15            0.018019             0.124060            -0.004952  \n",
       "2006-09-18            0.001699            -0.060186             0.007824  \n",
       "2006-09-19            0.016835            -0.018385            -0.019642  \n",
       "\n",
       "[5 rows x 33 columns]"
      ]
     },
     "execution_count": 33,
     "metadata": {},
     "output_type": "execute_result"
    }
   ],
   "source": [
    "df_full.head()"
   ]
  },
  {
   "cell_type": "code",
   "execution_count": 9,
   "metadata": {},
   "outputs": [
    {
     "name": "stdout",
     "output_type": "stream",
     "text": [
      "p-value: 0.085\n",
      "P value is greater than threshold: Differencing required\n"
     ]
    }
   ],
   "source": [
    "test_statistic = adfuller(df.price_cu_shfe)\n",
    "print('p-value: %.3f' % test_statistic[1])\n",
    "if  test_statistic[1] > 0.05: print(\"P value is greater than threshold: Differencing required\")"
   ]
  },
  {
   "cell_type": "code",
   "execution_count": 10,
   "metadata": {},
   "outputs": [],
   "source": [
    "def stationarity_check(df, sig_val=0.05):\n",
    "    \"\"\"Check of stationarity using the augmented dickey fuller test\n",
    "    and find the differening ordered required for stationarity\"\"\"\n",
    "    adf_val = adfuller(df.dropna())\n",
    "    stationarity = False\n",
    "    d_val = 0\n",
    "\n",
    "    while stationarity == False:\n",
    "\n",
    "        if adf_val[1] > sig_val:\n",
    "            print('Series is Non-Stationary \\t(p-value: %.3f)' % adf_val[1])\n",
    "            stationarity_check(df.diff(), sig_val)\n",
    "            d_val += 1\n",
    "            break\n",
    "\n",
    "    else:\n",
    "        print('Series is Stationary \\t\\t(p-value: %.3f)' % adf_val[1])\n",
    "        stationarity = True\n",
    "  \n",
    "  return d_val\n",
    "\n",
    "# print(\"If p-value is less than, sig val: 0.05 then series is stationary\")\n",
    "# d_val = stationarity_check(df.lg_return_cu_shfe)"
   ]
  },
  {
   "cell_type": "code",
   "execution_count": 169,
   "metadata": {},
   "outputs": [],
   "source": [
    "# fig, axes = plt.subplots(3, 1, figsize=(16, 12))\n",
    "\n",
    "# axes[0].plot(df_terms.values)\n",
    "# plot_acf(df_terms, lags=20, ax=axes[1])\n",
    "# plot_pacf(df_terms, lags=20, ax=axes[2])\n",
    "\n",
    "# axes[0].set_title(\"Price with %i differencing\" %d_val) \n",
    "# axes[1].set_title(\"Autocorrelation\")\n",
    "# axes[2].set_title(\"Partial Correlation\")\n",
    "# plt.show()"
   ]
  },
  {
   "cell_type": "code",
   "execution_count": 57,
   "metadata": {},
   "outputs": [],
   "source": [
    "df = df_full[[\"price_cu_lme\"]]\n",
    "window_length = 264\n",
    "df_train = df.iloc[:window_length].copy()\n",
    "df_test = df.iloc[window_length:(window_length + 66)].copy()"
   ]
  },
  {
   "cell_type": "code",
   "execution_count": 58,
   "metadata": {
    "scrolled": true
   },
   "outputs": [
    {
     "name": "stdout",
     "output_type": "stream",
     "text": [
      "Fit ARIMA: order=(2, 1, 2) seasonal_order=(0, 0, 0, 1); AIC=748.901, BIC=761.366, Fit time=0.211 seconds\n",
      "Fit ARIMA: order=(0, 1, 0) seasonal_order=(0, 0, 0, 1); AIC=747.935, BIC=752.090, Fit time=0.009 seconds\n",
      "Fit ARIMA: order=(1, 1, 0) seasonal_order=(0, 0, 0, 1); AIC=745.458, BIC=751.691, Fit time=0.044 seconds\n",
      "Fit ARIMA: order=(0, 1, 1) seasonal_order=(0, 0, 0, 1); AIC=744.845, BIC=751.078, Fit time=0.047 seconds\n",
      "Fit ARIMA: order=(1, 1, 1) seasonal_order=(0, 0, 0, 1); AIC=746.844, BIC=755.154, Fit time=0.090 seconds\n",
      "Fit ARIMA: order=(0, 1, 2) seasonal_order=(0, 0, 0, 1); AIC=746.844, BIC=755.154, Fit time=0.103 seconds\n",
      "Fit ARIMA: order=(1, 1, 2) seasonal_order=(0, 0, 0, 1); AIC=748.697, BIC=759.085, Fit time=0.197 seconds\n",
      "Total fit time: 0.704 seconds\n"
     ]
    }
   ],
   "source": [
    "model = auto_arima(df_train.values, trace=True, error_action='ignore', suppress_warnings=True, \n",
    "                   n_jobs=-1, stepwise=True)"
   ]
  },
  {
   "cell_type": "code",
   "execution_count": 59,
   "metadata": {},
   "outputs": [
    {
     "name": "stdout",
     "output_type": "stream",
     "text": [
      "Model selected: (0, 1, 1)\n"
     ]
    }
   ],
   "source": [
    "model.summary()\n",
    "print(\"Model selected:\", model.order)"
   ]
  },
  {
   "cell_type": "code",
   "execution_count": 60,
   "metadata": {},
   "outputs": [
    {
     "data": {
      "image/png": "[encoded data removed]",
      "text/plain": [
       "<Figure size 432x288 with 1 Axes>"
      ]
     },
     "metadata": {
      "needs_background": "light"
     },
     "output_type": "display_data"
    }
   ],
   "source": [
    "plt.plot(df_train.index, df_train[\"price_cu_lme\"], label=\"Train\")\n",
    "plt.plot(df_test.index, df_test[\"price_cu_lme\"], label=\"Test\")\n",
    "plt.legend()\n",
    "plt.show()"
   ]
  },
  {
   "cell_type": "code",
   "execution_count": 63,
   "metadata": {},
   "outputs": [],
   "source": [
    "in_sample = model.predict_in_sample()"
   ]
  },
  {
   "cell_type": "code",
   "execution_count": 64,
   "metadata": {},
   "outputs": [],
   "source": [
    "# Forecasting\n",
    "forecast = model.predict(n_periods=len(df_test))\n",
    "df_pred = pd.DataFrame(forecast, index = df_test.index,columns=['Prediction'])"
   ]
  },
  {
   "cell_type": "code",
   "execution_count": 65,
   "metadata": {},
   "outputs": [
    {
     "data": {
      "image/png": "[encoded data removed]",
      "text/plain": [
       "<Figure size 432x288 with 1 Axes>"
      ]
     },
     "metadata": {
      "needs_background": "light"
     },
     "output_type": "display_data"
    }
   ],
   "source": [
    "plt.plot(df_train.index, df_train.values, label=\"Training\")\n",
    "plt.plot(df_test.index, df_test.values, label=\"Original\")\n",
    "plt.plot(df_test.index, forecast, label=\"Predicted\")\n",
    "plt.plot(df_train.index, in_sample, label=\"In Sample\")\n",
    "plt.legend()\n",
    "plt.show()"
   ]
  },
  {
   "cell_type": "code",
   "execution_count": 37,
   "metadata": {},
   "outputs": [
    {
     "name": "stdout",
     "output_type": "stream",
     "text": [
      "            price_cu_shfe\n",
      "date                     \n",
      "2006-08-29            NaN\n",
      "2006-08-30            NaN\n",
      "2006-08-31            NaN\n",
      "2006-09-01            NaN\n",
      "2006-09-04            NaN\n",
      "2006-09-05       0.050075\n",
      "2006-09-06       0.089583\n",
      "2006-09-07       0.101568\n",
      "2006-09-08       0.058021\n",
      "2006-09-11       0.007273\n",
      "            price_cu_shfe\n",
      "date                     \n",
      "2006-08-29        68160.0\n",
      "2006-08-30        67650.0\n",
      "2006-08-31        67630.0\n",
      "2006-09-01        70140.0\n",
      "2006-09-04        71240.0\n",
      "2006-09-05        71660.0\n",
      "2006-09-06        73990.0\n",
      "2006-09-07        74860.0\n",
      "2006-09-08        74330.0\n",
      "2006-09-11        71760.0\n",
      "            price_cu_shfe\n",
      "date                     \n",
      "2006-08-29       0.050075\n",
      "2006-08-30       0.089583\n",
      "2006-08-31       0.101568\n",
      "2006-09-01       0.058021\n",
      "2006-09-04       0.007273\n",
      "2006-09-05      -0.031614\n",
      "2006-09-06      -0.062028\n",
      "2006-09-07      -0.048022\n",
      "2006-09-08      -0.068628\n",
      "2006-09-11      -0.027264\n",
      "            price_cu_shfe_x  price_cu_shfe_y\n",
      "date                                        \n",
      "2006-08-29          68160.0         0.050075\n",
      "2006-08-30          67650.0         0.089583\n",
      "2006-08-31          67630.0         0.101568\n",
      "2006-09-01          70140.0         0.058021\n",
      "2006-09-04          71240.0         0.007273\n",
      "2006-09-05          71660.0        -0.031614\n",
      "2006-09-06          73990.0        -0.062028\n",
      "2006-09-07          74860.0        -0.048022\n",
      "2006-09-08          74330.0        -0.068628\n",
      "2006-09-11          71760.0        -0.027264\n"
     ]
    }
   ],
   "source": [
    "def log_returns(x, lag=1):\n",
    "    \"\"\"Calculate log returns between adjacent close prices\"\"\"\n",
    "    return np.log(x) - np.log(x.shift(lag))\n",
    "\n",
    "df = df_full[[\"price_cu_shfe\"]]\n",
    "df_returns = df.apply(log_returns, lag=5)\n",
    "y = df_returns.shift(-5)\n",
    "print(df_returns[:10])\n",
    "print(df[:10])\n",
    "print(y[:10])\n",
    "df = df.merge(y, how='right', on=None, left_index=True, right_index=True)\n",
    "print(df[:10])"
   ]
  },
  {
   "cell_type": "code",
   "execution_count": 264,
   "metadata": {
    "scrolled": true
   },
   "outputs": [
    {
     "data": {
      "text/plain": [
       "[<matplotlib.lines.Line2D at 0x1c2902e128>]"
      ]
     },
     "execution_count": 264,
     "metadata": {},
     "output_type": "execute_result"
    },
    {
     "data": {
      "image/png": "[encoded data removed]",
      "text/plain": [
       "<Figure size 432x288 with 1 Axes>"
      ]
     },
     "metadata": {
      "needs_background": "light"
     },
     "output_type": "display_data"
    }
   ],
   "source": [
    "plt.plot(df_returns.index, df_returns)\n",
    "plt.plot(df_full.index, df_full[[\"lg_return_cu_shfe\"]])"
   ]
  },
  {
   "cell_type": "code",
   "execution_count": 22,
   "metadata": {},
   "outputs": [],
   "source": [
    "arima = ARIMA(order=(1, 1, 1))\n",
    "arima.fit(df_train)\n",
    "forecast = arima.predict(len(df_test))"
   ]
  },
  {
   "cell_type": "code",
   "execution_count": null,
   "metadata": {},
   "outputs": [],
   "source": [
    "def prophet_prediction(df, train_percentage=0.75):\n",
    "    \"\"\"Returns a dataframe of out of sample predictions\n",
    "    trained on a growing percentage of available training data\n",
    "    \"\"\"\n",
    "    # The prediction offset in business days\n",
    "    week_diff = 5\n",
    "    month_diff = 22\n",
    "    quarter_diff = 66\n",
    "\n",
    "    # The split index is the training percentage but adjusted so \n",
    "    # the first prediction date lands on the first date of the test set\n",
    "    split_index_train = int(train_percentage * len(df)) - quarter_diff\n",
    "    split_index_test = int(train_percentage * len(df))\n",
    "\n",
    "    # The date that the test database will begin on\n",
    "    split_date_test = df[\"ds\"].iloc[split_index_test]\n",
    "    \n",
    "    # Creating the test set - This will remain constant\n",
    "    # even though the training dataset will grow\n",
    "    # The window size will not be constant \n",
    "    df_test = df.loc[df[\"ds\"] >= split_date_test].copy()\n",
    "    # Making df columns for the predicted values\n",
    "    df_test[\"y_pred_week\"] = None\n",
    "    df_test[\"y_pred_month\"] = None\n",
    "    df_test[\"y_pred_quarter\"] = None\n",
    "    \n",
    "    for offset in range(1): #len(df_test.index)\n",
    "        print(\"Percentage Complete:\", 100* offset/len(df_test.index))\n",
    "        # Gradually increasing training dataset\n",
    "        split_date_train = df[\"ds\"].iloc[split_index_train + offset]\n",
    "        # Creating the training set\n",
    "        df_train = df.loc[df[\"ds\"] <= split_date_train].copy()\n",
    "\n",
    "        # Fitting the model\n",
    "        model = Prophet(daily_seasonality=True)\n",
    "        # Fit the data to the dataset\n",
    "        model.fit(df_train)\n",
    "        \n",
    "        # Make predictions\n",
    "        # Starting at the beginning of the test dataset there should be\n",
    "        # week prediction, month, prediction and quarter prediction\n",
    "        week_pred_date = df[df.index == [df_train.index[-1] + week_diff]]\n",
    "        month_pred_date = df[df.index == [df_train.index[-1] + month_diff]]\n",
    "        quarter_pred_date = df[df.index == [df_train.index[-1] + quarter_diff]]\n",
    "\n",
    "        week_pred = model.predict(week_pred_date)[[\"ds\", \"yhat\"]]\n",
    "        month_pred = model.predict(month_pred_date)[[\"ds\", \"yhat\"]]\n",
    "        quarter_pred_date = model.predict(quarter_pred_date)[[\"ds\", \"yhat\"]]\n",
    "        # Finding the location in df_test with the date that \n",
    "        # we want to fill and setting the predicted value equal to the prediction\n",
    "        df_test.loc[df_test['ds'] == week_pred.iloc[0][\"ds\"], 'y_pred_week'] = week_pred[\"yhat\"].values[0]\n",
    "        df_test.loc[df_test['ds'] == month_pred.iloc[0][\"ds\"], 'y_pred_month'] = month_pred[\"yhat\"].values[0]\n",
    "        df_test.loc[df_test['ds'] == quarter_pred_date.iloc[0][\"ds\"], 'y_pred_quarter'] = quarter_pred_date[\"yhat\"].values[0]\n",
    "        \n",
    "    # Renaming the columns\n",
    "    df_test.rename(columns={'y':\"y_true\"}, inplace=True)\n",
    "    return df_test"
   ]
  }
 ],
 "metadata": {
  "colab": {
   "collapsed_sections": [],
   "name": "Chai_Base.ipynb",
   "provenance": [],
   "version": "0.3.2"
  },
  "kernelspec": {
   "display_name": "Python 3",
   "language": "python",
   "name": "python3"
  },
  "language_info": {
   "codemirror_mode": {
    "name": "ipython",
    "version": 3
   },
   "file_extension": ".py",
   "mimetype": "text/x-python",
   "name": "python",
   "nbconvert_exporter": "python",
   "pygments_lexer": "ipython3",
   "version": "3.7.3"
  }
 },
 "nbformat": 4,
 "nbformat_minor": 1
}
